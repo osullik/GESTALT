{
 "cells": [
  {
   "cell_type": "code",
   "execution_count": 15,
   "id": "e5f991a8-e6d7-4e7c-85c6-e2cfe19b4d33",
   "metadata": {},
   "outputs": [],
   "source": [
    "import sys, os\n",
    "import pandas as pd\n",
    "import geopandas\n",
    "import matplotlib.pyplot as plt\n",
    "import plotly.express as px\n"
   ]
  },
  {
   "cell_type": "code",
   "execution_count": 33,
   "id": "7296fe43-c5da-4f53-af26-0c1e1e68fb5d",
   "metadata": {},
   "outputs": [],
   "source": [
    "#Set the Code Working Directory\n",
    "cwd = \"/Users/osullik/Desktop/active_work/GESTALT/code\"\n",
    "os.chdir(cwd)\n",
    "\n",
    "#Set the Data Working Directory\n",
    "os.chdir(\"..\")\n",
    "os.chdir(\"data/output/ownershipAssignment\")\n",
    "#os.chdir(\"data/DC/output/ownershipAssignment\")\n",
    "dataDir = os.getcwd()\n",
    "\n",
    "#Return to the Code Working Directory\n",
    "os.chdir(cwd)"
   ]
  },
  {
   "cell_type": "markdown",
   "id": "1b0de48d-52a6-4a60-9617-12890e5fa168",
   "metadata": {},
   "source": [
    "## Shared Data"
   ]
  },
  {
   "cell_type": "code",
   "execution_count": 34,
   "id": "bf6128a2-9e60-405d-8ce7-04aeb9eae3d5",
   "metadata": {},
   "outputs": [],
   "source": [
    "#Import the Locations Data\n",
    "locations_df= pd.read_csv(dataDir+'/Locations.csv')\n",
    "\n",
    "#Load it into a geoPandas dataframe\n",
    "gdf_locations = geopandas.GeoDataFrame(locations_df, \n",
    "                                  geometry=geopandas.points_from_xy(locations_df.latitude, locations_df.longitude), \n",
    "                                  crs=\"EPSG:4326\")"
   ]
  },
  {
   "cell_type": "markdown",
   "id": "731c0114-7117-44b1-9d2a-2e5e6d54e64a",
   "metadata": {},
   "source": [
    "## K-MEANS"
   ]
  },
  {
   "cell_type": "markdown",
   "id": "99251c69-0e21-447d-babb-ae5c10b6e38c",
   "metadata": {},
   "source": [
    "Load the K-MEANS Data"
   ]
  },
  {
   "cell_type": "code",
   "execution_count": 4,
   "id": "9fc719cd-4591-4f6b-8fc4-9fe6c84482a0",
   "metadata": {},
   "outputs": [],
   "source": [
    "km_objects_df = pd.read_csv(dataDir+'/KMEANS_PredictedLocations.csv')"
   ]
  },
  {
   "cell_type": "code",
   "execution_count": 5,
   "id": "a4c63e9b-c7c7-4ee5-9aa2-ec26f3456cf1",
   "metadata": {},
   "outputs": [],
   "source": [
    "# Set up GeoPandas\n",
    "\n",
    "km_gdf_objects = geopandas.GeoDataFrame(km_objects_df, \n",
    "                             geometry=geopandas.points_from_xy(km_objects_df.latitude, km_objects_df.longitude), \n",
    "                             crs=\"EPSG:4326\")"
   ]
  },
  {
   "cell_type": "code",
   "execution_count": 6,
   "id": "c7210e7d-a825-4bcb-acac-00e425bc204a",
   "metadata": {},
   "outputs": [],
   "source": [
    "#Make the MAP Plot (RUN THIS BOX TO GENERATE A MAP BACKGROUND)\n",
    "\n",
    "#Plot the objects by cluster\n",
    "fig = px.scatter_mapbox(km_gdf_objects,\n",
    "                    lat=km_gdf_objects.geometry.x,\n",
    "                    lon=km_gdf_objects.geometry.y,\n",
    "                    color=\"predicted_location\",             #Can also do 'cluster'\n",
    "                    hover_name=\"name\",\n",
    "                    hover_data=[\"predicted_location\"])\n",
    "\n",
    "#Plot the locations in a single colour\n",
    "fig2 = px.scatter_mapbox(gdf_locations, \n",
    "                        lat = gdf_locations.geometry.x,\n",
    "                        lon = gdf_locations.geometry.y,\n",
    "                        hover_name=\"name\")\n",
    "\n",
    "fig.add_trace(fig2.data[0])\n",
    "fig.update_layout(\n",
    "    mapbox_style=\"open-street-map\")\n",
    "fig.update_layout(margin={\"r\":0,\"t\":0,\"l\":0,\"b\":0})\n",
    "fig.show(renderer='browser')"
   ]
  },
  {
   "cell_type": "code",
   "execution_count": 7,
   "id": "8792aba7-5fda-40bb-bd8f-59694e336d2e",
   "metadata": {},
   "outputs": [],
   "source": [
    "#Make the BLANK Plot (RUN THIS BOX TO GENERATE A BLANK BACKGROUND)\n",
    "\n",
    "#Plot the objects by cluster\n",
    "fig = px.scatter_mapbox(km_gdf_objects,\n",
    "                    lat=km_gdf_objects.geometry.x,\n",
    "                    lon=km_gdf_objects.geometry.y,\n",
    "                    color=\"predicted_location\",             #Can also do 'cluster'\n",
    "                    hover_name=\"name\",\n",
    "                    hover_data=[\"predicted_location\"])\n",
    "\n",
    "#Plot the locations in a single colour\n",
    "fig2 = px.scatter_mapbox(gdf_locations, \n",
    "                        lat = gdf_locations.geometry.x,\n",
    "                        lon = gdf_locations.geometry.y,\n",
    "                        hover_name=\"name\")\n",
    "\n",
    "fig.add_trace(fig2.data[0])\n",
    "fig.update_layout(\n",
    "    mapbox_style=\"white-bg\")\n",
    "fig.update_layout(margin={\"r\":0,\"t\":0,\"l\":0,\"b\":0})\n",
    "fig.show(renderer='browser')"
   ]
  },
  {
   "cell_type": "markdown",
   "id": "51505c4f-df8d-4b97-a7cf-8bd446afc7b1",
   "metadata": {},
   "source": [
    "## DBSCAN"
   ]
  },
  {
   "cell_type": "code",
   "execution_count": 50,
   "id": "a8286dcd-15ad-49a2-9ec8-69bf734d55c5",
   "metadata": {},
   "outputs": [],
   "source": [
    "# Load the DBScan Data\n",
    "db_objects_df = pd.read_csv(dataDir+'/DBSCAN_PredictedLocations_FT=0.0.csv')\n"
   ]
  },
  {
   "cell_type": "code",
   "execution_count": 51,
   "id": "69aaf828-45a4-4c13-a90a-295ae3a8632e",
   "metadata": {},
   "outputs": [],
   "source": [
    "# Set up GeoPandas\n",
    "\n",
    "db_gdf_objects = geopandas.GeoDataFrame(db_objects_df, \n",
    "                             geometry=geopandas.points_from_xy(db_objects_df.latitude, db_objects_df.longitude), \n",
    "                             crs=\"EPSG:4326\")\n",
    "\n",
    "db_gdf_objects['predicted_location'].mask(db_gdf_objects['cluster'] == '-1', 'NOISE', inplace=True)\n"
   ]
  },
  {
   "cell_type": "code",
   "execution_count": 52,
   "id": "cf26ce31-0250-4e28-8a98-11687ffb5b81",
   "metadata": {},
   "outputs": [],
   "source": [
    "#Make the MAP Plot (RUN THIS BOX TO GENERATE A MAP BACKGROUND)\n",
    "\n",
    "fig = px.scatter_mapbox(db_gdf_objects,\n",
    "                    lat=db_gdf_objects.geometry.x,\n",
    "                    lon=db_gdf_objects.geometry.y,\n",
    "                    color=\"predicted_location\",        #Can also do 'cluster'\n",
    "                    hover_name=\"name\",\n",
    "                    hover_data=[\"predicted_location\"])\n",
    "\n",
    "#fig2 = px.scatter_mapbox(gdf_locations, \n",
    "#                        lat = gdf_locations.geometry.x,\n",
    "#                        lon = gdf_locations.geometry.y,\n",
    "#                        hover_name=\"name\")\n",
    "\n",
    "#fig.add_trace(fig2.data[0])\n",
    "\n",
    "fig.update_layout(\n",
    "    mapbox_style=\"open-street-map\")\n",
    "fig.update_layout(margin={\"r\":0,\"t\":0,\"l\":0,\"b\":0})\n",
    "fig.show(renderer=\"browser\")"
   ]
  },
  {
   "cell_type": "code",
   "execution_count": 8,
   "id": "93f59ddc-ee48-4a94-a635-7df0d06cfc7c",
   "metadata": {},
   "outputs": [
    {
     "ename": "NameError",
     "evalue": "name 'db_gdf_objects' is not defined",
     "output_type": "error",
     "traceback": [
      "\u001b[0;31m---------------------------------------------------------------------------\u001b[0m",
      "\u001b[0;31mNameError\u001b[0m                                 Traceback (most recent call last)",
      "Cell \u001b[0;32mIn[8], line 3\u001b[0m\n\u001b[1;32m      1\u001b[0m \u001b[38;5;66;03m#Make the Blank Plot (RUN THIS BOX TO GENERATE A BLANK BACKGROUND)\u001b[39;00m\n\u001b[0;32m----> 3\u001b[0m fig \u001b[38;5;241m=\u001b[39m px\u001b[38;5;241m.\u001b[39mscatter_mapbox(\u001b[43mdb_gdf_objects\u001b[49m,\n\u001b[1;32m      4\u001b[0m                     lat\u001b[38;5;241m=\u001b[39mdb_gdf_objects\u001b[38;5;241m.\u001b[39mgeometry\u001b[38;5;241m.\u001b[39mx,\n\u001b[1;32m      5\u001b[0m                     lon\u001b[38;5;241m=\u001b[39mdb_gdf_objects\u001b[38;5;241m.\u001b[39mgeometry\u001b[38;5;241m.\u001b[39my,\n\u001b[1;32m      6\u001b[0m                     color\u001b[38;5;241m=\u001b[39m\u001b[38;5;124m\"\u001b[39m\u001b[38;5;124mpredicted_location\u001b[39m\u001b[38;5;124m\"\u001b[39m,        \u001b[38;5;66;03m#Can also do 'cluster'\u001b[39;00m\n\u001b[1;32m      7\u001b[0m                     hover_name\u001b[38;5;241m=\u001b[39m\u001b[38;5;124m\"\u001b[39m\u001b[38;5;124mname\u001b[39m\u001b[38;5;124m\"\u001b[39m,\n\u001b[1;32m      8\u001b[0m                     hover_data\u001b[38;5;241m=\u001b[39m[\u001b[38;5;124m\"\u001b[39m\u001b[38;5;124mpredicted_location\u001b[39m\u001b[38;5;124m\"\u001b[39m])\n\u001b[1;32m     10\u001b[0m fig2 \u001b[38;5;241m=\u001b[39m px\u001b[38;5;241m.\u001b[39mscatter_mapbox(gdf_locations, \n\u001b[1;32m     11\u001b[0m                         lat \u001b[38;5;241m=\u001b[39m gdf_locations\u001b[38;5;241m.\u001b[39mgeometry\u001b[38;5;241m.\u001b[39mx,\n\u001b[1;32m     12\u001b[0m                         lon \u001b[38;5;241m=\u001b[39m gdf_locations\u001b[38;5;241m.\u001b[39mgeometry\u001b[38;5;241m.\u001b[39my,\n\u001b[1;32m     13\u001b[0m                         hover_name\u001b[38;5;241m=\u001b[39m\u001b[38;5;124m\"\u001b[39m\u001b[38;5;124mname\u001b[39m\u001b[38;5;124m\"\u001b[39m)\n\u001b[1;32m     15\u001b[0m fig\u001b[38;5;241m.\u001b[39madd_trace(fig2\u001b[38;5;241m.\u001b[39mdata[\u001b[38;5;241m0\u001b[39m])\n",
      "\u001b[0;31mNameError\u001b[0m: name 'db_gdf_objects' is not defined"
     ]
    }
   ],
   "source": [
    "#Make the Blank Plot (RUN THIS BOX TO GENERATE A BLANK BACKGROUND)\n",
    "\n",
    "fig = px.scatter_mapbox(db_gdf_objects,\n",
    "                    lat=db_gdf_objects.geometry.x,\n",
    "                    lon=db_gdf_objects.geometry.y,\n",
    "                    color=\"predicted_location\",        #Can also do 'cluster'\n",
    "                    hover_name=\"name\",\n",
    "                    hover_data=[\"predicted_location\"])\n",
    "\n",
    "fig2 = px.scatter_mapbox(gdf_locations, \n",
    "                        lat = gdf_locations.geometry.x,\n",
    "                        lon = gdf_locations.geometry.y,\n",
    "                        hover_name=\"name\")\n",
    "\n",
    "fig.add_trace(fig2.data[0])\n",
    "\n",
    "fig.update_layout(mapbox_style=\"white-bg\")\n",
    "fig.update_layout(margin={\"r\":0,\"t\":0,\"l\":0,\"b\":0})\n",
    "fig.show(renderer=\"browser\")"
   ]
  },
  {
   "cell_type": "code",
   "execution_count": null,
   "id": "ee71f33b-4468-4348-ad43-8bd6ef997a9f",
   "metadata": {},
   "outputs": [],
   "source": []
  }
 ],
 "metadata": {
  "kernelspec": {
   "display_name": "gestalt_env",
   "language": "python",
   "name": "gestalt_env"
  },
  "language_info": {
   "codemirror_mode": {
    "name": "ipython",
    "version": 3
   },
   "file_extension": ".py",
   "mimetype": "text/x-python",
   "name": "python",
   "nbconvert_exporter": "python",
   "pygments_lexer": "ipython3",
   "version": "3.11.4"
  }
 },
 "nbformat": 4,
 "nbformat_minor": 5
}
