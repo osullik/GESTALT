{
  "nbformat": 4,
  "nbformat_minor": 0,
  "metadata": {
    "colab": {
      "provenance": [],
      "gpuType": "T4"
    },
    "kernelspec": {
      "name": "python3",
      "display_name": "Python 3"
    },
    "language_info": {
      "name": "python"
    },
    "accelerator": "GPU"
  },
  "cells": [
    {
      "cell_type": "code",
      "source": [
        "from google.colab import drive\n",
        "drive.mount('/content/gdrive')\n",
        "\n",
        "!pip install ultralytics"
      ],
      "metadata": {
        "id": "B_CFnqI2Q1Ze"
      },
      "execution_count": 1,
      "outputs": []
    },
    {
      "cell_type": "code",
      "source": [
        "from ultralytics import YOLO\n",
        "import json\n",
        "import glob\n",
        "import os"
      ],
      "metadata": {
        "id": "Mf7gHGtQQNi3"
      },
      "execution_count": 2,
      "outputs": []
    },
    {
      "cell_type": "code",
      "source": [
        "directory_name = \"gdrive/MyDrive/Colab Notebooks/GESTALT/\""
      ],
      "metadata": {
        "id": "iaSuJCquUvmg"
      },
      "execution_count": 8,
      "outputs": []
    },
    {
      "cell_type": "code",
      "source": [
        "def detect_tags_from_jpgs_in_directory(directory_name):\n",
        "    # Find all jpegs in the directory\n",
        "    list_of_img_files = glob.glob(os.path.join(directory_name,\"*.jpg\"))\n",
        "\n",
        "    # Instantiate model\n",
        "    model = YOLO(\"yolov8m.pt\")\n",
        "\n",
        "    # Run images through model and get results\n",
        "    results = model.predict(list_of_img_files, verbose=False)\n",
        "\n",
        "    # Check that we got results for every image\n",
        "    assert len(results) == len(list_of_img_files)\n",
        "\n",
        "    # Create blank dictionary\n",
        "    objects = {}\n",
        "\n",
        "    # Loop over each image\n",
        "    for idx in range(len(list_of_img_files)):\n",
        "        filename = list_of_img_files[idx]\n",
        "        result = results[idx]\n",
        "        tags = []\n",
        "        coords = []\n",
        "        probs = []\n",
        "        # Loop over each object detected in the image\n",
        "        for box in result.boxes:\n",
        "            class_id = result.names[box.cls[0].item()]\n",
        "            cords = box.xyxy[0].tolist()\n",
        "            cords = [round(x) for x in cords]\n",
        "            conf = round(box.conf[0].item(), 2)\n",
        "\n",
        "            tags.append(class_id)  # object type like person or bench\n",
        "            coords.append(cords)  # coordinates in the image like [121, 632, 207, 732]\n",
        "            probs.append(conf)  # confidence score like 0.81\n",
        "\n",
        "        objects[filename] = {\"objects\":tags, \"coordinates\":coords, \"probabilities\":probs}\n",
        "\n",
        "    return json.dumps(objects)"
      ],
      "metadata": {
        "id": "kIFBCVmTSbaT"
      },
      "execution_count": 10,
      "outputs": []
    },
    {
      "cell_type": "code",
      "source": [
        "print(detect_tags_from_jpgs_in_directory(directory_name))"
      ],
      "metadata": {
        "colab": {
          "base_uri": "https://localhost:8080/"
        },
        "id": "x1CmNQyBZKd0",
        "outputId": "c8fdba3a-e18c-4b3e-aeb9-028d6e6d6fa5"
      },
      "execution_count": 11,
      "outputs": [
        {
          "output_type": "stream",
          "name": "stdout",
          "text": [
            "{\"gdrive/MyDrive/Colab Notebooks/GESTALT/example.jpg\": {\"objects\": [\"person\", \"person\", \"person\", \"bench\", \"bench\", \"person\", \"bench\", \"person\", \"bench\", \"person\", \"bench\"], \"coordinates\": [[208, 621, 249, 720], [121, 632, 207, 732], [165, 627, 210, 726], [329, 658, 463, 703], [575, 651, 659, 682], [388, 630, 425, 699], [672, 649, 734, 675], [77, 630, 136, 725], [74, 682, 246, 728], [585, 616, 603, 651], [532, 642, 578, 688]], \"probabilities\": [0.85, 0.81, 0.77, 0.76, 0.76, 0.68, 0.61, 0.61, 0.49, 0.49, 0.26]}, \"gdrive/MyDrive/Colab Notebooks/GESTALT/example2.jpg\": {\"objects\": [\"person\", \"person\", \"person\", \"bench\", \"bench\", \"person\", \"bench\", \"person\", \"bench\", \"person\", \"bench\"], \"coordinates\": [[208, 621, 249, 720], [121, 632, 207, 732], [165, 627, 210, 726], [329, 658, 463, 703], [575, 651, 659, 682], [388, 630, 425, 699], [672, 649, 734, 675], [77, 630, 136, 725], [74, 682, 246, 728], [585, 616, 603, 651], [532, 642, 578, 688]], \"probabilities\": [0.85, 0.81, 0.77, 0.76, 0.76, 0.68, 0.61, 0.61, 0.49, 0.49, 0.26]}}\n"
          ]
        }
      ]
    }
  ]
}