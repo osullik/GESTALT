{
  "nbformat": 4,
  "nbformat_minor": 0,
  "metadata": {
    "colab": {
      "provenance": [],
      "gpuType": "T4"
    },
    "kernelspec": {
      "name": "python3",
      "display_name": "Python 3"
    },
    "language_info": {
      "name": "python"
    },
    "accelerator": "GPU"
  },
  "cells": [
    {
      "cell_type": "code",
      "source": [
        "from google.colab import drive\n",
        "drive.mount('/content/gdrive')\n",
        "\n",
        "!pip install ultralytics"
      ],
      "metadata": {
        "id": "B_CFnqI2Q1Ze"
      },
      "execution_count": 13,
      "outputs": []
    },
    {
      "cell_type": "code",
      "source": [
        "from ultralytics import YOLO\n",
        "import json\n",
        "import glob\n",
        "import os\n",
        "from pathlib import Path"
      ],
      "metadata": {
        "id": "Mf7gHGtQQNi3"
      },
      "execution_count": 21,
      "outputs": []
    },
    {
      "cell_type": "code",
      "source": [
        "directory_name = \"gdrive/MyDrive/Colab Notebooks/GESTALT/\"\n",
        "json_filename = \"gdrive/MyDrive/Colab Notebooks/GESTALT/metadata.json\""
      ],
      "metadata": {
        "id": "iaSuJCquUvmg"
      },
      "execution_count": 14,
      "outputs": []
    },
    {
      "cell_type": "code",
      "source": [
        "def detect_tags_from_jpgs_in_directory(directory_name, json_filename):\n",
        "    # Find all jpegs in the directory\n",
        "    list_of_img_files = glob.glob(os.path.join(directory_name,\"*.jpg\"))\n",
        "\n",
        "    # Read in json file\n",
        "    json_dict = json.load(open(json_filename))\n",
        "\n",
        "    # Instantiate model\n",
        "    model = YOLO(\"yolov8m.pt\")\n",
        "\n",
        "    # Run images through model and get results\n",
        "    results = model.predict(list_of_img_files, verbose=False)\n",
        "\n",
        "    # Check that we got results for every image\n",
        "    assert len(results) == len(list_of_img_files)\n",
        "\n",
        "    # Loop over each image\n",
        "    for idx in range(len(list_of_img_files)):\n",
        "        file_id = Path(list_of_img_files[idx]).stem  # extract filename without path or extension\n",
        "        result = results[idx]\n",
        "        tags = []\n",
        "        coords = []\n",
        "        probs = []\n",
        "        # Loop over each object detected in the image\n",
        "        for box in result.boxes:\n",
        "            class_id = result.names[box.cls[0].item()]\n",
        "            cords = box.xyxy[0].tolist()\n",
        "            cords = [round(x) for x in cords]\n",
        "            conf = round(box.conf[0].item(), 2)\n",
        "\n",
        "            tags.append(class_id)  # object type like person or bench\n",
        "            coords.append(cords)  # coordinates in the image like [121, 632, 207, 732]\n",
        "            probs.append(conf)  # confidence score like 0.81\n",
        "\n",
        "        json_dict[file_id].update({\"objects\":tags, \"coordinates\":coords, \"probabilities\":probs})\n",
        "\n",
        "    return json.dumps(json_dict)"
      ],
      "metadata": {
        "id": "kIFBCVmTSbaT"
      },
      "execution_count": 51,
      "outputs": []
    },
    {
      "cell_type": "code",
      "source": [
        "output = detect_tags_from_jpgs_in_directory(directory_name, json_filename)"
      ],
      "metadata": {
        "id": "x1CmNQyBZKd0"
      },
      "execution_count": 52,
      "outputs": []
    }
  ]
}