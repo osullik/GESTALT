{
 "cells": [
  {
   "cell_type": "code",
   "execution_count": null,
   "metadata": {
    "id": "B_CFnqI2Q1Ze"
   },
   "outputs": [],
   "source": [
    "from google.colab import drive\n",
    "drive.mount('/content/gdrive')\n"
   ]
  },
  {
   "cell_type": "code",
   "execution_count": null,
   "metadata": {},
   "outputs": [],
   "source": [
    "!pip install ultralytics"
   ]
  },
  {
   "cell_type": "code",
   "execution_count": null,
   "metadata": {
    "id": "Mf7gHGtQQNi3"
   },
   "outputs": [],
   "source": [
    "from ultralytics import YOLO\n",
    "import json\n",
    "import glob\n",
    "import os\n",
    "from pathlib import Path"
   ]
  },
  {
   "cell_type": "code",
   "execution_count": null,
   "metadata": {
    "id": "iaSuJCquUvmg"
   },
   "outputs": [],
   "source": [
    "directory_name = \"../data/photos/115.96168231510637_-31.90009882641578_116.05029961853784_-31.77307863942101\"\n",
    "json_filename = \"../data/photos/115.96168231510637_-31.90009882641578_116.05029961853784_-31.77307863942101/metadata\""
   ]
  },
  {
   "cell_type": "code",
   "execution_count": null,
   "metadata": {
    "id": "kIFBCVmTSbaT"
   },
   "outputs": [],
   "source": [
    "def detect_tags_from_jpgs_in_directory(directory_name, json_filename):\n",
    "    # Find all jpegs in the directory\n",
    "    list_of_img_files = glob.glob(os.path.join(directory_name,\"*.jpg\"))\n",
    "\n",
    "    # Read in json file\n",
    "    json_dict = json.load(open(json_filename+\".json\"))\n",
    "\n",
    "    # Instantiate model\n",
    "    model = YOLO(\"yolov8m.pt\")\n",
    "\n",
    "    # Run images through model and get results\n",
    "    results = model.predict(list_of_img_files, verbose=False)\n",
    "\n",
    "    # Check that we got results for every image\n",
    "    assert len(results) == len(list_of_img_files)\n",
    "\n",
    "    # Loop over each image\n",
    "    for idx in range(len(list_of_img_files)):\n",
    "        file_id = Path(list_of_img_files[idx]).stem  # extract filename without path or extension\n",
    "        result = results[idx]\n",
    "        tags = []\n",
    "        coords = []\n",
    "        probs = []\n",
    "        # Loop over each object detected in the image\n",
    "        for box in result.boxes:\n",
    "            class_id = result.names[box.cls[0].item()]\n",
    "            cords = box.xyxy[0].tolist()\n",
    "            cords = [round(x) for x in cords]\n",
    "            conf = round(box.conf[0].item(), 2)\n",
    "\n",
    "            tags.append(class_id)  # object type like person or bench\n",
    "            coords.append(cords)  # coordinates in the image like [121, 632, 207, 732]\n",
    "            probs.append(conf)  # confidence score like 0.81\n",
    "        \n",
    "        try:\n",
    "            json_dict[file_id].update({\"objects\":tags, \"coordinates\":coords, \"probabilities\":probs})\n",
    "        except KeyError:\n",
    "            print(\"NOT FOUND:\",file_id,\"\\n Tags:\",tags,\"\\n coords:\", coords, \"\\n probs\", probs)\n",
    "\n",
    "    return json.dumps(json_dict,indent=4)"
   ]
  },
  {
   "cell_type": "code",
   "execution_count": null,
   "metadata": {
    "id": "x1CmNQyBZKd0"
   },
   "outputs": [],
   "source": [
    "output = detect_tags_from_jpgs_in_directory(directory_name, json_filename+\".json\")"
   ]
  },
  {
   "cell_type": "code",
   "execution_count": null,
   "metadata": {},
   "outputs": [],
   "source": [
    "output"
   ]
  },
  {
   "cell_type": "code",
   "execution_count": null,
   "metadata": {},
   "outputs": [],
   "source": [
    "with open(json_filename+\"_objects.json\", \"w\") as out:\n",
    "    out.write(output)"
   ]
  },
  {
   "cell_type": "code",
   "execution_count": null,
   "metadata": {},
   "outputs": [],
   "source": [
    "type(output)"
   ]
  },
  {
   "cell_type": "code",
   "execution_count": null,
   "metadata": {},
   "outputs": [],
   "source": []
  }
 ],
 "metadata": {
  "accelerator": "GPU",
  "colab": {
   "gpuType": "T4",
   "provenance": []
  },
  "kernelspec": {
   "display_name": "Python 3 (ipykernel)",
   "language": "python",
   "name": "python3"
  },
  "language_info": {
   "codemirror_mode": {
    "name": "ipython",
    "version": 3
   },
   "file_extension": ".py",
   "mimetype": "text/x-python",
   "name": "python",
   "nbconvert_exporter": "python",
   "pygments_lexer": "ipython3",
   "version": "3.11.3"
  }
 },
 "nbformat": 4,
 "nbformat_minor": 1
}
