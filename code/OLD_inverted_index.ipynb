{
  "nbformat": 4,
  "nbformat_minor": 0,
  "metadata": {
    "colab": {
      "provenance": [],
      "gpuType": "T4"
    },
    "kernelspec": {
      "name": "python3",
      "display_name": "Python 3"
    },
    "language_info": {
      "name": "python"
    },
    "accelerator": "GPU"
  },
  "cells": [
    {
      "cell_type": "code",
      "source": [
        "from google.colab import drive\n",
        "drive.mount('/content/gdrive')\n",
        "\n",
        "from google.colab import files\n",
        "\n",
        "!pip install inverted-index"
      ],
      "metadata": {
        "id": "B_CFnqI2Q1Ze",
        "colab": {
          "base_uri": "https://localhost:8080/"
        },
        "outputId": "0a87e72f-e897-4dc7-d4e2-8ad29af2649a"
      },
      "execution_count": 26,
      "outputs": [
        {
          "output_type": "stream",
          "name": "stdout",
          "text": [
            "Drive already mounted at /content/gdrive; to attempt to forcibly remount, call drive.mount(\"/content/gdrive\", force_remount=True).\n",
            "Looking in indexes: https://pypi.org/simple, https://us-python.pkg.dev/colab-wheels/public/simple/\n",
            "Requirement already satisfied: inverted-index in /usr/local/lib/python3.10/dist-packages (0.1.1)\n"
          ]
        }
      ]
    },
    {
      "cell_type": "code",
      "source": [
        "import pandas as pd\n",
        "import glob\n",
        "import os\n",
        "import re\n",
        "from collections import OrderedDict\n",
        "\n",
        "from prompt_toolkit import prompt\n",
        "from prompt_toolkit.completion import Completer, Completion"
      ],
      "metadata": {
        "id": "Mf7gHGtQQNi3"
      },
      "execution_count": 27,
      "outputs": []
    },
    {
      "cell_type": "code",
      "source": [
        "directory_name = \"gdrive/MyDrive/Colab Notebooks/GESTALT/\"\n",
        "objects_file = \"data/output/ownershipAssignment/DBSCAN_PredictedLocations.csv\"\n",
        "filename = glob.glob(os.path.join(directory_name, objects_file))[0]"
      ],
      "metadata": {
        "id": "iaSuJCquUvmg"
      },
      "execution_count": 28,
      "outputs": []
    },
    {
      "cell_type": "code",
      "source": [
        "def normalize_object_term(term):\n",
        "    # TODO implement fuzzy term matching with OSM API\n",
        "    return term"
      ],
      "metadata": {
        "id": "jgEk3diniU5i"
      },
      "execution_count": 29,
      "outputs": []
    },
    {
      "cell_type": "code",
      "source": [
        "class InvertedIndex:\n",
        "    \"\"\"\n",
        "    \"\"\"\n",
        "    def __init__(self, filename):\n",
        "        self.df = pd.read_csv(filename)\n",
        "        self.objects_df = self.df[['name','predicted_location']]\n",
        "        self.objects_df_grouped = self.objects_df.groupby(self.objects_df.columns.tolist(),as_index=False).size()\n",
        "        self.objects_df_grouped = self.objects_df_grouped.rename(columns={'size':'num_occurences'})  # this puts object counts in there, but we drop it for now\n",
        "        self.objects_df_grouped_list = pd.DataFrame(self.objects_df_grouped.groupby('name')['predicted_location'].apply(list))\n",
        "        self.__make_ii__()\n",
        "        self.__make_adj__()\n",
        "\n",
        "    def __make_ii__(self):\n",
        "        self.ii = dict()\n",
        "        self.ii_counter = dict()\n",
        "        for idx, row in self.objects_df_grouped_list.iterrows():\n",
        "            self.ii[idx] = set(row['predicted_location'])\n",
        "            self.ii_counter[idx] = len(set(row['predicted_location']))\n",
        "\n",
        "    def most_discriminative(self, query_terms):\n",
        "        best_qt = query_terms[0]\n",
        "        for qt in query_terms:\n",
        "            if self.ii_counter[qt] < self.ii_counter[best_qt]:\n",
        "                best_qt = qt\n",
        "        return best_qt\n",
        "\n",
        "    def __make_adj__(self):\n",
        "        self.df['prob'] = self.df['object_prob'] * self.df['assignment_prob']\n",
        "        self.adj = self.df.groupby(['name','predicted_location'], as_index=False).agg({'prob':'max'})\n",
        "        return self.adj\n",
        "\n",
        "\n",
        "    def get_prob(self, Loc : str, Obj : str):\n",
        "        return self.adj[(self.adj['name'] == Obj) & (self.adj['predicted_location'] == Loc)]['prob'].item()\n",
        "\n",
        "\n",
        "    def rank(self, Locs : set, Objs : set):\n",
        "        loc_ranks = OrderedDict()\n",
        "        for L in Locs:\n",
        "            p = 1\n",
        "            for Ob in Objs:\n",
        "                p *= self.get_prob(L, Ob)\n",
        "            loc_ranks[L] = p\n",
        "        return sorted(loc_ranks, key=loc_ranks.get, reverse=True)\n",
        "\n",
        "    def __search__(self, query_terms : list):\n",
        "        set_list = [self.ii[normalize_object_term(x)] for x in query_terms]\n",
        "        return set.intersection(*set_list)\n",
        "\n",
        "    def search(self, query_terms : list):\n",
        "        set_list = [self.ii[normalize_object_term(x)] for x in query_terms]\n",
        "        return list(set.intersection(*set_list)), query_terms\n",
        "\n",
        "    def ranked_search(self, query_terms : list):\n",
        "        set_list = [self.ii[normalize_object_term(x)] for x in query_terms]\n",
        "        return self.rank(set.intersection(*set_list), query_terms), query_terms\n",
        "\n",
        "    def fuzzy_search(self, query_terms : list):\n",
        "        # Assume inverted index of object_class -> {Locations} exists\n",
        "        s = self.__search__(query_terms)\n",
        "        if len(s) == 0:\n",
        "            q = []\n",
        "            while True:  # TODO make this cleaner and check end conditions\n",
        "                best_qt = self.most_discriminative(query_terms)\n",
        "                q.append(best_qt)\n",
        "                query_terms.remove(best_qt)\n",
        "                s = self.__search__(q)\n",
        "                if len(s) > 0:\n",
        "                    continue\n",
        "                else:  # went too far, adding one too many search terms\n",
        "                    q.pop()  # Remove most recent\n",
        "                    s = self.__search__(q)  # Rerun to get nonempty result\n",
        "                    query_terms = q\n",
        "                    break\n",
        "        if len(s) > 1:\n",
        "            self.rank(s, query_terms)\n",
        "        return s, query_terms  # returns query_terms since they may be a reduces subset of original query terms"
      ],
      "metadata": {
        "id": "XPPYj5kZEARJ"
      },
      "execution_count": 30,
      "outputs": []
    },
    {
      "cell_type": "code",
      "source": [
        "inverted_index = InvertedIndex(filename)\n",
        "\n",
        "print(\"TEST APPLE WINE_BARRELl\")\n",
        "print(inverted_index.search(['apple','wine_barrell']))\n",
        "print(inverted_index.ranked_search(['apple','wine_barrell']))\n",
        "print(inverted_index.fuzzy_search(['apple','wine_barrell']))\n",
        "print('\\n')\n",
        "\n",
        "print(\"TEST FORK BENCH BIRD\")\n",
        "print(inverted_index.search(['fork','bench','bird']))\n",
        "print(inverted_index.ranked_search(['fork','bench','bird']))\n",
        "print(inverted_index.fuzzy_search(['bench','fork','bird']))\n",
        "print('\\n')\n",
        "\n",
        "print(\"TEST BENCH BIRD\")\n",
        "print(inverted_index.search(['bench','bird']))\n",
        "print(inverted_index.ranked_search(['bench','bird']))\n",
        "print(inverted_index.fuzzy_search(['bench','bird']))\n",
        "print('\\n')\n",
        "\n",
        "print(\"TEST BIRD\")\n",
        "print(inverted_index.search(['bird']))\n",
        "print(inverted_index.ranked_search(['bird']))\n",
        "print(inverted_index.fuzzy_search(['bird']))"
      ],
      "metadata": {
        "colab": {
          "base_uri": "https://localhost:8080/"
        },
        "id": "uWq77_1JKG5V",
        "outputId": "e5cab59a-1191-4047-872e-05c69af1fbba"
      },
      "execution_count": 31,
      "outputs": [
        {
          "output_type": "stream",
          "name": "stdout",
          "text": [
            "TEST APPLE WINE_BARRELl\n",
            "(['Lancaster Wines'], ['apple', 'wine_barrell'])\n",
            "(['Lancaster Wines'], ['apple', 'wine_barrell'])\n",
            "({'Lancaster Wines'}, ['apple', 'wine_barrell'])\n",
            "\n",
            "\n",
            "TEST FORK BENCH BIRD\n",
            "([], ['fork', 'bench', 'bird'])\n",
            "([], ['fork', 'bench', 'bird'])\n",
            "({'MAX Employment Midland'}, ['fork'])\n",
            "\n",
            "\n",
            "TEST BENCH BIRD\n",
            "(['Sandalford Winery', 'Guildford Garden Centre', 'Guildford'], ['bench', 'bird'])\n",
            "(['Guildford', 'Guildford Garden Centre', 'Sandalford Winery'], ['bench', 'bird'])\n",
            "({'Sandalford Winery', 'Guildford Garden Centre', 'Guildford'}, ['bench', 'bird'])\n",
            "\n",
            "\n",
            "TEST BIRD\n",
            "([\"Nando's\", 'Midland', 'Sandalford Winery', 'Guildford Old Courthouse', 'Bikeforce Midland', 'Guildford Garden Centre', 'Guildford'], ['bird'])\n",
            "(['Guildford Garden Centre', 'Guildford', 'Sandalford Winery', \"Nando's\", 'Midland', 'Guildford Old Courthouse', 'Bikeforce Midland'], ['bird'])\n",
            "({\"Nando's\", 'Midland', 'Sandalford Winery', 'Guildford Old Courthouse', 'Bikeforce Midland', 'Guildford Garden Centre', 'Guildford'}, ['bird'])\n"
          ]
        }
      ]
    },
    {
      "cell_type": "code",
      "source": [
        "display(inverted_index.__make_adj__())"
      ],
      "metadata": {
        "colab": {
          "base_uri": "https://localhost:8080/",
          "height": 424
        },
        "id": "59cDGUvBh4DG",
        "outputId": "f8b973e4-36b7-471a-fa47-cc003d09ca32"
      },
      "execution_count": 32,
      "outputs": [
        {
          "output_type": "display_data",
          "data": {
            "text/plain": [
              "                name            predicted_location  prob\n",
              "0    air_conditioner                Ali's Vineyard  1.00\n",
              "1     air_conitioner  Little River Winery and Café  1.00\n",
              "2           airplane             Bikeforce Midland  0.64\n",
              "3           airplane                     Guildford  0.96\n",
              "4           airplane       Guildford Garden Centre  0.95\n",
              "..               ...                           ...   ...\n",
              "427        warehouse               Oakover Grounds  1.00\n",
              "428       water_tank  Little River Winery and Café  1.00\n",
              "429       wine glass        MAX Employment Midland  0.28\n",
              "430       wine glass             Sandalford Winery  0.28\n",
              "431     wine_barrell               Lancaster Wines  1.00\n",
              "\n",
              "[432 rows x 3 columns]"
            ],
            "text/html": [
              "\n",
              "  <div id=\"df-465df566-f4c6-40c9-ba48-34016f02bce3\">\n",
              "    <div class=\"colab-df-container\">\n",
              "      <div>\n",
              "<style scoped>\n",
              "    .dataframe tbody tr th:only-of-type {\n",
              "        vertical-align: middle;\n",
              "    }\n",
              "\n",
              "    .dataframe tbody tr th {\n",
              "        vertical-align: top;\n",
              "    }\n",
              "\n",
              "    .dataframe thead th {\n",
              "        text-align: right;\n",
              "    }\n",
              "</style>\n",
              "<table border=\"1\" class=\"dataframe\">\n",
              "  <thead>\n",
              "    <tr style=\"text-align: right;\">\n",
              "      <th></th>\n",
              "      <th>name</th>\n",
              "      <th>predicted_location</th>\n",
              "      <th>prob</th>\n",
              "    </tr>\n",
              "  </thead>\n",
              "  <tbody>\n",
              "    <tr>\n",
              "      <th>0</th>\n",
              "      <td>air_conditioner</td>\n",
              "      <td>Ali's Vineyard</td>\n",
              "      <td>1.00</td>\n",
              "    </tr>\n",
              "    <tr>\n",
              "      <th>1</th>\n",
              "      <td>air_conitioner</td>\n",
              "      <td>Little River Winery and Café</td>\n",
              "      <td>1.00</td>\n",
              "    </tr>\n",
              "    <tr>\n",
              "      <th>2</th>\n",
              "      <td>airplane</td>\n",
              "      <td>Bikeforce Midland</td>\n",
              "      <td>0.64</td>\n",
              "    </tr>\n",
              "    <tr>\n",
              "      <th>3</th>\n",
              "      <td>airplane</td>\n",
              "      <td>Guildford</td>\n",
              "      <td>0.96</td>\n",
              "    </tr>\n",
              "    <tr>\n",
              "      <th>4</th>\n",
              "      <td>airplane</td>\n",
              "      <td>Guildford Garden Centre</td>\n",
              "      <td>0.95</td>\n",
              "    </tr>\n",
              "    <tr>\n",
              "      <th>...</th>\n",
              "      <td>...</td>\n",
              "      <td>...</td>\n",
              "      <td>...</td>\n",
              "    </tr>\n",
              "    <tr>\n",
              "      <th>427</th>\n",
              "      <td>warehouse</td>\n",
              "      <td>Oakover Grounds</td>\n",
              "      <td>1.00</td>\n",
              "    </tr>\n",
              "    <tr>\n",
              "      <th>428</th>\n",
              "      <td>water_tank</td>\n",
              "      <td>Little River Winery and Café</td>\n",
              "      <td>1.00</td>\n",
              "    </tr>\n",
              "    <tr>\n",
              "      <th>429</th>\n",
              "      <td>wine glass</td>\n",
              "      <td>MAX Employment Midland</td>\n",
              "      <td>0.28</td>\n",
              "    </tr>\n",
              "    <tr>\n",
              "      <th>430</th>\n",
              "      <td>wine glass</td>\n",
              "      <td>Sandalford Winery</td>\n",
              "      <td>0.28</td>\n",
              "    </tr>\n",
              "    <tr>\n",
              "      <th>431</th>\n",
              "      <td>wine_barrell</td>\n",
              "      <td>Lancaster Wines</td>\n",
              "      <td>1.00</td>\n",
              "    </tr>\n",
              "  </tbody>\n",
              "</table>\n",
              "<p>432 rows × 3 columns</p>\n",
              "</div>\n",
              "      <button class=\"colab-df-convert\" onclick=\"convertToInteractive('df-465df566-f4c6-40c9-ba48-34016f02bce3')\"\n",
              "              title=\"Convert this dataframe to an interactive table.\"\n",
              "              style=\"display:none;\">\n",
              "        \n",
              "  <svg xmlns=\"http://www.w3.org/2000/svg\" height=\"24px\"viewBox=\"0 0 24 24\"\n",
              "       width=\"24px\">\n",
              "    <path d=\"M0 0h24v24H0V0z\" fill=\"none\"/>\n",
              "    <path d=\"M18.56 5.44l.94 2.06.94-2.06 2.06-.94-2.06-.94-.94-2.06-.94 2.06-2.06.94zm-11 1L8.5 8.5l.94-2.06 2.06-.94-2.06-.94L8.5 2.5l-.94 2.06-2.06.94zm10 10l.94 2.06.94-2.06 2.06-.94-2.06-.94-.94-2.06-.94 2.06-2.06.94z\"/><path d=\"M17.41 7.96l-1.37-1.37c-.4-.4-.92-.59-1.43-.59-.52 0-1.04.2-1.43.59L10.3 9.45l-7.72 7.72c-.78.78-.78 2.05 0 2.83L4 21.41c.39.39.9.59 1.41.59.51 0 1.02-.2 1.41-.59l7.78-7.78 2.81-2.81c.8-.78.8-2.07 0-2.86zM5.41 20L4 18.59l7.72-7.72 1.47 1.35L5.41 20z\"/>\n",
              "  </svg>\n",
              "      </button>\n",
              "      \n",
              "  <style>\n",
              "    .colab-df-container {\n",
              "      display:flex;\n",
              "      flex-wrap:wrap;\n",
              "      gap: 12px;\n",
              "    }\n",
              "\n",
              "    .colab-df-convert {\n",
              "      background-color: #E8F0FE;\n",
              "      border: none;\n",
              "      border-radius: 50%;\n",
              "      cursor: pointer;\n",
              "      display: none;\n",
              "      fill: #1967D2;\n",
              "      height: 32px;\n",
              "      padding: 0 0 0 0;\n",
              "      width: 32px;\n",
              "    }\n",
              "\n",
              "    .colab-df-convert:hover {\n",
              "      background-color: #E2EBFA;\n",
              "      box-shadow: 0px 1px 2px rgba(60, 64, 67, 0.3), 0px 1px 3px 1px rgba(60, 64, 67, 0.15);\n",
              "      fill: #174EA6;\n",
              "    }\n",
              "\n",
              "    [theme=dark] .colab-df-convert {\n",
              "      background-color: #3B4455;\n",
              "      fill: #D2E3FC;\n",
              "    }\n",
              "\n",
              "    [theme=dark] .colab-df-convert:hover {\n",
              "      background-color: #434B5C;\n",
              "      box-shadow: 0px 1px 3px 1px rgba(0, 0, 0, 0.15);\n",
              "      filter: drop-shadow(0px 1px 2px rgba(0, 0, 0, 0.3));\n",
              "      fill: #FFFFFF;\n",
              "    }\n",
              "  </style>\n",
              "\n",
              "      <script>\n",
              "        const buttonEl =\n",
              "          document.querySelector('#df-465df566-f4c6-40c9-ba48-34016f02bce3 button.colab-df-convert');\n",
              "        buttonEl.style.display =\n",
              "          google.colab.kernel.accessAllowed ? 'block' : 'none';\n",
              "\n",
              "        async function convertToInteractive(key) {\n",
              "          const element = document.querySelector('#df-465df566-f4c6-40c9-ba48-34016f02bce3');\n",
              "          const dataTable =\n",
              "            await google.colab.kernel.invokeFunction('convertToInteractive',\n",
              "                                                     [key], {});\n",
              "          if (!dataTable) return;\n",
              "\n",
              "          const docLinkHtml = 'Like what you see? Visit the ' +\n",
              "            '<a target=\"_blank\" href=https://colab.research.google.com/notebooks/data_table.ipynb>data table notebook</a>'\n",
              "            + ' to learn more about interactive tables.';\n",
              "          element.innerHTML = '';\n",
              "          dataTable['output_type'] = 'display_data';\n",
              "          await google.colab.output.renderOutput(dataTable, element);\n",
              "          const docLink = document.createElement('div');\n",
              "          docLink.innerHTML = docLinkHtml;\n",
              "          element.appendChild(docLink);\n",
              "        }\n",
              "      </script>\n",
              "    </div>\n",
              "  </div>\n",
              "  "
            ]
          },
          "metadata": {}
        }
      ]
    },
    {
      "cell_type": "code",
      "source": [],
      "metadata": {
        "id": "GHpHEfKLh4Fw"
      },
      "execution_count": null,
      "outputs": []
    },
    {
      "cell_type": "code",
      "source": [
        "class SearchCompleter(Completer):\n",
        "    def __init__(self, inverted_index: InvertedIndex):\n",
        "        self.inverted_index = inverted_index\n",
        "\n",
        "    def get_completions(self, document, complete_event):\n",
        "        if complete_event.completion_requested:\n",
        "            for match in self.inverted_index.search(document.text):\n",
        "                yield Completion(match.ljust(document.cursor_position), start_position=-document.cursor_position)"
      ],
      "metadata": {
        "id": "YVikO7b8FiFM"
      },
      "execution_count": 115,
      "outputs": []
    },
    {
      "cell_type": "code",
      "source": [
        "user_input = prompt(\"> \", completer=SearchCompleter(ii), complete_while_typing=False)"
      ],
      "metadata": {
        "id": "j5MODoHVHYN3"
      },
      "execution_count": null,
      "outputs": []
    },
    {
      "cell_type": "code",
      "source": [],
      "metadata": {
        "id": "hHSnpzMKHYP4"
      },
      "execution_count": null,
      "outputs": []
    }
  ]
}