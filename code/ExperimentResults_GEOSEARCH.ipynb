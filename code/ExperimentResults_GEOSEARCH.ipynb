{
 "cells": [
  {
   "cell_type": "code",
   "execution_count": 67,
   "id": "069dcda9-ce07-4fdd-9fa6-b1a25f494ac1",
   "metadata": {},
   "outputs": [],
   "source": [
    "import pandas as pd\n",
    "import matplotlib.pyplot as plt"
   ]
  },
  {
   "cell_type": "code",
   "execution_count": 68,
   "id": "d1660b1d-ed2a-454f-ad81-3aebfaf6daa3",
   "metadata": {},
   "outputs": [],
   "source": [
    "data = {}"
   ]
  },
  {
   "cell_type": "code",
   "execution_count": 69,
   "id": "9e25dae1-0f33-46e8-9767-4efd6a752721",
   "metadata": {},
   "outputs": [],
   "source": [
    "data[\"numSearchTerms\"] = [1,2,3,4,5,10]"
   ]
  },
  {
   "cell_type": "code",
   "execution_count": 70,
   "id": "3dcc4957-9d49-451c-8e1f-323e241da669",
   "metadata": {},
   "outputs": [],
   "source": [
    "data[\"MeanResponses_Standard\"] = [584,357,86,16,7,2]"
   ]
  },
  {
   "cell_type": "code",
   "execution_count": 71,
   "id": "28ea9a1d-1927-44e1-b8ba-e84fdc0a8180",
   "metadata": {},
   "outputs": [],
   "source": [
    "data[\"MeanResponses_Fuzzy\"] = [584,357,86,16,7,2]"
   ]
  },
  {
   "cell_type": "code",
   "execution_count": 72,
   "id": "00371a13-0cdb-4e9c-ac06-25d36a4e3b1f",
   "metadata": {},
   "outputs": [],
   "source": [
    "data[\"MeanResponses_Ranked\"] = [584,357,86,16,7,2]"
   ]
  },
  {
   "cell_type": "code",
   "execution_count": 73,
   "id": "9490b701-27b1-4d06-aa22-b475b29aa7fd",
   "metadata": {},
   "outputs": [],
   "source": [
    "data[\"MeanResponses_Pictorial_LO\"] = [339,460,551,684,692,774]"
   ]
  },
  {
   "cell_type": "code",
   "execution_count": 74,
   "id": "4a78c8a3-1dbd-41f8-a0c2-dfdf6f4aba9a",
   "metadata": {},
   "outputs": [],
   "source": [
    "data[\"MeanResponses_Pictorial_OO\"] = [1070,392,30,9,2,0]"
   ]
  },
  {
   "cell_type": "code",
   "execution_count": 75,
   "id": "f0fcebe8-0e4f-41e8-abae-2b6645889e78",
   "metadata": {},
   "outputs": [],
   "source": [
    "data[\"Mean_time_standard\"] = [0.0000430107,0.0000439286,0.0000570615,0.0000661612,0.0000619888,0.0000669956]"
   ]
  },
  {
   "cell_type": "markdown",
   "id": "748e7e99",
   "metadata": {},
   "source": []
  },
  {
   "cell_type": "code",
   "execution_count": 76,
   "id": "399843e7-65ba-4966-8b50-f3ec28a0f9f3",
   "metadata": {},
   "outputs": [],
   "source": [
    "data[\"Mean_time_Fuzzy\"] = [0.4371261597,0.5335646868,0.1914118926,0.04754960537,0.02613306046,0.01522684097]"
   ]
  },
  {
   "cell_type": "code",
   "execution_count": 77,
   "id": "494eb9d4-259f-4216-beb0-62875c42fed4",
   "metadata": {},
   "outputs": [],
   "source": [
    "data[\"Mean_time_Ranked\"] = [0.4338356018,0.5319437981,0.1909309228,0.04640138149,0.02871441841,0.0156481266]"
   ]
  },
  {
   "cell_type": "code",
   "execution_count": 78,
   "id": "dba928af-5235-41f7-8b03-1998d33817ce",
   "metadata": {},
   "outputs": [],
   "source": [
    "data[\"Mean_time_pictorial_LO\"] = [0.001352071762,0.001528024673,0.001671791077,0.001931190491,0.002098798752,0.003077030182]"
   ]
  },
  {
   "cell_type": "code",
   "execution_count": null,
   "id": "2a9cf5b9",
   "metadata": {},
   "outputs": [],
   "source": [
    "data[\"Mean_results_pictorial_LO\"] = [381,501,600,]"
   ]
  },
  {
   "cell_type": "code",
   "execution_count": 79,
   "id": "a55e6239-8860-45c4-a83b-98c51f060c44",
   "metadata": {},
   "outputs": [],
   "source": [
    "data[\"Mean_time_pictorial_OO\"] = [2.794201136,9.31475091,10.26598024,10.55426502,11.53768778,13.8714602]"
   ]
  },
  {
   "cell_type": "code",
   "execution_count": null,
   "id": "dcb3b289",
   "metadata": {},
   "outputs": [
    {
     "ename": "",
     "evalue": "",
     "output_type": "error",
     "traceback": [
      "\u001b[1;31mRunning cells with 'Python 3.11.3 64-bit' requires ipykernel package.\n",
      "\u001b[1;31mRun the following command to install 'ipykernel' into the Python environment. \n",
      "\u001b[1;31mCommand: '/usr/local/bin/python -m pip install ipykernel -U --user --force-reinstall'"
     ]
    }
   ],
   "source": [
    "data[\"Mean_results_pictorial_OO\"] = [1194,442,43,5,5,0]"
   ]
  },
  {
   "cell_type": "code",
   "execution_count": null,
   "id": "d401114e-1ca4-42ba-be20-4a389e07a4c0",
   "metadata": {},
   "outputs": [
    {
     "ename": "",
     "evalue": "",
     "output_type": "error",
     "traceback": [
      "\u001b[1;31mRunning cells with 'Python 3.11.3 64-bit' requires ipykernel package.\n",
      "\u001b[1;31mRun the following command to install 'ipykernel' into the Python environment. \n",
      "\u001b[1;31mCommand: '/usr/local/bin/python -m pip install ipykernel -U --user --force-reinstall'"
     ]
    }
   ],
   "source": [
    "data[\"Mean_time_pictorial_OO_CI\"] = [0.21583771705627441,17.850045919418335,62.47229266166687,96.09364891052246,110.10272121429443,134.7993142604828 ]"
   ]
  },
  {
   "cell_type": "code",
   "execution_count": null,
   "id": "bbf55c20-3cf2-4b30-886e-487a78690e94",
   "metadata": {},
   "outputs": [
    {
     "ename": "",
     "evalue": "",
     "output_type": "error",
     "traceback": [
      "\u001b[1;31mRunning cells with 'Python 3.11.3 64-bit' requires ipykernel package.\n",
      "\u001b[1;31mRun the following command to install 'ipykernel' into the Python environment. \n",
      "\u001b[1;31mCommand: '/usr/local/bin/python -m pip install ipykernel -U --user --force-reinstall'"
     ]
    }
   ],
   "source": [
    "data[\"Mean_results_pictorial_OO_CI\"] = [1194,888,203,53,22,0]"
   ]
  },
  {
   "cell_type": "code",
   "execution_count": null,
   "id": "317f1c1d-b864-474d-99b7-b7f220f0a15e",
   "metadata": {},
   "outputs": [
    {
     "ename": "",
     "evalue": "",
     "output_type": "error",
     "traceback": [
      "\u001b[1;31mRunning cells with 'Python 3.11.3 64-bit' requires ipykernel package.\n",
      "\u001b[1;31mRun the following command to install 'ipykernel' into the Python environment. \n",
      "\u001b[1;31mCommand: '/usr/local/bin/python -m pip install ipykernel -U --user --force-reinstall'"
     ]
    }
   ],
   "source": [
    "df = pd.DataFrame(data)"
   ]
  },
  {
   "cell_type": "code",
   "execution_count": null,
   "id": "d48c429b-9e88-4b89-8ef0-712d131807c5",
   "metadata": {},
   "outputs": [
    {
     "ename": "",
     "evalue": "",
     "output_type": "error",
     "traceback": [
      "\u001b[1;31mRunning cells with 'Python 3.11.3 64-bit' requires ipykernel package.\n",
      "\u001b[1;31mRun the following command to install 'ipykernel' into the Python environment. \n",
      "\u001b[1;31mCommand: '/usr/local/bin/python -m pip install ipykernel -U --user --force-reinstall'"
     ]
    }
   ],
   "source": [
    "df"
   ]
  },
  {
   "cell_type": "code",
   "execution_count": null,
   "id": "8e771582-2b54-47a7-bed2-8316d62a3dd4",
   "metadata": {},
   "outputs": [
    {
     "ename": "",
     "evalue": "",
     "output_type": "error",
     "traceback": [
      "\u001b[1;31mRunning cells with 'Python 3.11.3 64-bit' requires ipykernel package.\n",
      "\u001b[1;31mRun the following command to install 'ipykernel' into the Python environment. \n",
      "\u001b[1;31mCommand: '/usr/local/bin/python -m pip install ipykernel -U --user --force-reinstall'"
     ]
    }
   ],
   "source": [
    "plt.plot(df.numSearchTerms,df.MeanResponses_Standard\t, label = \"Exact Membership\")\n",
    "plt.plot(df.numSearchTerms,df.MeanResponses_Fuzzy\t, label = \"Fuzzy Membership\")\n",
    "plt.plot(df.numSearchTerms,df.MeanResponses_Ranked\t, label = \"Ranked Membership\")\n",
    "plt.plot(df.numSearchTerms,df.MeanResponses_Pictorial_LO\t, label = \"Pictorial Loc-Obj\")\n",
    "plt.plot(df.numSearchTerms,df.MeanResponses_Pictorial_OO\t, label = \"Pictorial Obj-Obj\")\n",
    "\n",
    "plt.title(\"Pruning of Candidate Locations with Query Specificity\")\n",
    "plt.xlabel(\"Number of Query Terms\")\n",
    "plt.ylabel(\"Mean Number of Candiate Locations\")\n",
    "\n",
    "plt.legend()\n",
    "plt.savefig(\"../papers/figures/queryExecutionRecall.svg\")\n",
    "plt.show()"
   ]
  },
  {
   "cell_type": "code",
   "execution_count": null,
   "id": "70a5458a-5c95-47cd-8ce1-f4e0f6bb31df",
   "metadata": {},
   "outputs": [
    {
     "ename": "",
     "evalue": "",
     "output_type": "error",
     "traceback": [
      "\u001b[1;31mRunning cells with 'Python 3.11.3 64-bit' requires ipykernel package.\n",
      "\u001b[1;31mRun the following command to install 'ipykernel' into the Python environment. \n",
      "\u001b[1;31mCommand: '/usr/local/bin/python -m pip install ipykernel -U --user --force-reinstall'"
     ]
    }
   ],
   "source": [
    "plt.plot(df.numSearchTerms,df.Mean_time_standard\t, label = \"Exact Membership\")\n",
    "plt.plot(df.numSearchTerms,df.Mean_time_Fuzzy\t, label = \"Fuzzy Membership\")\n",
    "plt.plot(df.numSearchTerms,df.Mean_time_Ranked\t, label = \"Ranked Membership\")\n",
    "plt.plot(df.numSearchTerms,df.Mean_time_pictorial_LO\t, label = \"Pictorial Loc-Obj\")\n",
    "plt.plot(df.numSearchTerms,df.Mean_time_pictorial_OO\t, label = \"Pictorial Obj-Obj\")\n",
    "\n",
    "plt.title(\"Scalability of GESTALT Search Modes\")\n",
    "plt.xlabel(\"Number of Query Terms\")\n",
    "plt.ylabel(\"Mean Time taken to execute query (seconds)\")\n",
    "\n",
    "plt.legend()\n",
    "plt.savefig(\"../papers/figures/queryExecutionTime.svg\")\n",
    "plt.show()"
   ]
  },
  {
   "cell_type": "code",
   "execution_count": null,
   "id": "c2364e17-6e0b-4d06-b5b3-b144c0f7afd8",
   "metadata": {},
   "outputs": [
    {
     "ename": "",
     "evalue": "",
     "output_type": "error",
     "traceback": [
      "\u001b[1;31mRunning cells with 'Python 3.11.3 64-bit' requires ipykernel package.\n",
      "\u001b[1;31mRun the following command to install 'ipykernel' into the Python environment. \n",
      "\u001b[1;31mCommand: '/usr/local/bin/python -m pip install ipykernel -U --user --force-reinstall'"
     ]
    }
   ],
   "source": []
  },
  {
   "cell_type": "code",
   "execution_count": null,
   "id": "b855b160-7e38-4045-a3ee-575173af11d0",
   "metadata": {},
   "outputs": [
    {
     "ename": "",
     "evalue": "",
     "output_type": "error",
     "traceback": [
      "\u001b[1;31mRunning cells with 'Python 3.11.3 64-bit' requires ipykernel package.\n",
      "\u001b[1;31mRun the following command to install 'ipykernel' into the Python environment. \n",
      "\u001b[1;31mCommand: '/usr/local/bin/python -m pip install ipykernel -U --user --force-reinstall'"
     ]
    }
   ],
   "source": []
  },
  {
   "cell_type": "code",
   "execution_count": null,
   "id": "585a0713-5000-46f6-8b61-665194362aff",
   "metadata": {},
   "outputs": [
    {
     "ename": "",
     "evalue": "",
     "output_type": "error",
     "traceback": [
      "\u001b[1;31mRunning cells with 'Python 3.11.3 64-bit' requires ipykernel package.\n",
      "\u001b[1;31mRun the following command to install 'ipykernel' into the Python environment. \n",
      "\u001b[1;31mCommand: '/usr/local/bin/python -m pip install ipykernel -U --user --force-reinstall'"
     ]
    }
   ],
   "source": []
  }
 ],
 "metadata": {
  "kernelspec": {
   "display_name": "Python 3.11.3 64-bit",
   "language": "python",
   "name": "python3"
  },
  "language_info": {
   "codemirror_mode": {
    "name": "ipython",
    "version": 3
   },
   "file_extension": ".py",
   "mimetype": "text/x-python",
   "name": "python",
   "nbconvert_exporter": "python",
   "pygments_lexer": "ipython3",
   "version": "3.11.3"
  },
  "vscode": {
   "interpreter": {
    "hash": "949777d72b0d2535278d3dc13498b2535136f6dfe0678499012e853ee9abcab1"
   }
  }
 },
 "nbformat": 4,
 "nbformat_minor": 5
}
