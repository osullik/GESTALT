{
 "cells": [
  {
   "cell_type": "code",
   "execution_count": null,
   "id": "06f1435c",
   "metadata": {},
   "outputs": [],
   "source": [
    "pip install scikit-learn"
   ]
  },
  {
   "cell_type": "code",
   "execution_count": null,
   "id": "0f0948d9",
   "metadata": {},
   "outputs": [],
   "source": [
    "import sys, os\n",
    "import pandas as pd\n",
    "import matplotlib.pyplot as plt\n",
    "import sklearn"
   ]
  },
  {
   "cell_type": "code",
   "execution_count": null,
   "id": "b94d970d",
   "metadata": {},
   "outputs": [],
   "source": [
    "cwd = \"/Users/kentosullivan/Desktop/CMSC828T-Project/code\"\n",
    "os.chdir(cwd)\n",
    "print(cwd)\n",
    "\n",
    "os.chdir(\"..\")\n",
    "os.chdir(\"data\")\n",
    "dataDir = os.getcwd()\n",
    "print(dataDir)\n",
    "\n",
    "os.chdir(cwd)\n",
    "print(os.getcwd())"
   ]
  },
  {
   "cell_type": "code",
   "execution_count": 118,
   "id": "f8d5757d",
   "metadata": {},
   "outputs": [
    {
     "data": {
      "text/html": [
       "<div>\n",
       "<style scoped>\n",
       "    .dataframe tbody tr th:only-of-type {\n",
       "        vertical-align: middle;\n",
       "    }\n",
       "\n",
       "    .dataframe tbody tr th {\n",
       "        vertical-align: top;\n",
       "    }\n",
       "\n",
       "    .dataframe thead th {\n",
       "        text-align: right;\n",
       "    }\n",
       "</style>\n",
       "<table border=\"1\" class=\"dataframe\">\n",
       "  <thead>\n",
       "    <tr style=\"text-align: right;\">\n",
       "      <th></th>\n",
       "      <th>location</th>\n",
       "      <th>latitude</th>\n",
       "      <th>longitude</th>\n",
       "    </tr>\n",
       "  </thead>\n",
       "  <tbody>\n",
       "    <tr>\n",
       "      <th>0</th>\n",
       "      <td>Sandalford Winery</td>\n",
       "      <td>115.992759</td>\n",
       "      <td>-31.868701</td>\n",
       "    </tr>\n",
       "    <tr>\n",
       "      <th>1</th>\n",
       "      <td>Nikola Estate</td>\n",
       "      <td>115.997995</td>\n",
       "      <td>-31.854112</td>\n",
       "    </tr>\n",
       "    <tr>\n",
       "      <th>2</th>\n",
       "      <td>Edgecombe Brothers</td>\n",
       "      <td>115.998571</td>\n",
       "      <td>-31.795187</td>\n",
       "    </tr>\n",
       "    <tr>\n",
       "      <th>3</th>\n",
       "      <td>Little River Winery and Café</td>\n",
       "      <td>116.000888</td>\n",
       "      <td>-31.824124</td>\n",
       "    </tr>\n",
       "    <tr>\n",
       "      <th>4</th>\n",
       "      <td>Black Swan Winery and Restaurant</td>\n",
       "      <td>116.000850</td>\n",
       "      <td>-31.823404</td>\n",
       "    </tr>\n",
       "    <tr>\n",
       "      <th>5</th>\n",
       "      <td>Lancaster Wines</td>\n",
       "      <td>115.988887</td>\n",
       "      <td>-31.852260</td>\n",
       "    </tr>\n",
       "    <tr>\n",
       "      <th>6</th>\n",
       "      <td>Mandoon Estate</td>\n",
       "      <td>115.994991</td>\n",
       "      <td>-31.868266</td>\n",
       "    </tr>\n",
       "    <tr>\n",
       "      <th>7</th>\n",
       "      <td>Mandoon Vineyard</td>\n",
       "      <td>115.995494</td>\n",
       "      <td>-31.867594</td>\n",
       "    </tr>\n",
       "    <tr>\n",
       "      <th>8</th>\n",
       "      <td>Oakover Grounds</td>\n",
       "      <td>116.007327</td>\n",
       "      <td>-31.845080</td>\n",
       "    </tr>\n",
       "    <tr>\n",
       "      <th>9</th>\n",
       "      <td>Henley Park Winery</td>\n",
       "      <td>116.001641</td>\n",
       "      <td>-31.797776</td>\n",
       "    </tr>\n",
       "    <tr>\n",
       "      <th>10</th>\n",
       "      <td>Upper Reach Winery</td>\n",
       "      <td>116.008634</td>\n",
       "      <td>-31.795033</td>\n",
       "    </tr>\n",
       "    <tr>\n",
       "      <th>11</th>\n",
       "      <td>Mann Winery</td>\n",
       "      <td>116.012546</td>\n",
       "      <td>-31.793688</td>\n",
       "    </tr>\n",
       "    <tr>\n",
       "      <th>12</th>\n",
       "      <td>Harris Organic Wines and Spirits</td>\n",
       "      <td>116.020830</td>\n",
       "      <td>-31.794595</td>\n",
       "    </tr>\n",
       "    <tr>\n",
       "      <th>13</th>\n",
       "      <td>John Kosovich Wines</td>\n",
       "      <td>116.020760</td>\n",
       "      <td>-31.795346</td>\n",
       "    </tr>\n",
       "    <tr>\n",
       "      <th>14</th>\n",
       "      <td>Twin Hill Wines</td>\n",
       "      <td>116.020781</td>\n",
       "      <td>-31.796729</td>\n",
       "    </tr>\n",
       "    <tr>\n",
       "      <th>15</th>\n",
       "      <td>Olive Farm Wines</td>\n",
       "      <td>116.022232</td>\n",
       "      <td>-31.811995</td>\n",
       "    </tr>\n",
       "    <tr>\n",
       "      <th>16</th>\n",
       "      <td>Ali's Vineyard</td>\n",
       "      <td>116.018220</td>\n",
       "      <td>-31.814194</td>\n",
       "    </tr>\n",
       "    <tr>\n",
       "      <th>17</th>\n",
       "      <td>Talijancich</td>\n",
       "      <td>116.020341</td>\n",
       "      <td>-31.818507</td>\n",
       "    </tr>\n",
       "    <tr>\n",
       "      <th>18</th>\n",
       "      <td>Tyler's Vineyard</td>\n",
       "      <td>116.040805</td>\n",
       "      <td>-31.812921</td>\n",
       "    </tr>\n",
       "    <tr>\n",
       "      <th>19</th>\n",
       "      <td>Fig Tree Estate Winery</td>\n",
       "      <td>116.040030</td>\n",
       "      <td>-31.804387</td>\n",
       "    </tr>\n",
       "    <tr>\n",
       "      <th>20</th>\n",
       "      <td>Lamont's Winery</td>\n",
       "      <td>116.037443</td>\n",
       "      <td>-31.803230</td>\n",
       "    </tr>\n",
       "    <tr>\n",
       "      <th>21</th>\n",
       "      <td>Faber Vineyard</td>\n",
       "      <td>116.045655</td>\n",
       "      <td>-31.796771</td>\n",
       "    </tr>\n",
       "    <tr>\n",
       "      <th>22</th>\n",
       "      <td>Swan Valley Wines</td>\n",
       "      <td>116.048836</td>\n",
       "      <td>-31.796915</td>\n",
       "    </tr>\n",
       "    <tr>\n",
       "      <th>23</th>\n",
       "      <td>Windy Creek Estate</td>\n",
       "      <td>116.030560</td>\n",
       "      <td>-31.830487</td>\n",
       "    </tr>\n",
       "    <tr>\n",
       "      <th>24</th>\n",
       "      <td>Holy Mary Cellars</td>\n",
       "      <td>116.021676</td>\n",
       "      <td>-31.835658</td>\n",
       "    </tr>\n",
       "    <tr>\n",
       "      <th>25</th>\n",
       "      <td>Jarrah Ridge Wines</td>\n",
       "      <td>116.015532</td>\n",
       "      <td>-31.836499</td>\n",
       "    </tr>\n",
       "    <tr>\n",
       "      <th>26</th>\n",
       "      <td>Katgully Wines Cellar Door</td>\n",
       "      <td>116.021235</td>\n",
       "      <td>-31.835449</td>\n",
       "    </tr>\n",
       "    <tr>\n",
       "      <th>27</th>\n",
       "      <td>Sittella</td>\n",
       "      <td>116.006851</td>\n",
       "      <td>-31.830083</td>\n",
       "    </tr>\n",
       "    <tr>\n",
       "      <th>28</th>\n",
       "      <td>Ugly Duckling Wines</td>\n",
       "      <td>115.997425</td>\n",
       "      <td>-31.830502</td>\n",
       "    </tr>\n",
       "    <tr>\n",
       "      <th>29</th>\n",
       "      <td>Heafod Glen Winery</td>\n",
       "      <td>115.996817</td>\n",
       "      <td>-31.822945</td>\n",
       "    </tr>\n",
       "    <tr>\n",
       "      <th>30</th>\n",
       "      <td>Ambrook Wines</td>\n",
       "      <td>115.981779</td>\n",
       "      <td>-31.871998</td>\n",
       "    </tr>\n",
       "  </tbody>\n",
       "</table>\n",
       "</div>"
      ],
      "text/plain": [
       "                            location    latitude  longitude\n",
       "0                  Sandalford Winery  115.992759 -31.868701\n",
       "1                      Nikola Estate  115.997995 -31.854112\n",
       "2                 Edgecombe Brothers  115.998571 -31.795187\n",
       "3       Little River Winery and Café  116.000888 -31.824124\n",
       "4   Black Swan Winery and Restaurant  116.000850 -31.823404\n",
       "5                    Lancaster Wines  115.988887 -31.852260\n",
       "6                     Mandoon Estate  115.994991 -31.868266\n",
       "7                   Mandoon Vineyard  115.995494 -31.867594\n",
       "8                    Oakover Grounds  116.007327 -31.845080\n",
       "9                 Henley Park Winery  116.001641 -31.797776\n",
       "10                Upper Reach Winery  116.008634 -31.795033\n",
       "11                       Mann Winery  116.012546 -31.793688\n",
       "12  Harris Organic Wines and Spirits  116.020830 -31.794595\n",
       "13               John Kosovich Wines  116.020760 -31.795346\n",
       "14                   Twin Hill Wines  116.020781 -31.796729\n",
       "15                  Olive Farm Wines  116.022232 -31.811995\n",
       "16                    Ali's Vineyard  116.018220 -31.814194\n",
       "17                       Talijancich  116.020341 -31.818507\n",
       "18                  Tyler's Vineyard  116.040805 -31.812921\n",
       "19            Fig Tree Estate Winery  116.040030 -31.804387\n",
       "20                   Lamont's Winery  116.037443 -31.803230\n",
       "21                    Faber Vineyard  116.045655 -31.796771\n",
       "22                 Swan Valley Wines  116.048836 -31.796915\n",
       "23                Windy Creek Estate  116.030560 -31.830487\n",
       "24                 Holy Mary Cellars  116.021676 -31.835658\n",
       "25                Jarrah Ridge Wines  116.015532 -31.836499\n",
       "26        Katgully Wines Cellar Door  116.021235 -31.835449\n",
       "27                          Sittella  116.006851 -31.830083\n",
       "28               Ugly Duckling Wines  115.997425 -31.830502\n",
       "29                Heafod Glen Winery  115.996817 -31.822945\n",
       "30                     Ambrook Wines  115.981779 -31.871998"
      ]
     },
     "execution_count": 118,
     "metadata": {},
     "output_type": "execute_result"
    }
   ],
   "source": [
    "osm_df = pd.read_csv(dataDir+'/osm_df.csv')\n",
    "osm_df"
   ]
  },
  {
   "cell_type": "code",
   "execution_count": 119,
   "id": "f98d15e0",
   "metadata": {},
   "outputs": [
    {
     "data": {
      "text/html": [
       "<div>\n",
       "<style scoped>\n",
       "    .dataframe tbody tr th:only-of-type {\n",
       "        vertical-align: middle;\n",
       "    }\n",
       "\n",
       "    .dataframe tbody tr th {\n",
       "        vertical-align: top;\n",
       "    }\n",
       "\n",
       "    .dataframe thead th {\n",
       "        text-align: right;\n",
       "    }\n",
       "</style>\n",
       "<table border=\"1\" class=\"dataframe\">\n",
       "  <thead>\n",
       "    <tr style=\"text-align: right;\">\n",
       "      <th></th>\n",
       "      <th>object</th>\n",
       "      <th>latitude</th>\n",
       "      <th>longitude</th>\n",
       "      <th>true_location</th>\n",
       "      <th>species</th>\n",
       "      <th>contents</th>\n",
       "      <th>length</th>\n",
       "      <th>type</th>\n",
       "      <th>size</th>\n",
       "      <th>shape</th>\n",
       "      <th>style</th>\n",
       "      <th>surface</th>\n",
       "      <th>color</th>\n",
       "      <th>material</th>\n",
       "      <th>roof</th>\n",
       "      <th>cluster</th>\n",
       "      <th>predicted_location_kmeans</th>\n",
       "      <th>kmeans_correct</th>\n",
       "      <th>predicted_location_dbscan</th>\n",
       "      <th>dbscan_correct</th>\n",
       "    </tr>\n",
       "  </thead>\n",
       "  <tbody>\n",
       "    <tr>\n",
       "      <th>0</th>\n",
       "      <td>palm_tree</td>\n",
       "      <td>116.018337</td>\n",
       "      <td>-31.814452</td>\n",
       "      <td>Alis_Vineyard</td>\n",
       "      <td>NaN</td>\n",
       "      <td>NaN</td>\n",
       "      <td>NaN</td>\n",
       "      <td>NaN</td>\n",
       "      <td>NaN</td>\n",
       "      <td>NaN</td>\n",
       "      <td>NaN</td>\n",
       "      <td>NaN</td>\n",
       "      <td>NaN</td>\n",
       "      <td>NaN</td>\n",
       "      <td>NaN</td>\n",
       "      <td>0</td>\n",
       "      <td>Ali's Vineyard</td>\n",
       "      <td>True</td>\n",
       "      <td>Ali's Vineyard</td>\n",
       "      <td>True</td>\n",
       "    </tr>\n",
       "    <tr>\n",
       "      <th>1</th>\n",
       "      <td>palm_tree</td>\n",
       "      <td>116.018326</td>\n",
       "      <td>-31.814519</td>\n",
       "      <td>Alis_Vineyard</td>\n",
       "      <td>NaN</td>\n",
       "      <td>NaN</td>\n",
       "      <td>NaN</td>\n",
       "      <td>NaN</td>\n",
       "      <td>NaN</td>\n",
       "      <td>NaN</td>\n",
       "      <td>NaN</td>\n",
       "      <td>NaN</td>\n",
       "      <td>NaN</td>\n",
       "      <td>NaN</td>\n",
       "      <td>NaN</td>\n",
       "      <td>0</td>\n",
       "      <td>Ali's Vineyard</td>\n",
       "      <td>True</td>\n",
       "      <td>Ali's Vineyard</td>\n",
       "      <td>True</td>\n",
       "    </tr>\n",
       "    <tr>\n",
       "      <th>2</th>\n",
       "      <td>palm_tree</td>\n",
       "      <td>116.018316</td>\n",
       "      <td>-31.814572</td>\n",
       "      <td>Alis_Vineyard</td>\n",
       "      <td>NaN</td>\n",
       "      <td>NaN</td>\n",
       "      <td>NaN</td>\n",
       "      <td>NaN</td>\n",
       "      <td>NaN</td>\n",
       "      <td>NaN</td>\n",
       "      <td>NaN</td>\n",
       "      <td>NaN</td>\n",
       "      <td>NaN</td>\n",
       "      <td>NaN</td>\n",
       "      <td>NaN</td>\n",
       "      <td>0</td>\n",
       "      <td>Ali's Vineyard</td>\n",
       "      <td>True</td>\n",
       "      <td>Ali's Vineyard</td>\n",
       "      <td>True</td>\n",
       "    </tr>\n",
       "    <tr>\n",
       "      <th>3</th>\n",
       "      <td>palm_tree</td>\n",
       "      <td>116.018253</td>\n",
       "      <td>-31.814581</td>\n",
       "      <td>Alis_Vineyard</td>\n",
       "      <td>NaN</td>\n",
       "      <td>NaN</td>\n",
       "      <td>NaN</td>\n",
       "      <td>NaN</td>\n",
       "      <td>NaN</td>\n",
       "      <td>NaN</td>\n",
       "      <td>NaN</td>\n",
       "      <td>NaN</td>\n",
       "      <td>NaN</td>\n",
       "      <td>NaN</td>\n",
       "      <td>NaN</td>\n",
       "      <td>0</td>\n",
       "      <td>Ali's Vineyard</td>\n",
       "      <td>True</td>\n",
       "      <td>Ali's Vineyard</td>\n",
       "      <td>True</td>\n",
       "    </tr>\n",
       "    <tr>\n",
       "      <th>4</th>\n",
       "      <td>palm_tree</td>\n",
       "      <td>116.018209</td>\n",
       "      <td>-31.814622</td>\n",
       "      <td>Alis_Vineyard</td>\n",
       "      <td>NaN</td>\n",
       "      <td>NaN</td>\n",
       "      <td>NaN</td>\n",
       "      <td>NaN</td>\n",
       "      <td>NaN</td>\n",
       "      <td>NaN</td>\n",
       "      <td>NaN</td>\n",
       "      <td>NaN</td>\n",
       "      <td>NaN</td>\n",
       "      <td>NaN</td>\n",
       "      <td>NaN</td>\n",
       "      <td>0</td>\n",
       "      <td>Ali's Vineyard</td>\n",
       "      <td>True</td>\n",
       "      <td>Ali's Vineyard</td>\n",
       "      <td>True</td>\n",
       "    </tr>\n",
       "    <tr>\n",
       "      <th>...</th>\n",
       "      <td>...</td>\n",
       "      <td>...</td>\n",
       "      <td>...</td>\n",
       "      <td>...</td>\n",
       "      <td>...</td>\n",
       "      <td>...</td>\n",
       "      <td>...</td>\n",
       "      <td>...</td>\n",
       "      <td>...</td>\n",
       "      <td>...</td>\n",
       "      <td>...</td>\n",
       "      <td>...</td>\n",
       "      <td>...</td>\n",
       "      <td>...</td>\n",
       "      <td>...</td>\n",
       "      <td>...</td>\n",
       "      <td>...</td>\n",
       "      <td>...</td>\n",
       "      <td>...</td>\n",
       "      <td>...</td>\n",
       "    </tr>\n",
       "    <tr>\n",
       "      <th>141</th>\n",
       "      <td>picnic_table</td>\n",
       "      <td>115.990902</td>\n",
       "      <td>-31.851874</td>\n",
       "      <td>Lancaster_Wines</td>\n",
       "      <td>NaN</td>\n",
       "      <td>NaN</td>\n",
       "      <td>NaN</td>\n",
       "      <td>NaN</td>\n",
       "      <td>NaN</td>\n",
       "      <td>NaN</td>\n",
       "      <td>NaN</td>\n",
       "      <td>NaN</td>\n",
       "      <td>NaN</td>\n",
       "      <td>NaN</td>\n",
       "      <td>NaN</td>\n",
       "      <td>6</td>\n",
       "      <td>Lancaster Wines</td>\n",
       "      <td>True</td>\n",
       "      <td>Lancaster Wines</td>\n",
       "      <td>True</td>\n",
       "    </tr>\n",
       "    <tr>\n",
       "      <th>142</th>\n",
       "      <td>picnic_table</td>\n",
       "      <td>115.990921</td>\n",
       "      <td>-31.851803</td>\n",
       "      <td>Lancaster_Wines</td>\n",
       "      <td>NaN</td>\n",
       "      <td>NaN</td>\n",
       "      <td>NaN</td>\n",
       "      <td>NaN</td>\n",
       "      <td>NaN</td>\n",
       "      <td>NaN</td>\n",
       "      <td>NaN</td>\n",
       "      <td>NaN</td>\n",
       "      <td>NaN</td>\n",
       "      <td>NaN</td>\n",
       "      <td>NaN</td>\n",
       "      <td>6</td>\n",
       "      <td>Lancaster Wines</td>\n",
       "      <td>True</td>\n",
       "      <td>Lancaster Wines</td>\n",
       "      <td>True</td>\n",
       "    </tr>\n",
       "    <tr>\n",
       "      <th>143</th>\n",
       "      <td>picnic_table</td>\n",
       "      <td>115.990867</td>\n",
       "      <td>-31.851802</td>\n",
       "      <td>Lancaster_Wines</td>\n",
       "      <td>NaN</td>\n",
       "      <td>NaN</td>\n",
       "      <td>NaN</td>\n",
       "      <td>NaN</td>\n",
       "      <td>NaN</td>\n",
       "      <td>NaN</td>\n",
       "      <td>NaN</td>\n",
       "      <td>NaN</td>\n",
       "      <td>NaN</td>\n",
       "      <td>NaN</td>\n",
       "      <td>NaN</td>\n",
       "      <td>6</td>\n",
       "      <td>Lancaster Wines</td>\n",
       "      <td>True</td>\n",
       "      <td>Lancaster Wines</td>\n",
       "      <td>True</td>\n",
       "    </tr>\n",
       "    <tr>\n",
       "      <th>144</th>\n",
       "      <td>picnic_table</td>\n",
       "      <td>115.990801</td>\n",
       "      <td>-31.851801</td>\n",
       "      <td>Lancaster_Wines</td>\n",
       "      <td>NaN</td>\n",
       "      <td>NaN</td>\n",
       "      <td>NaN</td>\n",
       "      <td>NaN</td>\n",
       "      <td>NaN</td>\n",
       "      <td>NaN</td>\n",
       "      <td>NaN</td>\n",
       "      <td>NaN</td>\n",
       "      <td>NaN</td>\n",
       "      <td>NaN</td>\n",
       "      <td>NaN</td>\n",
       "      <td>6</td>\n",
       "      <td>Lancaster Wines</td>\n",
       "      <td>True</td>\n",
       "      <td>Lancaster Wines</td>\n",
       "      <td>True</td>\n",
       "    </tr>\n",
       "    <tr>\n",
       "      <th>145</th>\n",
       "      <td>picnic_table</td>\n",
       "      <td>115.990753</td>\n",
       "      <td>-31.851802</td>\n",
       "      <td>Lancaster_Wines</td>\n",
       "      <td>NaN</td>\n",
       "      <td>NaN</td>\n",
       "      <td>NaN</td>\n",
       "      <td>NaN</td>\n",
       "      <td>NaN</td>\n",
       "      <td>NaN</td>\n",
       "      <td>NaN</td>\n",
       "      <td>NaN</td>\n",
       "      <td>NaN</td>\n",
       "      <td>NaN</td>\n",
       "      <td>NaN</td>\n",
       "      <td>6</td>\n",
       "      <td>Lancaster Wines</td>\n",
       "      <td>True</td>\n",
       "      <td>Lancaster Wines</td>\n",
       "      <td>True</td>\n",
       "    </tr>\n",
       "  </tbody>\n",
       "</table>\n",
       "<p>146 rows × 20 columns</p>\n",
       "</div>"
      ],
      "text/plain": [
       "           object    latitude  longitude    true_location species contents  \\\n",
       "0       palm_tree  116.018337 -31.814452    Alis_Vineyard     NaN      NaN   \n",
       "1       palm_tree  116.018326 -31.814519    Alis_Vineyard     NaN      NaN   \n",
       "2       palm_tree  116.018316 -31.814572    Alis_Vineyard     NaN      NaN   \n",
       "3       palm_tree  116.018253 -31.814581    Alis_Vineyard     NaN      NaN   \n",
       "4       palm_tree  116.018209 -31.814622    Alis_Vineyard     NaN      NaN   \n",
       "..            ...         ...        ...              ...     ...      ...   \n",
       "141  picnic_table  115.990902 -31.851874  Lancaster_Wines     NaN      NaN   \n",
       "142  picnic_table  115.990921 -31.851803  Lancaster_Wines     NaN      NaN   \n",
       "143  picnic_table  115.990867 -31.851802  Lancaster_Wines     NaN      NaN   \n",
       "144  picnic_table  115.990801 -31.851801  Lancaster_Wines     NaN      NaN   \n",
       "145  picnic_table  115.990753 -31.851802  Lancaster_Wines     NaN      NaN   \n",
       "\n",
       "    length type size shape style surface color material roof  cluster  \\\n",
       "0      NaN  NaN  NaN   NaN   NaN     NaN   NaN      NaN  NaN        0   \n",
       "1      NaN  NaN  NaN   NaN   NaN     NaN   NaN      NaN  NaN        0   \n",
       "2      NaN  NaN  NaN   NaN   NaN     NaN   NaN      NaN  NaN        0   \n",
       "3      NaN  NaN  NaN   NaN   NaN     NaN   NaN      NaN  NaN        0   \n",
       "4      NaN  NaN  NaN   NaN   NaN     NaN   NaN      NaN  NaN        0   \n",
       "..     ...  ...  ...   ...   ...     ...   ...      ...  ...      ...   \n",
       "141    NaN  NaN  NaN   NaN   NaN     NaN   NaN      NaN  NaN        6   \n",
       "142    NaN  NaN  NaN   NaN   NaN     NaN   NaN      NaN  NaN        6   \n",
       "143    NaN  NaN  NaN   NaN   NaN     NaN   NaN      NaN  NaN        6   \n",
       "144    NaN  NaN  NaN   NaN   NaN     NaN   NaN      NaN  NaN        6   \n",
       "145    NaN  NaN  NaN   NaN   NaN     NaN   NaN      NaN  NaN        6   \n",
       "\n",
       "    predicted_location_kmeans  kmeans_correct predicted_location_dbscan  \\\n",
       "0              Ali's Vineyard            True            Ali's Vineyard   \n",
       "1              Ali's Vineyard            True            Ali's Vineyard   \n",
       "2              Ali's Vineyard            True            Ali's Vineyard   \n",
       "3              Ali's Vineyard            True            Ali's Vineyard   \n",
       "4              Ali's Vineyard            True            Ali's Vineyard   \n",
       "..                        ...             ...                       ...   \n",
       "141           Lancaster Wines            True           Lancaster Wines   \n",
       "142           Lancaster Wines            True           Lancaster Wines   \n",
       "143           Lancaster Wines            True           Lancaster Wines   \n",
       "144           Lancaster Wines            True           Lancaster Wines   \n",
       "145           Lancaster Wines            True           Lancaster Wines   \n",
       "\n",
       "     dbscan_correct  \n",
       "0              True  \n",
       "1              True  \n",
       "2              True  \n",
       "3              True  \n",
       "4              True  \n",
       "..              ...  \n",
       "141            True  \n",
       "142            True  \n",
       "143            True  \n",
       "144            True  \n",
       "145            True  \n",
       "\n",
       "[146 rows x 20 columns]"
      ]
     },
     "execution_count": 119,
     "metadata": {},
     "output_type": "execute_result"
    }
   ],
   "source": [
    "obj_df = pd.read_csv(dataDir+'/obj_df.csv')\n",
    "obj_df"
   ]
  },
  {
   "cell_type": "code",
   "execution_count": 43,
   "id": "b803fc22",
   "metadata": {},
   "outputs": [
    {
     "data": {
      "image/png": "[encoded data removed]",
      "text/plain": [
       "<Figure size 640x480 with 1 Axes>"
      ]
     },
     "metadata": {},
     "output_type": "display_data"
    }
   ],
   "source": [
    "plot = osm_df.plot.scatter(x='latitude', y='longitude', c='DarkBlue')\n"
   ]
  },
  {
   "cell_type": "code",
   "execution_count": 45,
   "id": "23bcb12b",
   "metadata": {},
   "outputs": [
    {
     "data": {
      "image/png": "[encoded data removed]",
      "text/plain": [
       "<Figure size 640x480 with 1 Axes>"
      ]
     },
     "metadata": {},
     "output_type": "display_data"
    }
   ],
   "source": [
    "plot = obj_df.plot.scatter(y='latitude', x='longitude', c='Red')\n"
   ]
  },
  {
   "cell_type": "code",
   "execution_count": 47,
   "id": "4f685201",
   "metadata": {
    "scrolled": false
   },
   "outputs": [
    {
     "data": {
      "text/plain": [
       "<matplotlib.collections.PathCollection at 0x1389ac610>"
      ]
     },
     "execution_count": 47,
     "metadata": {},
     "output_type": "execute_result"
    },
    {
     "data": {
      "image/png": "[encoded data removed]",
      "text/plain": [
       "<Figure size 640x480 with 1 Axes>"
      ]
     },
     "metadata": {},
     "output_type": "display_data"
    }
   ],
   "source": [
    "plt.xlabel('Longitude')\n",
    "plt.ylabel('Latitude')\n",
    "plt.scatter(y=obj_df['latitude'],x=obj_df['longitude'], label=\"Objects\")\n",
    "plt.scatter(y=osm_df['latitude'],x=osm_df['longitude'], label=\"Locations\")"
   ]
  },
  {
   "cell_type": "code",
   "execution_count": 48,
   "id": "0678f0d7",
   "metadata": {},
   "outputs": [
    {
     "data": {
      "text/plain": [
       "<matplotlib.collections.PathCollection at 0x138a232d0>"
      ]
     },
     "execution_count": 48,
     "metadata": {},
     "output_type": "execute_result"
    },
    {
     "data": {
      "image/png": "[encoded data removed]",
      "text/plain": [
       "<Figure size 640x480 with 1 Axes>"
      ]
     },
     "metadata": {},
     "output_type": "display_data"
    }
   ],
   "source": [
    "#colors = ['Red', 'Pink', 'Yellow', 'Blue', 'Green', 'Indigo']\n",
    "#obj_df['c'] = obj_df.cluster.map({0:colors[0], 1:colors[1], 2:colors[2], 3:colors[3], \n",
    "#                          4:colors[4], 5:colors[5]})\n",
    "plt.scatter(y=obj_df.latitude ,x=obj_df.longitude, c=obj_df.cluster, alpha =0.6, s=10)\n",
    "plt.scatter(y=osm_df['latitude'],x=osm_df['longitude'], label=\"Locations\",alpha =0.6, s=10 )"
   ]
  },
  {
   "cell_type": "code",
   "execution_count": 10,
   "id": "dfb0fd71",
   "metadata": {},
   "outputs": [
    {
     "name": "stdout",
     "output_type": "stream",
     "text": [
      "Requirement already satisfied: plotly in /Users/kentosullivan/Desktop/CMSC828T-Project/828T/lib/python3.11/site-packages (5.14.1)\n",
      "Requirement already satisfied: tenacity>=6.2.0 in /Users/kentosullivan/Desktop/CMSC828T-Project/828T/lib/python3.11/site-packages (from plotly) (8.2.2)\n",
      "Requirement already satisfied: packaging in /Users/kentosullivan/Desktop/CMSC828T-Project/828T/lib/python3.11/site-packages (from plotly) (23.0)\n",
      "\n",
      "\u001b[1m[\u001b[0m\u001b[34;49mnotice\u001b[0m\u001b[1;39;49m]\u001b[0m\u001b[39;49m A new release of pip available: \u001b[0m\u001b[31;49m22.3\u001b[0m\u001b[39;49m -> \u001b[0m\u001b[32;49m23.1.2\u001b[0m\n",
      "\u001b[1m[\u001b[0m\u001b[34;49mnotice\u001b[0m\u001b[1;39;49m]\u001b[0m\u001b[39;49m To update, run: \u001b[0m\u001b[32;49mpip install --upgrade pip\u001b[0m\n",
      "Note: you may need to restart the kernel to use updated packages.\n"
     ]
    }
   ],
   "source": [
    "pip install plotly"
   ]
  },
  {
   "cell_type": "code",
   "execution_count": 11,
   "id": "bf733a95",
   "metadata": {},
   "outputs": [],
   "source": [
    "import plotly.express as px\n"
   ]
  },
  {
   "cell_type": "code",
   "execution_count": 49,
   "id": "b40b610c",
   "metadata": {},
   "outputs": [],
   "source": [
    "obj_df['coordinates'] = obj_df.latitude.astype(str) + ' , ' + obj_df.longitude.astype(str)\n",
    "obj_df['size'] = 0"
   ]
  },
  {
   "cell_type": "code",
   "execution_count": 50,
   "id": "767a5b30",
   "metadata": {},
   "outputs": [
    {
     "data": {
      "text/html": [
       "<div>\n",
       "<style scoped>\n",
       "    .dataframe tbody tr th:only-of-type {\n",
       "        vertical-align: middle;\n",
       "    }\n",
       "\n",
       "    .dataframe tbody tr th {\n",
       "        vertical-align: top;\n",
       "    }\n",
       "\n",
       "    .dataframe thead th {\n",
       "        text-align: right;\n",
       "    }\n",
       "</style>\n",
       "<table border=\"1\" class=\"dataframe\">\n",
       "  <thead>\n",
       "    <tr style=\"text-align: right;\">\n",
       "      <th></th>\n",
       "      <th>object</th>\n",
       "      <th>latitude</th>\n",
       "      <th>longitude</th>\n",
       "      <th>true_location</th>\n",
       "      <th>contents</th>\n",
       "      <th>color</th>\n",
       "      <th>size</th>\n",
       "      <th>type</th>\n",
       "      <th>surface</th>\n",
       "      <th>roof</th>\n",
       "      <th>species</th>\n",
       "      <th>material</th>\n",
       "      <th>style</th>\n",
       "      <th>length</th>\n",
       "      <th>shape</th>\n",
       "      <th>cluster</th>\n",
       "      <th>predicted_location_kmeans</th>\n",
       "      <th>predicted_location_dbscan</th>\n",
       "      <th>coordinates</th>\n",
       "    </tr>\n",
       "  </thead>\n",
       "  <tbody>\n",
       "    <tr>\n",
       "      <th>0</th>\n",
       "      <td>palm_tree</td>\n",
       "      <td>116.018337</td>\n",
       "      <td>-31.814452</td>\n",
       "      <td>Alis_Vineyard</td>\n",
       "      <td>NaN</td>\n",
       "      <td>NaN</td>\n",
       "      <td>0</td>\n",
       "      <td>NaN</td>\n",
       "      <td>NaN</td>\n",
       "      <td>NaN</td>\n",
       "      <td>NaN</td>\n",
       "      <td>NaN</td>\n",
       "      <td>NaN</td>\n",
       "      <td>NaN</td>\n",
       "      <td>NaN</td>\n",
       "      <td>0</td>\n",
       "      <td>Ali's Vineyard</td>\n",
       "      <td>Ali's Vineyard</td>\n",
       "      <td>116.0183374663027 , -31.81445187554597</td>\n",
       "    </tr>\n",
       "    <tr>\n",
       "      <th>1</th>\n",
       "      <td>palm_tree</td>\n",
       "      <td>116.018326</td>\n",
       "      <td>-31.814519</td>\n",
       "      <td>Alis_Vineyard</td>\n",
       "      <td>NaN</td>\n",
       "      <td>NaN</td>\n",
       "      <td>0</td>\n",
       "      <td>NaN</td>\n",
       "      <td>NaN</td>\n",
       "      <td>NaN</td>\n",
       "      <td>NaN</td>\n",
       "      <td>NaN</td>\n",
       "      <td>NaN</td>\n",
       "      <td>NaN</td>\n",
       "      <td>NaN</td>\n",
       "      <td>0</td>\n",
       "      <td>Ali's Vineyard</td>\n",
       "      <td>Ali's Vineyard</td>\n",
       "      <td>116.0183259785979 , -31.81451940926452</td>\n",
       "    </tr>\n",
       "    <tr>\n",
       "      <th>2</th>\n",
       "      <td>palm_tree</td>\n",
       "      <td>116.018316</td>\n",
       "      <td>-31.814572</td>\n",
       "      <td>Alis_Vineyard</td>\n",
       "      <td>NaN</td>\n",
       "      <td>NaN</td>\n",
       "      <td>0</td>\n",
       "      <td>NaN</td>\n",
       "      <td>NaN</td>\n",
       "      <td>NaN</td>\n",
       "      <td>NaN</td>\n",
       "      <td>NaN</td>\n",
       "      <td>NaN</td>\n",
       "      <td>NaN</td>\n",
       "      <td>NaN</td>\n",
       "      <td>0</td>\n",
       "      <td>Ali's Vineyard</td>\n",
       "      <td>Ali's Vineyard</td>\n",
       "      <td>116.0183161354075 , -31.8145718117269</td>\n",
       "    </tr>\n",
       "    <tr>\n",
       "      <th>3</th>\n",
       "      <td>palm_tree</td>\n",
       "      <td>116.018253</td>\n",
       "      <td>-31.814581</td>\n",
       "      <td>Alis_Vineyard</td>\n",
       "      <td>NaN</td>\n",
       "      <td>NaN</td>\n",
       "      <td>0</td>\n",
       "      <td>NaN</td>\n",
       "      <td>NaN</td>\n",
       "      <td>NaN</td>\n",
       "      <td>NaN</td>\n",
       "      <td>NaN</td>\n",
       "      <td>NaN</td>\n",
       "      <td>NaN</td>\n",
       "      <td>NaN</td>\n",
       "      <td>0</td>\n",
       "      <td>Ali's Vineyard</td>\n",
       "      <td>Ali's Vineyard</td>\n",
       "      <td>116.0182529749383 , -31.81458084078105</td>\n",
       "    </tr>\n",
       "    <tr>\n",
       "      <th>4</th>\n",
       "      <td>palm_tree</td>\n",
       "      <td>116.018209</td>\n",
       "      <td>-31.814622</td>\n",
       "      <td>Alis_Vineyard</td>\n",
       "      <td>NaN</td>\n",
       "      <td>NaN</td>\n",
       "      <td>0</td>\n",
       "      <td>NaN</td>\n",
       "      <td>NaN</td>\n",
       "      <td>NaN</td>\n",
       "      <td>NaN</td>\n",
       "      <td>NaN</td>\n",
       "      <td>NaN</td>\n",
       "      <td>NaN</td>\n",
       "      <td>NaN</td>\n",
       "      <td>0</td>\n",
       "      <td>Ali's Vineyard</td>\n",
       "      <td>Ali's Vineyard</td>\n",
       "      <td>116.0182086643162 , -31.81462157655873</td>\n",
       "    </tr>\n",
       "    <tr>\n",
       "      <th>...</th>\n",
       "      <td>...</td>\n",
       "      <td>...</td>\n",
       "      <td>...</td>\n",
       "      <td>...</td>\n",
       "      <td>...</td>\n",
       "      <td>...</td>\n",
       "      <td>...</td>\n",
       "      <td>...</td>\n",
       "      <td>...</td>\n",
       "      <td>...</td>\n",
       "      <td>...</td>\n",
       "      <td>...</td>\n",
       "      <td>...</td>\n",
       "      <td>...</td>\n",
       "      <td>...</td>\n",
       "      <td>...</td>\n",
       "      <td>...</td>\n",
       "      <td>...</td>\n",
       "      <td>...</td>\n",
       "    </tr>\n",
       "    <tr>\n",
       "      <th>141</th>\n",
       "      <td>picnic_table</td>\n",
       "      <td>115.990902</td>\n",
       "      <td>-31.851874</td>\n",
       "      <td>Lancaster_Wines</td>\n",
       "      <td>NaN</td>\n",
       "      <td>NaN</td>\n",
       "      <td>0</td>\n",
       "      <td>NaN</td>\n",
       "      <td>NaN</td>\n",
       "      <td>NaN</td>\n",
       "      <td>NaN</td>\n",
       "      <td>NaN</td>\n",
       "      <td>NaN</td>\n",
       "      <td>NaN</td>\n",
       "      <td>NaN</td>\n",
       "      <td>5</td>\n",
       "      <td>Lancaster Wines</td>\n",
       "      <td>Lancaster Wines</td>\n",
       "      <td>115.990901684718 , -31.85187442908764</td>\n",
       "    </tr>\n",
       "    <tr>\n",
       "      <th>142</th>\n",
       "      <td>picnic_table</td>\n",
       "      <td>115.990921</td>\n",
       "      <td>-31.851803</td>\n",
       "      <td>Lancaster_Wines</td>\n",
       "      <td>NaN</td>\n",
       "      <td>NaN</td>\n",
       "      <td>0</td>\n",
       "      <td>NaN</td>\n",
       "      <td>NaN</td>\n",
       "      <td>NaN</td>\n",
       "      <td>NaN</td>\n",
       "      <td>NaN</td>\n",
       "      <td>NaN</td>\n",
       "      <td>NaN</td>\n",
       "      <td>NaN</td>\n",
       "      <td>5</td>\n",
       "      <td>Lancaster Wines</td>\n",
       "      <td>Lancaster Wines</td>\n",
       "      <td>115.9909205172935 , -31.8518030858586</td>\n",
       "    </tr>\n",
       "    <tr>\n",
       "      <th>143</th>\n",
       "      <td>picnic_table</td>\n",
       "      <td>115.990867</td>\n",
       "      <td>-31.851802</td>\n",
       "      <td>Lancaster_Wines</td>\n",
       "      <td>NaN</td>\n",
       "      <td>NaN</td>\n",
       "      <td>0</td>\n",
       "      <td>NaN</td>\n",
       "      <td>NaN</td>\n",
       "      <td>NaN</td>\n",
       "      <td>NaN</td>\n",
       "      <td>NaN</td>\n",
       "      <td>NaN</td>\n",
       "      <td>NaN</td>\n",
       "      <td>NaN</td>\n",
       "      <td>5</td>\n",
       "      <td>Lancaster Wines</td>\n",
       "      <td>Lancaster Wines</td>\n",
       "      <td>115.9908668295001 , -31.8518024058948</td>\n",
       "    </tr>\n",
       "    <tr>\n",
       "      <th>144</th>\n",
       "      <td>picnic_table</td>\n",
       "      <td>115.990801</td>\n",
       "      <td>-31.851801</td>\n",
       "      <td>Lancaster_Wines</td>\n",
       "      <td>NaN</td>\n",
       "      <td>NaN</td>\n",
       "      <td>0</td>\n",
       "      <td>NaN</td>\n",
       "      <td>NaN</td>\n",
       "      <td>NaN</td>\n",
       "      <td>NaN</td>\n",
       "      <td>NaN</td>\n",
       "      <td>NaN</td>\n",
       "      <td>NaN</td>\n",
       "      <td>NaN</td>\n",
       "      <td>5</td>\n",
       "      <td>Lancaster Wines</td>\n",
       "      <td>Lancaster Wines</td>\n",
       "      <td>115.9908006953241 , -31.85180059356636</td>\n",
       "    </tr>\n",
       "    <tr>\n",
       "      <th>145</th>\n",
       "      <td>picnic_table</td>\n",
       "      <td>115.990753</td>\n",
       "      <td>-31.851802</td>\n",
       "      <td>Lancaster_Wines</td>\n",
       "      <td>NaN</td>\n",
       "      <td>NaN</td>\n",
       "      <td>0</td>\n",
       "      <td>NaN</td>\n",
       "      <td>NaN</td>\n",
       "      <td>NaN</td>\n",
       "      <td>NaN</td>\n",
       "      <td>NaN</td>\n",
       "      <td>NaN</td>\n",
       "      <td>NaN</td>\n",
       "      <td>NaN</td>\n",
       "      <td>5</td>\n",
       "      <td>Lancaster Wines</td>\n",
       "      <td>Lancaster Wines</td>\n",
       "      <td>115.9907526922321 , -31.85180195605045</td>\n",
       "    </tr>\n",
       "  </tbody>\n",
       "</table>\n",
       "<p>146 rows × 19 columns</p>\n",
       "</div>"
      ],
      "text/plain": [
       "           object    latitude  longitude    true_location contents color  \\\n",
       "0       palm_tree  116.018337 -31.814452    Alis_Vineyard      NaN   NaN   \n",
       "1       palm_tree  116.018326 -31.814519    Alis_Vineyard      NaN   NaN   \n",
       "2       palm_tree  116.018316 -31.814572    Alis_Vineyard      NaN   NaN   \n",
       "3       palm_tree  116.018253 -31.814581    Alis_Vineyard      NaN   NaN   \n",
       "4       palm_tree  116.018209 -31.814622    Alis_Vineyard      NaN   NaN   \n",
       "..            ...         ...        ...              ...      ...   ...   \n",
       "141  picnic_table  115.990902 -31.851874  Lancaster_Wines      NaN   NaN   \n",
       "142  picnic_table  115.990921 -31.851803  Lancaster_Wines      NaN   NaN   \n",
       "143  picnic_table  115.990867 -31.851802  Lancaster_Wines      NaN   NaN   \n",
       "144  picnic_table  115.990801 -31.851801  Lancaster_Wines      NaN   NaN   \n",
       "145  picnic_table  115.990753 -31.851802  Lancaster_Wines      NaN   NaN   \n",
       "\n",
       "     size type surface roof species material style length shape  cluster  \\\n",
       "0       0  NaN     NaN  NaN     NaN      NaN   NaN    NaN   NaN        0   \n",
       "1       0  NaN     NaN  NaN     NaN      NaN   NaN    NaN   NaN        0   \n",
       "2       0  NaN     NaN  NaN     NaN      NaN   NaN    NaN   NaN        0   \n",
       "3       0  NaN     NaN  NaN     NaN      NaN   NaN    NaN   NaN        0   \n",
       "4       0  NaN     NaN  NaN     NaN      NaN   NaN    NaN   NaN        0   \n",
       "..    ...  ...     ...  ...     ...      ...   ...    ...   ...      ...   \n",
       "141     0  NaN     NaN  NaN     NaN      NaN   NaN    NaN   NaN        5   \n",
       "142     0  NaN     NaN  NaN     NaN      NaN   NaN    NaN   NaN        5   \n",
       "143     0  NaN     NaN  NaN     NaN      NaN   NaN    NaN   NaN        5   \n",
       "144     0  NaN     NaN  NaN     NaN      NaN   NaN    NaN   NaN        5   \n",
       "145     0  NaN     NaN  NaN     NaN      NaN   NaN    NaN   NaN        5   \n",
       "\n",
       "    predicted_location_kmeans predicted_location_dbscan  \\\n",
       "0              Ali's Vineyard            Ali's Vineyard   \n",
       "1              Ali's Vineyard            Ali's Vineyard   \n",
       "2              Ali's Vineyard            Ali's Vineyard   \n",
       "3              Ali's Vineyard            Ali's Vineyard   \n",
       "4              Ali's Vineyard            Ali's Vineyard   \n",
       "..                        ...                       ...   \n",
       "141           Lancaster Wines           Lancaster Wines   \n",
       "142           Lancaster Wines           Lancaster Wines   \n",
       "143           Lancaster Wines           Lancaster Wines   \n",
       "144           Lancaster Wines           Lancaster Wines   \n",
       "145           Lancaster Wines           Lancaster Wines   \n",
       "\n",
       "                                coordinates  \n",
       "0    116.0183374663027 , -31.81445187554597  \n",
       "1    116.0183259785979 , -31.81451940926452  \n",
       "2     116.0183161354075 , -31.8145718117269  \n",
       "3    116.0182529749383 , -31.81458084078105  \n",
       "4    116.0182086643162 , -31.81462157655873  \n",
       "..                                      ...  \n",
       "141   115.990901684718 , -31.85187442908764  \n",
       "142   115.9909205172935 , -31.8518030858586  \n",
       "143   115.9908668295001 , -31.8518024058948  \n",
       "144  115.9908006953241 , -31.85180059356636  \n",
       "145  115.9907526922321 , -31.85180195605045  \n",
       "\n",
       "[146 rows x 19 columns]"
      ]
     },
     "execution_count": 50,
     "metadata": {},
     "output_type": "execute_result"
    }
   ],
   "source": [
    "obj_df"
   ]
  },
  {
   "cell_type": "code",
   "execution_count": 19,
   "id": "0f4f3a3c",
   "metadata": {},
   "outputs": [],
   "source": [
    "import geopandas"
   ]
  },
  {
   "cell_type": "code",
   "execution_count": 95,
   "id": "cca1ce97",
   "metadata": {},
   "outputs": [],
   "source": [
    "gdf = geopandas.GeoDataFrame(\n",
    "    obj_df, geometry=geopandas.points_from_xy(obj_df.latitude, obj_df.longitude), crs=\"EPSG:4326\"\n",
    ")\n",
    "\n",
    "gdf_locs = geopandas.GeoDataFrame(\n",
    "    osm_df, geometry=geopandas.points_from_xy(osm_df.latitude, osm_df.longitude), crs=\"EPSG:4326\"\n",
    ")\n",
    "geo_df = gdf\n",
    "\n",
    "geo_locs = gdf_locs"
   ]
  },
  {
   "cell_type": "markdown",
   "id": "01ef4bf7",
   "metadata": {},
   "source": [
    "# Visualizations"
   ]
  },
  {
   "cell_type": "markdown",
   "id": "5c0ffbb1",
   "metadata": {},
   "source": [
    "## Plot the Locations"
   ]
  },
  {
   "cell_type": "code",
   "execution_count": 86,
   "id": "b490d35e",
   "metadata": {},
   "outputs": [
    {
     "data": {
      "application/vnd.plotly.v1+json": {
       "config": {
        "plotlyServerURL": "https://plot.ly"
       },
       "data": [
        {
         "hovertemplate": "<b>%{hovertext}</b><br><br>lat=%{lat}<br>lon=%{lon}<extra></extra>",
         "hovertext": [
          "Sandalford Winery",
          "Nikola Estate",
          "Edgecombe Brothers",
          "Little River Winery and Café",
          "Black Swan Winery and Restaurant",
          "Lancaster Wines",
          "Mandoon Estate",
          "Mandoon Vineyard",
          "Oakover Grounds",
          "Henley Park Winery",
          "Upper Reach Winery",
          "Mann Winery",
          "Harris Organic Wines and Spirits",
          "John Kosovich Wines",
          "Twin Hill Wines",
          "Olive Farm Wines",
          "Ali's Vineyard",
          "Talijancich",
          "Tyler's Vineyard",
          "Fig Tree Estate Winery",
          "Lamont's Winery",
          "Faber Vineyard",
          "Swan Valley Wines",
          "Windy Creek Estate",
          "Holy Mary Cellars",
          "Jarrah Ridge Wines",
          "Katgully Wines Cellar Door",
          "Sittella",
          "Ugly Duckling Wines",
          "Heafod Glen Winery",
          "Ambrook Wines"
         ],
         "lat": [
          -31.868701,
          -31.854112,
          -31.795187,
          -31.824124,
          -31.823404,
          -31.85226,
          -31.868266,
          -31.867594,
          -31.84508,
          -31.797776,
          -31.795033,
          -31.793688,
          -31.794595,
          -31.795346,
          -31.796729,
          -31.811995,
          -31.814194,
          -31.818507,
          -31.812921,
          -31.804387,
          -31.80323,
          -31.796771,
          -31.796915,
          -31.830487,
          -31.835658,
          -31.836499,
          -31.835449,
          -31.830083,
          -31.830502,
          -31.822945,
          -31.871998
         ],
         "legendgroup": "",
         "lon": [
          115.992759,
          115.997995,
          115.998571,
          116.000888,
          116.00085,
          115.988887,
          115.994991,
          115.995494,
          116.007327,
          116.001641,
          116.008634,
          116.012546,
          116.02083,
          116.02076,
          116.020781,
          116.022232,
          116.01822,
          116.020341,
          116.040805,
          116.04003,
          116.037443,
          116.045655,
          116.048836,
          116.03056,
          116.021676,
          116.015532,
          116.021235,
          116.006851,
          115.997425,
          115.996817,
          115.981779
         ],
         "marker": {
          "color": "#636efa"
         },
         "mode": "markers",
         "name": "",
         "showlegend": false,
         "subplot": "mapbox",
         "type": "scattermapbox"
        }
       ],
       "layout": {
        "legend": {
         "tracegroupgap": 0
        },
        "mapbox": {
         "center": {
          "lat": -31.823368903225806,
          "lon": 116.01317390322583
         },
         "domain": {
          "x": [
           0,
           1
          ],
          "y": [
           0,
           1
          ]
         },
         "style": "open-street-map",
         "zoom": 8
        },
        "margin": {
         "b": 0,
         "l": 0,
         "r": 0,
         "t": 0
        },
        "template": {
         "data": {
          "bar": [
           {
            "error_x": {
             "color": "#2a3f5f"
            },
            "error_y": {
             "color": "#2a3f5f"
            },
            "marker": {
             "line": {
              "color": "#E5ECF6",
              "width": 0.5
             },
             "pattern": {
              "fillmode": "overlay",
              "size": 10,
              "solidity": 0.2
             }
            },
            "type": "bar"
           }
          ],
          "barpolar": [
           {
            "marker": {
             "line": {
              "color": "#E5ECF6",
              "width": 0.5
             },
             "pattern": {
              "fillmode": "overlay",
              "size": 10,
              "solidity": 0.2
             }
            },
            "type": "barpolar"
           }
          ],
          "carpet": [
           {
            "aaxis": {
             "endlinecolor": "#2a3f5f",
             "gridcolor": "white",
             "linecolor": "white",
             "minorgridcolor": "white",
             "startlinecolor": "#2a3f5f"
            },
            "baxis": {
             "endlinecolor": "#2a3f5f",
             "gridcolor": "white",
             "linecolor": "white",
             "minorgridcolor": "white",
             "startlinecolor": "#2a3f5f"
            },
            "type": "carpet"
           }
          ],
          "choropleth": [
           {
            "colorbar": {
             "outlinewidth": 0,
             "ticks": ""
            },
            "type": "choropleth"
           }
          ],
          "contour": [
           {
            "colorbar": {
             "outlinewidth": 0,
             "ticks": ""
            },
            "colorscale": [
             [
              0,
              "#0d0887"
             ],
             [
              0.1111111111111111,
              "#46039f"
             ],
             [
              0.2222222222222222,
              "#7201a8"
             ],
             [
              0.3333333333333333,
              "#9c179e"
             ],
             [
              0.4444444444444444,
              "#bd3786"
             ],
             [
              0.5555555555555556,
              "#d8576b"
             ],
             [
              0.6666666666666666,
              "#ed7953"
             ],
             [
              0.7777777777777778,
              "#fb9f3a"
             ],
             [
              0.8888888888888888,
              "#fdca26"
             ],
             [
              1,
              "#f0f921"
             ]
            ],
            "type": "contour"
           }
          ],
          "contourcarpet": [
           {
            "colorbar": {
             "outlinewidth": 0,
             "ticks": ""
            },
            "type": "contourcarpet"
           }
          ],
          "heatmap": [
           {
            "colorbar": {
             "outlinewidth": 0,
             "ticks": ""
            },
            "colorscale": [
             [
              0,
              "#0d0887"
             ],
             [
              0.1111111111111111,
              "#46039f"
             ],
             [
              0.2222222222222222,
              "#7201a8"
             ],
             [
              0.3333333333333333,
              "#9c179e"
             ],
             [
              0.4444444444444444,
              "#bd3786"
             ],
             [
              0.5555555555555556,
              "#d8576b"
             ],
             [
              0.6666666666666666,
              "#ed7953"
             ],
             [
              0.7777777777777778,
              "#fb9f3a"
             ],
             [
              0.8888888888888888,
              "#fdca26"
             ],
             [
              1,
              "#f0f921"
             ]
            ],
            "type": "heatmap"
           }
          ],
          "heatmapgl": [
           {
            "colorbar": {
             "outlinewidth": 0,
             "ticks": ""
            },
            "colorscale": [
             [
              0,
              "#0d0887"
             ],
             [
              0.1111111111111111,
              "#46039f"
             ],
             [
              0.2222222222222222,
              "#7201a8"
             ],
             [
              0.3333333333333333,
              "#9c179e"
             ],
             [
              0.4444444444444444,
              "#bd3786"
             ],
             [
              0.5555555555555556,
              "#d8576b"
             ],
             [
              0.6666666666666666,
              "#ed7953"
             ],
             [
              0.7777777777777778,
              "#fb9f3a"
             ],
             [
              0.8888888888888888,
              "#fdca26"
             ],
             [
              1,
              "#f0f921"
             ]
            ],
            "type": "heatmapgl"
           }
          ],
          "histogram": [
           {
            "marker": {
             "pattern": {
              "fillmode": "overlay",
              "size": 10,
              "solidity": 0.2
             }
            },
            "type": "histogram"
           }
          ],
          "histogram2d": [
           {
            "colorbar": {
             "outlinewidth": 0,
             "ticks": ""
            },
            "colorscale": [
             [
              0,
              "#0d0887"
             ],
             [
              0.1111111111111111,
              "#46039f"
             ],
             [
              0.2222222222222222,
              "#7201a8"
             ],
             [
              0.3333333333333333,
              "#9c179e"
             ],
             [
              0.4444444444444444,
              "#bd3786"
             ],
             [
              0.5555555555555556,
              "#d8576b"
             ],
             [
              0.6666666666666666,
              "#ed7953"
             ],
             [
              0.7777777777777778,
              "#fb9f3a"
             ],
             [
              0.8888888888888888,
              "#fdca26"
             ],
             [
              1,
              "#f0f921"
             ]
            ],
            "type": "histogram2d"
           }
          ],
          "histogram2dcontour": [
           {
            "colorbar": {
             "outlinewidth": 0,
             "ticks": ""
            },
            "colorscale": [
             [
              0,
              "#0d0887"
             ],
             [
              0.1111111111111111,
              "#46039f"
             ],
             [
              0.2222222222222222,
              "#7201a8"
             ],
             [
              0.3333333333333333,
              "#9c179e"
             ],
             [
              0.4444444444444444,
              "#bd3786"
             ],
             [
              0.5555555555555556,
              "#d8576b"
             ],
             [
              0.6666666666666666,
              "#ed7953"
             ],
             [
              0.7777777777777778,
              "#fb9f3a"
             ],
             [
              0.8888888888888888,
              "#fdca26"
             ],
             [
              1,
              "#f0f921"
             ]
            ],
            "type": "histogram2dcontour"
           }
          ],
          "mesh3d": [
           {
            "colorbar": {
             "outlinewidth": 0,
             "ticks": ""
            },
            "type": "mesh3d"
           }
          ],
          "parcoords": [
           {
            "line": {
             "colorbar": {
              "outlinewidth": 0,
              "ticks": ""
             }
            },
            "type": "parcoords"
           }
          ],
          "pie": [
           {
            "automargin": true,
            "type": "pie"
           }
          ],
          "scatter": [
           {
            "fillpattern": {
             "fillmode": "overlay",
             "size": 10,
             "solidity": 0.2
            },
            "type": "scatter"
           }
          ],
          "scatter3d": [
           {
            "line": {
             "colorbar": {
              "outlinewidth": 0,
              "ticks": ""
             }
            },
            "marker": {
             "colorbar": {
              "outlinewidth": 0,
              "ticks": ""
             }
            },
            "type": "scatter3d"
           }
          ],
          "scattercarpet": [
           {
            "marker": {
             "colorbar": {
              "outlinewidth": 0,
              "ticks": ""
             }
            },
            "type": "scattercarpet"
           }
          ],
          "scattergeo": [
           {
            "marker": {
             "colorbar": {
              "outlinewidth": 0,
              "ticks": ""
             }
            },
            "type": "scattergeo"
           }
          ],
          "scattergl": [
           {
            "marker": {
             "colorbar": {
              "outlinewidth": 0,
              "ticks": ""
             }
            },
            "type": "scattergl"
           }
          ],
          "scattermapbox": [
           {
            "marker": {
             "colorbar": {
              "outlinewidth": 0,
              "ticks": ""
             }
            },
            "type": "scattermapbox"
           }
          ],
          "scatterpolar": [
           {
            "marker": {
             "colorbar": {
              "outlinewidth": 0,
              "ticks": ""
             }
            },
            "type": "scatterpolar"
           }
          ],
          "scatterpolargl": [
           {
            "marker": {
             "colorbar": {
              "outlinewidth": 0,
              "ticks": ""
             }
            },
            "type": "scatterpolargl"
           }
          ],
          "scatterternary": [
           {
            "marker": {
             "colorbar": {
              "outlinewidth": 0,
              "ticks": ""
             }
            },
            "type": "scatterternary"
           }
          ],
          "surface": [
           {
            "colorbar": {
             "outlinewidth": 0,
             "ticks": ""
            },
            "colorscale": [
             [
              0,
              "#0d0887"
             ],
             [
              0.1111111111111111,
              "#46039f"
             ],
             [
              0.2222222222222222,
              "#7201a8"
             ],
             [
              0.3333333333333333,
              "#9c179e"
             ],
             [
              0.4444444444444444,
              "#bd3786"
             ],
             [
              0.5555555555555556,
              "#d8576b"
             ],
             [
              0.6666666666666666,
              "#ed7953"
             ],
             [
              0.7777777777777778,
              "#fb9f3a"
             ],
             [
              0.8888888888888888,
              "#fdca26"
             ],
             [
              1,
              "#f0f921"
             ]
            ],
            "type": "surface"
           }
          ],
          "table": [
           {
            "cells": {
             "fill": {
              "color": "#EBF0F8"
             },
             "line": {
              "color": "white"
             }
            },
            "header": {
             "fill": {
              "color": "#C8D4E3"
             },
             "line": {
              "color": "white"
             }
            },
            "type": "table"
           }
          ]
         },
         "layout": {
          "annotationdefaults": {
           "arrowcolor": "#2a3f5f",
           "arrowhead": 0,
           "arrowwidth": 1
          },
          "autotypenumbers": "strict",
          "coloraxis": {
           "colorbar": {
            "outlinewidth": 0,
            "ticks": ""
           }
          },
          "colorscale": {
           "diverging": [
            [
             0,
             "#8e0152"
            ],
            [
             0.1,
             "#c51b7d"
            ],
            [
             0.2,
             "#de77ae"
            ],
            [
             0.3,
             "#f1b6da"
            ],
            [
             0.4,
             "#fde0ef"
            ],
            [
             0.5,
             "#f7f7f7"
            ],
            [
             0.6,
             "#e6f5d0"
            ],
            [
             0.7,
             "#b8e186"
            ],
            [
             0.8,
             "#7fbc41"
            ],
            [
             0.9,
             "#4d9221"
            ],
            [
             1,
             "#276419"
            ]
           ],
           "sequential": [
            [
             0,
             "#0d0887"
            ],
            [
             0.1111111111111111,
             "#46039f"
            ],
            [
             0.2222222222222222,
             "#7201a8"
            ],
            [
             0.3333333333333333,
             "#9c179e"
            ],
            [
             0.4444444444444444,
             "#bd3786"
            ],
            [
             0.5555555555555556,
             "#d8576b"
            ],
            [
             0.6666666666666666,
             "#ed7953"
            ],
            [
             0.7777777777777778,
             "#fb9f3a"
            ],
            [
             0.8888888888888888,
             "#fdca26"
            ],
            [
             1,
             "#f0f921"
            ]
           ],
           "sequentialminus": [
            [
             0,
             "#0d0887"
            ],
            [
             0.1111111111111111,
             "#46039f"
            ],
            [
             0.2222222222222222,
             "#7201a8"
            ],
            [
             0.3333333333333333,
             "#9c179e"
            ],
            [
             0.4444444444444444,
             "#bd3786"
            ],
            [
             0.5555555555555556,
             "#d8576b"
            ],
            [
             0.6666666666666666,
             "#ed7953"
            ],
            [
             0.7777777777777778,
             "#fb9f3a"
            ],
            [
             0.8888888888888888,
             "#fdca26"
            ],
            [
             1,
             "#f0f921"
            ]
           ]
          },
          "colorway": [
           "#636efa",
           "#EF553B",
           "#00cc96",
           "#ab63fa",
           "#FFA15A",
           "#19d3f3",
           "#FF6692",
           "#B6E880",
           "#FF97FF",
           "#FECB52"
          ],
          "font": {
           "color": "#2a3f5f"
          },
          "geo": {
           "bgcolor": "white",
           "lakecolor": "white",
           "landcolor": "#E5ECF6",
           "showlakes": true,
           "showland": true,
           "subunitcolor": "white"
          },
          "hoverlabel": {
           "align": "left"
          },
          "hovermode": "closest",
          "mapbox": {
           "style": "light"
          },
          "paper_bgcolor": "white",
          "plot_bgcolor": "#E5ECF6",
          "polar": {
           "angularaxis": {
            "gridcolor": "white",
            "linecolor": "white",
            "ticks": ""
           },
           "bgcolor": "#E5ECF6",
           "radialaxis": {
            "gridcolor": "white",
            "linecolor": "white",
            "ticks": ""
           }
          },
          "scene": {
           "xaxis": {
            "backgroundcolor": "#E5ECF6",
            "gridcolor": "white",
            "gridwidth": 2,
            "linecolor": "white",
            "showbackground": true,
            "ticks": "",
            "zerolinecolor": "white"
           },
           "yaxis": {
            "backgroundcolor": "#E5ECF6",
            "gridcolor": "white",
            "gridwidth": 2,
            "linecolor": "white",
            "showbackground": true,
            "ticks": "",
            "zerolinecolor": "white"
           },
           "zaxis": {
            "backgroundcolor": "#E5ECF6",
            "gridcolor": "white",
            "gridwidth": 2,
            "linecolor": "white",
            "showbackground": true,
            "ticks": "",
            "zerolinecolor": "white"
           }
          },
          "shapedefaults": {
           "line": {
            "color": "#2a3f5f"
           }
          },
          "ternary": {
           "aaxis": {
            "gridcolor": "white",
            "linecolor": "white",
            "ticks": ""
           },
           "baxis": {
            "gridcolor": "white",
            "linecolor": "white",
            "ticks": ""
           },
           "bgcolor": "#E5ECF6",
           "caxis": {
            "gridcolor": "white",
            "linecolor": "white",
            "ticks": ""
           }
          },
          "title": {
           "x": 0.05
          },
          "xaxis": {
           "automargin": true,
           "gridcolor": "white",
           "linecolor": "white",
           "ticks": "",
           "title": {
            "standoff": 15
           },
           "zerolinecolor": "white",
           "zerolinewidth": 2
          },
          "yaxis": {
           "automargin": true,
           "gridcolor": "white",
           "linecolor": "white",
           "ticks": "",
           "title": {
            "standoff": 15
           },
           "zerolinecolor": "white",
           "zerolinewidth": 2
          }
         }
        }
       }
      },
      "text/html": [
       "<div>                            <div id=\"ea8ed7be-8bdf-4ba1-9a02-876104fe0878\" class=\"plotly-graph-div\" style=\"height:525px; width:100%;\"></div>            <script type=\"text/javascript\">                require([\"plotly\"], function(Plotly) {                    window.PLOTLYENV=window.PLOTLYENV || {};                                    if (document.getElementById(\"ea8ed7be-8bdf-4ba1-9a02-876104fe0878\")) {                    Plotly.newPlot(                        \"ea8ed7be-8bdf-4ba1-9a02-876104fe0878\",                        [{\"hovertemplate\":\"<b>%{hovertext}</b><br><br>lat=%{lat}<br>lon=%{lon}<extra></extra>\",\"hovertext\":[\"Sandalford Winery\",\"Nikola Estate\",\"Edgecombe Brothers\",\"Little River Winery and Caf\\u00e9\",\"Black Swan Winery and Restaurant\",\"Lancaster Wines\",\"Mandoon Estate\",\"Mandoon Vineyard\",\"Oakover Grounds\",\"Henley Park Winery\",\"Upper Reach Winery\",\"Mann Winery\",\"Harris Organic Wines and Spirits\",\"John Kosovich Wines\",\"Twin Hill Wines\",\"Olive Farm Wines\",\"Ali's Vineyard\",\"Talijancich\",\"Tyler's Vineyard\",\"Fig Tree Estate Winery\",\"Lamont's Winery\",\"Faber Vineyard\",\"Swan Valley Wines\",\"Windy Creek Estate\",\"Holy Mary Cellars\",\"Jarrah Ridge Wines\",\"Katgully Wines Cellar Door\",\"Sittella\",\"Ugly Duckling Wines\",\"Heafod Glen Winery\",\"Ambrook Wines\"],\"lat\":[-31.868701,-31.854112,-31.795187,-31.824124,-31.823404,-31.85226,-31.868266,-31.867594,-31.84508,-31.797776,-31.795033,-31.793688,-31.794595,-31.795346,-31.796729,-31.811995,-31.814194,-31.818507,-31.812921,-31.804387,-31.80323,-31.796771,-31.796915,-31.830487,-31.835658,-31.836499,-31.835449,-31.830083,-31.830502,-31.822945,-31.871998],\"legendgroup\":\"\",\"lon\":[115.992759,115.997995,115.998571,116.000888,116.00085,115.988887,115.994991,115.995494,116.007327,116.001641,116.008634,116.012546,116.02083,116.02076,116.020781,116.022232,116.01822,116.020341,116.040805,116.04003,116.037443,116.045655,116.048836,116.03056,116.021676,116.015532,116.021235,116.006851,115.997425,115.996817,115.981779],\"marker\":{\"color\":\"#636efa\"},\"mode\":\"markers\",\"name\":\"\",\"showlegend\":false,\"subplot\":\"mapbox\",\"type\":\"scattermapbox\"}],                        {\"template\":{\"data\":{\"histogram2dcontour\":[{\"type\":\"histogram2dcontour\",\"colorbar\":{\"outlinewidth\":0,\"ticks\":\"\"},\"colorscale\":[[0.0,\"#0d0887\"],[0.1111111111111111,\"#46039f\"],[0.2222222222222222,\"#7201a8\"],[0.3333333333333333,\"#9c179e\"],[0.4444444444444444,\"#bd3786\"],[0.5555555555555556,\"#d8576b\"],[0.6666666666666666,\"#ed7953\"],[0.7777777777777778,\"#fb9f3a\"],[0.8888888888888888,\"#fdca26\"],[1.0,\"#f0f921\"]]}],\"choropleth\":[{\"type\":\"choropleth\",\"colorbar\":{\"outlinewidth\":0,\"ticks\":\"\"}}],\"histogram2d\":[{\"type\":\"histogram2d\",\"colorbar\":{\"outlinewidth\":0,\"ticks\":\"\"},\"colorscale\":[[0.0,\"#0d0887\"],[0.1111111111111111,\"#46039f\"],[0.2222222222222222,\"#7201a8\"],[0.3333333333333333,\"#9c179e\"],[0.4444444444444444,\"#bd3786\"],[0.5555555555555556,\"#d8576b\"],[0.6666666666666666,\"#ed7953\"],[0.7777777777777778,\"#fb9f3a\"],[0.8888888888888888,\"#fdca26\"],[1.0,\"#f0f921\"]]}],\"heatmap\":[{\"type\":\"heatmap\",\"colorbar\":{\"outlinewidth\":0,\"ticks\":\"\"},\"colorscale\":[[0.0,\"#0d0887\"],[0.1111111111111111,\"#46039f\"],[0.2222222222222222,\"#7201a8\"],[0.3333333333333333,\"#9c179e\"],[0.4444444444444444,\"#bd3786\"],[0.5555555555555556,\"#d8576b\"],[0.6666666666666666,\"#ed7953\"],[0.7777777777777778,\"#fb9f3a\"],[0.8888888888888888,\"#fdca26\"],[1.0,\"#f0f921\"]]}],\"heatmapgl\":[{\"type\":\"heatmapgl\",\"colorbar\":{\"outlinewidth\":0,\"ticks\":\"\"},\"colorscale\":[[0.0,\"#0d0887\"],[0.1111111111111111,\"#46039f\"],[0.2222222222222222,\"#7201a8\"],[0.3333333333333333,\"#9c179e\"],[0.4444444444444444,\"#bd3786\"],[0.5555555555555556,\"#d8576b\"],[0.6666666666666666,\"#ed7953\"],[0.7777777777777778,\"#fb9f3a\"],[0.8888888888888888,\"#fdca26\"],[1.0,\"#f0f921\"]]}],\"contourcarpet\":[{\"type\":\"contourcarpet\",\"colorbar\":{\"outlinewidth\":0,\"ticks\":\"\"}}],\"contour\":[{\"type\":\"contour\",\"colorbar\":{\"outlinewidth\":0,\"ticks\":\"\"},\"colorscale\":[[0.0,\"#0d0887\"],[0.1111111111111111,\"#46039f\"],[0.2222222222222222,\"#7201a8\"],[0.3333333333333333,\"#9c179e\"],[0.4444444444444444,\"#bd3786\"],[0.5555555555555556,\"#d8576b\"],[0.6666666666666666,\"#ed7953\"],[0.7777777777777778,\"#fb9f3a\"],[0.8888888888888888,\"#fdca26\"],[1.0,\"#f0f921\"]]}],\"surface\":[{\"type\":\"surface\",\"colorbar\":{\"outlinewidth\":0,\"ticks\":\"\"},\"colorscale\":[[0.0,\"#0d0887\"],[0.1111111111111111,\"#46039f\"],[0.2222222222222222,\"#7201a8\"],[0.3333333333333333,\"#9c179e\"],[0.4444444444444444,\"#bd3786\"],[0.5555555555555556,\"#d8576b\"],[0.6666666666666666,\"#ed7953\"],[0.7777777777777778,\"#fb9f3a\"],[0.8888888888888888,\"#fdca26\"],[1.0,\"#f0f921\"]]}],\"mesh3d\":[{\"type\":\"mesh3d\",\"colorbar\":{\"outlinewidth\":0,\"ticks\":\"\"}}],\"scatter\":[{\"fillpattern\":{\"fillmode\":\"overlay\",\"size\":10,\"solidity\":0.2},\"type\":\"scatter\"}],\"parcoords\":[{\"type\":\"parcoords\",\"line\":{\"colorbar\":{\"outlinewidth\":0,\"ticks\":\"\"}}}],\"scatterpolargl\":[{\"type\":\"scatterpolargl\",\"marker\":{\"colorbar\":{\"outlinewidth\":0,\"ticks\":\"\"}}}],\"bar\":[{\"error_x\":{\"color\":\"#2a3f5f\"},\"error_y\":{\"color\":\"#2a3f5f\"},\"marker\":{\"line\":{\"color\":\"#E5ECF6\",\"width\":0.5},\"pattern\":{\"fillmode\":\"overlay\",\"size\":10,\"solidity\":0.2}},\"type\":\"bar\"}],\"scattergeo\":[{\"type\":\"scattergeo\",\"marker\":{\"colorbar\":{\"outlinewidth\":0,\"ticks\":\"\"}}}],\"scatterpolar\":[{\"type\":\"scatterpolar\",\"marker\":{\"colorbar\":{\"outlinewidth\":0,\"ticks\":\"\"}}}],\"histogram\":[{\"marker\":{\"pattern\":{\"fillmode\":\"overlay\",\"size\":10,\"solidity\":0.2}},\"type\":\"histogram\"}],\"scattergl\":[{\"type\":\"scattergl\",\"marker\":{\"colorbar\":{\"outlinewidth\":0,\"ticks\":\"\"}}}],\"scatter3d\":[{\"type\":\"scatter3d\",\"line\":{\"colorbar\":{\"outlinewidth\":0,\"ticks\":\"\"}},\"marker\":{\"colorbar\":{\"outlinewidth\":0,\"ticks\":\"\"}}}],\"scattermapbox\":[{\"type\":\"scattermapbox\",\"marker\":{\"colorbar\":{\"outlinewidth\":0,\"ticks\":\"\"}}}],\"scatterternary\":[{\"type\":\"scatterternary\",\"marker\":{\"colorbar\":{\"outlinewidth\":0,\"ticks\":\"\"}}}],\"scattercarpet\":[{\"type\":\"scattercarpet\",\"marker\":{\"colorbar\":{\"outlinewidth\":0,\"ticks\":\"\"}}}],\"carpet\":[{\"aaxis\":{\"endlinecolor\":\"#2a3f5f\",\"gridcolor\":\"white\",\"linecolor\":\"white\",\"minorgridcolor\":\"white\",\"startlinecolor\":\"#2a3f5f\"},\"baxis\":{\"endlinecolor\":\"#2a3f5f\",\"gridcolor\":\"white\",\"linecolor\":\"white\",\"minorgridcolor\":\"white\",\"startlinecolor\":\"#2a3f5f\"},\"type\":\"carpet\"}],\"table\":[{\"cells\":{\"fill\":{\"color\":\"#EBF0F8\"},\"line\":{\"color\":\"white\"}},\"header\":{\"fill\":{\"color\":\"#C8D4E3\"},\"line\":{\"color\":\"white\"}},\"type\":\"table\"}],\"barpolar\":[{\"marker\":{\"line\":{\"color\":\"#E5ECF6\",\"width\":0.5},\"pattern\":{\"fillmode\":\"overlay\",\"size\":10,\"solidity\":0.2}},\"type\":\"barpolar\"}],\"pie\":[{\"automargin\":true,\"type\":\"pie\"}]},\"layout\":{\"autotypenumbers\":\"strict\",\"colorway\":[\"#636efa\",\"#EF553B\",\"#00cc96\",\"#ab63fa\",\"#FFA15A\",\"#19d3f3\",\"#FF6692\",\"#B6E880\",\"#FF97FF\",\"#FECB52\"],\"font\":{\"color\":\"#2a3f5f\"},\"hovermode\":\"closest\",\"hoverlabel\":{\"align\":\"left\"},\"paper_bgcolor\":\"white\",\"plot_bgcolor\":\"#E5ECF6\",\"polar\":{\"bgcolor\":\"#E5ECF6\",\"angularaxis\":{\"gridcolor\":\"white\",\"linecolor\":\"white\",\"ticks\":\"\"},\"radialaxis\":{\"gridcolor\":\"white\",\"linecolor\":\"white\",\"ticks\":\"\"}},\"ternary\":{\"bgcolor\":\"#E5ECF6\",\"aaxis\":{\"gridcolor\":\"white\",\"linecolor\":\"white\",\"ticks\":\"\"},\"baxis\":{\"gridcolor\":\"white\",\"linecolor\":\"white\",\"ticks\":\"\"},\"caxis\":{\"gridcolor\":\"white\",\"linecolor\":\"white\",\"ticks\":\"\"}},\"coloraxis\":{\"colorbar\":{\"outlinewidth\":0,\"ticks\":\"\"}},\"colorscale\":{\"sequential\":[[0.0,\"#0d0887\"],[0.1111111111111111,\"#46039f\"],[0.2222222222222222,\"#7201a8\"],[0.3333333333333333,\"#9c179e\"],[0.4444444444444444,\"#bd3786\"],[0.5555555555555556,\"#d8576b\"],[0.6666666666666666,\"#ed7953\"],[0.7777777777777778,\"#fb9f3a\"],[0.8888888888888888,\"#fdca26\"],[1.0,\"#f0f921\"]],\"sequentialminus\":[[0.0,\"#0d0887\"],[0.1111111111111111,\"#46039f\"],[0.2222222222222222,\"#7201a8\"],[0.3333333333333333,\"#9c179e\"],[0.4444444444444444,\"#bd3786\"],[0.5555555555555556,\"#d8576b\"],[0.6666666666666666,\"#ed7953\"],[0.7777777777777778,\"#fb9f3a\"],[0.8888888888888888,\"#fdca26\"],[1.0,\"#f0f921\"]],\"diverging\":[[0,\"#8e0152\"],[0.1,\"#c51b7d\"],[0.2,\"#de77ae\"],[0.3,\"#f1b6da\"],[0.4,\"#fde0ef\"],[0.5,\"#f7f7f7\"],[0.6,\"#e6f5d0\"],[0.7,\"#b8e186\"],[0.8,\"#7fbc41\"],[0.9,\"#4d9221\"],[1,\"#276419\"]]},\"xaxis\":{\"gridcolor\":\"white\",\"linecolor\":\"white\",\"ticks\":\"\",\"title\":{\"standoff\":15},\"zerolinecolor\":\"white\",\"automargin\":true,\"zerolinewidth\":2},\"yaxis\":{\"gridcolor\":\"white\",\"linecolor\":\"white\",\"ticks\":\"\",\"title\":{\"standoff\":15},\"zerolinecolor\":\"white\",\"automargin\":true,\"zerolinewidth\":2},\"scene\":{\"xaxis\":{\"backgroundcolor\":\"#E5ECF6\",\"gridcolor\":\"white\",\"linecolor\":\"white\",\"showbackground\":true,\"ticks\":\"\",\"zerolinecolor\":\"white\",\"gridwidth\":2},\"yaxis\":{\"backgroundcolor\":\"#E5ECF6\",\"gridcolor\":\"white\",\"linecolor\":\"white\",\"showbackground\":true,\"ticks\":\"\",\"zerolinecolor\":\"white\",\"gridwidth\":2},\"zaxis\":{\"backgroundcolor\":\"#E5ECF6\",\"gridcolor\":\"white\",\"linecolor\":\"white\",\"showbackground\":true,\"ticks\":\"\",\"zerolinecolor\":\"white\",\"gridwidth\":2}},\"shapedefaults\":{\"line\":{\"color\":\"#2a3f5f\"}},\"annotationdefaults\":{\"arrowcolor\":\"#2a3f5f\",\"arrowhead\":0,\"arrowwidth\":1},\"geo\":{\"bgcolor\":\"white\",\"landcolor\":\"#E5ECF6\",\"subunitcolor\":\"white\",\"showland\":true,\"showlakes\":true,\"lakecolor\":\"white\"},\"title\":{\"x\":0.05},\"mapbox\":{\"style\":\"light\"}}},\"mapbox\":{\"domain\":{\"x\":[0.0,1.0],\"y\":[0.0,1.0]},\"center\":{\"lat\":-31.823368903225806,\"lon\":116.01317390322583},\"zoom\":8,\"style\":\"open-street-map\"},\"legend\":{\"tracegroupgap\":0},\"margin\":{\"t\":0,\"r\":0,\"l\":0,\"b\":0}},                        {\"responsive\": true}                    ).then(function(){\n",
       "                            \n",
       "var gd = document.getElementById('ea8ed7be-8bdf-4ba1-9a02-876104fe0878');\n",
       "var x = new MutationObserver(function (mutations, observer) {{\n",
       "        var display = window.getComputedStyle(gd).display;\n",
       "        if (!display || display === 'none') {{\n",
       "            console.log([gd, 'removed!']);\n",
       "            Plotly.purge(gd);\n",
       "            observer.disconnect();\n",
       "        }}\n",
       "}});\n",
       "\n",
       "// Listen for the removal of the full notebook cells\n",
       "var notebookContainer = gd.closest('#notebook-container');\n",
       "if (notebookContainer) {{\n",
       "    x.observe(notebookContainer, {childList: true});\n",
       "}}\n",
       "\n",
       "// Listen for the clearing of the current output cell\n",
       "var outputEl = gd.closest('.output');\n",
       "if (outputEl) {{\n",
       "    x.observe(outputEl, {childList: true});\n",
       "}}\n",
       "\n",
       "                        })                };                });            </script>        </div>"
      ]
     },
     "metadata": {},
     "output_type": "display_data"
    }
   ],
   "source": [
    "fig = px.scatter_mapbox(geo_locs, \n",
    "                        lat = geo_locs.geometry.y,\n",
    "                        lon = geo_locs.geometry.x,\n",
    "                        hover_name=\"location\")\n",
    "\n",
    "fig.update_layout(\n",
    "    mapbox_style=\"open-street-map\")\n",
    "fig.update_layout(margin={\"r\":0,\"t\":0,\"l\":0,\"b\":0})\n",
    "fig.show()"
   ]
  },
  {
   "cell_type": "markdown",
   "id": "09a1c1db",
   "metadata": {},
   "source": [
    "## Plot just the Objects"
   ]
  },
  {
   "cell_type": "code",
   "execution_count": 87,
   "id": "f2eeac38",
   "metadata": {},
   "outputs": [
    {
     "data": {
      "application/vnd.plotly.v1+json": {
       "config": {
        "plotlyServerURL": "https://plot.ly"
       },
       "data": [
        {
         "hovertemplate": "<b>%{hovertext}</b><br><br>lat=%{lat}<br>lon=%{lon}<extra></extra>",
         "hovertext": [
          "palm_tree",
          "palm_tree",
          "palm_tree",
          "palm_tree",
          "palm_tree",
          "palm_tree",
          "palm_tree",
          "palm_tree",
          "palm_tree",
          "palm_tree",
          "palm_tree",
          "palm_tree",
          "pizza_oven",
          "air_conditioner",
          "building",
          "shed",
          "shed",
          "shed",
          "picnic_bench",
          "picnic_bench",
          "planter",
          "planter",
          "building",
          "parking_lot",
          "patio",
          "water_tank",
          "air_conitioner",
          "patio",
          "building",
          "shed",
          "building",
          "building",
          "vineyard",
          "vineyard",
          "vineyard",
          "building",
          "parking_lot",
          "retaining_wall",
          "retaining_wall",
          "sign",
          "sign",
          "sign",
          "tree",
          "tree",
          "tree",
          "tree",
          "tree",
          "tree",
          "parking_lot",
          "vineyard",
          "vineyard",
          "building",
          "shed",
          "solar_panel",
          "building",
          "parking_lot",
          "shed",
          "building",
          "swimming_pool",
          "courtyard",
          "vineyard",
          "vineyard",
          "generator",
          "parking_lot",
          "carport",
          "bicycle_rack",
          "shed",
          "sculpture",
          "patio",
          "patio",
          "shed",
          "picnic_table",
          "picnic_table",
          "picnic_umbrella",
          "picnic_umbrella",
          "picnic_umbrella",
          "picnic_umbrella",
          "picnic_table",
          "picnic_table",
          "shed",
          "shed",
          "shed",
          "tree",
          "tree",
          "tree",
          "tree",
          "tree",
          "tree",
          "tree",
          "building",
          "pond",
          "bridge",
          "island",
          "vineyard",
          "swimming_pool",
          "building",
          "building",
          "tennis_court",
          "swimming_pool",
          "shade_cloth",
          "sign",
          "warehouse",
          "vat",
          "vat",
          "vat",
          "vat",
          "building",
          "parking_lot",
          "solar_panels",
          "solar_panels",
          "building",
          "fence",
          "jetty",
          "picnic_table",
          "picnic_table",
          "tank",
          "tank",
          "shed",
          "shipping_container",
          "shipping_container",
          "shipping_container",
          "shipping_container",
          "vineyard",
          "vineyard",
          "river",
          "vineyard",
          "vineyard",
          "parking_lot",
          "shed",
          "sign",
          "table",
          "table",
          "table",
          "table",
          "wine_barrell",
          "counter",
          "shed",
          "fence",
          "sign",
          "driveway",
          "picnic_table",
          "picnic_table",
          "picnic_table",
          "picnic_table",
          "picnic_table",
          "picnic_table"
         ],
         "lat": [
          -31.81445187554597,
          -31.81451940926452,
          -31.8145718117269,
          -31.81458084078105,
          -31.81462157655873,
          -31.81454971676524,
          -31.81448193361258,
          -31.81444773977627,
          -31.8143890181285,
          -31.81439660859307,
          -31.81434027785148,
          -31.81429434468795,
          -31.81429169178455,
          -31.81420767463152,
          -31.81394919889622,
          -31.81439717390363,
          -31.81432230857389,
          -31.8135457777316,
          -31.82401586475119,
          -31.82402821801069,
          -31.82400450902502,
          -31.82400258090139,
          -31.82417864772208,
          -31.82406166208574,
          -31.82414265894136,
          -31.82427841722326,
          -31.82414274552135,
          -31.82416289887374,
          -31.82414373469494,
          -31.82414175485055,
          -31.82429678566091,
          -31.8238198185718,
          -31.82470742057825,
          -31.8242299537138,
          -31.82369416405801,
          -31.82347585518145,
          -31.82372524293678,
          -31.79711445941102,
          -31.79711822124566,
          -31.79711822124567,
          -31.79711445941102,
          -31.79692113693582,
          -31.79707299441964,
          -31.79707639334401,
          -31.79701796869119,
          -31.79702180433045,
          -31.79695848151606,
          -31.7969572497282,
          -31.79698640377645,
          -31.79698932185287,
          -31.7946673883335,
          -31.79676259008081,
          -31.79676332889907,
          -31.79669029290958,
          -31.79664133173589,
          -31.79691654618838,
          -31.79658001770868,
          -31.79630852369076,
          -31.79620849056571,
          -31.79646472091715,
          -31.83039735327537,
          -31.83060476817275,
          -31.83020873465989,
          -31.83033573653752,
          -31.83038472086931,
          -31.83023391039609,
          -31.83047573335856,
          -31.83050151773064,
          -31.83051242847542,
          -31.83042950292597,
          -31.83048831452484,
          -31.83039290156244,
          -31.83042013524614,
          -31.83039529464335,
          -31.83041309005974,
          -31.83059039674292,
          -31.83062496370694,
          -31.83044919552612,
          -31.83055048589921,
          -31.83057537982879,
          -31.8306575917034,
          -31.83065965298827,
          -31.83079043292682,
          -31.83079112085596,
          -31.83079315668379,
          -31.83078775293374,
          -31.83079115492708,
          -31.83078777975723,
          -31.83079186264361,
          -31.84668336675156,
          -31.84590359767057,
          -31.84638920015648,
          -31.84633325480655,
          -31.84630620908671,
          -31.84642682355494,
          -31.84660379451255,
          -31.84534087718281,
          -31.84497134212882,
          -31.84520480790187,
          -31.84519057474693,
          -31.84696779013872,
          -31.84505951047444,
          -31.84518456887401,
          -31.84515103476856,
          -31.84510853881709,
          -31.84507695999562,
          -31.84512567428841,
          -31.84527487175123,
          -31.84487684093081,
          -31.84496527724279,
          -31.84505688510912,
          -31.84523158062051,
          -31.84538040931631,
          -31.84537004084413,
          -31.84537006574641,
          -31.84488600975254,
          -31.84485397635064,
          -31.84513430001038,
          -31.84466167779774,
          -31.84469149573804,
          -31.84472428455821,
          -31.84468823575176,
          -31.84538344253644,
          -31.84424690471754,
          -31.85109633797458,
          -31.85068649170797,
          -31.85278296339006,
          -31.85188710724418,
          -31.85210550561943,
          -31.8518872114326,
          -31.85182659388803,
          -31.85182616279369,
          -31.85182820538461,
          -31.85182506326957,
          -31.85189307872191,
          -31.85188320881234,
          -31.8518732548151,
          -31.85182222748639,
          -31.85198713829637,
          -31.85192250139609,
          -31.85189392826163,
          -31.85187442908764,
          -31.8518030858586,
          -31.8518024058948,
          -31.85180059356636,
          -31.85180195605045
         ],
         "legendgroup": "",
         "lon": [
          116.0183374663027,
          116.0183259785979,
          116.0183161354075,
          116.0182529749383,
          116.0182086643162,
          116.0182128388363,
          116.018223361407,
          116.0182823408421,
          116.01821750659,
          116.0182474062873,
          116.0181813817572,
          116.0182631395714,
          116.0181961643027,
          116.0182334670006,
          116.0179055434116,
          116.0180953620699,
          116.0178051456259,
          116.0179865644773,
          116.0009142164415,
          116.000930932033,
          116.0009778539811,
          116.00092060426,
          116.0006048976215,
          116.0005802543637,
          116.0005190872192,
          116.0007722909438,
          116.0010150860718,
          116.0009461560145,
          116.0008411872399,
          116.0011891817338,
          116.0015213385211,
          116.0011641432193,
          116.0008309768264,
          116.0024406990624,
          116.0018976598281,
          116.0008501775059,
          116.0005857862165,
          116.0458851425753,
          116.0457670563354,
          116.0457670563353,
          116.0458851425753,
          116.0458175186144,
          116.0457592802574,
          116.0458562580698,
          116.0458650464963,
          116.0457701043378,
          116.0458575517662,
          116.0457695358829,
          116.0456561146581,
          116.0459678755513,
          116.0454319290855,
          116.0458568785181,
          116.0450705556765,
          116.0451148633962,
          116.0465802282568,
          116.0452797276304,
          116.045049160885,
          116.0451629606889,
          116.0452886782776,
          116.0458601290954,
          115.998939146043,
          115.9977318524493,
          115.9974576751721,
          115.9977420660818,
          115.997502299226,
          115.9974572459445,
          115.9977050969983,
          115.997777721079,
          115.997669167832,
          115.997431381974,
          115.9973518616014,
          115.9973090452622,
          115.9972816677781,
          115.9973045597328,
          115.9972807007919,
          115.9974222588125,
          115.9973755276259,
          115.9972085542997,
          115.9971975624587,
          115.9972416499528,
          115.9971742512736,
          115.997296680735,
          115.9971388569162,
          115.9971802611804,
          115.9972163578717,
          115.9972577899615,
          115.9973048744194,
          115.9973561509557,
          115.9974216940731,
          116.0086270958327,
          116.0076430354346,
          116.0075575103231,
          116.0077438974485,
          116.0059960349935,
          116.0046871040282,
          116.0047242747774,
          116.0049137333173,
          116.0049529458494,
          116.0046804703044,
          116.0046414836387,
          116.0066284586833,
          116.0060571495129,
          116.0063688107167,
          116.0063718225668,
          116.0063741620266,
          116.0063804564964,
          116.0066406806117,
          116.0070043014552,
          116.0073642354885,
          116.0073623012661,
          116.007341994294,
          116.0072570321877,
          116.007597008791,
          116.0075393399854,
          116.0076604504979,
          116.0068656915519,
          116.0066919339338,
          116.0072291966907,
          116.0072432872027,
          116.0072381097506,
          116.0072390830616,
          116.0074225863559,
          116.0124205441503,
          116.0066393647114,
          115.995810298809,
          115.9902290551793,
          115.9901750632805,
          115.9901520456193,
          115.9903190941192,
          115.9903556704859,
          115.9905306771903,
          115.9905475047897,
          115.9905655610603,
          115.9905862473149,
          115.9904467156551,
          115.9904835715709,
          115.990598423206,
          115.9903645411195,
          115.9877336890102,
          115.9889759412021,
          115.9908535353204,
          115.990901684718,
          115.9909205172935,
          115.9908668295001,
          115.9908006953241,
          115.9907526922321
         ],
         "marker": {
          "color": "#636efa"
         },
         "mode": "markers",
         "name": "",
         "showlegend": false,
         "subplot": "mapbox",
         "type": "scattermapbox"
        }
       ],
       "layout": {
        "legend": {
         "tracegroupgap": 0
        },
        "mapbox": {
         "center": {
          "lat": -31.829142815097253,
          "lon": 116.00928029017983
         },
         "domain": {
          "x": [
           0,
           1
          ],
          "y": [
           0,
           1
          ]
         },
         "style": "open-street-map",
         "zoom": 8
        },
        "margin": {
         "b": 0,
         "l": 0,
         "r": 0,
         "t": 0
        },
        "template": {
         "data": {
          "bar": [
           {
            "error_x": {
             "color": "#2a3f5f"
            },
            "error_y": {
             "color": "#2a3f5f"
            },
            "marker": {
             "line": {
              "color": "#E5ECF6",
              "width": 0.5
             },
             "pattern": {
              "fillmode": "overlay",
              "size": 10,
              "solidity": 0.2
             }
            },
            "type": "bar"
           }
          ],
          "barpolar": [
           {
            "marker": {
             "line": {
              "color": "#E5ECF6",
              "width": 0.5
             },
             "pattern": {
              "fillmode": "overlay",
              "size": 10,
              "solidity": 0.2
             }
            },
            "type": "barpolar"
           }
          ],
          "carpet": [
           {
            "aaxis": {
             "endlinecolor": "#2a3f5f",
             "gridcolor": "white",
             "linecolor": "white",
             "minorgridcolor": "white",
             "startlinecolor": "#2a3f5f"
            },
            "baxis": {
             "endlinecolor": "#2a3f5f",
             "gridcolor": "white",
             "linecolor": "white",
             "minorgridcolor": "white",
             "startlinecolor": "#2a3f5f"
            },
            "type": "carpet"
           }
          ],
          "choropleth": [
           {
            "colorbar": {
             "outlinewidth": 0,
             "ticks": ""
            },
            "type": "choropleth"
           }
          ],
          "contour": [
           {
            "colorbar": {
             "outlinewidth": 0,
             "ticks": ""
            },
            "colorscale": [
             [
              0,
              "#0d0887"
             ],
             [
              0.1111111111111111,
              "#46039f"
             ],
             [
              0.2222222222222222,
              "#7201a8"
             ],
             [
              0.3333333333333333,
              "#9c179e"
             ],
             [
              0.4444444444444444,
              "#bd3786"
             ],
             [
              0.5555555555555556,
              "#d8576b"
             ],
             [
              0.6666666666666666,
              "#ed7953"
             ],
             [
              0.7777777777777778,
              "#fb9f3a"
             ],
             [
              0.8888888888888888,
              "#fdca26"
             ],
             [
              1,
              "#f0f921"
             ]
            ],
            "type": "contour"
           }
          ],
          "contourcarpet": [
           {
            "colorbar": {
             "outlinewidth": 0,
             "ticks": ""
            },
            "type": "contourcarpet"
           }
          ],
          "heatmap": [
           {
            "colorbar": {
             "outlinewidth": 0,
             "ticks": ""
            },
            "colorscale": [
             [
              0,
              "#0d0887"
             ],
             [
              0.1111111111111111,
              "#46039f"
             ],
             [
              0.2222222222222222,
              "#7201a8"
             ],
             [
              0.3333333333333333,
              "#9c179e"
             ],
             [
              0.4444444444444444,
              "#bd3786"
             ],
             [
              0.5555555555555556,
              "#d8576b"
             ],
             [
              0.6666666666666666,
              "#ed7953"
             ],
             [
              0.7777777777777778,
              "#fb9f3a"
             ],
             [
              0.8888888888888888,
              "#fdca26"
             ],
             [
              1,
              "#f0f921"
             ]
            ],
            "type": "heatmap"
           }
          ],
          "heatmapgl": [
           {
            "colorbar": {
             "outlinewidth": 0,
             "ticks": ""
            },
            "colorscale": [
             [
              0,
              "#0d0887"
             ],
             [
              0.1111111111111111,
              "#46039f"
             ],
             [
              0.2222222222222222,
              "#7201a8"
             ],
             [
              0.3333333333333333,
              "#9c179e"
             ],
             [
              0.4444444444444444,
              "#bd3786"
             ],
             [
              0.5555555555555556,
              "#d8576b"
             ],
             [
              0.6666666666666666,
              "#ed7953"
             ],
             [
              0.7777777777777778,
              "#fb9f3a"
             ],
             [
              0.8888888888888888,
              "#fdca26"
             ],
             [
              1,
              "#f0f921"
             ]
            ],
            "type": "heatmapgl"
           }
          ],
          "histogram": [
           {
            "marker": {
             "pattern": {
              "fillmode": "overlay",
              "size": 10,
              "solidity": 0.2
             }
            },
            "type": "histogram"
           }
          ],
          "histogram2d": [
           {
            "colorbar": {
             "outlinewidth": 0,
             "ticks": ""
            },
            "colorscale": [
             [
              0,
              "#0d0887"
             ],
             [
              0.1111111111111111,
              "#46039f"
             ],
             [
              0.2222222222222222,
              "#7201a8"
             ],
             [
              0.3333333333333333,
              "#9c179e"
             ],
             [
              0.4444444444444444,
              "#bd3786"
             ],
             [
              0.5555555555555556,
              "#d8576b"
             ],
             [
              0.6666666666666666,
              "#ed7953"
             ],
             [
              0.7777777777777778,
              "#fb9f3a"
             ],
             [
              0.8888888888888888,
              "#fdca26"
             ],
             [
              1,
              "#f0f921"
             ]
            ],
            "type": "histogram2d"
           }
          ],
          "histogram2dcontour": [
           {
            "colorbar": {
             "outlinewidth": 0,
             "ticks": ""
            },
            "colorscale": [
             [
              0,
              "#0d0887"
             ],
             [
              0.1111111111111111,
              "#46039f"
             ],
             [
              0.2222222222222222,
              "#7201a8"
             ],
             [
              0.3333333333333333,
              "#9c179e"
             ],
             [
              0.4444444444444444,
              "#bd3786"
             ],
             [
              0.5555555555555556,
              "#d8576b"
             ],
             [
              0.6666666666666666,
              "#ed7953"
             ],
             [
              0.7777777777777778,
              "#fb9f3a"
             ],
             [
              0.8888888888888888,
              "#fdca26"
             ],
             [
              1,
              "#f0f921"
             ]
            ],
            "type": "histogram2dcontour"
           }
          ],
          "mesh3d": [
           {
            "colorbar": {
             "outlinewidth": 0,
             "ticks": ""
            },
            "type": "mesh3d"
           }
          ],
          "parcoords": [
           {
            "line": {
             "colorbar": {
              "outlinewidth": 0,
              "ticks": ""
             }
            },
            "type": "parcoords"
           }
          ],
          "pie": [
           {
            "automargin": true,
            "type": "pie"
           }
          ],
          "scatter": [
           {
            "fillpattern": {
             "fillmode": "overlay",
             "size": 10,
             "solidity": 0.2
            },
            "type": "scatter"
           }
          ],
          "scatter3d": [
           {
            "line": {
             "colorbar": {
              "outlinewidth": 0,
              "ticks": ""
             }
            },
            "marker": {
             "colorbar": {
              "outlinewidth": 0,
              "ticks": ""
             }
            },
            "type": "scatter3d"
           }
          ],
          "scattercarpet": [
           {
            "marker": {
             "colorbar": {
              "outlinewidth": 0,
              "ticks": ""
             }
            },
            "type": "scattercarpet"
           }
          ],
          "scattergeo": [
           {
            "marker": {
             "colorbar": {
              "outlinewidth": 0,
              "ticks": ""
             }
            },
            "type": "scattergeo"
           }
          ],
          "scattergl": [
           {
            "marker": {
             "colorbar": {
              "outlinewidth": 0,
              "ticks": ""
             }
            },
            "type": "scattergl"
           }
          ],
          "scattermapbox": [
           {
            "marker": {
             "colorbar": {
              "outlinewidth": 0,
              "ticks": ""
             }
            },
            "type": "scattermapbox"
           }
          ],
          "scatterpolar": [
           {
            "marker": {
             "colorbar": {
              "outlinewidth": 0,
              "ticks": ""
             }
            },
            "type": "scatterpolar"
           }
          ],
          "scatterpolargl": [
           {
            "marker": {
             "colorbar": {
              "outlinewidth": 0,
              "ticks": ""
             }
            },
            "type": "scatterpolargl"
           }
          ],
          "scatterternary": [
           {
            "marker": {
             "colorbar": {
              "outlinewidth": 0,
              "ticks": ""
             }
            },
            "type": "scatterternary"
           }
          ],
          "surface": [
           {
            "colorbar": {
             "outlinewidth": 0,
             "ticks": ""
            },
            "colorscale": [
             [
              0,
              "#0d0887"
             ],
             [
              0.1111111111111111,
              "#46039f"
             ],
             [
              0.2222222222222222,
              "#7201a8"
             ],
             [
              0.3333333333333333,
              "#9c179e"
             ],
             [
              0.4444444444444444,
              "#bd3786"
             ],
             [
              0.5555555555555556,
              "#d8576b"
             ],
             [
              0.6666666666666666,
              "#ed7953"
             ],
             [
              0.7777777777777778,
              "#fb9f3a"
             ],
             [
              0.8888888888888888,
              "#fdca26"
             ],
             [
              1,
              "#f0f921"
             ]
            ],
            "type": "surface"
           }
          ],
          "table": [
           {
            "cells": {
             "fill": {
              "color": "#EBF0F8"
             },
             "line": {
              "color": "white"
             }
            },
            "header": {
             "fill": {
              "color": "#C8D4E3"
             },
             "line": {
              "color": "white"
             }
            },
            "type": "table"
           }
          ]
         },
         "layout": {
          "annotationdefaults": {
           "arrowcolor": "#2a3f5f",
           "arrowhead": 0,
           "arrowwidth": 1
          },
          "autotypenumbers": "strict",
          "coloraxis": {
           "colorbar": {
            "outlinewidth": 0,
            "ticks": ""
           }
          },
          "colorscale": {
           "diverging": [
            [
             0,
             "#8e0152"
            ],
            [
             0.1,
             "#c51b7d"
            ],
            [
             0.2,
             "#de77ae"
            ],
            [
             0.3,
             "#f1b6da"
            ],
            [
             0.4,
             "#fde0ef"
            ],
            [
             0.5,
             "#f7f7f7"
            ],
            [
             0.6,
             "#e6f5d0"
            ],
            [
             0.7,
             "#b8e186"
            ],
            [
             0.8,
             "#7fbc41"
            ],
            [
             0.9,
             "#4d9221"
            ],
            [
             1,
             "#276419"
            ]
           ],
           "sequential": [
            [
             0,
             "#0d0887"
            ],
            [
             0.1111111111111111,
             "#46039f"
            ],
            [
             0.2222222222222222,
             "#7201a8"
            ],
            [
             0.3333333333333333,
             "#9c179e"
            ],
            [
             0.4444444444444444,
             "#bd3786"
            ],
            [
             0.5555555555555556,
             "#d8576b"
            ],
            [
             0.6666666666666666,
             "#ed7953"
            ],
            [
             0.7777777777777778,
             "#fb9f3a"
            ],
            [
             0.8888888888888888,
             "#fdca26"
            ],
            [
             1,
             "#f0f921"
            ]
           ],
           "sequentialminus": [
            [
             0,
             "#0d0887"
            ],
            [
             0.1111111111111111,
             "#46039f"
            ],
            [
             0.2222222222222222,
             "#7201a8"
            ],
            [
             0.3333333333333333,
             "#9c179e"
            ],
            [
             0.4444444444444444,
             "#bd3786"
            ],
            [
             0.5555555555555556,
             "#d8576b"
            ],
            [
             0.6666666666666666,
             "#ed7953"
            ],
            [
             0.7777777777777778,
             "#fb9f3a"
            ],
            [
             0.8888888888888888,
             "#fdca26"
            ],
            [
             1,
             "#f0f921"
            ]
           ]
          },
          "colorway": [
           "#636efa",
           "#EF553B",
           "#00cc96",
           "#ab63fa",
           "#FFA15A",
           "#19d3f3",
           "#FF6692",
           "#B6E880",
           "#FF97FF",
           "#FECB52"
          ],
          "font": {
           "color": "#2a3f5f"
          },
          "geo": {
           "bgcolor": "white",
           "lakecolor": "white",
           "landcolor": "#E5ECF6",
           "showlakes": true,
           "showland": true,
           "subunitcolor": "white"
          },
          "hoverlabel": {
           "align": "left"
          },
          "hovermode": "closest",
          "mapbox": {
           "style": "light"
          },
          "paper_bgcolor": "white",
          "plot_bgcolor": "#E5ECF6",
          "polar": {
           "angularaxis": {
            "gridcolor": "white",
            "linecolor": "white",
            "ticks": ""
           },
           "bgcolor": "#E5ECF6",
           "radialaxis": {
            "gridcolor": "white",
            "linecolor": "white",
            "ticks": ""
           }
          },
          "scene": {
           "xaxis": {
            "backgroundcolor": "#E5ECF6",
            "gridcolor": "white",
            "gridwidth": 2,
            "linecolor": "white",
            "showbackground": true,
            "ticks": "",
            "zerolinecolor": "white"
           },
           "yaxis": {
            "backgroundcolor": "#E5ECF6",
            "gridcolor": "white",
            "gridwidth": 2,
            "linecolor": "white",
            "showbackground": true,
            "ticks": "",
            "zerolinecolor": "white"
           },
           "zaxis": {
            "backgroundcolor": "#E5ECF6",
            "gridcolor": "white",
            "gridwidth": 2,
            "linecolor": "white",
            "showbackground": true,
            "ticks": "",
            "zerolinecolor": "white"
           }
          },
          "shapedefaults": {
           "line": {
            "color": "#2a3f5f"
           }
          },
          "ternary": {
           "aaxis": {
            "gridcolor": "white",
            "linecolor": "white",
            "ticks": ""
           },
           "baxis": {
            "gridcolor": "white",
            "linecolor": "white",
            "ticks": ""
           },
           "bgcolor": "#E5ECF6",
           "caxis": {
            "gridcolor": "white",
            "linecolor": "white",
            "ticks": ""
           }
          },
          "title": {
           "x": 0.05
          },
          "xaxis": {
           "automargin": true,
           "gridcolor": "white",
           "linecolor": "white",
           "ticks": "",
           "title": {
            "standoff": 15
           },
           "zerolinecolor": "white",
           "zerolinewidth": 2
          },
          "yaxis": {
           "automargin": true,
           "gridcolor": "white",
           "linecolor": "white",
           "ticks": "",
           "title": {
            "standoff": 15
           },
           "zerolinecolor": "white",
           "zerolinewidth": 2
          }
         }
        }
       }
      },
      "text/html": [
       "<div>                            <div id=\"18615850-6357-4a32-8151-785b21a28e81\" class=\"plotly-graph-div\" style=\"height:525px; width:100%;\"></div>            <script type=\"text/javascript\">                require([\"plotly\"], function(Plotly) {                    window.PLOTLYENV=window.PLOTLYENV || {};                                    if (document.getElementById(\"18615850-6357-4a32-8151-785b21a28e81\")) {                    Plotly.newPlot(                        \"18615850-6357-4a32-8151-785b21a28e81\",                        [{\"hovertemplate\":\"<b>%{hovertext}</b><br><br>lat=%{lat}<br>lon=%{lon}<extra></extra>\",\"hovertext\":[\"palm_tree\",\"palm_tree\",\"palm_tree\",\"palm_tree\",\"palm_tree\",\"palm_tree\",\"palm_tree\",\"palm_tree\",\"palm_tree\",\"palm_tree\",\"palm_tree\",\"palm_tree\",\"pizza_oven\",\"air_conditioner\",\"building\",\"shed\",\"shed\",\"shed\",\"picnic_bench\",\"picnic_bench\",\"planter\",\"planter\",\"building\",\"parking_lot\",\"patio\",\"water_tank\",\"air_conitioner\",\"patio\",\"building\",\"shed\",\"building\",\"building\",\"vineyard\",\"vineyard\",\"vineyard\",\"building\",\"parking_lot\",\"retaining_wall\",\"retaining_wall\",\"sign\",\"sign\",\"sign\",\"tree\",\"tree\",\"tree\",\"tree\",\"tree\",\"tree\",\"parking_lot\",\"vineyard\",\"vineyard\",\"building\",\"shed\",\"solar_panel\",\"building\",\"parking_lot\",\"shed\",\"building\",\"swimming_pool\",\"courtyard\",\"vineyard\",\"vineyard\",\"generator\",\"parking_lot\",\"carport\",\"bicycle_rack\",\"shed\",\"sculpture\",\"patio\",\"patio\",\"shed\",\"picnic_table\",\"picnic_table\",\"picnic_umbrella\",\"picnic_umbrella\",\"picnic_umbrella\",\"picnic_umbrella\",\"picnic_table\",\"picnic_table\",\"shed\",\"shed\",\"shed\",\"tree\",\"tree\",\"tree\",\"tree\",\"tree\",\"tree\",\"tree\",\"building\",\"pond\",\"bridge\",\"island\",\"vineyard\",\"swimming_pool\",\"building\",\"building\",\"tennis_court\",\"swimming_pool\",\"shade_cloth\",\"sign\",\"warehouse\",\"vat\",\"vat\",\"vat\",\"vat\",\"building\",\"parking_lot\",\"solar_panels\",\"solar_panels\",\"building\",\"fence\",\"jetty\",\"picnic_table\",\"picnic_table\",\"tank\",\"tank\",\"shed\",\"shipping_container\",\"shipping_container\",\"shipping_container\",\"shipping_container\",\"vineyard\",\"vineyard\",\"river\",\"vineyard\",\"vineyard\",\"parking_lot\",\"shed\",\"sign\",\"table\",\"table\",\"table\",\"table\",\"wine_barrell\",\"counter\",\"shed\",\"fence\",\"sign\",\"driveway\",\"picnic_table\",\"picnic_table\",\"picnic_table\",\"picnic_table\",\"picnic_table\",\"picnic_table\"],\"lat\":[-31.81445187554597,-31.81451940926452,-31.8145718117269,-31.81458084078105,-31.81462157655873,-31.81454971676524,-31.81448193361258,-31.81444773977627,-31.8143890181285,-31.81439660859307,-31.81434027785148,-31.81429434468795,-31.81429169178455,-31.81420767463152,-31.81394919889622,-31.81439717390363,-31.81432230857389,-31.8135457777316,-31.82401586475119,-31.82402821801069,-31.82400450902502,-31.82400258090139,-31.82417864772208,-31.82406166208574,-31.82414265894136,-31.82427841722326,-31.82414274552135,-31.82416289887374,-31.82414373469494,-31.82414175485055,-31.82429678566091,-31.8238198185718,-31.82470742057825,-31.8242299537138,-31.82369416405801,-31.82347585518145,-31.82372524293678,-31.79711445941102,-31.79711822124566,-31.79711822124567,-31.79711445941102,-31.79692113693582,-31.79707299441964,-31.79707639334401,-31.79701796869119,-31.79702180433045,-31.79695848151606,-31.7969572497282,-31.79698640377645,-31.79698932185287,-31.7946673883335,-31.79676259008081,-31.79676332889907,-31.79669029290958,-31.79664133173589,-31.79691654618838,-31.79658001770868,-31.79630852369076,-31.79620849056571,-31.79646472091715,-31.83039735327537,-31.83060476817275,-31.83020873465989,-31.83033573653752,-31.83038472086931,-31.83023391039609,-31.83047573335856,-31.83050151773064,-31.83051242847542,-31.83042950292597,-31.83048831452484,-31.83039290156244,-31.83042013524614,-31.83039529464335,-31.83041309005974,-31.83059039674292,-31.83062496370694,-31.83044919552612,-31.83055048589921,-31.83057537982879,-31.8306575917034,-31.83065965298827,-31.83079043292682,-31.83079112085596,-31.83079315668379,-31.83078775293374,-31.83079115492708,-31.83078777975723,-31.83079186264361,-31.84668336675156,-31.84590359767057,-31.84638920015648,-31.84633325480655,-31.84630620908671,-31.84642682355494,-31.84660379451255,-31.84534087718281,-31.84497134212882,-31.84520480790187,-31.84519057474693,-31.84696779013872,-31.84505951047444,-31.84518456887401,-31.84515103476856,-31.84510853881709,-31.84507695999562,-31.84512567428841,-31.84527487175123,-31.84487684093081,-31.84496527724279,-31.84505688510912,-31.84523158062051,-31.84538040931631,-31.84537004084413,-31.84537006574641,-31.84488600975254,-31.84485397635064,-31.84513430001038,-31.84466167779774,-31.84469149573804,-31.84472428455821,-31.84468823575176,-31.84538344253644,-31.84424690471754,-31.85109633797458,-31.85068649170797,-31.85278296339006,-31.85188710724418,-31.85210550561943,-31.8518872114326,-31.85182659388803,-31.85182616279369,-31.85182820538461,-31.85182506326957,-31.85189307872191,-31.85188320881234,-31.8518732548151,-31.85182222748639,-31.85198713829637,-31.85192250139609,-31.85189392826163,-31.85187442908764,-31.8518030858586,-31.8518024058948,-31.85180059356636,-31.85180195605045],\"legendgroup\":\"\",\"lon\":[116.0183374663027,116.0183259785979,116.0183161354075,116.0182529749383,116.0182086643162,116.0182128388363,116.018223361407,116.0182823408421,116.01821750659,116.0182474062873,116.0181813817572,116.0182631395714,116.0181961643027,116.0182334670006,116.0179055434116,116.0180953620699,116.0178051456259,116.0179865644773,116.0009142164415,116.000930932033,116.0009778539811,116.00092060426,116.0006048976215,116.0005802543637,116.0005190872192,116.0007722909438,116.0010150860718,116.0009461560145,116.0008411872399,116.0011891817338,116.0015213385211,116.0011641432193,116.0008309768264,116.0024406990624,116.0018976598281,116.0008501775059,116.0005857862165,116.0458851425753,116.0457670563354,116.0457670563353,116.0458851425753,116.0458175186144,116.0457592802574,116.0458562580698,116.0458650464963,116.0457701043378,116.0458575517662,116.0457695358829,116.0456561146581,116.0459678755513,116.0454319290855,116.0458568785181,116.0450705556765,116.0451148633962,116.0465802282568,116.0452797276304,116.045049160885,116.0451629606889,116.0452886782776,116.0458601290954,115.998939146043,115.9977318524493,115.9974576751721,115.9977420660818,115.997502299226,115.9974572459445,115.9977050969983,115.997777721079,115.997669167832,115.997431381974,115.9973518616014,115.9973090452622,115.9972816677781,115.9973045597328,115.9972807007919,115.9974222588125,115.9973755276259,115.9972085542997,115.9971975624587,115.9972416499528,115.9971742512736,115.997296680735,115.9971388569162,115.9971802611804,115.9972163578717,115.9972577899615,115.9973048744194,115.9973561509557,115.9974216940731,116.0086270958327,116.0076430354346,116.0075575103231,116.0077438974485,116.0059960349935,116.0046871040282,116.0047242747774,116.0049137333173,116.0049529458494,116.0046804703044,116.0046414836387,116.0066284586833,116.0060571495129,116.0063688107167,116.0063718225668,116.0063741620266,116.0063804564964,116.0066406806117,116.0070043014552,116.0073642354885,116.0073623012661,116.007341994294,116.0072570321877,116.007597008791,116.0075393399854,116.0076604504979,116.0068656915519,116.0066919339338,116.0072291966907,116.0072432872027,116.0072381097506,116.0072390830616,116.0074225863559,116.0124205441503,116.0066393647114,115.995810298809,115.9902290551793,115.9901750632805,115.9901520456193,115.9903190941192,115.9903556704859,115.9905306771903,115.9905475047897,115.9905655610603,115.9905862473149,115.9904467156551,115.9904835715709,115.990598423206,115.9903645411195,115.9877336890102,115.9889759412021,115.9908535353204,115.990901684718,115.9909205172935,115.9908668295001,115.9908006953241,115.9907526922321],\"marker\":{\"color\":\"#636efa\"},\"mode\":\"markers\",\"name\":\"\",\"showlegend\":false,\"subplot\":\"mapbox\",\"type\":\"scattermapbox\"}],                        {\"template\":{\"data\":{\"histogram2dcontour\":[{\"type\":\"histogram2dcontour\",\"colorbar\":{\"outlinewidth\":0,\"ticks\":\"\"},\"colorscale\":[[0.0,\"#0d0887\"],[0.1111111111111111,\"#46039f\"],[0.2222222222222222,\"#7201a8\"],[0.3333333333333333,\"#9c179e\"],[0.4444444444444444,\"#bd3786\"],[0.5555555555555556,\"#d8576b\"],[0.6666666666666666,\"#ed7953\"],[0.7777777777777778,\"#fb9f3a\"],[0.8888888888888888,\"#fdca26\"],[1.0,\"#f0f921\"]]}],\"choropleth\":[{\"type\":\"choropleth\",\"colorbar\":{\"outlinewidth\":0,\"ticks\":\"\"}}],\"histogram2d\":[{\"type\":\"histogram2d\",\"colorbar\":{\"outlinewidth\":0,\"ticks\":\"\"},\"colorscale\":[[0.0,\"#0d0887\"],[0.1111111111111111,\"#46039f\"],[0.2222222222222222,\"#7201a8\"],[0.3333333333333333,\"#9c179e\"],[0.4444444444444444,\"#bd3786\"],[0.5555555555555556,\"#d8576b\"],[0.6666666666666666,\"#ed7953\"],[0.7777777777777778,\"#fb9f3a\"],[0.8888888888888888,\"#fdca26\"],[1.0,\"#f0f921\"]]}],\"heatmap\":[{\"type\":\"heatmap\",\"colorbar\":{\"outlinewidth\":0,\"ticks\":\"\"},\"colorscale\":[[0.0,\"#0d0887\"],[0.1111111111111111,\"#46039f\"],[0.2222222222222222,\"#7201a8\"],[0.3333333333333333,\"#9c179e\"],[0.4444444444444444,\"#bd3786\"],[0.5555555555555556,\"#d8576b\"],[0.6666666666666666,\"#ed7953\"],[0.7777777777777778,\"#fb9f3a\"],[0.8888888888888888,\"#fdca26\"],[1.0,\"#f0f921\"]]}],\"heatmapgl\":[{\"type\":\"heatmapgl\",\"colorbar\":{\"outlinewidth\":0,\"ticks\":\"\"},\"colorscale\":[[0.0,\"#0d0887\"],[0.1111111111111111,\"#46039f\"],[0.2222222222222222,\"#7201a8\"],[0.3333333333333333,\"#9c179e\"],[0.4444444444444444,\"#bd3786\"],[0.5555555555555556,\"#d8576b\"],[0.6666666666666666,\"#ed7953\"],[0.7777777777777778,\"#fb9f3a\"],[0.8888888888888888,\"#fdca26\"],[1.0,\"#f0f921\"]]}],\"contourcarpet\":[{\"type\":\"contourcarpet\",\"colorbar\":{\"outlinewidth\":0,\"ticks\":\"\"}}],\"contour\":[{\"type\":\"contour\",\"colorbar\":{\"outlinewidth\":0,\"ticks\":\"\"},\"colorscale\":[[0.0,\"#0d0887\"],[0.1111111111111111,\"#46039f\"],[0.2222222222222222,\"#7201a8\"],[0.3333333333333333,\"#9c179e\"],[0.4444444444444444,\"#bd3786\"],[0.5555555555555556,\"#d8576b\"],[0.6666666666666666,\"#ed7953\"],[0.7777777777777778,\"#fb9f3a\"],[0.8888888888888888,\"#fdca26\"],[1.0,\"#f0f921\"]]}],\"surface\":[{\"type\":\"surface\",\"colorbar\":{\"outlinewidth\":0,\"ticks\":\"\"},\"colorscale\":[[0.0,\"#0d0887\"],[0.1111111111111111,\"#46039f\"],[0.2222222222222222,\"#7201a8\"],[0.3333333333333333,\"#9c179e\"],[0.4444444444444444,\"#bd3786\"],[0.5555555555555556,\"#d8576b\"],[0.6666666666666666,\"#ed7953\"],[0.7777777777777778,\"#fb9f3a\"],[0.8888888888888888,\"#fdca26\"],[1.0,\"#f0f921\"]]}],\"mesh3d\":[{\"type\":\"mesh3d\",\"colorbar\":{\"outlinewidth\":0,\"ticks\":\"\"}}],\"scatter\":[{\"fillpattern\":{\"fillmode\":\"overlay\",\"size\":10,\"solidity\":0.2},\"type\":\"scatter\"}],\"parcoords\":[{\"type\":\"parcoords\",\"line\":{\"colorbar\":{\"outlinewidth\":0,\"ticks\":\"\"}}}],\"scatterpolargl\":[{\"type\":\"scatterpolargl\",\"marker\":{\"colorbar\":{\"outlinewidth\":0,\"ticks\":\"\"}}}],\"bar\":[{\"error_x\":{\"color\":\"#2a3f5f\"},\"error_y\":{\"color\":\"#2a3f5f\"},\"marker\":{\"line\":{\"color\":\"#E5ECF6\",\"width\":0.5},\"pattern\":{\"fillmode\":\"overlay\",\"size\":10,\"solidity\":0.2}},\"type\":\"bar\"}],\"scattergeo\":[{\"type\":\"scattergeo\",\"marker\":{\"colorbar\":{\"outlinewidth\":0,\"ticks\":\"\"}}}],\"scatterpolar\":[{\"type\":\"scatterpolar\",\"marker\":{\"colorbar\":{\"outlinewidth\":0,\"ticks\":\"\"}}}],\"histogram\":[{\"marker\":{\"pattern\":{\"fillmode\":\"overlay\",\"size\":10,\"solidity\":0.2}},\"type\":\"histogram\"}],\"scattergl\":[{\"type\":\"scattergl\",\"marker\":{\"colorbar\":{\"outlinewidth\":0,\"ticks\":\"\"}}}],\"scatter3d\":[{\"type\":\"scatter3d\",\"line\":{\"colorbar\":{\"outlinewidth\":0,\"ticks\":\"\"}},\"marker\":{\"colorbar\":{\"outlinewidth\":0,\"ticks\":\"\"}}}],\"scattermapbox\":[{\"type\":\"scattermapbox\",\"marker\":{\"colorbar\":{\"outlinewidth\":0,\"ticks\":\"\"}}}],\"scatterternary\":[{\"type\":\"scatterternary\",\"marker\":{\"colorbar\":{\"outlinewidth\":0,\"ticks\":\"\"}}}],\"scattercarpet\":[{\"type\":\"scattercarpet\",\"marker\":{\"colorbar\":{\"outlinewidth\":0,\"ticks\":\"\"}}}],\"carpet\":[{\"aaxis\":{\"endlinecolor\":\"#2a3f5f\",\"gridcolor\":\"white\",\"linecolor\":\"white\",\"minorgridcolor\":\"white\",\"startlinecolor\":\"#2a3f5f\"},\"baxis\":{\"endlinecolor\":\"#2a3f5f\",\"gridcolor\":\"white\",\"linecolor\":\"white\",\"minorgridcolor\":\"white\",\"startlinecolor\":\"#2a3f5f\"},\"type\":\"carpet\"}],\"table\":[{\"cells\":{\"fill\":{\"color\":\"#EBF0F8\"},\"line\":{\"color\":\"white\"}},\"header\":{\"fill\":{\"color\":\"#C8D4E3\"},\"line\":{\"color\":\"white\"}},\"type\":\"table\"}],\"barpolar\":[{\"marker\":{\"line\":{\"color\":\"#E5ECF6\",\"width\":0.5},\"pattern\":{\"fillmode\":\"overlay\",\"size\":10,\"solidity\":0.2}},\"type\":\"barpolar\"}],\"pie\":[{\"automargin\":true,\"type\":\"pie\"}]},\"layout\":{\"autotypenumbers\":\"strict\",\"colorway\":[\"#636efa\",\"#EF553B\",\"#00cc96\",\"#ab63fa\",\"#FFA15A\",\"#19d3f3\",\"#FF6692\",\"#B6E880\",\"#FF97FF\",\"#FECB52\"],\"font\":{\"color\":\"#2a3f5f\"},\"hovermode\":\"closest\",\"hoverlabel\":{\"align\":\"left\"},\"paper_bgcolor\":\"white\",\"plot_bgcolor\":\"#E5ECF6\",\"polar\":{\"bgcolor\":\"#E5ECF6\",\"angularaxis\":{\"gridcolor\":\"white\",\"linecolor\":\"white\",\"ticks\":\"\"},\"radialaxis\":{\"gridcolor\":\"white\",\"linecolor\":\"white\",\"ticks\":\"\"}},\"ternary\":{\"bgcolor\":\"#E5ECF6\",\"aaxis\":{\"gridcolor\":\"white\",\"linecolor\":\"white\",\"ticks\":\"\"},\"baxis\":{\"gridcolor\":\"white\",\"linecolor\":\"white\",\"ticks\":\"\"},\"caxis\":{\"gridcolor\":\"white\",\"linecolor\":\"white\",\"ticks\":\"\"}},\"coloraxis\":{\"colorbar\":{\"outlinewidth\":0,\"ticks\":\"\"}},\"colorscale\":{\"sequential\":[[0.0,\"#0d0887\"],[0.1111111111111111,\"#46039f\"],[0.2222222222222222,\"#7201a8\"],[0.3333333333333333,\"#9c179e\"],[0.4444444444444444,\"#bd3786\"],[0.5555555555555556,\"#d8576b\"],[0.6666666666666666,\"#ed7953\"],[0.7777777777777778,\"#fb9f3a\"],[0.8888888888888888,\"#fdca26\"],[1.0,\"#f0f921\"]],\"sequentialminus\":[[0.0,\"#0d0887\"],[0.1111111111111111,\"#46039f\"],[0.2222222222222222,\"#7201a8\"],[0.3333333333333333,\"#9c179e\"],[0.4444444444444444,\"#bd3786\"],[0.5555555555555556,\"#d8576b\"],[0.6666666666666666,\"#ed7953\"],[0.7777777777777778,\"#fb9f3a\"],[0.8888888888888888,\"#fdca26\"],[1.0,\"#f0f921\"]],\"diverging\":[[0,\"#8e0152\"],[0.1,\"#c51b7d\"],[0.2,\"#de77ae\"],[0.3,\"#f1b6da\"],[0.4,\"#fde0ef\"],[0.5,\"#f7f7f7\"],[0.6,\"#e6f5d0\"],[0.7,\"#b8e186\"],[0.8,\"#7fbc41\"],[0.9,\"#4d9221\"],[1,\"#276419\"]]},\"xaxis\":{\"gridcolor\":\"white\",\"linecolor\":\"white\",\"ticks\":\"\",\"title\":{\"standoff\":15},\"zerolinecolor\":\"white\",\"automargin\":true,\"zerolinewidth\":2},\"yaxis\":{\"gridcolor\":\"white\",\"linecolor\":\"white\",\"ticks\":\"\",\"title\":{\"standoff\":15},\"zerolinecolor\":\"white\",\"automargin\":true,\"zerolinewidth\":2},\"scene\":{\"xaxis\":{\"backgroundcolor\":\"#E5ECF6\",\"gridcolor\":\"white\",\"linecolor\":\"white\",\"showbackground\":true,\"ticks\":\"\",\"zerolinecolor\":\"white\",\"gridwidth\":2},\"yaxis\":{\"backgroundcolor\":\"#E5ECF6\",\"gridcolor\":\"white\",\"linecolor\":\"white\",\"showbackground\":true,\"ticks\":\"\",\"zerolinecolor\":\"white\",\"gridwidth\":2},\"zaxis\":{\"backgroundcolor\":\"#E5ECF6\",\"gridcolor\":\"white\",\"linecolor\":\"white\",\"showbackground\":true,\"ticks\":\"\",\"zerolinecolor\":\"white\",\"gridwidth\":2}},\"shapedefaults\":{\"line\":{\"color\":\"#2a3f5f\"}},\"annotationdefaults\":{\"arrowcolor\":\"#2a3f5f\",\"arrowhead\":0,\"arrowwidth\":1},\"geo\":{\"bgcolor\":\"white\",\"landcolor\":\"#E5ECF6\",\"subunitcolor\":\"white\",\"showland\":true,\"showlakes\":true,\"lakecolor\":\"white\"},\"title\":{\"x\":0.05},\"mapbox\":{\"style\":\"light\"}}},\"mapbox\":{\"domain\":{\"x\":[0.0,1.0],\"y\":[0.0,1.0]},\"center\":{\"lat\":-31.829142815097253,\"lon\":116.00928029017983},\"zoom\":8,\"style\":\"open-street-map\"},\"legend\":{\"tracegroupgap\":0},\"margin\":{\"t\":0,\"r\":0,\"l\":0,\"b\":0}},                        {\"responsive\": true}                    ).then(function(){\n",
       "                            \n",
       "var gd = document.getElementById('18615850-6357-4a32-8151-785b21a28e81');\n",
       "var x = new MutationObserver(function (mutations, observer) {{\n",
       "        var display = window.getComputedStyle(gd).display;\n",
       "        if (!display || display === 'none') {{\n",
       "            console.log([gd, 'removed!']);\n",
       "            Plotly.purge(gd);\n",
       "            observer.disconnect();\n",
       "        }}\n",
       "}});\n",
       "\n",
       "// Listen for the removal of the full notebook cells\n",
       "var notebookContainer = gd.closest('#notebook-container');\n",
       "if (notebookContainer) {{\n",
       "    x.observe(notebookContainer, {childList: true});\n",
       "}}\n",
       "\n",
       "// Listen for the clearing of the current output cell\n",
       "var outputEl = gd.closest('.output');\n",
       "if (outputEl) {{\n",
       "    x.observe(outputEl, {childList: true});\n",
       "}}\n",
       "\n",
       "                        })                };                });            </script>        </div>"
      ]
     },
     "metadata": {},
     "output_type": "display_data"
    }
   ],
   "source": [
    "fig = px.scatter_mapbox(geo_df,\n",
    "                    lat=geo_df.geometry.y,\n",
    "                    lon=geo_df.geometry.x,\n",
    "                    hover_name=\"object\")\n",
    "fig.update_layout(\n",
    "    mapbox_style=\"open-street-map\")\n",
    "fig.update_layout(margin={\"r\":0,\"t\":0,\"l\":0,\"b\":0})\n",
    "fig.show()"
   ]
  },
  {
   "cell_type": "markdown",
   "id": "543dfe6d",
   "metadata": {},
   "source": [
    "## Plot of the Objects and the locations"
   ]
  },
  {
   "cell_type": "code",
   "execution_count": 89,
   "id": "82386484",
   "metadata": {
    "scrolled": true
   },
   "outputs": [
    {
     "data": {
      "application/vnd.plotly.v1+json": {
       "config": {
        "plotlyServerURL": "https://plot.ly"
       },
       "data": [
        {
         "hovertemplate": "<b>%{hovertext}</b><br><br>lat=%{lat}<br>lon=%{lon}<extra></extra>",
         "hovertext": [
          "palm_tree",
          "palm_tree",
          "palm_tree",
          "palm_tree",
          "palm_tree",
          "palm_tree",
          "palm_tree",
          "palm_tree",
          "palm_tree",
          "palm_tree",
          "palm_tree",
          "palm_tree",
          "pizza_oven",
          "air_conditioner",
          "building",
          "shed",
          "shed",
          "shed",
          "picnic_bench",
          "picnic_bench",
          "planter",
          "planter",
          "building",
          "parking_lot",
          "patio",
          "water_tank",
          "air_conitioner",
          "patio",
          "building",
          "shed",
          "building",
          "building",
          "vineyard",
          "vineyard",
          "vineyard",
          "building",
          "parking_lot",
          "retaining_wall",
          "retaining_wall",
          "sign",
          "sign",
          "sign",
          "tree",
          "tree",
          "tree",
          "tree",
          "tree",
          "tree",
          "parking_lot",
          "vineyard",
          "vineyard",
          "building",
          "shed",
          "solar_panel",
          "building",
          "parking_lot",
          "shed",
          "building",
          "swimming_pool",
          "courtyard",
          "vineyard",
          "vineyard",
          "generator",
          "parking_lot",
          "carport",
          "bicycle_rack",
          "shed",
          "sculpture",
          "patio",
          "patio",
          "shed",
          "picnic_table",
          "picnic_table",
          "picnic_umbrella",
          "picnic_umbrella",
          "picnic_umbrella",
          "picnic_umbrella",
          "picnic_table",
          "picnic_table",
          "shed",
          "shed",
          "shed",
          "tree",
          "tree",
          "tree",
          "tree",
          "tree",
          "tree",
          "tree",
          "building",
          "pond",
          "bridge",
          "island",
          "vineyard",
          "swimming_pool",
          "building",
          "building",
          "tennis_court",
          "swimming_pool",
          "shade_cloth",
          "sign",
          "warehouse",
          "vat",
          "vat",
          "vat",
          "vat",
          "building",
          "parking_lot",
          "solar_panels",
          "solar_panels",
          "building",
          "fence",
          "jetty",
          "picnic_table",
          "picnic_table",
          "tank",
          "tank",
          "shed",
          "shipping_container",
          "shipping_container",
          "shipping_container",
          "shipping_container",
          "vineyard",
          "vineyard",
          "river",
          "vineyard",
          "vineyard",
          "parking_lot",
          "shed",
          "sign",
          "table",
          "table",
          "table",
          "table",
          "wine_barrell",
          "counter",
          "shed",
          "fence",
          "sign",
          "driveway",
          "picnic_table",
          "picnic_table",
          "picnic_table",
          "picnic_table",
          "picnic_table",
          "picnic_table"
         ],
         "lat": [
          -31.81445187554597,
          -31.81451940926452,
          -31.8145718117269,
          -31.81458084078105,
          -31.81462157655873,
          -31.81454971676524,
          -31.81448193361258,
          -31.81444773977627,
          -31.8143890181285,
          -31.81439660859307,
          -31.81434027785148,
          -31.81429434468795,
          -31.81429169178455,
          -31.81420767463152,
          -31.81394919889622,
          -31.81439717390363,
          -31.81432230857389,
          -31.8135457777316,
          -31.82401586475119,
          -31.82402821801069,
          -31.82400450902502,
          -31.82400258090139,
          -31.82417864772208,
          -31.82406166208574,
          -31.82414265894136,
          -31.82427841722326,
          -31.82414274552135,
          -31.82416289887374,
          -31.82414373469494,
          -31.82414175485055,
          -31.82429678566091,
          -31.8238198185718,
          -31.82470742057825,
          -31.8242299537138,
          -31.82369416405801,
          -31.82347585518145,
          -31.82372524293678,
          -31.79711445941102,
          -31.79711822124566,
          -31.79711822124567,
          -31.79711445941102,
          -31.79692113693582,
          -31.79707299441964,
          -31.79707639334401,
          -31.79701796869119,
          -31.79702180433045,
          -31.79695848151606,
          -31.7969572497282,
          -31.79698640377645,
          -31.79698932185287,
          -31.7946673883335,
          -31.79676259008081,
          -31.79676332889907,
          -31.79669029290958,
          -31.79664133173589,
          -31.79691654618838,
          -31.79658001770868,
          -31.79630852369076,
          -31.79620849056571,
          -31.79646472091715,
          -31.83039735327537,
          -31.83060476817275,
          -31.83020873465989,
          -31.83033573653752,
          -31.83038472086931,
          -31.83023391039609,
          -31.83047573335856,
          -31.83050151773064,
          -31.83051242847542,
          -31.83042950292597,
          -31.83048831452484,
          -31.83039290156244,
          -31.83042013524614,
          -31.83039529464335,
          -31.83041309005974,
          -31.83059039674292,
          -31.83062496370694,
          -31.83044919552612,
          -31.83055048589921,
          -31.83057537982879,
          -31.8306575917034,
          -31.83065965298827,
          -31.83079043292682,
          -31.83079112085596,
          -31.83079315668379,
          -31.83078775293374,
          -31.83079115492708,
          -31.83078777975723,
          -31.83079186264361,
          -31.84668336675156,
          -31.84590359767057,
          -31.84638920015648,
          -31.84633325480655,
          -31.84630620908671,
          -31.84642682355494,
          -31.84660379451255,
          -31.84534087718281,
          -31.84497134212882,
          -31.84520480790187,
          -31.84519057474693,
          -31.84696779013872,
          -31.84505951047444,
          -31.84518456887401,
          -31.84515103476856,
          -31.84510853881709,
          -31.84507695999562,
          -31.84512567428841,
          -31.84527487175123,
          -31.84487684093081,
          -31.84496527724279,
          -31.84505688510912,
          -31.84523158062051,
          -31.84538040931631,
          -31.84537004084413,
          -31.84537006574641,
          -31.84488600975254,
          -31.84485397635064,
          -31.84513430001038,
          -31.84466167779774,
          -31.84469149573804,
          -31.84472428455821,
          -31.84468823575176,
          -31.84538344253644,
          -31.84424690471754,
          -31.85109633797458,
          -31.85068649170797,
          -31.85278296339006,
          -31.85188710724418,
          -31.85210550561943,
          -31.8518872114326,
          -31.85182659388803,
          -31.85182616279369,
          -31.85182820538461,
          -31.85182506326957,
          -31.85189307872191,
          -31.85188320881234,
          -31.8518732548151,
          -31.85182222748639,
          -31.85198713829637,
          -31.85192250139609,
          -31.85189392826163,
          -31.85187442908764,
          -31.8518030858586,
          -31.8518024058948,
          -31.85180059356636,
          -31.85180195605045
         ],
         "legendgroup": "",
         "lon": [
          116.0183374663027,
          116.0183259785979,
          116.0183161354075,
          116.0182529749383,
          116.0182086643162,
          116.0182128388363,
          116.018223361407,
          116.0182823408421,
          116.01821750659,
          116.0182474062873,
          116.0181813817572,
          116.0182631395714,
          116.0181961643027,
          116.0182334670006,
          116.0179055434116,
          116.0180953620699,
          116.0178051456259,
          116.0179865644773,
          116.0009142164415,
          116.000930932033,
          116.0009778539811,
          116.00092060426,
          116.0006048976215,
          116.0005802543637,
          116.0005190872192,
          116.0007722909438,
          116.0010150860718,
          116.0009461560145,
          116.0008411872399,
          116.0011891817338,
          116.0015213385211,
          116.0011641432193,
          116.0008309768264,
          116.0024406990624,
          116.0018976598281,
          116.0008501775059,
          116.0005857862165,
          116.0458851425753,
          116.0457670563354,
          116.0457670563353,
          116.0458851425753,
          116.0458175186144,
          116.0457592802574,
          116.0458562580698,
          116.0458650464963,
          116.0457701043378,
          116.0458575517662,
          116.0457695358829,
          116.0456561146581,
          116.0459678755513,
          116.0454319290855,
          116.0458568785181,
          116.0450705556765,
          116.0451148633962,
          116.0465802282568,
          116.0452797276304,
          116.045049160885,
          116.0451629606889,
          116.0452886782776,
          116.0458601290954,
          115.998939146043,
          115.9977318524493,
          115.9974576751721,
          115.9977420660818,
          115.997502299226,
          115.9974572459445,
          115.9977050969983,
          115.997777721079,
          115.997669167832,
          115.997431381974,
          115.9973518616014,
          115.9973090452622,
          115.9972816677781,
          115.9973045597328,
          115.9972807007919,
          115.9974222588125,
          115.9973755276259,
          115.9972085542997,
          115.9971975624587,
          115.9972416499528,
          115.9971742512736,
          115.997296680735,
          115.9971388569162,
          115.9971802611804,
          115.9972163578717,
          115.9972577899615,
          115.9973048744194,
          115.9973561509557,
          115.9974216940731,
          116.0086270958327,
          116.0076430354346,
          116.0075575103231,
          116.0077438974485,
          116.0059960349935,
          116.0046871040282,
          116.0047242747774,
          116.0049137333173,
          116.0049529458494,
          116.0046804703044,
          116.0046414836387,
          116.0066284586833,
          116.0060571495129,
          116.0063688107167,
          116.0063718225668,
          116.0063741620266,
          116.0063804564964,
          116.0066406806117,
          116.0070043014552,
          116.0073642354885,
          116.0073623012661,
          116.007341994294,
          116.0072570321877,
          116.007597008791,
          116.0075393399854,
          116.0076604504979,
          116.0068656915519,
          116.0066919339338,
          116.0072291966907,
          116.0072432872027,
          116.0072381097506,
          116.0072390830616,
          116.0074225863559,
          116.0124205441503,
          116.0066393647114,
          115.995810298809,
          115.9902290551793,
          115.9901750632805,
          115.9901520456193,
          115.9903190941192,
          115.9903556704859,
          115.9905306771903,
          115.9905475047897,
          115.9905655610603,
          115.9905862473149,
          115.9904467156551,
          115.9904835715709,
          115.990598423206,
          115.9903645411195,
          115.9877336890102,
          115.9889759412021,
          115.9908535353204,
          115.990901684718,
          115.9909205172935,
          115.9908668295001,
          115.9908006953241,
          115.9907526922321
         ],
         "marker": {
          "color": "#636efa"
         },
         "mode": "markers",
         "name": "",
         "showlegend": false,
         "subplot": "mapbox",
         "type": "scattermapbox"
        },
        {
         "hovertemplate": "<b>%{hovertext}</b><br><br>lat=%{lat}<br>lon=%{lon}<extra></extra>",
         "hovertext": [
          "Sandalford Winery",
          "Nikola Estate",
          "Edgecombe Brothers",
          "Little River Winery and Café",
          "Black Swan Winery and Restaurant",
          "Lancaster Wines",
          "Mandoon Estate",
          "Mandoon Vineyard",
          "Oakover Grounds",
          "Henley Park Winery",
          "Upper Reach Winery",
          "Mann Winery",
          "Harris Organic Wines and Spirits",
          "John Kosovich Wines",
          "Twin Hill Wines",
          "Olive Farm Wines",
          "Ali's Vineyard",
          "Talijancich",
          "Tyler's Vineyard",
          "Fig Tree Estate Winery",
          "Lamont's Winery",
          "Faber Vineyard",
          "Swan Valley Wines",
          "Windy Creek Estate",
          "Holy Mary Cellars",
          "Jarrah Ridge Wines",
          "Katgully Wines Cellar Door",
          "Sittella",
          "Ugly Duckling Wines",
          "Heafod Glen Winery",
          "Ambrook Wines"
         ],
         "lat": [
          -31.868701,
          -31.854112,
          -31.795187,
          -31.824124,
          -31.823404,
          -31.85226,
          -31.868266,
          -31.867594,
          -31.84508,
          -31.797776,
          -31.795033,
          -31.793688,
          -31.794595,
          -31.795346,
          -31.796729,
          -31.811995,
          -31.814194,
          -31.818507,
          -31.812921,
          -31.804387,
          -31.80323,
          -31.796771,
          -31.796915,
          -31.830487,
          -31.835658,
          -31.836499,
          -31.835449,
          -31.830083,
          -31.830502,
          -31.822945,
          -31.871998
         ],
         "legendgroup": "",
         "lon": [
          115.992759,
          115.997995,
          115.998571,
          116.000888,
          116.00085,
          115.988887,
          115.994991,
          115.995494,
          116.007327,
          116.001641,
          116.008634,
          116.012546,
          116.02083,
          116.02076,
          116.020781,
          116.022232,
          116.01822,
          116.020341,
          116.040805,
          116.04003,
          116.037443,
          116.045655,
          116.048836,
          116.03056,
          116.021676,
          116.015532,
          116.021235,
          116.006851,
          115.997425,
          115.996817,
          115.981779
         ],
         "marker": {
          "color": "#636efa"
         },
         "mode": "markers",
         "name": "",
         "showlegend": false,
         "subplot": "mapbox",
         "type": "scattermapbox"
        }
       ],
       "layout": {
        "legend": {
         "tracegroupgap": 0
        },
        "mapbox": {
         "center": {
          "lat": -31.829142815097253,
          "lon": 116.00928029017983
         },
         "domain": {
          "x": [
           0,
           1
          ],
          "y": [
           0,
           1
          ]
         },
         "style": "open-street-map",
         "zoom": 8
        },
        "margin": {
         "b": 0,
         "l": 0,
         "r": 0,
         "t": 0
        },
        "template": {
         "data": {
          "bar": [
           {
            "error_x": {
             "color": "#2a3f5f"
            },
            "error_y": {
             "color": "#2a3f5f"
            },
            "marker": {
             "line": {
              "color": "#E5ECF6",
              "width": 0.5
             },
             "pattern": {
              "fillmode": "overlay",
              "size": 10,
              "solidity": 0.2
             }
            },
            "type": "bar"
           }
          ],
          "barpolar": [
           {
            "marker": {
             "line": {
              "color": "#E5ECF6",
              "width": 0.5
             },
             "pattern": {
              "fillmode": "overlay",
              "size": 10,
              "solidity": 0.2
             }
            },
            "type": "barpolar"
           }
          ],
          "carpet": [
           {
            "aaxis": {
             "endlinecolor": "#2a3f5f",
             "gridcolor": "white",
             "linecolor": "white",
             "minorgridcolor": "white",
             "startlinecolor": "#2a3f5f"
            },
            "baxis": {
             "endlinecolor": "#2a3f5f",
             "gridcolor": "white",
             "linecolor": "white",
             "minorgridcolor": "white",
             "startlinecolor": "#2a3f5f"
            },
            "type": "carpet"
           }
          ],
          "choropleth": [
           {
            "colorbar": {
             "outlinewidth": 0,
             "ticks": ""
            },
            "type": "choropleth"
           }
          ],
          "contour": [
           {
            "colorbar": {
             "outlinewidth": 0,
             "ticks": ""
            },
            "colorscale": [
             [
              0,
              "#0d0887"
             ],
             [
              0.1111111111111111,
              "#46039f"
             ],
             [
              0.2222222222222222,
              "#7201a8"
             ],
             [
              0.3333333333333333,
              "#9c179e"
             ],
             [
              0.4444444444444444,
              "#bd3786"
             ],
             [
              0.5555555555555556,
              "#d8576b"
             ],
             [
              0.6666666666666666,
              "#ed7953"
             ],
             [
              0.7777777777777778,
              "#fb9f3a"
             ],
             [
              0.8888888888888888,
              "#fdca26"
             ],
             [
              1,
              "#f0f921"
             ]
            ],
            "type": "contour"
           }
          ],
          "contourcarpet": [
           {
            "colorbar": {
             "outlinewidth": 0,
             "ticks": ""
            },
            "type": "contourcarpet"
           }
          ],
          "heatmap": [
           {
            "colorbar": {
             "outlinewidth": 0,
             "ticks": ""
            },
            "colorscale": [
             [
              0,
              "#0d0887"
             ],
             [
              0.1111111111111111,
              "#46039f"
             ],
             [
              0.2222222222222222,
              "#7201a8"
             ],
             [
              0.3333333333333333,
              "#9c179e"
             ],
             [
              0.4444444444444444,
              "#bd3786"
             ],
             [
              0.5555555555555556,
              "#d8576b"
             ],
             [
              0.6666666666666666,
              "#ed7953"
             ],
             [
              0.7777777777777778,
              "#fb9f3a"
             ],
             [
              0.8888888888888888,
              "#fdca26"
             ],
             [
              1,
              "#f0f921"
             ]
            ],
            "type": "heatmap"
           }
          ],
          "heatmapgl": [
           {
            "colorbar": {
             "outlinewidth": 0,
             "ticks": ""
            },
            "colorscale": [
             [
              0,
              "#0d0887"
             ],
             [
              0.1111111111111111,
              "#46039f"
             ],
             [
              0.2222222222222222,
              "#7201a8"
             ],
             [
              0.3333333333333333,
              "#9c179e"
             ],
             [
              0.4444444444444444,
              "#bd3786"
             ],
             [
              0.5555555555555556,
              "#d8576b"
             ],
             [
              0.6666666666666666,
              "#ed7953"
             ],
             [
              0.7777777777777778,
              "#fb9f3a"
             ],
             [
              0.8888888888888888,
              "#fdca26"
             ],
             [
              1,
              "#f0f921"
             ]
            ],
            "type": "heatmapgl"
           }
          ],
          "histogram": [
           {
            "marker": {
             "pattern": {
              "fillmode": "overlay",
              "size": 10,
              "solidity": 0.2
             }
            },
            "type": "histogram"
           }
          ],
          "histogram2d": [
           {
            "colorbar": {
             "outlinewidth": 0,
             "ticks": ""
            },
            "colorscale": [
             [
              0,
              "#0d0887"
             ],
             [
              0.1111111111111111,
              "#46039f"
             ],
             [
              0.2222222222222222,
              "#7201a8"
             ],
             [
              0.3333333333333333,
              "#9c179e"
             ],
             [
              0.4444444444444444,
              "#bd3786"
             ],
             [
              0.5555555555555556,
              "#d8576b"
             ],
             [
              0.6666666666666666,
              "#ed7953"
             ],
             [
              0.7777777777777778,
              "#fb9f3a"
             ],
             [
              0.8888888888888888,
              "#fdca26"
             ],
             [
              1,
              "#f0f921"
             ]
            ],
            "type": "histogram2d"
           }
          ],
          "histogram2dcontour": [
           {
            "colorbar": {
             "outlinewidth": 0,
             "ticks": ""
            },
            "colorscale": [
             [
              0,
              "#0d0887"
             ],
             [
              0.1111111111111111,
              "#46039f"
             ],
             [
              0.2222222222222222,
              "#7201a8"
             ],
             [
              0.3333333333333333,
              "#9c179e"
             ],
             [
              0.4444444444444444,
              "#bd3786"
             ],
             [
              0.5555555555555556,
              "#d8576b"
             ],
             [
              0.6666666666666666,
              "#ed7953"
             ],
             [
              0.7777777777777778,
              "#fb9f3a"
             ],
             [
              0.8888888888888888,
              "#fdca26"
             ],
             [
              1,
              "#f0f921"
             ]
            ],
            "type": "histogram2dcontour"
           }
          ],
          "mesh3d": [
           {
            "colorbar": {
             "outlinewidth": 0,
             "ticks": ""
            },
            "type": "mesh3d"
           }
          ],
          "parcoords": [
           {
            "line": {
             "colorbar": {
              "outlinewidth": 0,
              "ticks": ""
             }
            },
            "type": "parcoords"
           }
          ],
          "pie": [
           {
            "automargin": true,
            "type": "pie"
           }
          ],
          "scatter": [
           {
            "fillpattern": {
             "fillmode": "overlay",
             "size": 10,
             "solidity": 0.2
            },
            "type": "scatter"
           }
          ],
          "scatter3d": [
           {
            "line": {
             "colorbar": {
              "outlinewidth": 0,
              "ticks": ""
             }
            },
            "marker": {
             "colorbar": {
              "outlinewidth": 0,
              "ticks": ""
             }
            },
            "type": "scatter3d"
           }
          ],
          "scattercarpet": [
           {
            "marker": {
             "colorbar": {
              "outlinewidth": 0,
              "ticks": ""
             }
            },
            "type": "scattercarpet"
           }
          ],
          "scattergeo": [
           {
            "marker": {
             "colorbar": {
              "outlinewidth": 0,
              "ticks": ""
             }
            },
            "type": "scattergeo"
           }
          ],
          "scattergl": [
           {
            "marker": {
             "colorbar": {
              "outlinewidth": 0,
              "ticks": ""
             }
            },
            "type": "scattergl"
           }
          ],
          "scattermapbox": [
           {
            "marker": {
             "colorbar": {
              "outlinewidth": 0,
              "ticks": ""
             }
            },
            "type": "scattermapbox"
           }
          ],
          "scatterpolar": [
           {
            "marker": {
             "colorbar": {
              "outlinewidth": 0,
              "ticks": ""
             }
            },
            "type": "scatterpolar"
           }
          ],
          "scatterpolargl": [
           {
            "marker": {
             "colorbar": {
              "outlinewidth": 0,
              "ticks": ""
             }
            },
            "type": "scatterpolargl"
           }
          ],
          "scatterternary": [
           {
            "marker": {
             "colorbar": {
              "outlinewidth": 0,
              "ticks": ""
             }
            },
            "type": "scatterternary"
           }
          ],
          "surface": [
           {
            "colorbar": {
             "outlinewidth": 0,
             "ticks": ""
            },
            "colorscale": [
             [
              0,
              "#0d0887"
             ],
             [
              0.1111111111111111,
              "#46039f"
             ],
             [
              0.2222222222222222,
              "#7201a8"
             ],
             [
              0.3333333333333333,
              "#9c179e"
             ],
             [
              0.4444444444444444,
              "#bd3786"
             ],
             [
              0.5555555555555556,
              "#d8576b"
             ],
             [
              0.6666666666666666,
              "#ed7953"
             ],
             [
              0.7777777777777778,
              "#fb9f3a"
             ],
             [
              0.8888888888888888,
              "#fdca26"
             ],
             [
              1,
              "#f0f921"
             ]
            ],
            "type": "surface"
           }
          ],
          "table": [
           {
            "cells": {
             "fill": {
              "color": "#EBF0F8"
             },
             "line": {
              "color": "white"
             }
            },
            "header": {
             "fill": {
              "color": "#C8D4E3"
             },
             "line": {
              "color": "white"
             }
            },
            "type": "table"
           }
          ]
         },
         "layout": {
          "annotationdefaults": {
           "arrowcolor": "#2a3f5f",
           "arrowhead": 0,
           "arrowwidth": 1
          },
          "autotypenumbers": "strict",
          "coloraxis": {
           "colorbar": {
            "outlinewidth": 0,
            "ticks": ""
           }
          },
          "colorscale": {
           "diverging": [
            [
             0,
             "#8e0152"
            ],
            [
             0.1,
             "#c51b7d"
            ],
            [
             0.2,
             "#de77ae"
            ],
            [
             0.3,
             "#f1b6da"
            ],
            [
             0.4,
             "#fde0ef"
            ],
            [
             0.5,
             "#f7f7f7"
            ],
            [
             0.6,
             "#e6f5d0"
            ],
            [
             0.7,
             "#b8e186"
            ],
            [
             0.8,
             "#7fbc41"
            ],
            [
             0.9,
             "#4d9221"
            ],
            [
             1,
             "#276419"
            ]
           ],
           "sequential": [
            [
             0,
             "#0d0887"
            ],
            [
             0.1111111111111111,
             "#46039f"
            ],
            [
             0.2222222222222222,
             "#7201a8"
            ],
            [
             0.3333333333333333,
             "#9c179e"
            ],
            [
             0.4444444444444444,
             "#bd3786"
            ],
            [
             0.5555555555555556,
             "#d8576b"
            ],
            [
             0.6666666666666666,
             "#ed7953"
            ],
            [
             0.7777777777777778,
             "#fb9f3a"
            ],
            [
             0.8888888888888888,
             "#fdca26"
            ],
            [
             1,
             "#f0f921"
            ]
           ],
           "sequentialminus": [
            [
             0,
             "#0d0887"
            ],
            [
             0.1111111111111111,
             "#46039f"
            ],
            [
             0.2222222222222222,
             "#7201a8"
            ],
            [
             0.3333333333333333,
             "#9c179e"
            ],
            [
             0.4444444444444444,
             "#bd3786"
            ],
            [
             0.5555555555555556,
             "#d8576b"
            ],
            [
             0.6666666666666666,
             "#ed7953"
            ],
            [
             0.7777777777777778,
             "#fb9f3a"
            ],
            [
             0.8888888888888888,
             "#fdca26"
            ],
            [
             1,
             "#f0f921"
            ]
           ]
          },
          "colorway": [
           "#636efa",
           "#EF553B",
           "#00cc96",
           "#ab63fa",
           "#FFA15A",
           "#19d3f3",
           "#FF6692",
           "#B6E880",
           "#FF97FF",
           "#FECB52"
          ],
          "font": {
           "color": "#2a3f5f"
          },
          "geo": {
           "bgcolor": "white",
           "lakecolor": "white",
           "landcolor": "#E5ECF6",
           "showlakes": true,
           "showland": true,
           "subunitcolor": "white"
          },
          "hoverlabel": {
           "align": "left"
          },
          "hovermode": "closest",
          "mapbox": {
           "style": "light"
          },
          "paper_bgcolor": "white",
          "plot_bgcolor": "#E5ECF6",
          "polar": {
           "angularaxis": {
            "gridcolor": "white",
            "linecolor": "white",
            "ticks": ""
           },
           "bgcolor": "#E5ECF6",
           "radialaxis": {
            "gridcolor": "white",
            "linecolor": "white",
            "ticks": ""
           }
          },
          "scene": {
           "xaxis": {
            "backgroundcolor": "#E5ECF6",
            "gridcolor": "white",
            "gridwidth": 2,
            "linecolor": "white",
            "showbackground": true,
            "ticks": "",
            "zerolinecolor": "white"
           },
           "yaxis": {
            "backgroundcolor": "#E5ECF6",
            "gridcolor": "white",
            "gridwidth": 2,
            "linecolor": "white",
            "showbackground": true,
            "ticks": "",
            "zerolinecolor": "white"
           },
           "zaxis": {
            "backgroundcolor": "#E5ECF6",
            "gridcolor": "white",
            "gridwidth": 2,
            "linecolor": "white",
            "showbackground": true,
            "ticks": "",
            "zerolinecolor": "white"
           }
          },
          "shapedefaults": {
           "line": {
            "color": "#2a3f5f"
           }
          },
          "ternary": {
           "aaxis": {
            "gridcolor": "white",
            "linecolor": "white",
            "ticks": ""
           },
           "baxis": {
            "gridcolor": "white",
            "linecolor": "white",
            "ticks": ""
           },
           "bgcolor": "#E5ECF6",
           "caxis": {
            "gridcolor": "white",
            "linecolor": "white",
            "ticks": ""
           }
          },
          "title": {
           "x": 0.05
          },
          "xaxis": {
           "automargin": true,
           "gridcolor": "white",
           "linecolor": "white",
           "ticks": "",
           "title": {
            "standoff": 15
           },
           "zerolinecolor": "white",
           "zerolinewidth": 2
          },
          "yaxis": {
           "automargin": true,
           "gridcolor": "white",
           "linecolor": "white",
           "ticks": "",
           "title": {
            "standoff": 15
           },
           "zerolinecolor": "white",
           "zerolinewidth": 2
          }
         }
        }
       }
      },
      "text/html": [
       "<div>                            <div id=\"be7910e6-ac80-4161-8425-f8677a402018\" class=\"plotly-graph-div\" style=\"height:525px; width:100%;\"></div>            <script type=\"text/javascript\">                require([\"plotly\"], function(Plotly) {                    window.PLOTLYENV=window.PLOTLYENV || {};                                    if (document.getElementById(\"be7910e6-ac80-4161-8425-f8677a402018\")) {                    Plotly.newPlot(                        \"be7910e6-ac80-4161-8425-f8677a402018\",                        [{\"hovertemplate\":\"<b>%{hovertext}</b><br><br>lat=%{lat}<br>lon=%{lon}<extra></extra>\",\"hovertext\":[\"palm_tree\",\"palm_tree\",\"palm_tree\",\"palm_tree\",\"palm_tree\",\"palm_tree\",\"palm_tree\",\"palm_tree\",\"palm_tree\",\"palm_tree\",\"palm_tree\",\"palm_tree\",\"pizza_oven\",\"air_conditioner\",\"building\",\"shed\",\"shed\",\"shed\",\"picnic_bench\",\"picnic_bench\",\"planter\",\"planter\",\"building\",\"parking_lot\",\"patio\",\"water_tank\",\"air_conitioner\",\"patio\",\"building\",\"shed\",\"building\",\"building\",\"vineyard\",\"vineyard\",\"vineyard\",\"building\",\"parking_lot\",\"retaining_wall\",\"retaining_wall\",\"sign\",\"sign\",\"sign\",\"tree\",\"tree\",\"tree\",\"tree\",\"tree\",\"tree\",\"parking_lot\",\"vineyard\",\"vineyard\",\"building\",\"shed\",\"solar_panel\",\"building\",\"parking_lot\",\"shed\",\"building\",\"swimming_pool\",\"courtyard\",\"vineyard\",\"vineyard\",\"generator\",\"parking_lot\",\"carport\",\"bicycle_rack\",\"shed\",\"sculpture\",\"patio\",\"patio\",\"shed\",\"picnic_table\",\"picnic_table\",\"picnic_umbrella\",\"picnic_umbrella\",\"picnic_umbrella\",\"picnic_umbrella\",\"picnic_table\",\"picnic_table\",\"shed\",\"shed\",\"shed\",\"tree\",\"tree\",\"tree\",\"tree\",\"tree\",\"tree\",\"tree\",\"building\",\"pond\",\"bridge\",\"island\",\"vineyard\",\"swimming_pool\",\"building\",\"building\",\"tennis_court\",\"swimming_pool\",\"shade_cloth\",\"sign\",\"warehouse\",\"vat\",\"vat\",\"vat\",\"vat\",\"building\",\"parking_lot\",\"solar_panels\",\"solar_panels\",\"building\",\"fence\",\"jetty\",\"picnic_table\",\"picnic_table\",\"tank\",\"tank\",\"shed\",\"shipping_container\",\"shipping_container\",\"shipping_container\",\"shipping_container\",\"vineyard\",\"vineyard\",\"river\",\"vineyard\",\"vineyard\",\"parking_lot\",\"shed\",\"sign\",\"table\",\"table\",\"table\",\"table\",\"wine_barrell\",\"counter\",\"shed\",\"fence\",\"sign\",\"driveway\",\"picnic_table\",\"picnic_table\",\"picnic_table\",\"picnic_table\",\"picnic_table\",\"picnic_table\"],\"lat\":[-31.81445187554597,-31.81451940926452,-31.8145718117269,-31.81458084078105,-31.81462157655873,-31.81454971676524,-31.81448193361258,-31.81444773977627,-31.8143890181285,-31.81439660859307,-31.81434027785148,-31.81429434468795,-31.81429169178455,-31.81420767463152,-31.81394919889622,-31.81439717390363,-31.81432230857389,-31.8135457777316,-31.82401586475119,-31.82402821801069,-31.82400450902502,-31.82400258090139,-31.82417864772208,-31.82406166208574,-31.82414265894136,-31.82427841722326,-31.82414274552135,-31.82416289887374,-31.82414373469494,-31.82414175485055,-31.82429678566091,-31.8238198185718,-31.82470742057825,-31.8242299537138,-31.82369416405801,-31.82347585518145,-31.82372524293678,-31.79711445941102,-31.79711822124566,-31.79711822124567,-31.79711445941102,-31.79692113693582,-31.79707299441964,-31.79707639334401,-31.79701796869119,-31.79702180433045,-31.79695848151606,-31.7969572497282,-31.79698640377645,-31.79698932185287,-31.7946673883335,-31.79676259008081,-31.79676332889907,-31.79669029290958,-31.79664133173589,-31.79691654618838,-31.79658001770868,-31.79630852369076,-31.79620849056571,-31.79646472091715,-31.83039735327537,-31.83060476817275,-31.83020873465989,-31.83033573653752,-31.83038472086931,-31.83023391039609,-31.83047573335856,-31.83050151773064,-31.83051242847542,-31.83042950292597,-31.83048831452484,-31.83039290156244,-31.83042013524614,-31.83039529464335,-31.83041309005974,-31.83059039674292,-31.83062496370694,-31.83044919552612,-31.83055048589921,-31.83057537982879,-31.8306575917034,-31.83065965298827,-31.83079043292682,-31.83079112085596,-31.83079315668379,-31.83078775293374,-31.83079115492708,-31.83078777975723,-31.83079186264361,-31.84668336675156,-31.84590359767057,-31.84638920015648,-31.84633325480655,-31.84630620908671,-31.84642682355494,-31.84660379451255,-31.84534087718281,-31.84497134212882,-31.84520480790187,-31.84519057474693,-31.84696779013872,-31.84505951047444,-31.84518456887401,-31.84515103476856,-31.84510853881709,-31.84507695999562,-31.84512567428841,-31.84527487175123,-31.84487684093081,-31.84496527724279,-31.84505688510912,-31.84523158062051,-31.84538040931631,-31.84537004084413,-31.84537006574641,-31.84488600975254,-31.84485397635064,-31.84513430001038,-31.84466167779774,-31.84469149573804,-31.84472428455821,-31.84468823575176,-31.84538344253644,-31.84424690471754,-31.85109633797458,-31.85068649170797,-31.85278296339006,-31.85188710724418,-31.85210550561943,-31.8518872114326,-31.85182659388803,-31.85182616279369,-31.85182820538461,-31.85182506326957,-31.85189307872191,-31.85188320881234,-31.8518732548151,-31.85182222748639,-31.85198713829637,-31.85192250139609,-31.85189392826163,-31.85187442908764,-31.8518030858586,-31.8518024058948,-31.85180059356636,-31.85180195605045],\"legendgroup\":\"\",\"lon\":[116.0183374663027,116.0183259785979,116.0183161354075,116.0182529749383,116.0182086643162,116.0182128388363,116.018223361407,116.0182823408421,116.01821750659,116.0182474062873,116.0181813817572,116.0182631395714,116.0181961643027,116.0182334670006,116.0179055434116,116.0180953620699,116.0178051456259,116.0179865644773,116.0009142164415,116.000930932033,116.0009778539811,116.00092060426,116.0006048976215,116.0005802543637,116.0005190872192,116.0007722909438,116.0010150860718,116.0009461560145,116.0008411872399,116.0011891817338,116.0015213385211,116.0011641432193,116.0008309768264,116.0024406990624,116.0018976598281,116.0008501775059,116.0005857862165,116.0458851425753,116.0457670563354,116.0457670563353,116.0458851425753,116.0458175186144,116.0457592802574,116.0458562580698,116.0458650464963,116.0457701043378,116.0458575517662,116.0457695358829,116.0456561146581,116.0459678755513,116.0454319290855,116.0458568785181,116.0450705556765,116.0451148633962,116.0465802282568,116.0452797276304,116.045049160885,116.0451629606889,116.0452886782776,116.0458601290954,115.998939146043,115.9977318524493,115.9974576751721,115.9977420660818,115.997502299226,115.9974572459445,115.9977050969983,115.997777721079,115.997669167832,115.997431381974,115.9973518616014,115.9973090452622,115.9972816677781,115.9973045597328,115.9972807007919,115.9974222588125,115.9973755276259,115.9972085542997,115.9971975624587,115.9972416499528,115.9971742512736,115.997296680735,115.9971388569162,115.9971802611804,115.9972163578717,115.9972577899615,115.9973048744194,115.9973561509557,115.9974216940731,116.0086270958327,116.0076430354346,116.0075575103231,116.0077438974485,116.0059960349935,116.0046871040282,116.0047242747774,116.0049137333173,116.0049529458494,116.0046804703044,116.0046414836387,116.0066284586833,116.0060571495129,116.0063688107167,116.0063718225668,116.0063741620266,116.0063804564964,116.0066406806117,116.0070043014552,116.0073642354885,116.0073623012661,116.007341994294,116.0072570321877,116.007597008791,116.0075393399854,116.0076604504979,116.0068656915519,116.0066919339338,116.0072291966907,116.0072432872027,116.0072381097506,116.0072390830616,116.0074225863559,116.0124205441503,116.0066393647114,115.995810298809,115.9902290551793,115.9901750632805,115.9901520456193,115.9903190941192,115.9903556704859,115.9905306771903,115.9905475047897,115.9905655610603,115.9905862473149,115.9904467156551,115.9904835715709,115.990598423206,115.9903645411195,115.9877336890102,115.9889759412021,115.9908535353204,115.990901684718,115.9909205172935,115.9908668295001,115.9908006953241,115.9907526922321],\"marker\":{\"color\":\"#636efa\"},\"mode\":\"markers\",\"name\":\"\",\"showlegend\":false,\"subplot\":\"mapbox\",\"type\":\"scattermapbox\"},{\"hovertemplate\":\"<b>%{hovertext}</b><br><br>lat=%{lat}<br>lon=%{lon}<extra></extra>\",\"hovertext\":[\"Sandalford Winery\",\"Nikola Estate\",\"Edgecombe Brothers\",\"Little River Winery and Caf\\u00e9\",\"Black Swan Winery and Restaurant\",\"Lancaster Wines\",\"Mandoon Estate\",\"Mandoon Vineyard\",\"Oakover Grounds\",\"Henley Park Winery\",\"Upper Reach Winery\",\"Mann Winery\",\"Harris Organic Wines and Spirits\",\"John Kosovich Wines\",\"Twin Hill Wines\",\"Olive Farm Wines\",\"Ali's Vineyard\",\"Talijancich\",\"Tyler's Vineyard\",\"Fig Tree Estate Winery\",\"Lamont's Winery\",\"Faber Vineyard\",\"Swan Valley Wines\",\"Windy Creek Estate\",\"Holy Mary Cellars\",\"Jarrah Ridge Wines\",\"Katgully Wines Cellar Door\",\"Sittella\",\"Ugly Duckling Wines\",\"Heafod Glen Winery\",\"Ambrook Wines\"],\"lat\":[-31.868701,-31.854112,-31.795187,-31.824124,-31.823404,-31.85226,-31.868266,-31.867594,-31.84508,-31.797776,-31.795033,-31.793688,-31.794595,-31.795346,-31.796729,-31.811995,-31.814194,-31.818507,-31.812921,-31.804387,-31.80323,-31.796771,-31.796915,-31.830487,-31.835658,-31.836499,-31.835449,-31.830083,-31.830502,-31.822945,-31.871998],\"legendgroup\":\"\",\"lon\":[115.992759,115.997995,115.998571,116.000888,116.00085,115.988887,115.994991,115.995494,116.007327,116.001641,116.008634,116.012546,116.02083,116.02076,116.020781,116.022232,116.01822,116.020341,116.040805,116.04003,116.037443,116.045655,116.048836,116.03056,116.021676,116.015532,116.021235,116.006851,115.997425,115.996817,115.981779],\"marker\":{\"color\":\"#636efa\"},\"mode\":\"markers\",\"name\":\"\",\"showlegend\":false,\"subplot\":\"mapbox\",\"type\":\"scattermapbox\"}],                        {\"template\":{\"data\":{\"histogram2dcontour\":[{\"type\":\"histogram2dcontour\",\"colorbar\":{\"outlinewidth\":0,\"ticks\":\"\"},\"colorscale\":[[0.0,\"#0d0887\"],[0.1111111111111111,\"#46039f\"],[0.2222222222222222,\"#7201a8\"],[0.3333333333333333,\"#9c179e\"],[0.4444444444444444,\"#bd3786\"],[0.5555555555555556,\"#d8576b\"],[0.6666666666666666,\"#ed7953\"],[0.7777777777777778,\"#fb9f3a\"],[0.8888888888888888,\"#fdca26\"],[1.0,\"#f0f921\"]]}],\"choropleth\":[{\"type\":\"choropleth\",\"colorbar\":{\"outlinewidth\":0,\"ticks\":\"\"}}],\"histogram2d\":[{\"type\":\"histogram2d\",\"colorbar\":{\"outlinewidth\":0,\"ticks\":\"\"},\"colorscale\":[[0.0,\"#0d0887\"],[0.1111111111111111,\"#46039f\"],[0.2222222222222222,\"#7201a8\"],[0.3333333333333333,\"#9c179e\"],[0.4444444444444444,\"#bd3786\"],[0.5555555555555556,\"#d8576b\"],[0.6666666666666666,\"#ed7953\"],[0.7777777777777778,\"#fb9f3a\"],[0.8888888888888888,\"#fdca26\"],[1.0,\"#f0f921\"]]}],\"heatmap\":[{\"type\":\"heatmap\",\"colorbar\":{\"outlinewidth\":0,\"ticks\":\"\"},\"colorscale\":[[0.0,\"#0d0887\"],[0.1111111111111111,\"#46039f\"],[0.2222222222222222,\"#7201a8\"],[0.3333333333333333,\"#9c179e\"],[0.4444444444444444,\"#bd3786\"],[0.5555555555555556,\"#d8576b\"],[0.6666666666666666,\"#ed7953\"],[0.7777777777777778,\"#fb9f3a\"],[0.8888888888888888,\"#fdca26\"],[1.0,\"#f0f921\"]]}],\"heatmapgl\":[{\"type\":\"heatmapgl\",\"colorbar\":{\"outlinewidth\":0,\"ticks\":\"\"},\"colorscale\":[[0.0,\"#0d0887\"],[0.1111111111111111,\"#46039f\"],[0.2222222222222222,\"#7201a8\"],[0.3333333333333333,\"#9c179e\"],[0.4444444444444444,\"#bd3786\"],[0.5555555555555556,\"#d8576b\"],[0.6666666666666666,\"#ed7953\"],[0.7777777777777778,\"#fb9f3a\"],[0.8888888888888888,\"#fdca26\"],[1.0,\"#f0f921\"]]}],\"contourcarpet\":[{\"type\":\"contourcarpet\",\"colorbar\":{\"outlinewidth\":0,\"ticks\":\"\"}}],\"contour\":[{\"type\":\"contour\",\"colorbar\":{\"outlinewidth\":0,\"ticks\":\"\"},\"colorscale\":[[0.0,\"#0d0887\"],[0.1111111111111111,\"#46039f\"],[0.2222222222222222,\"#7201a8\"],[0.3333333333333333,\"#9c179e\"],[0.4444444444444444,\"#bd3786\"],[0.5555555555555556,\"#d8576b\"],[0.6666666666666666,\"#ed7953\"],[0.7777777777777778,\"#fb9f3a\"],[0.8888888888888888,\"#fdca26\"],[1.0,\"#f0f921\"]]}],\"surface\":[{\"type\":\"surface\",\"colorbar\":{\"outlinewidth\":0,\"ticks\":\"\"},\"colorscale\":[[0.0,\"#0d0887\"],[0.1111111111111111,\"#46039f\"],[0.2222222222222222,\"#7201a8\"],[0.3333333333333333,\"#9c179e\"],[0.4444444444444444,\"#bd3786\"],[0.5555555555555556,\"#d8576b\"],[0.6666666666666666,\"#ed7953\"],[0.7777777777777778,\"#fb9f3a\"],[0.8888888888888888,\"#fdca26\"],[1.0,\"#f0f921\"]]}],\"mesh3d\":[{\"type\":\"mesh3d\",\"colorbar\":{\"outlinewidth\":0,\"ticks\":\"\"}}],\"scatter\":[{\"fillpattern\":{\"fillmode\":\"overlay\",\"size\":10,\"solidity\":0.2},\"type\":\"scatter\"}],\"parcoords\":[{\"type\":\"parcoords\",\"line\":{\"colorbar\":{\"outlinewidth\":0,\"ticks\":\"\"}}}],\"scatterpolargl\":[{\"type\":\"scatterpolargl\",\"marker\":{\"colorbar\":{\"outlinewidth\":0,\"ticks\":\"\"}}}],\"bar\":[{\"error_x\":{\"color\":\"#2a3f5f\"},\"error_y\":{\"color\":\"#2a3f5f\"},\"marker\":{\"line\":{\"color\":\"#E5ECF6\",\"width\":0.5},\"pattern\":{\"fillmode\":\"overlay\",\"size\":10,\"solidity\":0.2}},\"type\":\"bar\"}],\"scattergeo\":[{\"type\":\"scattergeo\",\"marker\":{\"colorbar\":{\"outlinewidth\":0,\"ticks\":\"\"}}}],\"scatterpolar\":[{\"type\":\"scatterpolar\",\"marker\":{\"colorbar\":{\"outlinewidth\":0,\"ticks\":\"\"}}}],\"histogram\":[{\"marker\":{\"pattern\":{\"fillmode\":\"overlay\",\"size\":10,\"solidity\":0.2}},\"type\":\"histogram\"}],\"scattergl\":[{\"type\":\"scattergl\",\"marker\":{\"colorbar\":{\"outlinewidth\":0,\"ticks\":\"\"}}}],\"scatter3d\":[{\"type\":\"scatter3d\",\"line\":{\"colorbar\":{\"outlinewidth\":0,\"ticks\":\"\"}},\"marker\":{\"colorbar\":{\"outlinewidth\":0,\"ticks\":\"\"}}}],\"scattermapbox\":[{\"type\":\"scattermapbox\",\"marker\":{\"colorbar\":{\"outlinewidth\":0,\"ticks\":\"\"}}}],\"scatterternary\":[{\"type\":\"scatterternary\",\"marker\":{\"colorbar\":{\"outlinewidth\":0,\"ticks\":\"\"}}}],\"scattercarpet\":[{\"type\":\"scattercarpet\",\"marker\":{\"colorbar\":{\"outlinewidth\":0,\"ticks\":\"\"}}}],\"carpet\":[{\"aaxis\":{\"endlinecolor\":\"#2a3f5f\",\"gridcolor\":\"white\",\"linecolor\":\"white\",\"minorgridcolor\":\"white\",\"startlinecolor\":\"#2a3f5f\"},\"baxis\":{\"endlinecolor\":\"#2a3f5f\",\"gridcolor\":\"white\",\"linecolor\":\"white\",\"minorgridcolor\":\"white\",\"startlinecolor\":\"#2a3f5f\"},\"type\":\"carpet\"}],\"table\":[{\"cells\":{\"fill\":{\"color\":\"#EBF0F8\"},\"line\":{\"color\":\"white\"}},\"header\":{\"fill\":{\"color\":\"#C8D4E3\"},\"line\":{\"color\":\"white\"}},\"type\":\"table\"}],\"barpolar\":[{\"marker\":{\"line\":{\"color\":\"#E5ECF6\",\"width\":0.5},\"pattern\":{\"fillmode\":\"overlay\",\"size\":10,\"solidity\":0.2}},\"type\":\"barpolar\"}],\"pie\":[{\"automargin\":true,\"type\":\"pie\"}]},\"layout\":{\"autotypenumbers\":\"strict\",\"colorway\":[\"#636efa\",\"#EF553B\",\"#00cc96\",\"#ab63fa\",\"#FFA15A\",\"#19d3f3\",\"#FF6692\",\"#B6E880\",\"#FF97FF\",\"#FECB52\"],\"font\":{\"color\":\"#2a3f5f\"},\"hovermode\":\"closest\",\"hoverlabel\":{\"align\":\"left\"},\"paper_bgcolor\":\"white\",\"plot_bgcolor\":\"#E5ECF6\",\"polar\":{\"bgcolor\":\"#E5ECF6\",\"angularaxis\":{\"gridcolor\":\"white\",\"linecolor\":\"white\",\"ticks\":\"\"},\"radialaxis\":{\"gridcolor\":\"white\",\"linecolor\":\"white\",\"ticks\":\"\"}},\"ternary\":{\"bgcolor\":\"#E5ECF6\",\"aaxis\":{\"gridcolor\":\"white\",\"linecolor\":\"white\",\"ticks\":\"\"},\"baxis\":{\"gridcolor\":\"white\",\"linecolor\":\"white\",\"ticks\":\"\"},\"caxis\":{\"gridcolor\":\"white\",\"linecolor\":\"white\",\"ticks\":\"\"}},\"coloraxis\":{\"colorbar\":{\"outlinewidth\":0,\"ticks\":\"\"}},\"colorscale\":{\"sequential\":[[0.0,\"#0d0887\"],[0.1111111111111111,\"#46039f\"],[0.2222222222222222,\"#7201a8\"],[0.3333333333333333,\"#9c179e\"],[0.4444444444444444,\"#bd3786\"],[0.5555555555555556,\"#d8576b\"],[0.6666666666666666,\"#ed7953\"],[0.7777777777777778,\"#fb9f3a\"],[0.8888888888888888,\"#fdca26\"],[1.0,\"#f0f921\"]],\"sequentialminus\":[[0.0,\"#0d0887\"],[0.1111111111111111,\"#46039f\"],[0.2222222222222222,\"#7201a8\"],[0.3333333333333333,\"#9c179e\"],[0.4444444444444444,\"#bd3786\"],[0.5555555555555556,\"#d8576b\"],[0.6666666666666666,\"#ed7953\"],[0.7777777777777778,\"#fb9f3a\"],[0.8888888888888888,\"#fdca26\"],[1.0,\"#f0f921\"]],\"diverging\":[[0,\"#8e0152\"],[0.1,\"#c51b7d\"],[0.2,\"#de77ae\"],[0.3,\"#f1b6da\"],[0.4,\"#fde0ef\"],[0.5,\"#f7f7f7\"],[0.6,\"#e6f5d0\"],[0.7,\"#b8e186\"],[0.8,\"#7fbc41\"],[0.9,\"#4d9221\"],[1,\"#276419\"]]},\"xaxis\":{\"gridcolor\":\"white\",\"linecolor\":\"white\",\"ticks\":\"\",\"title\":{\"standoff\":15},\"zerolinecolor\":\"white\",\"automargin\":true,\"zerolinewidth\":2},\"yaxis\":{\"gridcolor\":\"white\",\"linecolor\":\"white\",\"ticks\":\"\",\"title\":{\"standoff\":15},\"zerolinecolor\":\"white\",\"automargin\":true,\"zerolinewidth\":2},\"scene\":{\"xaxis\":{\"backgroundcolor\":\"#E5ECF6\",\"gridcolor\":\"white\",\"linecolor\":\"white\",\"showbackground\":true,\"ticks\":\"\",\"zerolinecolor\":\"white\",\"gridwidth\":2},\"yaxis\":{\"backgroundcolor\":\"#E5ECF6\",\"gridcolor\":\"white\",\"linecolor\":\"white\",\"showbackground\":true,\"ticks\":\"\",\"zerolinecolor\":\"white\",\"gridwidth\":2},\"zaxis\":{\"backgroundcolor\":\"#E5ECF6\",\"gridcolor\":\"white\",\"linecolor\":\"white\",\"showbackground\":true,\"ticks\":\"\",\"zerolinecolor\":\"white\",\"gridwidth\":2}},\"shapedefaults\":{\"line\":{\"color\":\"#2a3f5f\"}},\"annotationdefaults\":{\"arrowcolor\":\"#2a3f5f\",\"arrowhead\":0,\"arrowwidth\":1},\"geo\":{\"bgcolor\":\"white\",\"landcolor\":\"#E5ECF6\",\"subunitcolor\":\"white\",\"showland\":true,\"showlakes\":true,\"lakecolor\":\"white\"},\"title\":{\"x\":0.05},\"mapbox\":{\"style\":\"light\"}}},\"mapbox\":{\"domain\":{\"x\":[0.0,1.0],\"y\":[0.0,1.0]},\"center\":{\"lat\":-31.829142815097253,\"lon\":116.00928029017983},\"zoom\":8,\"style\":\"open-street-map\"},\"legend\":{\"tracegroupgap\":0},\"margin\":{\"t\":0,\"r\":0,\"l\":0,\"b\":0}},                        {\"responsive\": true}                    ).then(function(){\n",
       "                            \n",
       "var gd = document.getElementById('be7910e6-ac80-4161-8425-f8677a402018');\n",
       "var x = new MutationObserver(function (mutations, observer) {{\n",
       "        var display = window.getComputedStyle(gd).display;\n",
       "        if (!display || display === 'none') {{\n",
       "            console.log([gd, 'removed!']);\n",
       "            Plotly.purge(gd);\n",
       "            observer.disconnect();\n",
       "        }}\n",
       "}});\n",
       "\n",
       "// Listen for the removal of the full notebook cells\n",
       "var notebookContainer = gd.closest('#notebook-container');\n",
       "if (notebookContainer) {{\n",
       "    x.observe(notebookContainer, {childList: true});\n",
       "}}\n",
       "\n",
       "// Listen for the clearing of the current output cell\n",
       "var outputEl = gd.closest('.output');\n",
       "if (outputEl) {{\n",
       "    x.observe(outputEl, {childList: true});\n",
       "}}\n",
       "\n",
       "                        })                };                });            </script>        </div>"
      ]
     },
     "metadata": {},
     "output_type": "display_data"
    }
   ],
   "source": [
    "\n",
    "\n",
    "fig = px.scatter_mapbox(geo_df,\n",
    "                    lat=geo_df.geometry.y,\n",
    "                    lon=geo_df.geometry.x,\n",
    "                    hover_name=\"object\")\n",
    "\n",
    "fig2 = px.scatter_mapbox(geo_locs, \n",
    "                        lat = geo_locs.geometry.y,\n",
    "                        lon = geo_locs.geometry.x,\n",
    "                        hover_name=\"location\")\n",
    "\n",
    "fig.add_trace(fig2.data[0])\n",
    "fig.update_layout(\n",
    "    mapbox_style=\"open-street-map\")\n",
    "fig.update_layout(margin={\"r\":0,\"t\":0,\"l\":0,\"b\":0})\n",
    "fig.show()"
   ]
  },
  {
   "cell_type": "markdown",
   "id": "9d26e016",
   "metadata": {},
   "source": [
    "## KMEANS"
   ]
  },
  {
   "cell_type": "markdown",
   "id": "e359f13c",
   "metadata": {},
   "source": [
    "### K is Perfect \n",
    "(i.e. For 6 Clusters of Objects, we tell it to make 6 Clusters)\n",
    "\n",
    "### Inference Results:\n",
    "\n",
    "    True     145\n",
    "    False      1\n",
    "    \n",
    "### Clusters:\n",
    "\n",
    "    1    35\n",
    "    5    29\n",
    "    0    23\n",
    "    4    22\n",
    "    2    19\n",
    "    3    18\n",
    "\n",
    "That false one turns out to be a labelling error in the data"
   ]
  },
  {
   "cell_type": "code",
   "execution_count": 99,
   "id": "173ea6be",
   "metadata": {},
   "outputs": [
    {
     "data": {
      "application/vnd.plotly.v1+json": {
       "config": {
        "plotlyServerURL": "https://plot.ly"
       },
       "data": [
        {
         "customdata": [
          [
           "Ali's Vineyard",
           "Alis_Vineyard"
          ],
          [
           "Ali's Vineyard",
           "Alis_Vineyard"
          ],
          [
           "Ali's Vineyard",
           "Alis_Vineyard"
          ],
          [
           "Ali's Vineyard",
           "Alis_Vineyard"
          ],
          [
           "Ali's Vineyard",
           "Alis_Vineyard"
          ],
          [
           "Ali's Vineyard",
           "Alis_Vineyard"
          ],
          [
           "Ali's Vineyard",
           "Alis_Vineyard"
          ],
          [
           "Ali's Vineyard",
           "Alis_Vineyard"
          ],
          [
           "Ali's Vineyard",
           "Alis_Vineyard"
          ],
          [
           "Ali's Vineyard",
           "Alis_Vineyard"
          ],
          [
           "Ali's Vineyard",
           "Alis_Vineyard"
          ],
          [
           "Ali's Vineyard",
           "Alis_Vineyard"
          ],
          [
           "Ali's Vineyard",
           "Alis_Vineyard"
          ],
          [
           "Ali's Vineyard",
           "Alis_Vineyard"
          ],
          [
           "Ali's Vineyard",
           "Alis_Vineyard"
          ],
          [
           "Ali's Vineyard",
           "Alis_Vineyard"
          ],
          [
           "Ali's Vineyard",
           "Alis_Vineyard"
          ],
          [
           "Ali's Vineyard",
           "Alis_Vineyard"
          ],
          [
           "Little River Winery and Café",
           "Little_River_Winery"
          ],
          [
           "Little River Winery and Café",
           "Little_River_Winery"
          ],
          [
           "Little River Winery and Café",
           "Little_River_Winery"
          ],
          [
           "Little River Winery and Café",
           "Little_River_Winery"
          ],
          [
           "Little River Winery and Café",
           "Little_River_Winery"
          ],
          [
           "Little River Winery and Café",
           "Little_River_Winery"
          ],
          [
           "Little River Winery and Café",
           "Little_River_Winery"
          ],
          [
           "Little River Winery and Café",
           "Little_River_Winery"
          ],
          [
           "Little River Winery and Café",
           "Little_River_Winery"
          ],
          [
           "Little River Winery and Café",
           "Little_River_Winery"
          ],
          [
           "Little River Winery and Café",
           "Little_River_Winery"
          ],
          [
           "Little River Winery and Café",
           "Little_River_Winery"
          ],
          [
           "Little River Winery and Café",
           "Little_River_Winery"
          ],
          [
           "Little River Winery and Café",
           "Little_River_Winery"
          ],
          [
           "Little River Winery and Café",
           "Little_River_Winery"
          ],
          [
           "Little River Winery and Café",
           "Little_River_Winery"
          ],
          [
           "Little River Winery and Café",
           "Little_River_Winery"
          ],
          [
           "Little River Winery and Café",
           "Little_River_Winery"
          ],
          [
           "Little River Winery and Café",
           "Little_River_Winery"
          ],
          [
           "Faber Vineyard",
           "Faber_Vineyard"
          ],
          [
           "Faber Vineyard",
           "Faber_Vineyard"
          ],
          [
           "Faber Vineyard",
           "Faber_Vineyard"
          ],
          [
           "Faber Vineyard",
           "Faber_Vineyard"
          ],
          [
           "Faber Vineyard",
           "Faber_Vineyard"
          ],
          [
           "Faber Vineyard",
           "Faber_Vineyard"
          ],
          [
           "Faber Vineyard",
           "Faber_Vineyard"
          ],
          [
           "Faber Vineyard",
           "Faber_Vineyard"
          ],
          [
           "Faber Vineyard",
           "Faber_Vineyard"
          ],
          [
           "Faber Vineyard",
           "Faber_Vineyard"
          ],
          [
           "Faber Vineyard",
           "Faber_Vineyard"
          ],
          [
           "Faber Vineyard",
           "Faber_Vineyard"
          ],
          [
           "Faber Vineyard",
           "Faber_Vineyard"
          ],
          [
           "Faber Vineyard",
           "Faber_Vineyard"
          ],
          [
           "Faber Vineyard",
           "Faber_Vineyard"
          ],
          [
           "Faber Vineyard",
           "Faber_Vineyard"
          ],
          [
           "Faber Vineyard",
           "Faber_Vineyard"
          ],
          [
           "Faber Vineyard",
           "Faber_Vineyard"
          ],
          [
           "Faber Vineyard",
           "Faber_Vineyard"
          ],
          [
           "Faber Vineyard",
           "Faber_Vineyard"
          ],
          [
           "Faber Vineyard",
           "Faber_Vineyard"
          ],
          [
           "Faber Vineyard",
           "Faber_Vineyard"
          ],
          [
           "Faber Vineyard",
           "Faber_Vineyard"
          ],
          [
           "Ugly Duckling Wines",
           "Faber_Vineyard"
          ],
          [
           "Ugly Duckling Wines",
           "Ugly_Duckling_Wines"
          ],
          [
           "Ugly Duckling Wines",
           "Ugly_Duckling_Wines"
          ],
          [
           "Ugly Duckling Wines",
           "Ugly_Duckling_Wines"
          ],
          [
           "Ugly Duckling Wines",
           "Ugly_Duckling_Wines"
          ],
          [
           "Ugly Duckling Wines",
           "Ugly_Duckling_Wines"
          ],
          [
           "Ugly Duckling Wines",
           "Ugly_Duckling_Wines"
          ],
          [
           "Ugly Duckling Wines",
           "Ugly_Duckling_Wines"
          ],
          [
           "Ugly Duckling Wines",
           "Ugly_Duckling_Wines"
          ],
          [
           "Ugly Duckling Wines",
           "Ugly_Duckling_Wines"
          ],
          [
           "Ugly Duckling Wines",
           "Ugly_Duckling_Wines"
          ],
          [
           "Ugly Duckling Wines",
           "Ugly_Duckling_Wines"
          ],
          [
           "Ugly Duckling Wines",
           "Ugly_Duckling_Wines"
          ],
          [
           "Ugly Duckling Wines",
           "Ugly_Duckling_Wines"
          ],
          [
           "Ugly Duckling Wines",
           "Ugly_Duckling_Wines"
          ],
          [
           "Ugly Duckling Wines",
           "Ugly_Duckling_Wines"
          ],
          [
           "Ugly Duckling Wines",
           "Ugly_Duckling_Wines"
          ],
          [
           "Ugly Duckling Wines",
           "Ugly_Duckling_Wines"
          ],
          [
           "Ugly Duckling Wines",
           "Ugly_Duckling_Wines"
          ],
          [
           "Ugly Duckling Wines",
           "Ugly_Duckling_Wines"
          ],
          [
           "Ugly Duckling Wines",
           "Ugly_Duckling_Wines"
          ],
          [
           "Ugly Duckling Wines",
           "Ugly_Duckling_Wines"
          ],
          [
           "Ugly Duckling Wines",
           "Ugly_Duckling_Wines"
          ],
          [
           "Ugly Duckling Wines",
           "Ugly_Duckling_Wines"
          ],
          [
           "Ugly Duckling Wines",
           "Ugly_Duckling_Wines"
          ],
          [
           "Ugly Duckling Wines",
           "Ugly_Duckling_Wines"
          ],
          [
           "Ugly Duckling Wines",
           "Ugly_Duckling_Wines"
          ],
          [
           "Ugly Duckling Wines",
           "Ugly_Duckling_Wines"
          ],
          [
           "Ugly Duckling Wines",
           "Ugly_Duckling_Wines"
          ],
          [
           "Oakover Grounds",
           "Oakover_Grounds"
          ],
          [
           "Oakover Grounds",
           "Oakover_Grounds"
          ],
          [
           "Oakover Grounds",
           "Oakover_Grounds"
          ],
          [
           "Oakover Grounds",
           "Oakover_Grounds"
          ],
          [
           "Oakover Grounds",
           "Oakover_Grounds"
          ],
          [
           "Oakover Grounds",
           "Oakover_Grounds"
          ],
          [
           "Oakover Grounds",
           "Oakover_Grounds"
          ],
          [
           "Oakover Grounds",
           "Oakover_Grounds"
          ],
          [
           "Oakover Grounds",
           "Oakover_Grounds"
          ],
          [
           "Oakover Grounds",
           "Oakover_Grounds"
          ],
          [
           "Oakover Grounds",
           "Oakover_Grounds"
          ],
          [
           "Oakover Grounds",
           "Oakover_Grounds"
          ],
          [
           "Oakover Grounds",
           "Oakover_Grounds"
          ],
          [
           "Oakover Grounds",
           "Oakover_Grounds"
          ],
          [
           "Oakover Grounds",
           "Oakover_Grounds"
          ],
          [
           "Oakover Grounds",
           "Oakover_Grounds"
          ],
          [
           "Oakover Grounds",
           "Oakover_Grounds"
          ],
          [
           "Oakover Grounds",
           "Oakover_Grounds"
          ],
          [
           "Oakover Grounds",
           "Oakover_Grounds"
          ],
          [
           "Oakover Grounds",
           "Oakover_Grounds"
          ],
          [
           "Oakover Grounds",
           "Oakover_Grounds"
          ],
          [
           "Oakover Grounds",
           "Oakover_Grounds"
          ],
          [
           "Oakover Grounds",
           "Oakover_Grounds"
          ],
          [
           "Oakover Grounds",
           "Oakover_Grounds"
          ],
          [
           "Oakover Grounds",
           "Oakover_Grounds"
          ],
          [
           "Oakover Grounds",
           "Oakover_Grounds"
          ],
          [
           "Oakover Grounds",
           "Oakover_Grounds"
          ],
          [
           "Oakover Grounds",
           "Oakover_Grounds"
          ],
          [
           "Oakover Grounds",
           "Oakover_Grounds"
          ],
          [
           "Oakover Grounds",
           "Oakover_Grounds"
          ],
          [
           "Oakover Grounds",
           "Oakover_Grounds"
          ],
          [
           "Oakover Grounds",
           "Oakover_Grounds"
          ],
          [
           "Oakover Grounds",
           "Oakover_Grounds"
          ],
          [
           "Oakover Grounds",
           "Oakover_Grounds"
          ],
          [
           "Oakover Grounds",
           "Oakover_Grounds"
          ],
          [
           "Lancaster Wines",
           "Lancaster_Wines"
          ],
          [
           "Lancaster Wines",
           "Lancaster_Wines"
          ],
          [
           "Lancaster Wines",
           "Lancaster_Wines"
          ],
          [
           "Lancaster Wines",
           "Lancaster_Wines"
          ],
          [
           "Lancaster Wines",
           "Lancaster_Wines"
          ],
          [
           "Lancaster Wines",
           "Lancaster_Wines"
          ],
          [
           "Lancaster Wines",
           "Lancaster_Wines"
          ],
          [
           "Lancaster Wines",
           "Lancaster_Wines"
          ],
          [
           "Lancaster Wines",
           "Lancaster_Wines"
          ],
          [
           "Lancaster Wines",
           "Lancaster_Wines"
          ],
          [
           "Lancaster Wines",
           "Lancaster_Wines"
          ],
          [
           "Lancaster Wines",
           "Lancaster_Wines"
          ],
          [
           "Lancaster Wines",
           "Lancaster_Wines"
          ],
          [
           "Lancaster Wines",
           "Lancaster_Wines"
          ],
          [
           "Lancaster Wines",
           "Lancaster_Wines"
          ],
          [
           "Lancaster Wines",
           "Lancaster_Wines"
          ],
          [
           "Lancaster Wines",
           "Lancaster_Wines"
          ],
          [
           "Lancaster Wines",
           "Lancaster_Wines"
          ],
          [
           "Lancaster Wines",
           "Lancaster_Wines"
          ],
          [
           "Lancaster Wines",
           "Lancaster_Wines"
          ],
          [
           "Lancaster Wines",
           "Lancaster_Wines"
          ],
          [
           "Lancaster Wines",
           "Lancaster_Wines"
          ]
         ],
         "hovertemplate": "<b>%{hovertext}</b><br><br>lat=%{lat}<br>lon=%{lon}<br>predicted_location_kmeans=%{customdata[0]}<br>true_location=%{customdata[1]}<br>cluster=%{marker.color}<extra></extra>",
         "hovertext": [
          "palm_tree",
          "palm_tree",
          "palm_tree",
          "palm_tree",
          "palm_tree",
          "palm_tree",
          "palm_tree",
          "palm_tree",
          "palm_tree",
          "palm_tree",
          "palm_tree",
          "palm_tree",
          "pizza_oven",
          "air_conditioner",
          "building",
          "shed",
          "shed",
          "shed",
          "picnic_bench",
          "picnic_bench",
          "planter",
          "planter",
          "building",
          "parking_lot",
          "patio",
          "water_tank",
          "air_conitioner",
          "patio",
          "building",
          "shed",
          "building",
          "building",
          "vineyard",
          "vineyard",
          "vineyard",
          "building",
          "parking_lot",
          "retaining_wall",
          "retaining_wall",
          "sign",
          "sign",
          "sign",
          "tree",
          "tree",
          "tree",
          "tree",
          "tree",
          "tree",
          "parking_lot",
          "vineyard",
          "vineyard",
          "building",
          "shed",
          "solar_panel",
          "building",
          "parking_lot",
          "shed",
          "building",
          "swimming_pool",
          "courtyard",
          "vineyard",
          "vineyard",
          "generator",
          "parking_lot",
          "carport",
          "bicycle_rack",
          "shed",
          "sculpture",
          "patio",
          "patio",
          "shed",
          "picnic_table",
          "picnic_table",
          "picnic_umbrella",
          "picnic_umbrella",
          "picnic_umbrella",
          "picnic_umbrella",
          "picnic_table",
          "picnic_table",
          "shed",
          "shed",
          "shed",
          "tree",
          "tree",
          "tree",
          "tree",
          "tree",
          "tree",
          "tree",
          "building",
          "pond",
          "bridge",
          "island",
          "vineyard",
          "swimming_pool",
          "building",
          "building",
          "tennis_court",
          "swimming_pool",
          "shade_cloth",
          "sign",
          "warehouse",
          "vat",
          "vat",
          "vat",
          "vat",
          "building",
          "parking_lot",
          "solar_panels",
          "solar_panels",
          "building",
          "fence",
          "jetty",
          "picnic_table",
          "picnic_table",
          "tank",
          "tank",
          "shed",
          "shipping_container",
          "shipping_container",
          "shipping_container",
          "shipping_container",
          "vineyard",
          "vineyard",
          "river",
          "vineyard",
          "vineyard",
          "parking_lot",
          "shed",
          "sign",
          "table",
          "table",
          "table",
          "table",
          "wine_barrell",
          "counter",
          "shed",
          "fence",
          "sign",
          "driveway",
          "picnic_table",
          "picnic_table",
          "picnic_table",
          "picnic_table",
          "picnic_table",
          "picnic_table"
         ],
         "lat": [
          -31.81445187554597,
          -31.81451940926452,
          -31.8145718117269,
          -31.81458084078105,
          -31.81462157655873,
          -31.81454971676524,
          -31.81448193361258,
          -31.81444773977627,
          -31.8143890181285,
          -31.81439660859307,
          -31.81434027785148,
          -31.81429434468795,
          -31.81429169178455,
          -31.81420767463152,
          -31.81394919889622,
          -31.81439717390363,
          -31.81432230857389,
          -31.8135457777316,
          -31.82401586475119,
          -31.82402821801069,
          -31.82400450902502,
          -31.82400258090139,
          -31.82417864772208,
          -31.82406166208574,
          -31.82414265894136,
          -31.82427841722326,
          -31.82414274552135,
          -31.82416289887374,
          -31.82414373469494,
          -31.82414175485055,
          -31.82429678566091,
          -31.8238198185718,
          -31.82470742057825,
          -31.8242299537138,
          -31.82369416405801,
          -31.82347585518145,
          -31.82372524293678,
          -31.79711445941102,
          -31.79711822124566,
          -31.79711822124567,
          -31.79711445941102,
          -31.79692113693582,
          -31.79707299441964,
          -31.79707639334401,
          -31.79701796869119,
          -31.79702180433045,
          -31.79695848151606,
          -31.7969572497282,
          -31.79698640377645,
          -31.79698932185287,
          -31.7946673883335,
          -31.79676259008081,
          -31.79676332889907,
          -31.79669029290958,
          -31.79664133173589,
          -31.79691654618838,
          -31.79658001770868,
          -31.79630852369076,
          -31.79620849056571,
          -31.79646472091715,
          -31.83039735327537,
          -31.83060476817275,
          -31.83020873465989,
          -31.83033573653752,
          -31.83038472086931,
          -31.83023391039609,
          -31.83047573335856,
          -31.83050151773064,
          -31.83051242847542,
          -31.83042950292597,
          -31.83048831452484,
          -31.83039290156244,
          -31.83042013524614,
          -31.83039529464335,
          -31.83041309005974,
          -31.83059039674292,
          -31.83062496370694,
          -31.83044919552612,
          -31.83055048589921,
          -31.83057537982879,
          -31.8306575917034,
          -31.83065965298827,
          -31.83079043292682,
          -31.83079112085596,
          -31.83079315668379,
          -31.83078775293374,
          -31.83079115492708,
          -31.83078777975723,
          -31.83079186264361,
          -31.84668336675156,
          -31.84590359767057,
          -31.84638920015648,
          -31.84633325480655,
          -31.84630620908671,
          -31.84642682355494,
          -31.84660379451255,
          -31.84534087718281,
          -31.84497134212882,
          -31.84520480790187,
          -31.84519057474693,
          -31.84696779013872,
          -31.84505951047444,
          -31.84518456887401,
          -31.84515103476856,
          -31.84510853881709,
          -31.84507695999562,
          -31.84512567428841,
          -31.84527487175123,
          -31.84487684093081,
          -31.84496527724279,
          -31.84505688510912,
          -31.84523158062051,
          -31.84538040931631,
          -31.84537004084413,
          -31.84537006574641,
          -31.84488600975254,
          -31.84485397635064,
          -31.84513430001038,
          -31.84466167779774,
          -31.84469149573804,
          -31.84472428455821,
          -31.84468823575176,
          -31.84538344253644,
          -31.84424690471754,
          -31.85109633797458,
          -31.85068649170797,
          -31.85278296339006,
          -31.85188710724418,
          -31.85210550561943,
          -31.8518872114326,
          -31.85182659388803,
          -31.85182616279369,
          -31.85182820538461,
          -31.85182506326957,
          -31.85189307872191,
          -31.85188320881234,
          -31.8518732548151,
          -31.85182222748639,
          -31.85198713829637,
          -31.85192250139609,
          -31.85189392826163,
          -31.85187442908764,
          -31.8518030858586,
          -31.8518024058948,
          -31.85180059356636,
          -31.85180195605045
         ],
         "legendgroup": "",
         "lon": [
          116.0183374663027,
          116.0183259785979,
          116.0183161354075,
          116.0182529749383,
          116.0182086643162,
          116.0182128388363,
          116.018223361407,
          116.0182823408421,
          116.01821750659,
          116.0182474062873,
          116.0181813817572,
          116.0182631395714,
          116.0181961643027,
          116.0182334670006,
          116.0179055434116,
          116.0180953620699,
          116.0178051456259,
          116.0179865644773,
          116.0009142164415,
          116.000930932033,
          116.0009778539811,
          116.00092060426,
          116.0006048976215,
          116.0005802543637,
          116.0005190872192,
          116.0007722909438,
          116.0010150860718,
          116.0009461560145,
          116.0008411872399,
          116.0011891817338,
          116.0015213385211,
          116.0011641432193,
          116.0008309768264,
          116.0024406990624,
          116.0018976598281,
          116.0008501775059,
          116.0005857862165,
          116.0458851425753,
          116.0457670563354,
          116.0457670563353,
          116.0458851425753,
          116.0458175186144,
          116.0457592802574,
          116.0458562580698,
          116.0458650464963,
          116.0457701043378,
          116.0458575517662,
          116.0457695358829,
          116.0456561146581,
          116.0459678755513,
          116.0454319290855,
          116.0458568785181,
          116.0450705556765,
          116.0451148633962,
          116.0465802282568,
          116.0452797276304,
          116.045049160885,
          116.0451629606889,
          116.0452886782776,
          116.0458601290954,
          115.998939146043,
          115.9977318524493,
          115.9974576751721,
          115.9977420660818,
          115.997502299226,
          115.9974572459445,
          115.9977050969983,
          115.997777721079,
          115.997669167832,
          115.997431381974,
          115.9973518616014,
          115.9973090452622,
          115.9972816677781,
          115.9973045597328,
          115.9972807007919,
          115.9974222588125,
          115.9973755276259,
          115.9972085542997,
          115.9971975624587,
          115.9972416499528,
          115.9971742512736,
          115.997296680735,
          115.9971388569162,
          115.9971802611804,
          115.9972163578717,
          115.9972577899615,
          115.9973048744194,
          115.9973561509557,
          115.9974216940731,
          116.0086270958327,
          116.0076430354346,
          116.0075575103231,
          116.0077438974485,
          116.0059960349935,
          116.0046871040282,
          116.0047242747774,
          116.0049137333173,
          116.0049529458494,
          116.0046804703044,
          116.0046414836387,
          116.0066284586833,
          116.0060571495129,
          116.0063688107167,
          116.0063718225668,
          116.0063741620266,
          116.0063804564964,
          116.0066406806117,
          116.0070043014552,
          116.0073642354885,
          116.0073623012661,
          116.007341994294,
          116.0072570321877,
          116.007597008791,
          116.0075393399854,
          116.0076604504979,
          116.0068656915519,
          116.0066919339338,
          116.0072291966907,
          116.0072432872027,
          116.0072381097506,
          116.0072390830616,
          116.0074225863559,
          116.0124205441503,
          116.0066393647114,
          115.995810298809,
          115.9902290551793,
          115.9901750632805,
          115.9901520456193,
          115.9903190941192,
          115.9903556704859,
          115.9905306771903,
          115.9905475047897,
          115.9905655610603,
          115.9905862473149,
          115.9904467156551,
          115.9904835715709,
          115.990598423206,
          115.9903645411195,
          115.9877336890102,
          115.9889759412021,
          115.9908535353204,
          115.990901684718,
          115.9909205172935,
          115.9908668295001,
          115.9908006953241,
          115.9907526922321
         ],
         "marker": {
          "color": [
           3,
           3,
           3,
           3,
           3,
           3,
           3,
           3,
           3,
           3,
           3,
           3,
           3,
           3,
           3,
           3,
           3,
           3,
           2,
           2,
           2,
           2,
           2,
           2,
           2,
           2,
           2,
           2,
           2,
           2,
           2,
           2,
           2,
           2,
           2,
           2,
           2,
           0,
           0,
           0,
           0,
           0,
           0,
           0,
           0,
           0,
           0,
           0,
           0,
           0,
           0,
           0,
           0,
           0,
           0,
           0,
           0,
           0,
           0,
           0,
           5,
           5,
           5,
           5,
           5,
           5,
           5,
           5,
           5,
           5,
           5,
           5,
           5,
           5,
           5,
           5,
           5,
           5,
           5,
           5,
           5,
           5,
           5,
           5,
           5,
           5,
           5,
           5,
           5,
           1,
           1,
           1,
           1,
           1,
           1,
           1,
           1,
           1,
           1,
           1,
           1,
           1,
           1,
           1,
           1,
           1,
           1,
           1,
           1,
           1,
           1,
           1,
           1,
           1,
           1,
           1,
           1,
           1,
           1,
           1,
           1,
           1,
           1,
           1,
           4,
           4,
           4,
           4,
           4,
           4,
           4,
           4,
           4,
           4,
           4,
           4,
           4,
           4,
           4,
           4,
           4,
           4,
           4,
           4,
           4,
           4
          ],
          "coloraxis": "coloraxis"
         },
         "mode": "markers",
         "name": "",
         "showlegend": false,
         "subplot": "mapbox",
         "type": "scattermapbox"
        },
        {
         "hovertemplate": "<b>%{hovertext}</b><br><br>lat=%{lat}<br>lon=%{lon}<extra></extra>",
         "hovertext": [
          "Sandalford Winery",
          "Nikola Estate",
          "Edgecombe Brothers",
          "Little River Winery and Café",
          "Black Swan Winery and Restaurant",
          "Lancaster Wines",
          "Mandoon Estate",
          "Mandoon Vineyard",
          "Oakover Grounds",
          "Henley Park Winery",
          "Upper Reach Winery",
          "Mann Winery",
          "Harris Organic Wines and Spirits",
          "John Kosovich Wines",
          "Twin Hill Wines",
          "Olive Farm Wines",
          "Ali's Vineyard",
          "Talijancich",
          "Tyler's Vineyard",
          "Fig Tree Estate Winery",
          "Lamont's Winery",
          "Faber Vineyard",
          "Swan Valley Wines",
          "Windy Creek Estate",
          "Holy Mary Cellars",
          "Jarrah Ridge Wines",
          "Katgully Wines Cellar Door",
          "Sittella",
          "Ugly Duckling Wines",
          "Heafod Glen Winery",
          "Ambrook Wines"
         ],
         "lat": [
          -31.868701,
          -31.854112,
          -31.795187,
          -31.824124,
          -31.823404,
          -31.85226,
          -31.868266,
          -31.867594,
          -31.84508,
          -31.797776,
          -31.795033,
          -31.793688,
          -31.794595,
          -31.795346,
          -31.796729,
          -31.811995,
          -31.814194,
          -31.818507,
          -31.812921,
          -31.804387,
          -31.80323,
          -31.796771,
          -31.796915,
          -31.830487,
          -31.835658,
          -31.836499,
          -31.835449,
          -31.830083,
          -31.830502,
          -31.822945,
          -31.871998
         ],
         "legendgroup": "",
         "lon": [
          115.992759,
          115.997995,
          115.998571,
          116.000888,
          116.00085,
          115.988887,
          115.994991,
          115.995494,
          116.007327,
          116.001641,
          116.008634,
          116.012546,
          116.02083,
          116.02076,
          116.020781,
          116.022232,
          116.01822,
          116.020341,
          116.040805,
          116.04003,
          116.037443,
          116.045655,
          116.048836,
          116.03056,
          116.021676,
          116.015532,
          116.021235,
          116.006851,
          115.997425,
          115.996817,
          115.981779
         ],
         "marker": {
          "color": "#636efa"
         },
         "mode": "markers",
         "name": "",
         "showlegend": false,
         "subplot": "mapbox",
         "type": "scattermapbox"
        }
       ],
       "layout": {
        "coloraxis": {
         "colorbar": {
          "title": {
           "text": "cluster"
          }
         },
         "colorscale": [
          [
           0,
           "#0d0887"
          ],
          [
           0.1111111111111111,
           "#46039f"
          ],
          [
           0.2222222222222222,
           "#7201a8"
          ],
          [
           0.3333333333333333,
           "#9c179e"
          ],
          [
           0.4444444444444444,
           "#bd3786"
          ],
          [
           0.5555555555555556,
           "#d8576b"
          ],
          [
           0.6666666666666666,
           "#ed7953"
          ],
          [
           0.7777777777777778,
           "#fb9f3a"
          ],
          [
           0.8888888888888888,
           "#fdca26"
          ],
          [
           1,
           "#f0f921"
          ]
         ]
        },
        "legend": {
         "tracegroupgap": 0
        },
        "mapbox": {
         "center": {
          "lat": -31.829142815097253,
          "lon": 116.00928029017983
         },
         "domain": {
          "x": [
           0,
           1
          ],
          "y": [
           0,
           1
          ]
         },
         "style": "open-street-map",
         "zoom": 8
        },
        "margin": {
         "b": 0,
         "l": 0,
         "r": 0,
         "t": 0
        },
        "template": {
         "data": {
          "bar": [
           {
            "error_x": {
             "color": "#2a3f5f"
            },
            "error_y": {
             "color": "#2a3f5f"
            },
            "marker": {
             "line": {
              "color": "#E5ECF6",
              "width": 0.5
             },
             "pattern": {
              "fillmode": "overlay",
              "size": 10,
              "solidity": 0.2
             }
            },
            "type": "bar"
           }
          ],
          "barpolar": [
           {
            "marker": {
             "line": {
              "color": "#E5ECF6",
              "width": 0.5
             },
             "pattern": {
              "fillmode": "overlay",
              "size": 10,
              "solidity": 0.2
             }
            },
            "type": "barpolar"
           }
          ],
          "carpet": [
           {
            "aaxis": {
             "endlinecolor": "#2a3f5f",
             "gridcolor": "white",
             "linecolor": "white",
             "minorgridcolor": "white",
             "startlinecolor": "#2a3f5f"
            },
            "baxis": {
             "endlinecolor": "#2a3f5f",
             "gridcolor": "white",
             "linecolor": "white",
             "minorgridcolor": "white",
             "startlinecolor": "#2a3f5f"
            },
            "type": "carpet"
           }
          ],
          "choropleth": [
           {
            "colorbar": {
             "outlinewidth": 0,
             "ticks": ""
            },
            "type": "choropleth"
           }
          ],
          "contour": [
           {
            "colorbar": {
             "outlinewidth": 0,
             "ticks": ""
            },
            "colorscale": [
             [
              0,
              "#0d0887"
             ],
             [
              0.1111111111111111,
              "#46039f"
             ],
             [
              0.2222222222222222,
              "#7201a8"
             ],
             [
              0.3333333333333333,
              "#9c179e"
             ],
             [
              0.4444444444444444,
              "#bd3786"
             ],
             [
              0.5555555555555556,
              "#d8576b"
             ],
             [
              0.6666666666666666,
              "#ed7953"
             ],
             [
              0.7777777777777778,
              "#fb9f3a"
             ],
             [
              0.8888888888888888,
              "#fdca26"
             ],
             [
              1,
              "#f0f921"
             ]
            ],
            "type": "contour"
           }
          ],
          "contourcarpet": [
           {
            "colorbar": {
             "outlinewidth": 0,
             "ticks": ""
            },
            "type": "contourcarpet"
           }
          ],
          "heatmap": [
           {
            "colorbar": {
             "outlinewidth": 0,
             "ticks": ""
            },
            "colorscale": [
             [
              0,
              "#0d0887"
             ],
             [
              0.1111111111111111,
              "#46039f"
             ],
             [
              0.2222222222222222,
              "#7201a8"
             ],
             [
              0.3333333333333333,
              "#9c179e"
             ],
             [
              0.4444444444444444,
              "#bd3786"
             ],
             [
              0.5555555555555556,
              "#d8576b"
             ],
             [
              0.6666666666666666,
              "#ed7953"
             ],
             [
              0.7777777777777778,
              "#fb9f3a"
             ],
             [
              0.8888888888888888,
              "#fdca26"
             ],
             [
              1,
              "#f0f921"
             ]
            ],
            "type": "heatmap"
           }
          ],
          "heatmapgl": [
           {
            "colorbar": {
             "outlinewidth": 0,
             "ticks": ""
            },
            "colorscale": [
             [
              0,
              "#0d0887"
             ],
             [
              0.1111111111111111,
              "#46039f"
             ],
             [
              0.2222222222222222,
              "#7201a8"
             ],
             [
              0.3333333333333333,
              "#9c179e"
             ],
             [
              0.4444444444444444,
              "#bd3786"
             ],
             [
              0.5555555555555556,
              "#d8576b"
             ],
             [
              0.6666666666666666,
              "#ed7953"
             ],
             [
              0.7777777777777778,
              "#fb9f3a"
             ],
             [
              0.8888888888888888,
              "#fdca26"
             ],
             [
              1,
              "#f0f921"
             ]
            ],
            "type": "heatmapgl"
           }
          ],
          "histogram": [
           {
            "marker": {
             "pattern": {
              "fillmode": "overlay",
              "size": 10,
              "solidity": 0.2
             }
            },
            "type": "histogram"
           }
          ],
          "histogram2d": [
           {
            "colorbar": {
             "outlinewidth": 0,
             "ticks": ""
            },
            "colorscale": [
             [
              0,
              "#0d0887"
             ],
             [
              0.1111111111111111,
              "#46039f"
             ],
             [
              0.2222222222222222,
              "#7201a8"
             ],
             [
              0.3333333333333333,
              "#9c179e"
             ],
             [
              0.4444444444444444,
              "#bd3786"
             ],
             [
              0.5555555555555556,
              "#d8576b"
             ],
             [
              0.6666666666666666,
              "#ed7953"
             ],
             [
              0.7777777777777778,
              "#fb9f3a"
             ],
             [
              0.8888888888888888,
              "#fdca26"
             ],
             [
              1,
              "#f0f921"
             ]
            ],
            "type": "histogram2d"
           }
          ],
          "histogram2dcontour": [
           {
            "colorbar": {
             "outlinewidth": 0,
             "ticks": ""
            },
            "colorscale": [
             [
              0,
              "#0d0887"
             ],
             [
              0.1111111111111111,
              "#46039f"
             ],
             [
              0.2222222222222222,
              "#7201a8"
             ],
             [
              0.3333333333333333,
              "#9c179e"
             ],
             [
              0.4444444444444444,
              "#bd3786"
             ],
             [
              0.5555555555555556,
              "#d8576b"
             ],
             [
              0.6666666666666666,
              "#ed7953"
             ],
             [
              0.7777777777777778,
              "#fb9f3a"
             ],
             [
              0.8888888888888888,
              "#fdca26"
             ],
             [
              1,
              "#f0f921"
             ]
            ],
            "type": "histogram2dcontour"
           }
          ],
          "mesh3d": [
           {
            "colorbar": {
             "outlinewidth": 0,
             "ticks": ""
            },
            "type": "mesh3d"
           }
          ],
          "parcoords": [
           {
            "line": {
             "colorbar": {
              "outlinewidth": 0,
              "ticks": ""
             }
            },
            "type": "parcoords"
           }
          ],
          "pie": [
           {
            "automargin": true,
            "type": "pie"
           }
          ],
          "scatter": [
           {
            "fillpattern": {
             "fillmode": "overlay",
             "size": 10,
             "solidity": 0.2
            },
            "type": "scatter"
           }
          ],
          "scatter3d": [
           {
            "line": {
             "colorbar": {
              "outlinewidth": 0,
              "ticks": ""
             }
            },
            "marker": {
             "colorbar": {
              "outlinewidth": 0,
              "ticks": ""
             }
            },
            "type": "scatter3d"
           }
          ],
          "scattercarpet": [
           {
            "marker": {
             "colorbar": {
              "outlinewidth": 0,
              "ticks": ""
             }
            },
            "type": "scattercarpet"
           }
          ],
          "scattergeo": [
           {
            "marker": {
             "colorbar": {
              "outlinewidth": 0,
              "ticks": ""
             }
            },
            "type": "scattergeo"
           }
          ],
          "scattergl": [
           {
            "marker": {
             "colorbar": {
              "outlinewidth": 0,
              "ticks": ""
             }
            },
            "type": "scattergl"
           }
          ],
          "scattermapbox": [
           {
            "marker": {
             "colorbar": {
              "outlinewidth": 0,
              "ticks": ""
             }
            },
            "type": "scattermapbox"
           }
          ],
          "scatterpolar": [
           {
            "marker": {
             "colorbar": {
              "outlinewidth": 0,
              "ticks": ""
             }
            },
            "type": "scatterpolar"
           }
          ],
          "scatterpolargl": [
           {
            "marker": {
             "colorbar": {
              "outlinewidth": 0,
              "ticks": ""
             }
            },
            "type": "scatterpolargl"
           }
          ],
          "scatterternary": [
           {
            "marker": {
             "colorbar": {
              "outlinewidth": 0,
              "ticks": ""
             }
            },
            "type": "scatterternary"
           }
          ],
          "surface": [
           {
            "colorbar": {
             "outlinewidth": 0,
             "ticks": ""
            },
            "colorscale": [
             [
              0,
              "#0d0887"
             ],
             [
              0.1111111111111111,
              "#46039f"
             ],
             [
              0.2222222222222222,
              "#7201a8"
             ],
             [
              0.3333333333333333,
              "#9c179e"
             ],
             [
              0.4444444444444444,
              "#bd3786"
             ],
             [
              0.5555555555555556,
              "#d8576b"
             ],
             [
              0.6666666666666666,
              "#ed7953"
             ],
             [
              0.7777777777777778,
              "#fb9f3a"
             ],
             [
              0.8888888888888888,
              "#fdca26"
             ],
             [
              1,
              "#f0f921"
             ]
            ],
            "type": "surface"
           }
          ],
          "table": [
           {
            "cells": {
             "fill": {
              "color": "#EBF0F8"
             },
             "line": {
              "color": "white"
             }
            },
            "header": {
             "fill": {
              "color": "#C8D4E3"
             },
             "line": {
              "color": "white"
             }
            },
            "type": "table"
           }
          ]
         },
         "layout": {
          "annotationdefaults": {
           "arrowcolor": "#2a3f5f",
           "arrowhead": 0,
           "arrowwidth": 1
          },
          "autotypenumbers": "strict",
          "coloraxis": {
           "colorbar": {
            "outlinewidth": 0,
            "ticks": ""
           }
          },
          "colorscale": {
           "diverging": [
            [
             0,
             "#8e0152"
            ],
            [
             0.1,
             "#c51b7d"
            ],
            [
             0.2,
             "#de77ae"
            ],
            [
             0.3,
             "#f1b6da"
            ],
            [
             0.4,
             "#fde0ef"
            ],
            [
             0.5,
             "#f7f7f7"
            ],
            [
             0.6,
             "#e6f5d0"
            ],
            [
             0.7,
             "#b8e186"
            ],
            [
             0.8,
             "#7fbc41"
            ],
            [
             0.9,
             "#4d9221"
            ],
            [
             1,
             "#276419"
            ]
           ],
           "sequential": [
            [
             0,
             "#0d0887"
            ],
            [
             0.1111111111111111,
             "#46039f"
            ],
            [
             0.2222222222222222,
             "#7201a8"
            ],
            [
             0.3333333333333333,
             "#9c179e"
            ],
            [
             0.4444444444444444,
             "#bd3786"
            ],
            [
             0.5555555555555556,
             "#d8576b"
            ],
            [
             0.6666666666666666,
             "#ed7953"
            ],
            [
             0.7777777777777778,
             "#fb9f3a"
            ],
            [
             0.8888888888888888,
             "#fdca26"
            ],
            [
             1,
             "#f0f921"
            ]
           ],
           "sequentialminus": [
            [
             0,
             "#0d0887"
            ],
            [
             0.1111111111111111,
             "#46039f"
            ],
            [
             0.2222222222222222,
             "#7201a8"
            ],
            [
             0.3333333333333333,
             "#9c179e"
            ],
            [
             0.4444444444444444,
             "#bd3786"
            ],
            [
             0.5555555555555556,
             "#d8576b"
            ],
            [
             0.6666666666666666,
             "#ed7953"
            ],
            [
             0.7777777777777778,
             "#fb9f3a"
            ],
            [
             0.8888888888888888,
             "#fdca26"
            ],
            [
             1,
             "#f0f921"
            ]
           ]
          },
          "colorway": [
           "#636efa",
           "#EF553B",
           "#00cc96",
           "#ab63fa",
           "#FFA15A",
           "#19d3f3",
           "#FF6692",
           "#B6E880",
           "#FF97FF",
           "#FECB52"
          ],
          "font": {
           "color": "#2a3f5f"
          },
          "geo": {
           "bgcolor": "white",
           "lakecolor": "white",
           "landcolor": "#E5ECF6",
           "showlakes": true,
           "showland": true,
           "subunitcolor": "white"
          },
          "hoverlabel": {
           "align": "left"
          },
          "hovermode": "closest",
          "mapbox": {
           "style": "light"
          },
          "paper_bgcolor": "white",
          "plot_bgcolor": "#E5ECF6",
          "polar": {
           "angularaxis": {
            "gridcolor": "white",
            "linecolor": "white",
            "ticks": ""
           },
           "bgcolor": "#E5ECF6",
           "radialaxis": {
            "gridcolor": "white",
            "linecolor": "white",
            "ticks": ""
           }
          },
          "scene": {
           "xaxis": {
            "backgroundcolor": "#E5ECF6",
            "gridcolor": "white",
            "gridwidth": 2,
            "linecolor": "white",
            "showbackground": true,
            "ticks": "",
            "zerolinecolor": "white"
           },
           "yaxis": {
            "backgroundcolor": "#E5ECF6",
            "gridcolor": "white",
            "gridwidth": 2,
            "linecolor": "white",
            "showbackground": true,
            "ticks": "",
            "zerolinecolor": "white"
           },
           "zaxis": {
            "backgroundcolor": "#E5ECF6",
            "gridcolor": "white",
            "gridwidth": 2,
            "linecolor": "white",
            "showbackground": true,
            "ticks": "",
            "zerolinecolor": "white"
           }
          },
          "shapedefaults": {
           "line": {
            "color": "#2a3f5f"
           }
          },
          "ternary": {
           "aaxis": {
            "gridcolor": "white",
            "linecolor": "white",
            "ticks": ""
           },
           "baxis": {
            "gridcolor": "white",
            "linecolor": "white",
            "ticks": ""
           },
           "bgcolor": "#E5ECF6",
           "caxis": {
            "gridcolor": "white",
            "linecolor": "white",
            "ticks": ""
           }
          },
          "title": {
           "x": 0.05
          },
          "xaxis": {
           "automargin": true,
           "gridcolor": "white",
           "linecolor": "white",
           "ticks": "",
           "title": {
            "standoff": 15
           },
           "zerolinecolor": "white",
           "zerolinewidth": 2
          },
          "yaxis": {
           "automargin": true,
           "gridcolor": "white",
           "linecolor": "white",
           "ticks": "",
           "title": {
            "standoff": 15
           },
           "zerolinecolor": "white",
           "zerolinewidth": 2
          }
         }
        }
       }
      },
      "text/html": [
       "<div>                            <div id=\"90360c82-8d17-4c22-a9b6-766744fb7002\" class=\"plotly-graph-div\" style=\"height:525px; width:100%;\"></div>            <script type=\"text/javascript\">                require([\"plotly\"], function(Plotly) {                    window.PLOTLYENV=window.PLOTLYENV || {};                                    if (document.getElementById(\"90360c82-8d17-4c22-a9b6-766744fb7002\")) {                    Plotly.newPlot(                        \"90360c82-8d17-4c22-a9b6-766744fb7002\",                        [{\"customdata\":[[\"Ali's Vineyard\",\"Alis_Vineyard\"],[\"Ali's Vineyard\",\"Alis_Vineyard\"],[\"Ali's Vineyard\",\"Alis_Vineyard\"],[\"Ali's Vineyard\",\"Alis_Vineyard\"],[\"Ali's Vineyard\",\"Alis_Vineyard\"],[\"Ali's Vineyard\",\"Alis_Vineyard\"],[\"Ali's Vineyard\",\"Alis_Vineyard\"],[\"Ali's Vineyard\",\"Alis_Vineyard\"],[\"Ali's Vineyard\",\"Alis_Vineyard\"],[\"Ali's Vineyard\",\"Alis_Vineyard\"],[\"Ali's Vineyard\",\"Alis_Vineyard\"],[\"Ali's Vineyard\",\"Alis_Vineyard\"],[\"Ali's Vineyard\",\"Alis_Vineyard\"],[\"Ali's Vineyard\",\"Alis_Vineyard\"],[\"Ali's Vineyard\",\"Alis_Vineyard\"],[\"Ali's Vineyard\",\"Alis_Vineyard\"],[\"Ali's Vineyard\",\"Alis_Vineyard\"],[\"Ali's Vineyard\",\"Alis_Vineyard\"],[\"Little River Winery and Caf\\u00e9\",\"Little_River_Winery\"],[\"Little River Winery and Caf\\u00e9\",\"Little_River_Winery\"],[\"Little River Winery and Caf\\u00e9\",\"Little_River_Winery\"],[\"Little River Winery and Caf\\u00e9\",\"Little_River_Winery\"],[\"Little River Winery and Caf\\u00e9\",\"Little_River_Winery\"],[\"Little River Winery and Caf\\u00e9\",\"Little_River_Winery\"],[\"Little River Winery and Caf\\u00e9\",\"Little_River_Winery\"],[\"Little River Winery and Caf\\u00e9\",\"Little_River_Winery\"],[\"Little River Winery and Caf\\u00e9\",\"Little_River_Winery\"],[\"Little River Winery and Caf\\u00e9\",\"Little_River_Winery\"],[\"Little River Winery and Caf\\u00e9\",\"Little_River_Winery\"],[\"Little River Winery and Caf\\u00e9\",\"Little_River_Winery\"],[\"Little River Winery and Caf\\u00e9\",\"Little_River_Winery\"],[\"Little River Winery and Caf\\u00e9\",\"Little_River_Winery\"],[\"Little River Winery and Caf\\u00e9\",\"Little_River_Winery\"],[\"Little River Winery and Caf\\u00e9\",\"Little_River_Winery\"],[\"Little River Winery and Caf\\u00e9\",\"Little_River_Winery\"],[\"Little River Winery and Caf\\u00e9\",\"Little_River_Winery\"],[\"Little River Winery and Caf\\u00e9\",\"Little_River_Winery\"],[\"Faber Vineyard\",\"Faber_Vineyard\"],[\"Faber Vineyard\",\"Faber_Vineyard\"],[\"Faber Vineyard\",\"Faber_Vineyard\"],[\"Faber Vineyard\",\"Faber_Vineyard\"],[\"Faber Vineyard\",\"Faber_Vineyard\"],[\"Faber Vineyard\",\"Faber_Vineyard\"],[\"Faber Vineyard\",\"Faber_Vineyard\"],[\"Faber Vineyard\",\"Faber_Vineyard\"],[\"Faber Vineyard\",\"Faber_Vineyard\"],[\"Faber Vineyard\",\"Faber_Vineyard\"],[\"Faber Vineyard\",\"Faber_Vineyard\"],[\"Faber Vineyard\",\"Faber_Vineyard\"],[\"Faber Vineyard\",\"Faber_Vineyard\"],[\"Faber Vineyard\",\"Faber_Vineyard\"],[\"Faber Vineyard\",\"Faber_Vineyard\"],[\"Faber Vineyard\",\"Faber_Vineyard\"],[\"Faber Vineyard\",\"Faber_Vineyard\"],[\"Faber Vineyard\",\"Faber_Vineyard\"],[\"Faber Vineyard\",\"Faber_Vineyard\"],[\"Faber Vineyard\",\"Faber_Vineyard\"],[\"Faber Vineyard\",\"Faber_Vineyard\"],[\"Faber Vineyard\",\"Faber_Vineyard\"],[\"Faber Vineyard\",\"Faber_Vineyard\"],[\"Ugly Duckling Wines\",\"Faber_Vineyard\"],[\"Ugly Duckling Wines\",\"Ugly_Duckling_Wines\"],[\"Ugly Duckling Wines\",\"Ugly_Duckling_Wines\"],[\"Ugly Duckling Wines\",\"Ugly_Duckling_Wines\"],[\"Ugly Duckling Wines\",\"Ugly_Duckling_Wines\"],[\"Ugly Duckling Wines\",\"Ugly_Duckling_Wines\"],[\"Ugly Duckling Wines\",\"Ugly_Duckling_Wines\"],[\"Ugly Duckling Wines\",\"Ugly_Duckling_Wines\"],[\"Ugly Duckling Wines\",\"Ugly_Duckling_Wines\"],[\"Ugly Duckling Wines\",\"Ugly_Duckling_Wines\"],[\"Ugly Duckling Wines\",\"Ugly_Duckling_Wines\"],[\"Ugly Duckling Wines\",\"Ugly_Duckling_Wines\"],[\"Ugly Duckling Wines\",\"Ugly_Duckling_Wines\"],[\"Ugly Duckling Wines\",\"Ugly_Duckling_Wines\"],[\"Ugly Duckling Wines\",\"Ugly_Duckling_Wines\"],[\"Ugly Duckling Wines\",\"Ugly_Duckling_Wines\"],[\"Ugly Duckling Wines\",\"Ugly_Duckling_Wines\"],[\"Ugly Duckling Wines\",\"Ugly_Duckling_Wines\"],[\"Ugly Duckling Wines\",\"Ugly_Duckling_Wines\"],[\"Ugly Duckling Wines\",\"Ugly_Duckling_Wines\"],[\"Ugly Duckling Wines\",\"Ugly_Duckling_Wines\"],[\"Ugly Duckling Wines\",\"Ugly_Duckling_Wines\"],[\"Ugly Duckling Wines\",\"Ugly_Duckling_Wines\"],[\"Ugly Duckling Wines\",\"Ugly_Duckling_Wines\"],[\"Ugly Duckling Wines\",\"Ugly_Duckling_Wines\"],[\"Ugly Duckling Wines\",\"Ugly_Duckling_Wines\"],[\"Ugly Duckling Wines\",\"Ugly_Duckling_Wines\"],[\"Ugly Duckling Wines\",\"Ugly_Duckling_Wines\"],[\"Ugly Duckling Wines\",\"Ugly_Duckling_Wines\"],[\"Oakover Grounds\",\"Oakover_Grounds\"],[\"Oakover Grounds\",\"Oakover_Grounds\"],[\"Oakover Grounds\",\"Oakover_Grounds\"],[\"Oakover Grounds\",\"Oakover_Grounds\"],[\"Oakover Grounds\",\"Oakover_Grounds\"],[\"Oakover Grounds\",\"Oakover_Grounds\"],[\"Oakover Grounds\",\"Oakover_Grounds\"],[\"Oakover Grounds\",\"Oakover_Grounds\"],[\"Oakover Grounds\",\"Oakover_Grounds\"],[\"Oakover Grounds\",\"Oakover_Grounds\"],[\"Oakover Grounds\",\"Oakover_Grounds\"],[\"Oakover Grounds\",\"Oakover_Grounds\"],[\"Oakover Grounds\",\"Oakover_Grounds\"],[\"Oakover Grounds\",\"Oakover_Grounds\"],[\"Oakover Grounds\",\"Oakover_Grounds\"],[\"Oakover Grounds\",\"Oakover_Grounds\"],[\"Oakover Grounds\",\"Oakover_Grounds\"],[\"Oakover Grounds\",\"Oakover_Grounds\"],[\"Oakover Grounds\",\"Oakover_Grounds\"],[\"Oakover Grounds\",\"Oakover_Grounds\"],[\"Oakover Grounds\",\"Oakover_Grounds\"],[\"Oakover Grounds\",\"Oakover_Grounds\"],[\"Oakover Grounds\",\"Oakover_Grounds\"],[\"Oakover Grounds\",\"Oakover_Grounds\"],[\"Oakover Grounds\",\"Oakover_Grounds\"],[\"Oakover Grounds\",\"Oakover_Grounds\"],[\"Oakover Grounds\",\"Oakover_Grounds\"],[\"Oakover Grounds\",\"Oakover_Grounds\"],[\"Oakover Grounds\",\"Oakover_Grounds\"],[\"Oakover Grounds\",\"Oakover_Grounds\"],[\"Oakover Grounds\",\"Oakover_Grounds\"],[\"Oakover Grounds\",\"Oakover_Grounds\"],[\"Oakover Grounds\",\"Oakover_Grounds\"],[\"Oakover Grounds\",\"Oakover_Grounds\"],[\"Oakover Grounds\",\"Oakover_Grounds\"],[\"Lancaster Wines\",\"Lancaster_Wines\"],[\"Lancaster Wines\",\"Lancaster_Wines\"],[\"Lancaster Wines\",\"Lancaster_Wines\"],[\"Lancaster Wines\",\"Lancaster_Wines\"],[\"Lancaster Wines\",\"Lancaster_Wines\"],[\"Lancaster Wines\",\"Lancaster_Wines\"],[\"Lancaster Wines\",\"Lancaster_Wines\"],[\"Lancaster Wines\",\"Lancaster_Wines\"],[\"Lancaster Wines\",\"Lancaster_Wines\"],[\"Lancaster Wines\",\"Lancaster_Wines\"],[\"Lancaster Wines\",\"Lancaster_Wines\"],[\"Lancaster Wines\",\"Lancaster_Wines\"],[\"Lancaster Wines\",\"Lancaster_Wines\"],[\"Lancaster Wines\",\"Lancaster_Wines\"],[\"Lancaster Wines\",\"Lancaster_Wines\"],[\"Lancaster Wines\",\"Lancaster_Wines\"],[\"Lancaster Wines\",\"Lancaster_Wines\"],[\"Lancaster Wines\",\"Lancaster_Wines\"],[\"Lancaster Wines\",\"Lancaster_Wines\"],[\"Lancaster Wines\",\"Lancaster_Wines\"],[\"Lancaster Wines\",\"Lancaster_Wines\"],[\"Lancaster Wines\",\"Lancaster_Wines\"]],\"hovertemplate\":\"<b>%{hovertext}</b><br><br>lat=%{lat}<br>lon=%{lon}<br>predicted_location_kmeans=%{customdata[0]}<br>true_location=%{customdata[1]}<br>cluster=%{marker.color}<extra></extra>\",\"hovertext\":[\"palm_tree\",\"palm_tree\",\"palm_tree\",\"palm_tree\",\"palm_tree\",\"palm_tree\",\"palm_tree\",\"palm_tree\",\"palm_tree\",\"palm_tree\",\"palm_tree\",\"palm_tree\",\"pizza_oven\",\"air_conditioner\",\"building\",\"shed\",\"shed\",\"shed\",\"picnic_bench\",\"picnic_bench\",\"planter\",\"planter\",\"building\",\"parking_lot\",\"patio\",\"water_tank\",\"air_conitioner\",\"patio\",\"building\",\"shed\",\"building\",\"building\",\"vineyard\",\"vineyard\",\"vineyard\",\"building\",\"parking_lot\",\"retaining_wall\",\"retaining_wall\",\"sign\",\"sign\",\"sign\",\"tree\",\"tree\",\"tree\",\"tree\",\"tree\",\"tree\",\"parking_lot\",\"vineyard\",\"vineyard\",\"building\",\"shed\",\"solar_panel\",\"building\",\"parking_lot\",\"shed\",\"building\",\"swimming_pool\",\"courtyard\",\"vineyard\",\"vineyard\",\"generator\",\"parking_lot\",\"carport\",\"bicycle_rack\",\"shed\",\"sculpture\",\"patio\",\"patio\",\"shed\",\"picnic_table\",\"picnic_table\",\"picnic_umbrella\",\"picnic_umbrella\",\"picnic_umbrella\",\"picnic_umbrella\",\"picnic_table\",\"picnic_table\",\"shed\",\"shed\",\"shed\",\"tree\",\"tree\",\"tree\",\"tree\",\"tree\",\"tree\",\"tree\",\"building\",\"pond\",\"bridge\",\"island\",\"vineyard\",\"swimming_pool\",\"building\",\"building\",\"tennis_court\",\"swimming_pool\",\"shade_cloth\",\"sign\",\"warehouse\",\"vat\",\"vat\",\"vat\",\"vat\",\"building\",\"parking_lot\",\"solar_panels\",\"solar_panels\",\"building\",\"fence\",\"jetty\",\"picnic_table\",\"picnic_table\",\"tank\",\"tank\",\"shed\",\"shipping_container\",\"shipping_container\",\"shipping_container\",\"shipping_container\",\"vineyard\",\"vineyard\",\"river\",\"vineyard\",\"vineyard\",\"parking_lot\",\"shed\",\"sign\",\"table\",\"table\",\"table\",\"table\",\"wine_barrell\",\"counter\",\"shed\",\"fence\",\"sign\",\"driveway\",\"picnic_table\",\"picnic_table\",\"picnic_table\",\"picnic_table\",\"picnic_table\",\"picnic_table\"],\"lat\":[-31.81445187554597,-31.81451940926452,-31.8145718117269,-31.81458084078105,-31.81462157655873,-31.81454971676524,-31.81448193361258,-31.81444773977627,-31.8143890181285,-31.81439660859307,-31.81434027785148,-31.81429434468795,-31.81429169178455,-31.81420767463152,-31.81394919889622,-31.81439717390363,-31.81432230857389,-31.8135457777316,-31.82401586475119,-31.82402821801069,-31.82400450902502,-31.82400258090139,-31.82417864772208,-31.82406166208574,-31.82414265894136,-31.82427841722326,-31.82414274552135,-31.82416289887374,-31.82414373469494,-31.82414175485055,-31.82429678566091,-31.8238198185718,-31.82470742057825,-31.8242299537138,-31.82369416405801,-31.82347585518145,-31.82372524293678,-31.79711445941102,-31.79711822124566,-31.79711822124567,-31.79711445941102,-31.79692113693582,-31.79707299441964,-31.79707639334401,-31.79701796869119,-31.79702180433045,-31.79695848151606,-31.7969572497282,-31.79698640377645,-31.79698932185287,-31.7946673883335,-31.79676259008081,-31.79676332889907,-31.79669029290958,-31.79664133173589,-31.79691654618838,-31.79658001770868,-31.79630852369076,-31.79620849056571,-31.79646472091715,-31.83039735327537,-31.83060476817275,-31.83020873465989,-31.83033573653752,-31.83038472086931,-31.83023391039609,-31.83047573335856,-31.83050151773064,-31.83051242847542,-31.83042950292597,-31.83048831452484,-31.83039290156244,-31.83042013524614,-31.83039529464335,-31.83041309005974,-31.83059039674292,-31.83062496370694,-31.83044919552612,-31.83055048589921,-31.83057537982879,-31.8306575917034,-31.83065965298827,-31.83079043292682,-31.83079112085596,-31.83079315668379,-31.83078775293374,-31.83079115492708,-31.83078777975723,-31.83079186264361,-31.84668336675156,-31.84590359767057,-31.84638920015648,-31.84633325480655,-31.84630620908671,-31.84642682355494,-31.84660379451255,-31.84534087718281,-31.84497134212882,-31.84520480790187,-31.84519057474693,-31.84696779013872,-31.84505951047444,-31.84518456887401,-31.84515103476856,-31.84510853881709,-31.84507695999562,-31.84512567428841,-31.84527487175123,-31.84487684093081,-31.84496527724279,-31.84505688510912,-31.84523158062051,-31.84538040931631,-31.84537004084413,-31.84537006574641,-31.84488600975254,-31.84485397635064,-31.84513430001038,-31.84466167779774,-31.84469149573804,-31.84472428455821,-31.84468823575176,-31.84538344253644,-31.84424690471754,-31.85109633797458,-31.85068649170797,-31.85278296339006,-31.85188710724418,-31.85210550561943,-31.8518872114326,-31.85182659388803,-31.85182616279369,-31.85182820538461,-31.85182506326957,-31.85189307872191,-31.85188320881234,-31.8518732548151,-31.85182222748639,-31.85198713829637,-31.85192250139609,-31.85189392826163,-31.85187442908764,-31.8518030858586,-31.8518024058948,-31.85180059356636,-31.85180195605045],\"legendgroup\":\"\",\"lon\":[116.0183374663027,116.0183259785979,116.0183161354075,116.0182529749383,116.0182086643162,116.0182128388363,116.018223361407,116.0182823408421,116.01821750659,116.0182474062873,116.0181813817572,116.0182631395714,116.0181961643027,116.0182334670006,116.0179055434116,116.0180953620699,116.0178051456259,116.0179865644773,116.0009142164415,116.000930932033,116.0009778539811,116.00092060426,116.0006048976215,116.0005802543637,116.0005190872192,116.0007722909438,116.0010150860718,116.0009461560145,116.0008411872399,116.0011891817338,116.0015213385211,116.0011641432193,116.0008309768264,116.0024406990624,116.0018976598281,116.0008501775059,116.0005857862165,116.0458851425753,116.0457670563354,116.0457670563353,116.0458851425753,116.0458175186144,116.0457592802574,116.0458562580698,116.0458650464963,116.0457701043378,116.0458575517662,116.0457695358829,116.0456561146581,116.0459678755513,116.0454319290855,116.0458568785181,116.0450705556765,116.0451148633962,116.0465802282568,116.0452797276304,116.045049160885,116.0451629606889,116.0452886782776,116.0458601290954,115.998939146043,115.9977318524493,115.9974576751721,115.9977420660818,115.997502299226,115.9974572459445,115.9977050969983,115.997777721079,115.997669167832,115.997431381974,115.9973518616014,115.9973090452622,115.9972816677781,115.9973045597328,115.9972807007919,115.9974222588125,115.9973755276259,115.9972085542997,115.9971975624587,115.9972416499528,115.9971742512736,115.997296680735,115.9971388569162,115.9971802611804,115.9972163578717,115.9972577899615,115.9973048744194,115.9973561509557,115.9974216940731,116.0086270958327,116.0076430354346,116.0075575103231,116.0077438974485,116.0059960349935,116.0046871040282,116.0047242747774,116.0049137333173,116.0049529458494,116.0046804703044,116.0046414836387,116.0066284586833,116.0060571495129,116.0063688107167,116.0063718225668,116.0063741620266,116.0063804564964,116.0066406806117,116.0070043014552,116.0073642354885,116.0073623012661,116.007341994294,116.0072570321877,116.007597008791,116.0075393399854,116.0076604504979,116.0068656915519,116.0066919339338,116.0072291966907,116.0072432872027,116.0072381097506,116.0072390830616,116.0074225863559,116.0124205441503,116.0066393647114,115.995810298809,115.9902290551793,115.9901750632805,115.9901520456193,115.9903190941192,115.9903556704859,115.9905306771903,115.9905475047897,115.9905655610603,115.9905862473149,115.9904467156551,115.9904835715709,115.990598423206,115.9903645411195,115.9877336890102,115.9889759412021,115.9908535353204,115.990901684718,115.9909205172935,115.9908668295001,115.9908006953241,115.9907526922321],\"marker\":{\"color\":[3,3,3,3,3,3,3,3,3,3,3,3,3,3,3,3,3,3,2,2,2,2,2,2,2,2,2,2,2,2,2,2,2,2,2,2,2,0,0,0,0,0,0,0,0,0,0,0,0,0,0,0,0,0,0,0,0,0,0,0,5,5,5,5,5,5,5,5,5,5,5,5,5,5,5,5,5,5,5,5,5,5,5,5,5,5,5,5,5,1,1,1,1,1,1,1,1,1,1,1,1,1,1,1,1,1,1,1,1,1,1,1,1,1,1,1,1,1,1,1,1,1,1,1,4,4,4,4,4,4,4,4,4,4,4,4,4,4,4,4,4,4,4,4,4,4],\"coloraxis\":\"coloraxis\"},\"mode\":\"markers\",\"name\":\"\",\"showlegend\":false,\"subplot\":\"mapbox\",\"type\":\"scattermapbox\"},{\"hovertemplate\":\"<b>%{hovertext}</b><br><br>lat=%{lat}<br>lon=%{lon}<extra></extra>\",\"hovertext\":[\"Sandalford Winery\",\"Nikola Estate\",\"Edgecombe Brothers\",\"Little River Winery and Caf\\u00e9\",\"Black Swan Winery and Restaurant\",\"Lancaster Wines\",\"Mandoon Estate\",\"Mandoon Vineyard\",\"Oakover Grounds\",\"Henley Park Winery\",\"Upper Reach Winery\",\"Mann Winery\",\"Harris Organic Wines and Spirits\",\"John Kosovich Wines\",\"Twin Hill Wines\",\"Olive Farm Wines\",\"Ali's Vineyard\",\"Talijancich\",\"Tyler's Vineyard\",\"Fig Tree Estate Winery\",\"Lamont's Winery\",\"Faber Vineyard\",\"Swan Valley Wines\",\"Windy Creek Estate\",\"Holy Mary Cellars\",\"Jarrah Ridge Wines\",\"Katgully Wines Cellar Door\",\"Sittella\",\"Ugly Duckling Wines\",\"Heafod Glen Winery\",\"Ambrook Wines\"],\"lat\":[-31.868701,-31.854112,-31.795187,-31.824124,-31.823404,-31.85226,-31.868266,-31.867594,-31.84508,-31.797776,-31.795033,-31.793688,-31.794595,-31.795346,-31.796729,-31.811995,-31.814194,-31.818507,-31.812921,-31.804387,-31.80323,-31.796771,-31.796915,-31.830487,-31.835658,-31.836499,-31.835449,-31.830083,-31.830502,-31.822945,-31.871998],\"legendgroup\":\"\",\"lon\":[115.992759,115.997995,115.998571,116.000888,116.00085,115.988887,115.994991,115.995494,116.007327,116.001641,116.008634,116.012546,116.02083,116.02076,116.020781,116.022232,116.01822,116.020341,116.040805,116.04003,116.037443,116.045655,116.048836,116.03056,116.021676,116.015532,116.021235,116.006851,115.997425,115.996817,115.981779],\"marker\":{\"color\":\"#636efa\"},\"mode\":\"markers\",\"name\":\"\",\"showlegend\":false,\"subplot\":\"mapbox\",\"type\":\"scattermapbox\"}],                        {\"template\":{\"data\":{\"histogram2dcontour\":[{\"type\":\"histogram2dcontour\",\"colorbar\":{\"outlinewidth\":0,\"ticks\":\"\"},\"colorscale\":[[0.0,\"#0d0887\"],[0.1111111111111111,\"#46039f\"],[0.2222222222222222,\"#7201a8\"],[0.3333333333333333,\"#9c179e\"],[0.4444444444444444,\"#bd3786\"],[0.5555555555555556,\"#d8576b\"],[0.6666666666666666,\"#ed7953\"],[0.7777777777777778,\"#fb9f3a\"],[0.8888888888888888,\"#fdca26\"],[1.0,\"#f0f921\"]]}],\"choropleth\":[{\"type\":\"choropleth\",\"colorbar\":{\"outlinewidth\":0,\"ticks\":\"\"}}],\"histogram2d\":[{\"type\":\"histogram2d\",\"colorbar\":{\"outlinewidth\":0,\"ticks\":\"\"},\"colorscale\":[[0.0,\"#0d0887\"],[0.1111111111111111,\"#46039f\"],[0.2222222222222222,\"#7201a8\"],[0.3333333333333333,\"#9c179e\"],[0.4444444444444444,\"#bd3786\"],[0.5555555555555556,\"#d8576b\"],[0.6666666666666666,\"#ed7953\"],[0.7777777777777778,\"#fb9f3a\"],[0.8888888888888888,\"#fdca26\"],[1.0,\"#f0f921\"]]}],\"heatmap\":[{\"type\":\"heatmap\",\"colorbar\":{\"outlinewidth\":0,\"ticks\":\"\"},\"colorscale\":[[0.0,\"#0d0887\"],[0.1111111111111111,\"#46039f\"],[0.2222222222222222,\"#7201a8\"],[0.3333333333333333,\"#9c179e\"],[0.4444444444444444,\"#bd3786\"],[0.5555555555555556,\"#d8576b\"],[0.6666666666666666,\"#ed7953\"],[0.7777777777777778,\"#fb9f3a\"],[0.8888888888888888,\"#fdca26\"],[1.0,\"#f0f921\"]]}],\"heatmapgl\":[{\"type\":\"heatmapgl\",\"colorbar\":{\"outlinewidth\":0,\"ticks\":\"\"},\"colorscale\":[[0.0,\"#0d0887\"],[0.1111111111111111,\"#46039f\"],[0.2222222222222222,\"#7201a8\"],[0.3333333333333333,\"#9c179e\"],[0.4444444444444444,\"#bd3786\"],[0.5555555555555556,\"#d8576b\"],[0.6666666666666666,\"#ed7953\"],[0.7777777777777778,\"#fb9f3a\"],[0.8888888888888888,\"#fdca26\"],[1.0,\"#f0f921\"]]}],\"contourcarpet\":[{\"type\":\"contourcarpet\",\"colorbar\":{\"outlinewidth\":0,\"ticks\":\"\"}}],\"contour\":[{\"type\":\"contour\",\"colorbar\":{\"outlinewidth\":0,\"ticks\":\"\"},\"colorscale\":[[0.0,\"#0d0887\"],[0.1111111111111111,\"#46039f\"],[0.2222222222222222,\"#7201a8\"],[0.3333333333333333,\"#9c179e\"],[0.4444444444444444,\"#bd3786\"],[0.5555555555555556,\"#d8576b\"],[0.6666666666666666,\"#ed7953\"],[0.7777777777777778,\"#fb9f3a\"],[0.8888888888888888,\"#fdca26\"],[1.0,\"#f0f921\"]]}],\"surface\":[{\"type\":\"surface\",\"colorbar\":{\"outlinewidth\":0,\"ticks\":\"\"},\"colorscale\":[[0.0,\"#0d0887\"],[0.1111111111111111,\"#46039f\"],[0.2222222222222222,\"#7201a8\"],[0.3333333333333333,\"#9c179e\"],[0.4444444444444444,\"#bd3786\"],[0.5555555555555556,\"#d8576b\"],[0.6666666666666666,\"#ed7953\"],[0.7777777777777778,\"#fb9f3a\"],[0.8888888888888888,\"#fdca26\"],[1.0,\"#f0f921\"]]}],\"mesh3d\":[{\"type\":\"mesh3d\",\"colorbar\":{\"outlinewidth\":0,\"ticks\":\"\"}}],\"scatter\":[{\"fillpattern\":{\"fillmode\":\"overlay\",\"size\":10,\"solidity\":0.2},\"type\":\"scatter\"}],\"parcoords\":[{\"type\":\"parcoords\",\"line\":{\"colorbar\":{\"outlinewidth\":0,\"ticks\":\"\"}}}],\"scatterpolargl\":[{\"type\":\"scatterpolargl\",\"marker\":{\"colorbar\":{\"outlinewidth\":0,\"ticks\":\"\"}}}],\"bar\":[{\"error_x\":{\"color\":\"#2a3f5f\"},\"error_y\":{\"color\":\"#2a3f5f\"},\"marker\":{\"line\":{\"color\":\"#E5ECF6\",\"width\":0.5},\"pattern\":{\"fillmode\":\"overlay\",\"size\":10,\"solidity\":0.2}},\"type\":\"bar\"}],\"scattergeo\":[{\"type\":\"scattergeo\",\"marker\":{\"colorbar\":{\"outlinewidth\":0,\"ticks\":\"\"}}}],\"scatterpolar\":[{\"type\":\"scatterpolar\",\"marker\":{\"colorbar\":{\"outlinewidth\":0,\"ticks\":\"\"}}}],\"histogram\":[{\"marker\":{\"pattern\":{\"fillmode\":\"overlay\",\"size\":10,\"solidity\":0.2}},\"type\":\"histogram\"}],\"scattergl\":[{\"type\":\"scattergl\",\"marker\":{\"colorbar\":{\"outlinewidth\":0,\"ticks\":\"\"}}}],\"scatter3d\":[{\"type\":\"scatter3d\",\"line\":{\"colorbar\":{\"outlinewidth\":0,\"ticks\":\"\"}},\"marker\":{\"colorbar\":{\"outlinewidth\":0,\"ticks\":\"\"}}}],\"scattermapbox\":[{\"type\":\"scattermapbox\",\"marker\":{\"colorbar\":{\"outlinewidth\":0,\"ticks\":\"\"}}}],\"scatterternary\":[{\"type\":\"scatterternary\",\"marker\":{\"colorbar\":{\"outlinewidth\":0,\"ticks\":\"\"}}}],\"scattercarpet\":[{\"type\":\"scattercarpet\",\"marker\":{\"colorbar\":{\"outlinewidth\":0,\"ticks\":\"\"}}}],\"carpet\":[{\"aaxis\":{\"endlinecolor\":\"#2a3f5f\",\"gridcolor\":\"white\",\"linecolor\":\"white\",\"minorgridcolor\":\"white\",\"startlinecolor\":\"#2a3f5f\"},\"baxis\":{\"endlinecolor\":\"#2a3f5f\",\"gridcolor\":\"white\",\"linecolor\":\"white\",\"minorgridcolor\":\"white\",\"startlinecolor\":\"#2a3f5f\"},\"type\":\"carpet\"}],\"table\":[{\"cells\":{\"fill\":{\"color\":\"#EBF0F8\"},\"line\":{\"color\":\"white\"}},\"header\":{\"fill\":{\"color\":\"#C8D4E3\"},\"line\":{\"color\":\"white\"}},\"type\":\"table\"}],\"barpolar\":[{\"marker\":{\"line\":{\"color\":\"#E5ECF6\",\"width\":0.5},\"pattern\":{\"fillmode\":\"overlay\",\"size\":10,\"solidity\":0.2}},\"type\":\"barpolar\"}],\"pie\":[{\"automargin\":true,\"type\":\"pie\"}]},\"layout\":{\"autotypenumbers\":\"strict\",\"colorway\":[\"#636efa\",\"#EF553B\",\"#00cc96\",\"#ab63fa\",\"#FFA15A\",\"#19d3f3\",\"#FF6692\",\"#B6E880\",\"#FF97FF\",\"#FECB52\"],\"font\":{\"color\":\"#2a3f5f\"},\"hovermode\":\"closest\",\"hoverlabel\":{\"align\":\"left\"},\"paper_bgcolor\":\"white\",\"plot_bgcolor\":\"#E5ECF6\",\"polar\":{\"bgcolor\":\"#E5ECF6\",\"angularaxis\":{\"gridcolor\":\"white\",\"linecolor\":\"white\",\"ticks\":\"\"},\"radialaxis\":{\"gridcolor\":\"white\",\"linecolor\":\"white\",\"ticks\":\"\"}},\"ternary\":{\"bgcolor\":\"#E5ECF6\",\"aaxis\":{\"gridcolor\":\"white\",\"linecolor\":\"white\",\"ticks\":\"\"},\"baxis\":{\"gridcolor\":\"white\",\"linecolor\":\"white\",\"ticks\":\"\"},\"caxis\":{\"gridcolor\":\"white\",\"linecolor\":\"white\",\"ticks\":\"\"}},\"coloraxis\":{\"colorbar\":{\"outlinewidth\":0,\"ticks\":\"\"}},\"colorscale\":{\"sequential\":[[0.0,\"#0d0887\"],[0.1111111111111111,\"#46039f\"],[0.2222222222222222,\"#7201a8\"],[0.3333333333333333,\"#9c179e\"],[0.4444444444444444,\"#bd3786\"],[0.5555555555555556,\"#d8576b\"],[0.6666666666666666,\"#ed7953\"],[0.7777777777777778,\"#fb9f3a\"],[0.8888888888888888,\"#fdca26\"],[1.0,\"#f0f921\"]],\"sequentialminus\":[[0.0,\"#0d0887\"],[0.1111111111111111,\"#46039f\"],[0.2222222222222222,\"#7201a8\"],[0.3333333333333333,\"#9c179e\"],[0.4444444444444444,\"#bd3786\"],[0.5555555555555556,\"#d8576b\"],[0.6666666666666666,\"#ed7953\"],[0.7777777777777778,\"#fb9f3a\"],[0.8888888888888888,\"#fdca26\"],[1.0,\"#f0f921\"]],\"diverging\":[[0,\"#8e0152\"],[0.1,\"#c51b7d\"],[0.2,\"#de77ae\"],[0.3,\"#f1b6da\"],[0.4,\"#fde0ef\"],[0.5,\"#f7f7f7\"],[0.6,\"#e6f5d0\"],[0.7,\"#b8e186\"],[0.8,\"#7fbc41\"],[0.9,\"#4d9221\"],[1,\"#276419\"]]},\"xaxis\":{\"gridcolor\":\"white\",\"linecolor\":\"white\",\"ticks\":\"\",\"title\":{\"standoff\":15},\"zerolinecolor\":\"white\",\"automargin\":true,\"zerolinewidth\":2},\"yaxis\":{\"gridcolor\":\"white\",\"linecolor\":\"white\",\"ticks\":\"\",\"title\":{\"standoff\":15},\"zerolinecolor\":\"white\",\"automargin\":true,\"zerolinewidth\":2},\"scene\":{\"xaxis\":{\"backgroundcolor\":\"#E5ECF6\",\"gridcolor\":\"white\",\"linecolor\":\"white\",\"showbackground\":true,\"ticks\":\"\",\"zerolinecolor\":\"white\",\"gridwidth\":2},\"yaxis\":{\"backgroundcolor\":\"#E5ECF6\",\"gridcolor\":\"white\",\"linecolor\":\"white\",\"showbackground\":true,\"ticks\":\"\",\"zerolinecolor\":\"white\",\"gridwidth\":2},\"zaxis\":{\"backgroundcolor\":\"#E5ECF6\",\"gridcolor\":\"white\",\"linecolor\":\"white\",\"showbackground\":true,\"ticks\":\"\",\"zerolinecolor\":\"white\",\"gridwidth\":2}},\"shapedefaults\":{\"line\":{\"color\":\"#2a3f5f\"}},\"annotationdefaults\":{\"arrowcolor\":\"#2a3f5f\",\"arrowhead\":0,\"arrowwidth\":1},\"geo\":{\"bgcolor\":\"white\",\"landcolor\":\"#E5ECF6\",\"subunitcolor\":\"white\",\"showland\":true,\"showlakes\":true,\"lakecolor\":\"white\"},\"title\":{\"x\":0.05},\"mapbox\":{\"style\":\"light\"}}},\"mapbox\":{\"domain\":{\"x\":[0.0,1.0],\"y\":[0.0,1.0]},\"center\":{\"lat\":-31.829142815097253,\"lon\":116.00928029017983},\"zoom\":8,\"style\":\"open-street-map\"},\"coloraxis\":{\"colorbar\":{\"title\":{\"text\":\"cluster\"}},\"colorscale\":[[0.0,\"#0d0887\"],[0.1111111111111111,\"#46039f\"],[0.2222222222222222,\"#7201a8\"],[0.3333333333333333,\"#9c179e\"],[0.4444444444444444,\"#bd3786\"],[0.5555555555555556,\"#d8576b\"],[0.6666666666666666,\"#ed7953\"],[0.7777777777777778,\"#fb9f3a\"],[0.8888888888888888,\"#fdca26\"],[1.0,\"#f0f921\"]]},\"legend\":{\"tracegroupgap\":0},\"margin\":{\"t\":0,\"r\":0,\"l\":0,\"b\":0}},                        {\"responsive\": true}                    ).then(function(){\n",
       "                            \n",
       "var gd = document.getElementById('90360c82-8d17-4c22-a9b6-766744fb7002');\n",
       "var x = new MutationObserver(function (mutations, observer) {{\n",
       "        var display = window.getComputedStyle(gd).display;\n",
       "        if (!display || display === 'none') {{\n",
       "            console.log([gd, 'removed!']);\n",
       "            Plotly.purge(gd);\n",
       "            observer.disconnect();\n",
       "        }}\n",
       "}});\n",
       "\n",
       "// Listen for the removal of the full notebook cells\n",
       "var notebookContainer = gd.closest('#notebook-container');\n",
       "if (notebookContainer) {{\n",
       "    x.observe(notebookContainer, {childList: true});\n",
       "}}\n",
       "\n",
       "// Listen for the clearing of the current output cell\n",
       "var outputEl = gd.closest('.output');\n",
       "if (outputEl) {{\n",
       "    x.observe(outputEl, {childList: true});\n",
       "}}\n",
       "\n",
       "                        })                };                });            </script>        </div>"
      ]
     },
     "metadata": {},
     "output_type": "display_data"
    }
   ],
   "source": [
    "#Update relevant data\n",
    "obj_df = pd.read_csv(dataDir+'/obj_df.csv')\n",
    "\n",
    "gdf = geopandas.GeoDataFrame(\n",
    "    obj_df, geometry=geopandas.points_from_xy(obj_df.latitude, obj_df.longitude), crs=\"EPSG:4326\"\n",
    ")\n",
    "\n",
    "gdf_locs = geopandas.GeoDataFrame(\n",
    "    osm_df, geometry=geopandas.points_from_xy(osm_df.latitude, osm_df.longitude), crs=\"EPSG:4326\"\n",
    ")\n",
    "geo_df = gdf\n",
    "\n",
    "geo_locs = gdf_locs\n",
    "\n",
    "#Make the plots\n",
    "fig = px.scatter_mapbox(geo_df,\n",
    "                    lat=geo_df.geometry.y,\n",
    "                    lon=geo_df.geometry.x,\n",
    "                    color=\"cluster\",\n",
    "                    hover_name=\"object\",\n",
    "                    hover_data=[\"predicted_location_kmeans\", \"true_location\"])\n",
    "fig2 = px.scatter_mapbox(geo_locs, \n",
    "                        lat = geo_locs.geometry.y,\n",
    "                        lon = geo_locs.geometry.x,\n",
    "                        hover_name=\"location\")\n",
    "\n",
    "fig.add_trace(fig2.data[0])\n",
    "fig.update_layout(\n",
    "    mapbox_style=\"open-street-map\")\n",
    "fig.update_layout(margin={\"r\":0,\"t\":0,\"l\":0,\"b\":0})\n",
    "fig.show()"
   ]
  },
  {
   "cell_type": "markdown",
   "id": "e92512c9",
   "metadata": {},
   "source": [
    "## K == Number of Locations\n",
    "Here, k == 31\n",
    "\n",
    "Despite the number of clusters, the correct labelling rate was quite good: \n",
    "\n",
    "### Location inference results:\n",
    "\n",
    "    True     141\n",
    "    False      5\n",
    "\n",
    "### Clusters\n",
    "\n",
    "    2     17\n",
    "    3     16\n",
    "    0     15\n",
    "    10    13\n",
    "    21    11\n",
    "    25    11\n",
    "    5     10\n",
    "    1      8\n",
    "    16     6\n",
    "    4      6\n",
    "    30     5\n",
    "    8      4\n",
    "    9      3\n",
    "    29     2\n",
    "    27     2\n",
    "    13     2\n",
    "    24     1\n",
    "    11     1\n",
    "    14     1\n",
    "    28     1\n",
    "    20     1\n",
    "    7      1\n",
    "    19     1\n",
    "    6      1\n",
    "    23     1\n",
    "    15     1\n",
    "    26     1\n",
    "    18     1\n",
    "    22     1\n",
    "    12     1\n",
    "    17     1\n",
    "    \n",
    "This good performance is almost certainly due to a very sparse dataset and geographically distinct locations"
   ]
  },
  {
   "cell_type": "code",
   "execution_count": 96,
   "id": "724fa99a",
   "metadata": {},
   "outputs": [
    {
     "data": {
      "application/vnd.plotly.v1+json": {
       "config": {
        "plotlyServerURL": "https://plot.ly"
       },
       "data": [
        {
         "customdata": [
          [
           "Ali's Vineyard"
          ],
          [
           "Ali's Vineyard"
          ],
          [
           "Ali's Vineyard"
          ],
          [
           "Ali's Vineyard"
          ],
          [
           "Ali's Vineyard"
          ],
          [
           "Ali's Vineyard"
          ],
          [
           "Ali's Vineyard"
          ],
          [
           "Ali's Vineyard"
          ],
          [
           "Ali's Vineyard"
          ],
          [
           "Ali's Vineyard"
          ],
          [
           "Ali's Vineyard"
          ],
          [
           "Ali's Vineyard"
          ],
          [
           "Ali's Vineyard"
          ],
          [
           "Ali's Vineyard"
          ],
          [
           "Ali's Vineyard"
          ],
          [
           "Ali's Vineyard"
          ],
          [
           "Ali's Vineyard"
          ],
          [
           "Ali's Vineyard"
          ],
          [
           "Little River Winery and Café"
          ],
          [
           "Little River Winery and Café"
          ],
          [
           "Little River Winery and Café"
          ],
          [
           "Little River Winery and Café"
          ],
          [
           "Little River Winery and Café"
          ],
          [
           "Little River Winery and Café"
          ],
          [
           "Little River Winery and Café"
          ],
          [
           "Little River Winery and Café"
          ],
          [
           "Little River Winery and Café"
          ],
          [
           "Little River Winery and Café"
          ],
          [
           "Little River Winery and Café"
          ],
          [
           "Little River Winery and Café"
          ],
          [
           "Little River Winery and Café"
          ],
          [
           "Little River Winery and Café"
          ],
          [
           "Little River Winery and Café"
          ],
          [
           "Little River Winery and Café"
          ],
          [
           "Black Swan Winery and Restaurant"
          ],
          [
           "Black Swan Winery and Restaurant"
          ],
          [
           "Black Swan Winery and Restaurant"
          ],
          [
           "Faber Vineyard"
          ],
          [
           "Faber Vineyard"
          ],
          [
           "Faber Vineyard"
          ],
          [
           "Faber Vineyard"
          ],
          [
           "Faber Vineyard"
          ],
          [
           "Faber Vineyard"
          ],
          [
           "Faber Vineyard"
          ],
          [
           "Faber Vineyard"
          ],
          [
           "Faber Vineyard"
          ],
          [
           "Faber Vineyard"
          ],
          [
           "Faber Vineyard"
          ],
          [
           "Faber Vineyard"
          ],
          [
           "Faber Vineyard"
          ],
          [
           "Faber Vineyard"
          ],
          [
           "Faber Vineyard"
          ],
          [
           "Faber Vineyard"
          ],
          [
           "Faber Vineyard"
          ],
          [
           "Faber Vineyard"
          ],
          [
           "Faber Vineyard"
          ],
          [
           "Faber Vineyard"
          ],
          [
           "Faber Vineyard"
          ],
          [
           "Faber Vineyard"
          ],
          [
           "Faber Vineyard"
          ],
          [
           "Ugly Duckling Wines"
          ],
          [
           "Ugly Duckling Wines"
          ],
          [
           "Ugly Duckling Wines"
          ],
          [
           "Ugly Duckling Wines"
          ],
          [
           "Ugly Duckling Wines"
          ],
          [
           "Ugly Duckling Wines"
          ],
          [
           "Ugly Duckling Wines"
          ],
          [
           "Ugly Duckling Wines"
          ],
          [
           "Ugly Duckling Wines"
          ],
          [
           "Ugly Duckling Wines"
          ],
          [
           "Ugly Duckling Wines"
          ],
          [
           "Ugly Duckling Wines"
          ],
          [
           "Ugly Duckling Wines"
          ],
          [
           "Ugly Duckling Wines"
          ],
          [
           "Ugly Duckling Wines"
          ],
          [
           "Ugly Duckling Wines"
          ],
          [
           "Ugly Duckling Wines"
          ],
          [
           "Ugly Duckling Wines"
          ],
          [
           "Ugly Duckling Wines"
          ],
          [
           "Ugly Duckling Wines"
          ],
          [
           "Ugly Duckling Wines"
          ],
          [
           "Ugly Duckling Wines"
          ],
          [
           "Ugly Duckling Wines"
          ],
          [
           "Ugly Duckling Wines"
          ],
          [
           "Ugly Duckling Wines"
          ],
          [
           "Ugly Duckling Wines"
          ],
          [
           "Ugly Duckling Wines"
          ],
          [
           "Ugly Duckling Wines"
          ],
          [
           "Ugly Duckling Wines"
          ],
          [
           "Oakover Grounds"
          ],
          [
           "Oakover Grounds"
          ],
          [
           "Oakover Grounds"
          ],
          [
           "Oakover Grounds"
          ],
          [
           "Oakover Grounds"
          ],
          [
           "Oakover Grounds"
          ],
          [
           "Oakover Grounds"
          ],
          [
           "Oakover Grounds"
          ],
          [
           "Oakover Grounds"
          ],
          [
           "Oakover Grounds"
          ],
          [
           "Oakover Grounds"
          ],
          [
           "Oakover Grounds"
          ],
          [
           "Oakover Grounds"
          ],
          [
           "Oakover Grounds"
          ],
          [
           "Oakover Grounds"
          ],
          [
           "Oakover Grounds"
          ],
          [
           "Oakover Grounds"
          ],
          [
           "Oakover Grounds"
          ],
          [
           "Oakover Grounds"
          ],
          [
           "Oakover Grounds"
          ],
          [
           "Oakover Grounds"
          ],
          [
           "Oakover Grounds"
          ],
          [
           "Oakover Grounds"
          ],
          [
           "Oakover Grounds"
          ],
          [
           "Oakover Grounds"
          ],
          [
           "Oakover Grounds"
          ],
          [
           "Oakover Grounds"
          ],
          [
           "Oakover Grounds"
          ],
          [
           "Oakover Grounds"
          ],
          [
           "Oakover Grounds"
          ],
          [
           "Oakover Grounds"
          ],
          [
           "Oakover Grounds"
          ],
          [
           "Oakover Grounds"
          ],
          [
           "Oakover Grounds"
          ],
          [
           "Oakover Grounds"
          ],
          [
           "Nikola Estate"
          ],
          [
           "Lancaster Wines"
          ],
          [
           "Lancaster Wines"
          ],
          [
           "Lancaster Wines"
          ],
          [
           "Lancaster Wines"
          ],
          [
           "Lancaster Wines"
          ],
          [
           "Lancaster Wines"
          ],
          [
           "Lancaster Wines"
          ],
          [
           "Lancaster Wines"
          ],
          [
           "Lancaster Wines"
          ],
          [
           "Lancaster Wines"
          ],
          [
           "Lancaster Wines"
          ],
          [
           "Lancaster Wines"
          ],
          [
           "Lancaster Wines"
          ],
          [
           "Lancaster Wines"
          ],
          [
           "Lancaster Wines"
          ],
          [
           "Lancaster Wines"
          ],
          [
           "Lancaster Wines"
          ],
          [
           "Lancaster Wines"
          ],
          [
           "Lancaster Wines"
          ],
          [
           "Lancaster Wines"
          ],
          [
           "Lancaster Wines"
          ]
         ],
         "hovertemplate": "<b>%{hovertext}</b><br><br>lat=%{lat}<br>lon=%{lon}<br>predicted_location_kmeans=%{customdata[0]}<br>cluster=%{marker.color}<extra></extra>",
         "hovertext": [
          "palm_tree",
          "palm_tree",
          "palm_tree",
          "palm_tree",
          "palm_tree",
          "palm_tree",
          "palm_tree",
          "palm_tree",
          "palm_tree",
          "palm_tree",
          "palm_tree",
          "palm_tree",
          "pizza_oven",
          "air_conditioner",
          "building",
          "shed",
          "shed",
          "shed",
          "picnic_bench",
          "picnic_bench",
          "planter",
          "planter",
          "building",
          "parking_lot",
          "patio",
          "water_tank",
          "air_conitioner",
          "patio",
          "building",
          "shed",
          "building",
          "building",
          "vineyard",
          "vineyard",
          "vineyard",
          "building",
          "parking_lot",
          "retaining_wall",
          "retaining_wall",
          "sign",
          "sign",
          "sign",
          "tree",
          "tree",
          "tree",
          "tree",
          "tree",
          "tree",
          "parking_lot",
          "vineyard",
          "vineyard",
          "building",
          "shed",
          "solar_panel",
          "building",
          "parking_lot",
          "shed",
          "building",
          "swimming_pool",
          "courtyard",
          "vineyard",
          "vineyard",
          "generator",
          "parking_lot",
          "carport",
          "bicycle_rack",
          "shed",
          "sculpture",
          "patio",
          "patio",
          "shed",
          "picnic_table",
          "picnic_table",
          "picnic_umbrella",
          "picnic_umbrella",
          "picnic_umbrella",
          "picnic_umbrella",
          "picnic_table",
          "picnic_table",
          "shed",
          "shed",
          "shed",
          "tree",
          "tree",
          "tree",
          "tree",
          "tree",
          "tree",
          "tree",
          "building",
          "pond",
          "bridge",
          "island",
          "vineyard",
          "swimming_pool",
          "building",
          "building",
          "tennis_court",
          "swimming_pool",
          "shade_cloth",
          "sign",
          "warehouse",
          "vat",
          "vat",
          "vat",
          "vat",
          "building",
          "parking_lot",
          "solar_panels",
          "solar_panels",
          "building",
          "fence",
          "jetty",
          "picnic_table",
          "picnic_table",
          "tank",
          "tank",
          "shed",
          "shipping_container",
          "shipping_container",
          "shipping_container",
          "shipping_container",
          "vineyard",
          "vineyard",
          "river",
          "vineyard",
          "vineyard",
          "parking_lot",
          "shed",
          "sign",
          "table",
          "table",
          "table",
          "table",
          "wine_barrell",
          "counter",
          "shed",
          "fence",
          "sign",
          "driveway",
          "picnic_table",
          "picnic_table",
          "picnic_table",
          "picnic_table",
          "picnic_table",
          "picnic_table"
         ],
         "lat": [
          -31.81445187554597,
          -31.81451940926452,
          -31.8145718117269,
          -31.81458084078105,
          -31.81462157655873,
          -31.81454971676524,
          -31.81448193361258,
          -31.81444773977627,
          -31.8143890181285,
          -31.81439660859307,
          -31.81434027785148,
          -31.81429434468795,
          -31.81429169178455,
          -31.81420767463152,
          -31.81394919889622,
          -31.81439717390363,
          -31.81432230857389,
          -31.8135457777316,
          -31.82401586475119,
          -31.82402821801069,
          -31.82400450902502,
          -31.82400258090139,
          -31.82417864772208,
          -31.82406166208574,
          -31.82414265894136,
          -31.82427841722326,
          -31.82414274552135,
          -31.82416289887374,
          -31.82414373469494,
          -31.82414175485055,
          -31.82429678566091,
          -31.8238198185718,
          -31.82470742057825,
          -31.8242299537138,
          -31.82369416405801,
          -31.82347585518145,
          -31.82372524293678,
          -31.79711445941102,
          -31.79711822124566,
          -31.79711822124567,
          -31.79711445941102,
          -31.79692113693582,
          -31.79707299441964,
          -31.79707639334401,
          -31.79701796869119,
          -31.79702180433045,
          -31.79695848151606,
          -31.7969572497282,
          -31.79698640377645,
          -31.79698932185287,
          -31.7946673883335,
          -31.79676259008081,
          -31.79676332889907,
          -31.79669029290958,
          -31.79664133173589,
          -31.79691654618838,
          -31.79658001770868,
          -31.79630852369076,
          -31.79620849056571,
          -31.79646472091715,
          -31.83039735327537,
          -31.83060476817275,
          -31.83020873465989,
          -31.83033573653752,
          -31.83038472086931,
          -31.83023391039609,
          -31.83047573335856,
          -31.83050151773064,
          -31.83051242847542,
          -31.83042950292597,
          -31.83048831452484,
          -31.83039290156244,
          -31.83042013524614,
          -31.83039529464335,
          -31.83041309005974,
          -31.83059039674292,
          -31.83062496370694,
          -31.83044919552612,
          -31.83055048589921,
          -31.83057537982879,
          -31.8306575917034,
          -31.83065965298827,
          -31.83079043292682,
          -31.83079112085596,
          -31.83079315668379,
          -31.83078775293374,
          -31.83079115492708,
          -31.83078777975723,
          -31.83079186264361,
          -31.84668336675156,
          -31.84590359767057,
          -31.84638920015648,
          -31.84633325480655,
          -31.84630620908671,
          -31.84642682355494,
          -31.84660379451255,
          -31.84534087718281,
          -31.84497134212882,
          -31.84520480790187,
          -31.84519057474693,
          -31.84696779013872,
          -31.84505951047444,
          -31.84518456887401,
          -31.84515103476856,
          -31.84510853881709,
          -31.84507695999562,
          -31.84512567428841,
          -31.84527487175123,
          -31.84487684093081,
          -31.84496527724279,
          -31.84505688510912,
          -31.84523158062051,
          -31.84538040931631,
          -31.84537004084413,
          -31.84537006574641,
          -31.84488600975254,
          -31.84485397635064,
          -31.84513430001038,
          -31.84466167779774,
          -31.84469149573804,
          -31.84472428455821,
          -31.84468823575176,
          -31.84538344253644,
          -31.84424690471754,
          -31.85109633797458,
          -31.85068649170797,
          -31.85278296339006,
          -31.85188710724418,
          -31.85210550561943,
          -31.8518872114326,
          -31.85182659388803,
          -31.85182616279369,
          -31.85182820538461,
          -31.85182506326957,
          -31.85189307872191,
          -31.85188320881234,
          -31.8518732548151,
          -31.85182222748639,
          -31.85198713829637,
          -31.85192250139609,
          -31.85189392826163,
          -31.85187442908764,
          -31.8518030858586,
          -31.8518024058948,
          -31.85180059356636,
          -31.85180195605045
         ],
         "legendgroup": "",
         "lon": [
          116.0183374663027,
          116.0183259785979,
          116.0183161354075,
          116.0182529749383,
          116.0182086643162,
          116.0182128388363,
          116.018223361407,
          116.0182823408421,
          116.01821750659,
          116.0182474062873,
          116.0181813817572,
          116.0182631395714,
          116.0181961643027,
          116.0182334670006,
          116.0179055434116,
          116.0180953620699,
          116.0178051456259,
          116.0179865644773,
          116.0009142164415,
          116.000930932033,
          116.0009778539811,
          116.00092060426,
          116.0006048976215,
          116.0005802543637,
          116.0005190872192,
          116.0007722909438,
          116.0010150860718,
          116.0009461560145,
          116.0008411872399,
          116.0011891817338,
          116.0015213385211,
          116.0011641432193,
          116.0008309768264,
          116.0024406990624,
          116.0018976598281,
          116.0008501775059,
          116.0005857862165,
          116.0458851425753,
          116.0457670563354,
          116.0457670563353,
          116.0458851425753,
          116.0458175186144,
          116.0457592802574,
          116.0458562580698,
          116.0458650464963,
          116.0457701043378,
          116.0458575517662,
          116.0457695358829,
          116.0456561146581,
          116.0459678755513,
          116.0454319290855,
          116.0458568785181,
          116.0450705556765,
          116.0451148633962,
          116.0465802282568,
          116.0452797276304,
          116.045049160885,
          116.0451629606889,
          116.0452886782776,
          116.0458601290954,
          115.998939146043,
          115.9977318524493,
          115.9974576751721,
          115.9977420660818,
          115.997502299226,
          115.9974572459445,
          115.9977050969983,
          115.997777721079,
          115.997669167832,
          115.997431381974,
          115.9973518616014,
          115.9973090452622,
          115.9972816677781,
          115.9973045597328,
          115.9972807007919,
          115.9974222588125,
          115.9973755276259,
          115.9972085542997,
          115.9971975624587,
          115.9972416499528,
          115.9971742512736,
          115.997296680735,
          115.9971388569162,
          115.9971802611804,
          115.9972163578717,
          115.9972577899615,
          115.9973048744194,
          115.9973561509557,
          115.9974216940731,
          116.0086270958327,
          116.0076430354346,
          116.0075575103231,
          116.0077438974485,
          116.0059960349935,
          116.0046871040282,
          116.0047242747774,
          116.0049137333173,
          116.0049529458494,
          116.0046804703044,
          116.0046414836387,
          116.0066284586833,
          116.0060571495129,
          116.0063688107167,
          116.0063718225668,
          116.0063741620266,
          116.0063804564964,
          116.0066406806117,
          116.0070043014552,
          116.0073642354885,
          116.0073623012661,
          116.007341994294,
          116.0072570321877,
          116.007597008791,
          116.0075393399854,
          116.0076604504979,
          116.0068656915519,
          116.0066919339338,
          116.0072291966907,
          116.0072432872027,
          116.0072381097506,
          116.0072390830616,
          116.0074225863559,
          116.0124205441503,
          116.0066393647114,
          115.995810298809,
          115.9902290551793,
          115.9901750632805,
          115.9901520456193,
          115.9903190941192,
          115.9903556704859,
          115.9905306771903,
          115.9905475047897,
          115.9905655610603,
          115.9905862473149,
          115.9904467156551,
          115.9904835715709,
          115.990598423206,
          115.9903645411195,
          115.9877336890102,
          115.9889759412021,
          115.9908535353204,
          115.990901684718,
          115.9909205172935,
          115.9908668295001,
          115.9908006953241,
          115.9907526922321
         ],
         "marker": {
          "color": [
           3,
           3,
           3,
           3,
           3,
           3,
           3,
           3,
           3,
           3,
           3,
           3,
           3,
           3,
           27,
           3,
           3,
           27,
           5,
           5,
           5,
           5,
           30,
           30,
           30,
           30,
           5,
           5,
           5,
           5,
           5,
           5,
           30,
           23,
           17,
           29,
           29,
           0,
           0,
           0,
           0,
           0,
           0,
           0,
           0,
           0,
           0,
           0,
           0,
           0,
           12,
           0,
           16,
           16,
           19,
           16,
           16,
           16,
           16,
           0,
           15,
           25,
           25,
           25,
           25,
           25,
           25,
           25,
           25,
           25,
           2,
           25,
           2,
           25,
           2,
           2,
           2,
           2,
           2,
           2,
           2,
           2,
           2,
           2,
           2,
           2,
           2,
           2,
           2,
           22,
           9,
           9,
           9,
           18,
           13,
           13,
           8,
           8,
           8,
           8,
           26,
           1,
           1,
           1,
           1,
           1,
           1,
           10,
           10,
           10,
           10,
           10,
           10,
           10,
           10,
           1,
           1,
           10,
           10,
           10,
           10,
           10,
           6,
           24,
           7,
           20,
           28,
           21,
           21,
           21,
           21,
           21,
           21,
           21,
           21,
           21,
           21,
           21,
           14,
           11,
           4,
           4,
           4,
           4,
           4,
           4
          ],
          "coloraxis": "coloraxis"
         },
         "mode": "markers",
         "name": "",
         "showlegend": false,
         "subplot": "mapbox",
         "type": "scattermapbox"
        }
       ],
       "layout": {
        "coloraxis": {
         "colorbar": {
          "title": {
           "text": "cluster"
          }
         },
         "colorscale": [
          [
           0,
           "#0d0887"
          ],
          [
           0.1111111111111111,
           "#46039f"
          ],
          [
           0.2222222222222222,
           "#7201a8"
          ],
          [
           0.3333333333333333,
           "#9c179e"
          ],
          [
           0.4444444444444444,
           "#bd3786"
          ],
          [
           0.5555555555555556,
           "#d8576b"
          ],
          [
           0.6666666666666666,
           "#ed7953"
          ],
          [
           0.7777777777777778,
           "#fb9f3a"
          ],
          [
           0.8888888888888888,
           "#fdca26"
          ],
          [
           1,
           "#f0f921"
          ]
         ]
        },
        "legend": {
         "tracegroupgap": 0
        },
        "mapbox": {
         "center": {
          "lat": -31.829142815097253,
          "lon": 116.00928029017983
         },
         "domain": {
          "x": [
           0,
           1
          ],
          "y": [
           0,
           1
          ]
         },
         "style": "open-street-map",
         "zoom": 8
        },
        "margin": {
         "b": 0,
         "l": 0,
         "r": 0,
         "t": 0
        },
        "template": {
         "data": {
          "bar": [
           {
            "error_x": {
             "color": "#2a3f5f"
            },
            "error_y": {
             "color": "#2a3f5f"
            },
            "marker": {
             "line": {
              "color": "#E5ECF6",
              "width": 0.5
             },
             "pattern": {
              "fillmode": "overlay",
              "size": 10,
              "solidity": 0.2
             }
            },
            "type": "bar"
           }
          ],
          "barpolar": [
           {
            "marker": {
             "line": {
              "color": "#E5ECF6",
              "width": 0.5
             },
             "pattern": {
              "fillmode": "overlay",
              "size": 10,
              "solidity": 0.2
             }
            },
            "type": "barpolar"
           }
          ],
          "carpet": [
           {
            "aaxis": {
             "endlinecolor": "#2a3f5f",
             "gridcolor": "white",
             "linecolor": "white",
             "minorgridcolor": "white",
             "startlinecolor": "#2a3f5f"
            },
            "baxis": {
             "endlinecolor": "#2a3f5f",
             "gridcolor": "white",
             "linecolor": "white",
             "minorgridcolor": "white",
             "startlinecolor": "#2a3f5f"
            },
            "type": "carpet"
           }
          ],
          "choropleth": [
           {
            "colorbar": {
             "outlinewidth": 0,
             "ticks": ""
            },
            "type": "choropleth"
           }
          ],
          "contour": [
           {
            "colorbar": {
             "outlinewidth": 0,
             "ticks": ""
            },
            "colorscale": [
             [
              0,
              "#0d0887"
             ],
             [
              0.1111111111111111,
              "#46039f"
             ],
             [
              0.2222222222222222,
              "#7201a8"
             ],
             [
              0.3333333333333333,
              "#9c179e"
             ],
             [
              0.4444444444444444,
              "#bd3786"
             ],
             [
              0.5555555555555556,
              "#d8576b"
             ],
             [
              0.6666666666666666,
              "#ed7953"
             ],
             [
              0.7777777777777778,
              "#fb9f3a"
             ],
             [
              0.8888888888888888,
              "#fdca26"
             ],
             [
              1,
              "#f0f921"
             ]
            ],
            "type": "contour"
           }
          ],
          "contourcarpet": [
           {
            "colorbar": {
             "outlinewidth": 0,
             "ticks": ""
            },
            "type": "contourcarpet"
           }
          ],
          "heatmap": [
           {
            "colorbar": {
             "outlinewidth": 0,
             "ticks": ""
            },
            "colorscale": [
             [
              0,
              "#0d0887"
             ],
             [
              0.1111111111111111,
              "#46039f"
             ],
             [
              0.2222222222222222,
              "#7201a8"
             ],
             [
              0.3333333333333333,
              "#9c179e"
             ],
             [
              0.4444444444444444,
              "#bd3786"
             ],
             [
              0.5555555555555556,
              "#d8576b"
             ],
             [
              0.6666666666666666,
              "#ed7953"
             ],
             [
              0.7777777777777778,
              "#fb9f3a"
             ],
             [
              0.8888888888888888,
              "#fdca26"
             ],
             [
              1,
              "#f0f921"
             ]
            ],
            "type": "heatmap"
           }
          ],
          "heatmapgl": [
           {
            "colorbar": {
             "outlinewidth": 0,
             "ticks": ""
            },
            "colorscale": [
             [
              0,
              "#0d0887"
             ],
             [
              0.1111111111111111,
              "#46039f"
             ],
             [
              0.2222222222222222,
              "#7201a8"
             ],
             [
              0.3333333333333333,
              "#9c179e"
             ],
             [
              0.4444444444444444,
              "#bd3786"
             ],
             [
              0.5555555555555556,
              "#d8576b"
             ],
             [
              0.6666666666666666,
              "#ed7953"
             ],
             [
              0.7777777777777778,
              "#fb9f3a"
             ],
             [
              0.8888888888888888,
              "#fdca26"
             ],
             [
              1,
              "#f0f921"
             ]
            ],
            "type": "heatmapgl"
           }
          ],
          "histogram": [
           {
            "marker": {
             "pattern": {
              "fillmode": "overlay",
              "size": 10,
              "solidity": 0.2
             }
            },
            "type": "histogram"
           }
          ],
          "histogram2d": [
           {
            "colorbar": {
             "outlinewidth": 0,
             "ticks": ""
            },
            "colorscale": [
             [
              0,
              "#0d0887"
             ],
             [
              0.1111111111111111,
              "#46039f"
             ],
             [
              0.2222222222222222,
              "#7201a8"
             ],
             [
              0.3333333333333333,
              "#9c179e"
             ],
             [
              0.4444444444444444,
              "#bd3786"
             ],
             [
              0.5555555555555556,
              "#d8576b"
             ],
             [
              0.6666666666666666,
              "#ed7953"
             ],
             [
              0.7777777777777778,
              "#fb9f3a"
             ],
             [
              0.8888888888888888,
              "#fdca26"
             ],
             [
              1,
              "#f0f921"
             ]
            ],
            "type": "histogram2d"
           }
          ],
          "histogram2dcontour": [
           {
            "colorbar": {
             "outlinewidth": 0,
             "ticks": ""
            },
            "colorscale": [
             [
              0,
              "#0d0887"
             ],
             [
              0.1111111111111111,
              "#46039f"
             ],
             [
              0.2222222222222222,
              "#7201a8"
             ],
             [
              0.3333333333333333,
              "#9c179e"
             ],
             [
              0.4444444444444444,
              "#bd3786"
             ],
             [
              0.5555555555555556,
              "#d8576b"
             ],
             [
              0.6666666666666666,
              "#ed7953"
             ],
             [
              0.7777777777777778,
              "#fb9f3a"
             ],
             [
              0.8888888888888888,
              "#fdca26"
             ],
             [
              1,
              "#f0f921"
             ]
            ],
            "type": "histogram2dcontour"
           }
          ],
          "mesh3d": [
           {
            "colorbar": {
             "outlinewidth": 0,
             "ticks": ""
            },
            "type": "mesh3d"
           }
          ],
          "parcoords": [
           {
            "line": {
             "colorbar": {
              "outlinewidth": 0,
              "ticks": ""
             }
            },
            "type": "parcoords"
           }
          ],
          "pie": [
           {
            "automargin": true,
            "type": "pie"
           }
          ],
          "scatter": [
           {
            "fillpattern": {
             "fillmode": "overlay",
             "size": 10,
             "solidity": 0.2
            },
            "type": "scatter"
           }
          ],
          "scatter3d": [
           {
            "line": {
             "colorbar": {
              "outlinewidth": 0,
              "ticks": ""
             }
            },
            "marker": {
             "colorbar": {
              "outlinewidth": 0,
              "ticks": ""
             }
            },
            "type": "scatter3d"
           }
          ],
          "scattercarpet": [
           {
            "marker": {
             "colorbar": {
              "outlinewidth": 0,
              "ticks": ""
             }
            },
            "type": "scattercarpet"
           }
          ],
          "scattergeo": [
           {
            "marker": {
             "colorbar": {
              "outlinewidth": 0,
              "ticks": ""
             }
            },
            "type": "scattergeo"
           }
          ],
          "scattergl": [
           {
            "marker": {
             "colorbar": {
              "outlinewidth": 0,
              "ticks": ""
             }
            },
            "type": "scattergl"
           }
          ],
          "scattermapbox": [
           {
            "marker": {
             "colorbar": {
              "outlinewidth": 0,
              "ticks": ""
             }
            },
            "type": "scattermapbox"
           }
          ],
          "scatterpolar": [
           {
            "marker": {
             "colorbar": {
              "outlinewidth": 0,
              "ticks": ""
             }
            },
            "type": "scatterpolar"
           }
          ],
          "scatterpolargl": [
           {
            "marker": {
             "colorbar": {
              "outlinewidth": 0,
              "ticks": ""
             }
            },
            "type": "scatterpolargl"
           }
          ],
          "scatterternary": [
           {
            "marker": {
             "colorbar": {
              "outlinewidth": 0,
              "ticks": ""
             }
            },
            "type": "scatterternary"
           }
          ],
          "surface": [
           {
            "colorbar": {
             "outlinewidth": 0,
             "ticks": ""
            },
            "colorscale": [
             [
              0,
              "#0d0887"
             ],
             [
              0.1111111111111111,
              "#46039f"
             ],
             [
              0.2222222222222222,
              "#7201a8"
             ],
             [
              0.3333333333333333,
              "#9c179e"
             ],
             [
              0.4444444444444444,
              "#bd3786"
             ],
             [
              0.5555555555555556,
              "#d8576b"
             ],
             [
              0.6666666666666666,
              "#ed7953"
             ],
             [
              0.7777777777777778,
              "#fb9f3a"
             ],
             [
              0.8888888888888888,
              "#fdca26"
             ],
             [
              1,
              "#f0f921"
             ]
            ],
            "type": "surface"
           }
          ],
          "table": [
           {
            "cells": {
             "fill": {
              "color": "#EBF0F8"
             },
             "line": {
              "color": "white"
             }
            },
            "header": {
             "fill": {
              "color": "#C8D4E3"
             },
             "line": {
              "color": "white"
             }
            },
            "type": "table"
           }
          ]
         },
         "layout": {
          "annotationdefaults": {
           "arrowcolor": "#2a3f5f",
           "arrowhead": 0,
           "arrowwidth": 1
          },
          "autotypenumbers": "strict",
          "coloraxis": {
           "colorbar": {
            "outlinewidth": 0,
            "ticks": ""
           }
          },
          "colorscale": {
           "diverging": [
            [
             0,
             "#8e0152"
            ],
            [
             0.1,
             "#c51b7d"
            ],
            [
             0.2,
             "#de77ae"
            ],
            [
             0.3,
             "#f1b6da"
            ],
            [
             0.4,
             "#fde0ef"
            ],
            [
             0.5,
             "#f7f7f7"
            ],
            [
             0.6,
             "#e6f5d0"
            ],
            [
             0.7,
             "#b8e186"
            ],
            [
             0.8,
             "#7fbc41"
            ],
            [
             0.9,
             "#4d9221"
            ],
            [
             1,
             "#276419"
            ]
           ],
           "sequential": [
            [
             0,
             "#0d0887"
            ],
            [
             0.1111111111111111,
             "#46039f"
            ],
            [
             0.2222222222222222,
             "#7201a8"
            ],
            [
             0.3333333333333333,
             "#9c179e"
            ],
            [
             0.4444444444444444,
             "#bd3786"
            ],
            [
             0.5555555555555556,
             "#d8576b"
            ],
            [
             0.6666666666666666,
             "#ed7953"
            ],
            [
             0.7777777777777778,
             "#fb9f3a"
            ],
            [
             0.8888888888888888,
             "#fdca26"
            ],
            [
             1,
             "#f0f921"
            ]
           ],
           "sequentialminus": [
            [
             0,
             "#0d0887"
            ],
            [
             0.1111111111111111,
             "#46039f"
            ],
            [
             0.2222222222222222,
             "#7201a8"
            ],
            [
             0.3333333333333333,
             "#9c179e"
            ],
            [
             0.4444444444444444,
             "#bd3786"
            ],
            [
             0.5555555555555556,
             "#d8576b"
            ],
            [
             0.6666666666666666,
             "#ed7953"
            ],
            [
             0.7777777777777778,
             "#fb9f3a"
            ],
            [
             0.8888888888888888,
             "#fdca26"
            ],
            [
             1,
             "#f0f921"
            ]
           ]
          },
          "colorway": [
           "#636efa",
           "#EF553B",
           "#00cc96",
           "#ab63fa",
           "#FFA15A",
           "#19d3f3",
           "#FF6692",
           "#B6E880",
           "#FF97FF",
           "#FECB52"
          ],
          "font": {
           "color": "#2a3f5f"
          },
          "geo": {
           "bgcolor": "white",
           "lakecolor": "white",
           "landcolor": "#E5ECF6",
           "showlakes": true,
           "showland": true,
           "subunitcolor": "white"
          },
          "hoverlabel": {
           "align": "left"
          },
          "hovermode": "closest",
          "mapbox": {
           "style": "light"
          },
          "paper_bgcolor": "white",
          "plot_bgcolor": "#E5ECF6",
          "polar": {
           "angularaxis": {
            "gridcolor": "white",
            "linecolor": "white",
            "ticks": ""
           },
           "bgcolor": "#E5ECF6",
           "radialaxis": {
            "gridcolor": "white",
            "linecolor": "white",
            "ticks": ""
           }
          },
          "scene": {
           "xaxis": {
            "backgroundcolor": "#E5ECF6",
            "gridcolor": "white",
            "gridwidth": 2,
            "linecolor": "white",
            "showbackground": true,
            "ticks": "",
            "zerolinecolor": "white"
           },
           "yaxis": {
            "backgroundcolor": "#E5ECF6",
            "gridcolor": "white",
            "gridwidth": 2,
            "linecolor": "white",
            "showbackground": true,
            "ticks": "",
            "zerolinecolor": "white"
           },
           "zaxis": {
            "backgroundcolor": "#E5ECF6",
            "gridcolor": "white",
            "gridwidth": 2,
            "linecolor": "white",
            "showbackground": true,
            "ticks": "",
            "zerolinecolor": "white"
           }
          },
          "shapedefaults": {
           "line": {
            "color": "#2a3f5f"
           }
          },
          "ternary": {
           "aaxis": {
            "gridcolor": "white",
            "linecolor": "white",
            "ticks": ""
           },
           "baxis": {
            "gridcolor": "white",
            "linecolor": "white",
            "ticks": ""
           },
           "bgcolor": "#E5ECF6",
           "caxis": {
            "gridcolor": "white",
            "linecolor": "white",
            "ticks": ""
           }
          },
          "title": {
           "x": 0.05
          },
          "xaxis": {
           "automargin": true,
           "gridcolor": "white",
           "linecolor": "white",
           "ticks": "",
           "title": {
            "standoff": 15
           },
           "zerolinecolor": "white",
           "zerolinewidth": 2
          },
          "yaxis": {
           "automargin": true,
           "gridcolor": "white",
           "linecolor": "white",
           "ticks": "",
           "title": {
            "standoff": 15
           },
           "zerolinecolor": "white",
           "zerolinewidth": 2
          }
         }
        }
       }
      },
      "text/html": [
       "<div>                            <div id=\"455ff399-e0c1-4e9c-820f-ac639e87b0b2\" class=\"plotly-graph-div\" style=\"height:525px; width:100%;\"></div>            <script type=\"text/javascript\">                require([\"plotly\"], function(Plotly) {                    window.PLOTLYENV=window.PLOTLYENV || {};                                    if (document.getElementById(\"455ff399-e0c1-4e9c-820f-ac639e87b0b2\")) {                    Plotly.newPlot(                        \"455ff399-e0c1-4e9c-820f-ac639e87b0b2\",                        [{\"customdata\":[[\"Ali's Vineyard\"],[\"Ali's Vineyard\"],[\"Ali's Vineyard\"],[\"Ali's Vineyard\"],[\"Ali's Vineyard\"],[\"Ali's Vineyard\"],[\"Ali's Vineyard\"],[\"Ali's Vineyard\"],[\"Ali's Vineyard\"],[\"Ali's Vineyard\"],[\"Ali's Vineyard\"],[\"Ali's Vineyard\"],[\"Ali's Vineyard\"],[\"Ali's Vineyard\"],[\"Ali's Vineyard\"],[\"Ali's Vineyard\"],[\"Ali's Vineyard\"],[\"Ali's Vineyard\"],[\"Little River Winery and Caf\\u00e9\"],[\"Little River Winery and Caf\\u00e9\"],[\"Little River Winery and Caf\\u00e9\"],[\"Little River Winery and Caf\\u00e9\"],[\"Little River Winery and Caf\\u00e9\"],[\"Little River Winery and Caf\\u00e9\"],[\"Little River Winery and Caf\\u00e9\"],[\"Little River Winery and Caf\\u00e9\"],[\"Little River Winery and Caf\\u00e9\"],[\"Little River Winery and Caf\\u00e9\"],[\"Little River Winery and Caf\\u00e9\"],[\"Little River Winery and Caf\\u00e9\"],[\"Little River Winery and Caf\\u00e9\"],[\"Little River Winery and Caf\\u00e9\"],[\"Little River Winery and Caf\\u00e9\"],[\"Little River Winery and Caf\\u00e9\"],[\"Black Swan Winery and Restaurant\"],[\"Black Swan Winery and Restaurant\"],[\"Black Swan Winery and Restaurant\"],[\"Faber Vineyard\"],[\"Faber Vineyard\"],[\"Faber Vineyard\"],[\"Faber Vineyard\"],[\"Faber Vineyard\"],[\"Faber Vineyard\"],[\"Faber Vineyard\"],[\"Faber Vineyard\"],[\"Faber Vineyard\"],[\"Faber Vineyard\"],[\"Faber Vineyard\"],[\"Faber Vineyard\"],[\"Faber Vineyard\"],[\"Faber Vineyard\"],[\"Faber Vineyard\"],[\"Faber Vineyard\"],[\"Faber Vineyard\"],[\"Faber Vineyard\"],[\"Faber Vineyard\"],[\"Faber Vineyard\"],[\"Faber Vineyard\"],[\"Faber Vineyard\"],[\"Faber Vineyard\"],[\"Ugly Duckling Wines\"],[\"Ugly Duckling Wines\"],[\"Ugly Duckling Wines\"],[\"Ugly Duckling Wines\"],[\"Ugly Duckling Wines\"],[\"Ugly Duckling Wines\"],[\"Ugly Duckling Wines\"],[\"Ugly Duckling Wines\"],[\"Ugly Duckling Wines\"],[\"Ugly Duckling Wines\"],[\"Ugly Duckling Wines\"],[\"Ugly Duckling Wines\"],[\"Ugly Duckling Wines\"],[\"Ugly Duckling Wines\"],[\"Ugly Duckling Wines\"],[\"Ugly Duckling Wines\"],[\"Ugly Duckling Wines\"],[\"Ugly Duckling Wines\"],[\"Ugly Duckling Wines\"],[\"Ugly Duckling Wines\"],[\"Ugly Duckling Wines\"],[\"Ugly Duckling Wines\"],[\"Ugly Duckling Wines\"],[\"Ugly Duckling Wines\"],[\"Ugly Duckling Wines\"],[\"Ugly Duckling Wines\"],[\"Ugly Duckling Wines\"],[\"Ugly Duckling Wines\"],[\"Ugly Duckling Wines\"],[\"Oakover Grounds\"],[\"Oakover Grounds\"],[\"Oakover Grounds\"],[\"Oakover Grounds\"],[\"Oakover Grounds\"],[\"Oakover Grounds\"],[\"Oakover Grounds\"],[\"Oakover Grounds\"],[\"Oakover Grounds\"],[\"Oakover Grounds\"],[\"Oakover Grounds\"],[\"Oakover Grounds\"],[\"Oakover Grounds\"],[\"Oakover Grounds\"],[\"Oakover Grounds\"],[\"Oakover Grounds\"],[\"Oakover Grounds\"],[\"Oakover Grounds\"],[\"Oakover Grounds\"],[\"Oakover Grounds\"],[\"Oakover Grounds\"],[\"Oakover Grounds\"],[\"Oakover Grounds\"],[\"Oakover Grounds\"],[\"Oakover Grounds\"],[\"Oakover Grounds\"],[\"Oakover Grounds\"],[\"Oakover Grounds\"],[\"Oakover Grounds\"],[\"Oakover Grounds\"],[\"Oakover Grounds\"],[\"Oakover Grounds\"],[\"Oakover Grounds\"],[\"Oakover Grounds\"],[\"Oakover Grounds\"],[\"Nikola Estate\"],[\"Lancaster Wines\"],[\"Lancaster Wines\"],[\"Lancaster Wines\"],[\"Lancaster Wines\"],[\"Lancaster Wines\"],[\"Lancaster Wines\"],[\"Lancaster Wines\"],[\"Lancaster Wines\"],[\"Lancaster Wines\"],[\"Lancaster Wines\"],[\"Lancaster Wines\"],[\"Lancaster Wines\"],[\"Lancaster Wines\"],[\"Lancaster Wines\"],[\"Lancaster Wines\"],[\"Lancaster Wines\"],[\"Lancaster Wines\"],[\"Lancaster Wines\"],[\"Lancaster Wines\"],[\"Lancaster Wines\"],[\"Lancaster Wines\"]],\"hovertemplate\":\"<b>%{hovertext}</b><br><br>lat=%{lat}<br>lon=%{lon}<br>predicted_location_kmeans=%{customdata[0]}<br>cluster=%{marker.color}<extra></extra>\",\"hovertext\":[\"palm_tree\",\"palm_tree\",\"palm_tree\",\"palm_tree\",\"palm_tree\",\"palm_tree\",\"palm_tree\",\"palm_tree\",\"palm_tree\",\"palm_tree\",\"palm_tree\",\"palm_tree\",\"pizza_oven\",\"air_conditioner\",\"building\",\"shed\",\"shed\",\"shed\",\"picnic_bench\",\"picnic_bench\",\"planter\",\"planter\",\"building\",\"parking_lot\",\"patio\",\"water_tank\",\"air_conitioner\",\"patio\",\"building\",\"shed\",\"building\",\"building\",\"vineyard\",\"vineyard\",\"vineyard\",\"building\",\"parking_lot\",\"retaining_wall\",\"retaining_wall\",\"sign\",\"sign\",\"sign\",\"tree\",\"tree\",\"tree\",\"tree\",\"tree\",\"tree\",\"parking_lot\",\"vineyard\",\"vineyard\",\"building\",\"shed\",\"solar_panel\",\"building\",\"parking_lot\",\"shed\",\"building\",\"swimming_pool\",\"courtyard\",\"vineyard\",\"vineyard\",\"generator\",\"parking_lot\",\"carport\",\"bicycle_rack\",\"shed\",\"sculpture\",\"patio\",\"patio\",\"shed\",\"picnic_table\",\"picnic_table\",\"picnic_umbrella\",\"picnic_umbrella\",\"picnic_umbrella\",\"picnic_umbrella\",\"picnic_table\",\"picnic_table\",\"shed\",\"shed\",\"shed\",\"tree\",\"tree\",\"tree\",\"tree\",\"tree\",\"tree\",\"tree\",\"building\",\"pond\",\"bridge\",\"island\",\"vineyard\",\"swimming_pool\",\"building\",\"building\",\"tennis_court\",\"swimming_pool\",\"shade_cloth\",\"sign\",\"warehouse\",\"vat\",\"vat\",\"vat\",\"vat\",\"building\",\"parking_lot\",\"solar_panels\",\"solar_panels\",\"building\",\"fence\",\"jetty\",\"picnic_table\",\"picnic_table\",\"tank\",\"tank\",\"shed\",\"shipping_container\",\"shipping_container\",\"shipping_container\",\"shipping_container\",\"vineyard\",\"vineyard\",\"river\",\"vineyard\",\"vineyard\",\"parking_lot\",\"shed\",\"sign\",\"table\",\"table\",\"table\",\"table\",\"wine_barrell\",\"counter\",\"shed\",\"fence\",\"sign\",\"driveway\",\"picnic_table\",\"picnic_table\",\"picnic_table\",\"picnic_table\",\"picnic_table\",\"picnic_table\"],\"lat\":[-31.81445187554597,-31.81451940926452,-31.8145718117269,-31.81458084078105,-31.81462157655873,-31.81454971676524,-31.81448193361258,-31.81444773977627,-31.8143890181285,-31.81439660859307,-31.81434027785148,-31.81429434468795,-31.81429169178455,-31.81420767463152,-31.81394919889622,-31.81439717390363,-31.81432230857389,-31.8135457777316,-31.82401586475119,-31.82402821801069,-31.82400450902502,-31.82400258090139,-31.82417864772208,-31.82406166208574,-31.82414265894136,-31.82427841722326,-31.82414274552135,-31.82416289887374,-31.82414373469494,-31.82414175485055,-31.82429678566091,-31.8238198185718,-31.82470742057825,-31.8242299537138,-31.82369416405801,-31.82347585518145,-31.82372524293678,-31.79711445941102,-31.79711822124566,-31.79711822124567,-31.79711445941102,-31.79692113693582,-31.79707299441964,-31.79707639334401,-31.79701796869119,-31.79702180433045,-31.79695848151606,-31.7969572497282,-31.79698640377645,-31.79698932185287,-31.7946673883335,-31.79676259008081,-31.79676332889907,-31.79669029290958,-31.79664133173589,-31.79691654618838,-31.79658001770868,-31.79630852369076,-31.79620849056571,-31.79646472091715,-31.83039735327537,-31.83060476817275,-31.83020873465989,-31.83033573653752,-31.83038472086931,-31.83023391039609,-31.83047573335856,-31.83050151773064,-31.83051242847542,-31.83042950292597,-31.83048831452484,-31.83039290156244,-31.83042013524614,-31.83039529464335,-31.83041309005974,-31.83059039674292,-31.83062496370694,-31.83044919552612,-31.83055048589921,-31.83057537982879,-31.8306575917034,-31.83065965298827,-31.83079043292682,-31.83079112085596,-31.83079315668379,-31.83078775293374,-31.83079115492708,-31.83078777975723,-31.83079186264361,-31.84668336675156,-31.84590359767057,-31.84638920015648,-31.84633325480655,-31.84630620908671,-31.84642682355494,-31.84660379451255,-31.84534087718281,-31.84497134212882,-31.84520480790187,-31.84519057474693,-31.84696779013872,-31.84505951047444,-31.84518456887401,-31.84515103476856,-31.84510853881709,-31.84507695999562,-31.84512567428841,-31.84527487175123,-31.84487684093081,-31.84496527724279,-31.84505688510912,-31.84523158062051,-31.84538040931631,-31.84537004084413,-31.84537006574641,-31.84488600975254,-31.84485397635064,-31.84513430001038,-31.84466167779774,-31.84469149573804,-31.84472428455821,-31.84468823575176,-31.84538344253644,-31.84424690471754,-31.85109633797458,-31.85068649170797,-31.85278296339006,-31.85188710724418,-31.85210550561943,-31.8518872114326,-31.85182659388803,-31.85182616279369,-31.85182820538461,-31.85182506326957,-31.85189307872191,-31.85188320881234,-31.8518732548151,-31.85182222748639,-31.85198713829637,-31.85192250139609,-31.85189392826163,-31.85187442908764,-31.8518030858586,-31.8518024058948,-31.85180059356636,-31.85180195605045],\"legendgroup\":\"\",\"lon\":[116.0183374663027,116.0183259785979,116.0183161354075,116.0182529749383,116.0182086643162,116.0182128388363,116.018223361407,116.0182823408421,116.01821750659,116.0182474062873,116.0181813817572,116.0182631395714,116.0181961643027,116.0182334670006,116.0179055434116,116.0180953620699,116.0178051456259,116.0179865644773,116.0009142164415,116.000930932033,116.0009778539811,116.00092060426,116.0006048976215,116.0005802543637,116.0005190872192,116.0007722909438,116.0010150860718,116.0009461560145,116.0008411872399,116.0011891817338,116.0015213385211,116.0011641432193,116.0008309768264,116.0024406990624,116.0018976598281,116.0008501775059,116.0005857862165,116.0458851425753,116.0457670563354,116.0457670563353,116.0458851425753,116.0458175186144,116.0457592802574,116.0458562580698,116.0458650464963,116.0457701043378,116.0458575517662,116.0457695358829,116.0456561146581,116.0459678755513,116.0454319290855,116.0458568785181,116.0450705556765,116.0451148633962,116.0465802282568,116.0452797276304,116.045049160885,116.0451629606889,116.0452886782776,116.0458601290954,115.998939146043,115.9977318524493,115.9974576751721,115.9977420660818,115.997502299226,115.9974572459445,115.9977050969983,115.997777721079,115.997669167832,115.997431381974,115.9973518616014,115.9973090452622,115.9972816677781,115.9973045597328,115.9972807007919,115.9974222588125,115.9973755276259,115.9972085542997,115.9971975624587,115.9972416499528,115.9971742512736,115.997296680735,115.9971388569162,115.9971802611804,115.9972163578717,115.9972577899615,115.9973048744194,115.9973561509557,115.9974216940731,116.0086270958327,116.0076430354346,116.0075575103231,116.0077438974485,116.0059960349935,116.0046871040282,116.0047242747774,116.0049137333173,116.0049529458494,116.0046804703044,116.0046414836387,116.0066284586833,116.0060571495129,116.0063688107167,116.0063718225668,116.0063741620266,116.0063804564964,116.0066406806117,116.0070043014552,116.0073642354885,116.0073623012661,116.007341994294,116.0072570321877,116.007597008791,116.0075393399854,116.0076604504979,116.0068656915519,116.0066919339338,116.0072291966907,116.0072432872027,116.0072381097506,116.0072390830616,116.0074225863559,116.0124205441503,116.0066393647114,115.995810298809,115.9902290551793,115.9901750632805,115.9901520456193,115.9903190941192,115.9903556704859,115.9905306771903,115.9905475047897,115.9905655610603,115.9905862473149,115.9904467156551,115.9904835715709,115.990598423206,115.9903645411195,115.9877336890102,115.9889759412021,115.9908535353204,115.990901684718,115.9909205172935,115.9908668295001,115.9908006953241,115.9907526922321],\"marker\":{\"color\":[3,3,3,3,3,3,3,3,3,3,3,3,3,3,27,3,3,27,5,5,5,5,30,30,30,30,5,5,5,5,5,5,30,23,17,29,29,0,0,0,0,0,0,0,0,0,0,0,0,0,12,0,16,16,19,16,16,16,16,0,15,25,25,25,25,25,25,25,25,25,2,25,2,25,2,2,2,2,2,2,2,2,2,2,2,2,2,2,2,22,9,9,9,18,13,13,8,8,8,8,26,1,1,1,1,1,1,10,10,10,10,10,10,10,10,1,1,10,10,10,10,10,6,24,7,20,28,21,21,21,21,21,21,21,21,21,21,21,14,11,4,4,4,4,4,4],\"coloraxis\":\"coloraxis\"},\"mode\":\"markers\",\"name\":\"\",\"showlegend\":false,\"subplot\":\"mapbox\",\"type\":\"scattermapbox\"}],                        {\"template\":{\"data\":{\"histogram2dcontour\":[{\"type\":\"histogram2dcontour\",\"colorbar\":{\"outlinewidth\":0,\"ticks\":\"\"},\"colorscale\":[[0.0,\"#0d0887\"],[0.1111111111111111,\"#46039f\"],[0.2222222222222222,\"#7201a8\"],[0.3333333333333333,\"#9c179e\"],[0.4444444444444444,\"#bd3786\"],[0.5555555555555556,\"#d8576b\"],[0.6666666666666666,\"#ed7953\"],[0.7777777777777778,\"#fb9f3a\"],[0.8888888888888888,\"#fdca26\"],[1.0,\"#f0f921\"]]}],\"choropleth\":[{\"type\":\"choropleth\",\"colorbar\":{\"outlinewidth\":0,\"ticks\":\"\"}}],\"histogram2d\":[{\"type\":\"histogram2d\",\"colorbar\":{\"outlinewidth\":0,\"ticks\":\"\"},\"colorscale\":[[0.0,\"#0d0887\"],[0.1111111111111111,\"#46039f\"],[0.2222222222222222,\"#7201a8\"],[0.3333333333333333,\"#9c179e\"],[0.4444444444444444,\"#bd3786\"],[0.5555555555555556,\"#d8576b\"],[0.6666666666666666,\"#ed7953\"],[0.7777777777777778,\"#fb9f3a\"],[0.8888888888888888,\"#fdca26\"],[1.0,\"#f0f921\"]]}],\"heatmap\":[{\"type\":\"heatmap\",\"colorbar\":{\"outlinewidth\":0,\"ticks\":\"\"},\"colorscale\":[[0.0,\"#0d0887\"],[0.1111111111111111,\"#46039f\"],[0.2222222222222222,\"#7201a8\"],[0.3333333333333333,\"#9c179e\"],[0.4444444444444444,\"#bd3786\"],[0.5555555555555556,\"#d8576b\"],[0.6666666666666666,\"#ed7953\"],[0.7777777777777778,\"#fb9f3a\"],[0.8888888888888888,\"#fdca26\"],[1.0,\"#f0f921\"]]}],\"heatmapgl\":[{\"type\":\"heatmapgl\",\"colorbar\":{\"outlinewidth\":0,\"ticks\":\"\"},\"colorscale\":[[0.0,\"#0d0887\"],[0.1111111111111111,\"#46039f\"],[0.2222222222222222,\"#7201a8\"],[0.3333333333333333,\"#9c179e\"],[0.4444444444444444,\"#bd3786\"],[0.5555555555555556,\"#d8576b\"],[0.6666666666666666,\"#ed7953\"],[0.7777777777777778,\"#fb9f3a\"],[0.8888888888888888,\"#fdca26\"],[1.0,\"#f0f921\"]]}],\"contourcarpet\":[{\"type\":\"contourcarpet\",\"colorbar\":{\"outlinewidth\":0,\"ticks\":\"\"}}],\"contour\":[{\"type\":\"contour\",\"colorbar\":{\"outlinewidth\":0,\"ticks\":\"\"},\"colorscale\":[[0.0,\"#0d0887\"],[0.1111111111111111,\"#46039f\"],[0.2222222222222222,\"#7201a8\"],[0.3333333333333333,\"#9c179e\"],[0.4444444444444444,\"#bd3786\"],[0.5555555555555556,\"#d8576b\"],[0.6666666666666666,\"#ed7953\"],[0.7777777777777778,\"#fb9f3a\"],[0.8888888888888888,\"#fdca26\"],[1.0,\"#f0f921\"]]}],\"surface\":[{\"type\":\"surface\",\"colorbar\":{\"outlinewidth\":0,\"ticks\":\"\"},\"colorscale\":[[0.0,\"#0d0887\"],[0.1111111111111111,\"#46039f\"],[0.2222222222222222,\"#7201a8\"],[0.3333333333333333,\"#9c179e\"],[0.4444444444444444,\"#bd3786\"],[0.5555555555555556,\"#d8576b\"],[0.6666666666666666,\"#ed7953\"],[0.7777777777777778,\"#fb9f3a\"],[0.8888888888888888,\"#fdca26\"],[1.0,\"#f0f921\"]]}],\"mesh3d\":[{\"type\":\"mesh3d\",\"colorbar\":{\"outlinewidth\":0,\"ticks\":\"\"}}],\"scatter\":[{\"fillpattern\":{\"fillmode\":\"overlay\",\"size\":10,\"solidity\":0.2},\"type\":\"scatter\"}],\"parcoords\":[{\"type\":\"parcoords\",\"line\":{\"colorbar\":{\"outlinewidth\":0,\"ticks\":\"\"}}}],\"scatterpolargl\":[{\"type\":\"scatterpolargl\",\"marker\":{\"colorbar\":{\"outlinewidth\":0,\"ticks\":\"\"}}}],\"bar\":[{\"error_x\":{\"color\":\"#2a3f5f\"},\"error_y\":{\"color\":\"#2a3f5f\"},\"marker\":{\"line\":{\"color\":\"#E5ECF6\",\"width\":0.5},\"pattern\":{\"fillmode\":\"overlay\",\"size\":10,\"solidity\":0.2}},\"type\":\"bar\"}],\"scattergeo\":[{\"type\":\"scattergeo\",\"marker\":{\"colorbar\":{\"outlinewidth\":0,\"ticks\":\"\"}}}],\"scatterpolar\":[{\"type\":\"scatterpolar\",\"marker\":{\"colorbar\":{\"outlinewidth\":0,\"ticks\":\"\"}}}],\"histogram\":[{\"marker\":{\"pattern\":{\"fillmode\":\"overlay\",\"size\":10,\"solidity\":0.2}},\"type\":\"histogram\"}],\"scattergl\":[{\"type\":\"scattergl\",\"marker\":{\"colorbar\":{\"outlinewidth\":0,\"ticks\":\"\"}}}],\"scatter3d\":[{\"type\":\"scatter3d\",\"line\":{\"colorbar\":{\"outlinewidth\":0,\"ticks\":\"\"}},\"marker\":{\"colorbar\":{\"outlinewidth\":0,\"ticks\":\"\"}}}],\"scattermapbox\":[{\"type\":\"scattermapbox\",\"marker\":{\"colorbar\":{\"outlinewidth\":0,\"ticks\":\"\"}}}],\"scatterternary\":[{\"type\":\"scatterternary\",\"marker\":{\"colorbar\":{\"outlinewidth\":0,\"ticks\":\"\"}}}],\"scattercarpet\":[{\"type\":\"scattercarpet\",\"marker\":{\"colorbar\":{\"outlinewidth\":0,\"ticks\":\"\"}}}],\"carpet\":[{\"aaxis\":{\"endlinecolor\":\"#2a3f5f\",\"gridcolor\":\"white\",\"linecolor\":\"white\",\"minorgridcolor\":\"white\",\"startlinecolor\":\"#2a3f5f\"},\"baxis\":{\"endlinecolor\":\"#2a3f5f\",\"gridcolor\":\"white\",\"linecolor\":\"white\",\"minorgridcolor\":\"white\",\"startlinecolor\":\"#2a3f5f\"},\"type\":\"carpet\"}],\"table\":[{\"cells\":{\"fill\":{\"color\":\"#EBF0F8\"},\"line\":{\"color\":\"white\"}},\"header\":{\"fill\":{\"color\":\"#C8D4E3\"},\"line\":{\"color\":\"white\"}},\"type\":\"table\"}],\"barpolar\":[{\"marker\":{\"line\":{\"color\":\"#E5ECF6\",\"width\":0.5},\"pattern\":{\"fillmode\":\"overlay\",\"size\":10,\"solidity\":0.2}},\"type\":\"barpolar\"}],\"pie\":[{\"automargin\":true,\"type\":\"pie\"}]},\"layout\":{\"autotypenumbers\":\"strict\",\"colorway\":[\"#636efa\",\"#EF553B\",\"#00cc96\",\"#ab63fa\",\"#FFA15A\",\"#19d3f3\",\"#FF6692\",\"#B6E880\",\"#FF97FF\",\"#FECB52\"],\"font\":{\"color\":\"#2a3f5f\"},\"hovermode\":\"closest\",\"hoverlabel\":{\"align\":\"left\"},\"paper_bgcolor\":\"white\",\"plot_bgcolor\":\"#E5ECF6\",\"polar\":{\"bgcolor\":\"#E5ECF6\",\"angularaxis\":{\"gridcolor\":\"white\",\"linecolor\":\"white\",\"ticks\":\"\"},\"radialaxis\":{\"gridcolor\":\"white\",\"linecolor\":\"white\",\"ticks\":\"\"}},\"ternary\":{\"bgcolor\":\"#E5ECF6\",\"aaxis\":{\"gridcolor\":\"white\",\"linecolor\":\"white\",\"ticks\":\"\"},\"baxis\":{\"gridcolor\":\"white\",\"linecolor\":\"white\",\"ticks\":\"\"},\"caxis\":{\"gridcolor\":\"white\",\"linecolor\":\"white\",\"ticks\":\"\"}},\"coloraxis\":{\"colorbar\":{\"outlinewidth\":0,\"ticks\":\"\"}},\"colorscale\":{\"sequential\":[[0.0,\"#0d0887\"],[0.1111111111111111,\"#46039f\"],[0.2222222222222222,\"#7201a8\"],[0.3333333333333333,\"#9c179e\"],[0.4444444444444444,\"#bd3786\"],[0.5555555555555556,\"#d8576b\"],[0.6666666666666666,\"#ed7953\"],[0.7777777777777778,\"#fb9f3a\"],[0.8888888888888888,\"#fdca26\"],[1.0,\"#f0f921\"]],\"sequentialminus\":[[0.0,\"#0d0887\"],[0.1111111111111111,\"#46039f\"],[0.2222222222222222,\"#7201a8\"],[0.3333333333333333,\"#9c179e\"],[0.4444444444444444,\"#bd3786\"],[0.5555555555555556,\"#d8576b\"],[0.6666666666666666,\"#ed7953\"],[0.7777777777777778,\"#fb9f3a\"],[0.8888888888888888,\"#fdca26\"],[1.0,\"#f0f921\"]],\"diverging\":[[0,\"#8e0152\"],[0.1,\"#c51b7d\"],[0.2,\"#de77ae\"],[0.3,\"#f1b6da\"],[0.4,\"#fde0ef\"],[0.5,\"#f7f7f7\"],[0.6,\"#e6f5d0\"],[0.7,\"#b8e186\"],[0.8,\"#7fbc41\"],[0.9,\"#4d9221\"],[1,\"#276419\"]]},\"xaxis\":{\"gridcolor\":\"white\",\"linecolor\":\"white\",\"ticks\":\"\",\"title\":{\"standoff\":15},\"zerolinecolor\":\"white\",\"automargin\":true,\"zerolinewidth\":2},\"yaxis\":{\"gridcolor\":\"white\",\"linecolor\":\"white\",\"ticks\":\"\",\"title\":{\"standoff\":15},\"zerolinecolor\":\"white\",\"automargin\":true,\"zerolinewidth\":2},\"scene\":{\"xaxis\":{\"backgroundcolor\":\"#E5ECF6\",\"gridcolor\":\"white\",\"linecolor\":\"white\",\"showbackground\":true,\"ticks\":\"\",\"zerolinecolor\":\"white\",\"gridwidth\":2},\"yaxis\":{\"backgroundcolor\":\"#E5ECF6\",\"gridcolor\":\"white\",\"linecolor\":\"white\",\"showbackground\":true,\"ticks\":\"\",\"zerolinecolor\":\"white\",\"gridwidth\":2},\"zaxis\":{\"backgroundcolor\":\"#E5ECF6\",\"gridcolor\":\"white\",\"linecolor\":\"white\",\"showbackground\":true,\"ticks\":\"\",\"zerolinecolor\":\"white\",\"gridwidth\":2}},\"shapedefaults\":{\"line\":{\"color\":\"#2a3f5f\"}},\"annotationdefaults\":{\"arrowcolor\":\"#2a3f5f\",\"arrowhead\":0,\"arrowwidth\":1},\"geo\":{\"bgcolor\":\"white\",\"landcolor\":\"#E5ECF6\",\"subunitcolor\":\"white\",\"showland\":true,\"showlakes\":true,\"lakecolor\":\"white\"},\"title\":{\"x\":0.05},\"mapbox\":{\"style\":\"light\"}}},\"mapbox\":{\"domain\":{\"x\":[0.0,1.0],\"y\":[0.0,1.0]},\"center\":{\"lat\":-31.829142815097253,\"lon\":116.00928029017983},\"zoom\":8,\"style\":\"open-street-map\"},\"coloraxis\":{\"colorbar\":{\"title\":{\"text\":\"cluster\"}},\"colorscale\":[[0.0,\"#0d0887\"],[0.1111111111111111,\"#46039f\"],[0.2222222222222222,\"#7201a8\"],[0.3333333333333333,\"#9c179e\"],[0.4444444444444444,\"#bd3786\"],[0.5555555555555556,\"#d8576b\"],[0.6666666666666666,\"#ed7953\"],[0.7777777777777778,\"#fb9f3a\"],[0.8888888888888888,\"#fdca26\"],[1.0,\"#f0f921\"]]},\"legend\":{\"tracegroupgap\":0},\"margin\":{\"t\":0,\"r\":0,\"l\":0,\"b\":0}},                        {\"responsive\": true}                    ).then(function(){\n",
       "                            \n",
       "var gd = document.getElementById('455ff399-e0c1-4e9c-820f-ac639e87b0b2');\n",
       "var x = new MutationObserver(function (mutations, observer) {{\n",
       "        var display = window.getComputedStyle(gd).display;\n",
       "        if (!display || display === 'none') {{\n",
       "            console.log([gd, 'removed!']);\n",
       "            Plotly.purge(gd);\n",
       "            observer.disconnect();\n",
       "        }}\n",
       "}});\n",
       "\n",
       "// Listen for the removal of the full notebook cells\n",
       "var notebookContainer = gd.closest('#notebook-container');\n",
       "if (notebookContainer) {{\n",
       "    x.observe(notebookContainer, {childList: true});\n",
       "}}\n",
       "\n",
       "// Listen for the clearing of the current output cell\n",
       "var outputEl = gd.closest('.output');\n",
       "if (outputEl) {{\n",
       "    x.observe(outputEl, {childList: true});\n",
       "}}\n",
       "\n",
       "                        })                };                });            </script>        </div>"
      ]
     },
     "metadata": {},
     "output_type": "display_data"
    }
   ],
   "source": [
    "fig = px.scatter_mapbox(geo_df,\n",
    "                    lat=geo_df.geometry.y,\n",
    "                    lon=geo_df.geometry.x,\n",
    "                    color=\"cluster\",\n",
    "                    hover_name=\"object\",\n",
    "                    hover_data=[\"predicted_location_kmeans\"])\n",
    "fig.update_layout(\n",
    "    mapbox_style=\"open-street-map\")\n",
    "fig.update_layout(margin={\"r\":0,\"t\":0,\"l\":0,\"b\":0})\n",
    "fig.show()"
   ]
  },
  {
   "cell_type": "markdown",
   "id": "28de1e97",
   "metadata": {},
   "source": [
    "## K == 1\n",
    "\n",
    "    True     0\n",
    "    False    146\n",
    "    \n",
    "With only one cluster, the closest centroid is near none of the given locations, and they are misclassified as all belonging to 'sitella' \n",
    "\n",
    "    0        146"
   ]
  },
  {
   "cell_type": "code",
   "execution_count": 98,
   "id": "79fe36e3",
   "metadata": {},
   "outputs": [
    {
     "data": {
      "application/vnd.plotly.v1+json": {
       "config": {
        "plotlyServerURL": "https://plot.ly"
       },
       "data": [
        {
         "customdata": [
          [
           "Sittella"
          ],
          [
           "Sittella"
          ],
          [
           "Sittella"
          ],
          [
           "Sittella"
          ],
          [
           "Sittella"
          ],
          [
           "Sittella"
          ],
          [
           "Sittella"
          ],
          [
           "Sittella"
          ],
          [
           "Sittella"
          ],
          [
           "Sittella"
          ],
          [
           "Sittella"
          ],
          [
           "Sittella"
          ],
          [
           "Sittella"
          ],
          [
           "Sittella"
          ],
          [
           "Sittella"
          ],
          [
           "Sittella"
          ],
          [
           "Sittella"
          ],
          [
           "Sittella"
          ],
          [
           "Sittella"
          ],
          [
           "Sittella"
          ],
          [
           "Sittella"
          ],
          [
           "Sittella"
          ],
          [
           "Sittella"
          ],
          [
           "Sittella"
          ],
          [
           "Sittella"
          ],
          [
           "Sittella"
          ],
          [
           "Sittella"
          ],
          [
           "Sittella"
          ],
          [
           "Sittella"
          ],
          [
           "Sittella"
          ],
          [
           "Sittella"
          ],
          [
           "Sittella"
          ],
          [
           "Sittella"
          ],
          [
           "Sittella"
          ],
          [
           "Sittella"
          ],
          [
           "Sittella"
          ],
          [
           "Sittella"
          ],
          [
           "Sittella"
          ],
          [
           "Sittella"
          ],
          [
           "Sittella"
          ],
          [
           "Sittella"
          ],
          [
           "Sittella"
          ],
          [
           "Sittella"
          ],
          [
           "Sittella"
          ],
          [
           "Sittella"
          ],
          [
           "Sittella"
          ],
          [
           "Sittella"
          ],
          [
           "Sittella"
          ],
          [
           "Sittella"
          ],
          [
           "Sittella"
          ],
          [
           "Sittella"
          ],
          [
           "Sittella"
          ],
          [
           "Sittella"
          ],
          [
           "Sittella"
          ],
          [
           "Sittella"
          ],
          [
           "Sittella"
          ],
          [
           "Sittella"
          ],
          [
           "Sittella"
          ],
          [
           "Sittella"
          ],
          [
           "Sittella"
          ],
          [
           "Sittella"
          ],
          [
           "Sittella"
          ],
          [
           "Sittella"
          ],
          [
           "Sittella"
          ],
          [
           "Sittella"
          ],
          [
           "Sittella"
          ],
          [
           "Sittella"
          ],
          [
           "Sittella"
          ],
          [
           "Sittella"
          ],
          [
           "Sittella"
          ],
          [
           "Sittella"
          ],
          [
           "Sittella"
          ],
          [
           "Sittella"
          ],
          [
           "Sittella"
          ],
          [
           "Sittella"
          ],
          [
           "Sittella"
          ],
          [
           "Sittella"
          ],
          [
           "Sittella"
          ],
          [
           "Sittella"
          ],
          [
           "Sittella"
          ],
          [
           "Sittella"
          ],
          [
           "Sittella"
          ],
          [
           "Sittella"
          ],
          [
           "Sittella"
          ],
          [
           "Sittella"
          ],
          [
           "Sittella"
          ],
          [
           "Sittella"
          ],
          [
           "Sittella"
          ],
          [
           "Sittella"
          ],
          [
           "Sittella"
          ],
          [
           "Sittella"
          ],
          [
           "Sittella"
          ],
          [
           "Sittella"
          ],
          [
           "Sittella"
          ],
          [
           "Sittella"
          ],
          [
           "Sittella"
          ],
          [
           "Sittella"
          ],
          [
           "Sittella"
          ],
          [
           "Sittella"
          ],
          [
           "Sittella"
          ],
          [
           "Sittella"
          ],
          [
           "Sittella"
          ],
          [
           "Sittella"
          ],
          [
           "Sittella"
          ],
          [
           "Sittella"
          ],
          [
           "Sittella"
          ],
          [
           "Sittella"
          ],
          [
           "Sittella"
          ],
          [
           "Sittella"
          ],
          [
           "Sittella"
          ],
          [
           "Sittella"
          ],
          [
           "Sittella"
          ],
          [
           "Sittella"
          ],
          [
           "Sittella"
          ],
          [
           "Sittella"
          ],
          [
           "Sittella"
          ],
          [
           "Sittella"
          ],
          [
           "Sittella"
          ],
          [
           "Sittella"
          ],
          [
           "Sittella"
          ],
          [
           "Sittella"
          ],
          [
           "Sittella"
          ],
          [
           "Sittella"
          ],
          [
           "Sittella"
          ],
          [
           "Sittella"
          ],
          [
           "Sittella"
          ],
          [
           "Sittella"
          ],
          [
           "Sittella"
          ],
          [
           "Sittella"
          ],
          [
           "Sittella"
          ],
          [
           "Sittella"
          ],
          [
           "Sittella"
          ],
          [
           "Sittella"
          ],
          [
           "Sittella"
          ],
          [
           "Sittella"
          ],
          [
           "Sittella"
          ],
          [
           "Sittella"
          ],
          [
           "Sittella"
          ],
          [
           "Sittella"
          ],
          [
           "Sittella"
          ],
          [
           "Sittella"
          ],
          [
           "Sittella"
          ],
          [
           "Sittella"
          ],
          [
           "Sittella"
          ],
          [
           "Sittella"
          ],
          [
           "Sittella"
          ]
         ],
         "hovertemplate": "<b>%{hovertext}</b><br><br>lat=%{lat}<br>lon=%{lon}<br>predicted_location_kmeans=%{customdata[0]}<br>cluster=%{marker.color}<extra></extra>",
         "hovertext": [
          "palm_tree",
          "palm_tree",
          "palm_tree",
          "palm_tree",
          "palm_tree",
          "palm_tree",
          "palm_tree",
          "palm_tree",
          "palm_tree",
          "palm_tree",
          "palm_tree",
          "palm_tree",
          "pizza_oven",
          "air_conditioner",
          "building",
          "shed",
          "shed",
          "shed",
          "picnic_bench",
          "picnic_bench",
          "planter",
          "planter",
          "building",
          "parking_lot",
          "patio",
          "water_tank",
          "air_conitioner",
          "patio",
          "building",
          "shed",
          "building",
          "building",
          "vineyard",
          "vineyard",
          "vineyard",
          "building",
          "parking_lot",
          "retaining_wall",
          "retaining_wall",
          "sign",
          "sign",
          "sign",
          "tree",
          "tree",
          "tree",
          "tree",
          "tree",
          "tree",
          "parking_lot",
          "vineyard",
          "vineyard",
          "building",
          "shed",
          "solar_panel",
          "building",
          "parking_lot",
          "shed",
          "building",
          "swimming_pool",
          "courtyard",
          "vineyard",
          "vineyard",
          "generator",
          "parking_lot",
          "carport",
          "bicycle_rack",
          "shed",
          "sculpture",
          "patio",
          "patio",
          "shed",
          "picnic_table",
          "picnic_table",
          "picnic_umbrella",
          "picnic_umbrella",
          "picnic_umbrella",
          "picnic_umbrella",
          "picnic_table",
          "picnic_table",
          "shed",
          "shed",
          "shed",
          "tree",
          "tree",
          "tree",
          "tree",
          "tree",
          "tree",
          "tree",
          "building",
          "pond",
          "bridge",
          "island",
          "vineyard",
          "swimming_pool",
          "building",
          "building",
          "tennis_court",
          "swimming_pool",
          "shade_cloth",
          "sign",
          "warehouse",
          "vat",
          "vat",
          "vat",
          "vat",
          "building",
          "parking_lot",
          "solar_panels",
          "solar_panels",
          "building",
          "fence",
          "jetty",
          "picnic_table",
          "picnic_table",
          "tank",
          "tank",
          "shed",
          "shipping_container",
          "shipping_container",
          "shipping_container",
          "shipping_container",
          "vineyard",
          "vineyard",
          "river",
          "vineyard",
          "vineyard",
          "parking_lot",
          "shed",
          "sign",
          "table",
          "table",
          "table",
          "table",
          "wine_barrell",
          "counter",
          "shed",
          "fence",
          "sign",
          "driveway",
          "picnic_table",
          "picnic_table",
          "picnic_table",
          "picnic_table",
          "picnic_table",
          "picnic_table"
         ],
         "lat": [
          -31.81445187554597,
          -31.81451940926452,
          -31.8145718117269,
          -31.81458084078105,
          -31.81462157655873,
          -31.81454971676524,
          -31.81448193361258,
          -31.81444773977627,
          -31.8143890181285,
          -31.81439660859307,
          -31.81434027785148,
          -31.81429434468795,
          -31.81429169178455,
          -31.81420767463152,
          -31.81394919889622,
          -31.81439717390363,
          -31.81432230857389,
          -31.8135457777316,
          -31.82401586475119,
          -31.82402821801069,
          -31.82400450902502,
          -31.82400258090139,
          -31.82417864772208,
          -31.82406166208574,
          -31.82414265894136,
          -31.82427841722326,
          -31.82414274552135,
          -31.82416289887374,
          -31.82414373469494,
          -31.82414175485055,
          -31.82429678566091,
          -31.8238198185718,
          -31.82470742057825,
          -31.8242299537138,
          -31.82369416405801,
          -31.82347585518145,
          -31.82372524293678,
          -31.79711445941102,
          -31.79711822124566,
          -31.79711822124567,
          -31.79711445941102,
          -31.79692113693582,
          -31.79707299441964,
          -31.79707639334401,
          -31.79701796869119,
          -31.79702180433045,
          -31.79695848151606,
          -31.7969572497282,
          -31.79698640377645,
          -31.79698932185287,
          -31.7946673883335,
          -31.79676259008081,
          -31.79676332889907,
          -31.79669029290958,
          -31.79664133173589,
          -31.79691654618838,
          -31.79658001770868,
          -31.79630852369076,
          -31.79620849056571,
          -31.79646472091715,
          -31.83039735327537,
          -31.83060476817275,
          -31.83020873465989,
          -31.83033573653752,
          -31.83038472086931,
          -31.83023391039609,
          -31.83047573335856,
          -31.83050151773064,
          -31.83051242847542,
          -31.83042950292597,
          -31.83048831452484,
          -31.83039290156244,
          -31.83042013524614,
          -31.83039529464335,
          -31.83041309005974,
          -31.83059039674292,
          -31.83062496370694,
          -31.83044919552612,
          -31.83055048589921,
          -31.83057537982879,
          -31.8306575917034,
          -31.83065965298827,
          -31.83079043292682,
          -31.83079112085596,
          -31.83079315668379,
          -31.83078775293374,
          -31.83079115492708,
          -31.83078777975723,
          -31.83079186264361,
          -31.84668336675156,
          -31.84590359767057,
          -31.84638920015648,
          -31.84633325480655,
          -31.84630620908671,
          -31.84642682355494,
          -31.84660379451255,
          -31.84534087718281,
          -31.84497134212882,
          -31.84520480790187,
          -31.84519057474693,
          -31.84696779013872,
          -31.84505951047444,
          -31.84518456887401,
          -31.84515103476856,
          -31.84510853881709,
          -31.84507695999562,
          -31.84512567428841,
          -31.84527487175123,
          -31.84487684093081,
          -31.84496527724279,
          -31.84505688510912,
          -31.84523158062051,
          -31.84538040931631,
          -31.84537004084413,
          -31.84537006574641,
          -31.84488600975254,
          -31.84485397635064,
          -31.84513430001038,
          -31.84466167779774,
          -31.84469149573804,
          -31.84472428455821,
          -31.84468823575176,
          -31.84538344253644,
          -31.84424690471754,
          -31.85109633797458,
          -31.85068649170797,
          -31.85278296339006,
          -31.85188710724418,
          -31.85210550561943,
          -31.8518872114326,
          -31.85182659388803,
          -31.85182616279369,
          -31.85182820538461,
          -31.85182506326957,
          -31.85189307872191,
          -31.85188320881234,
          -31.8518732548151,
          -31.85182222748639,
          -31.85198713829637,
          -31.85192250139609,
          -31.85189392826163,
          -31.85187442908764,
          -31.8518030858586,
          -31.8518024058948,
          -31.85180059356636,
          -31.85180195605045
         ],
         "legendgroup": "",
         "lon": [
          116.0183374663027,
          116.0183259785979,
          116.0183161354075,
          116.0182529749383,
          116.0182086643162,
          116.0182128388363,
          116.018223361407,
          116.0182823408421,
          116.01821750659,
          116.0182474062873,
          116.0181813817572,
          116.0182631395714,
          116.0181961643027,
          116.0182334670006,
          116.0179055434116,
          116.0180953620699,
          116.0178051456259,
          116.0179865644773,
          116.0009142164415,
          116.000930932033,
          116.0009778539811,
          116.00092060426,
          116.0006048976215,
          116.0005802543637,
          116.0005190872192,
          116.0007722909438,
          116.0010150860718,
          116.0009461560145,
          116.0008411872399,
          116.0011891817338,
          116.0015213385211,
          116.0011641432193,
          116.0008309768264,
          116.0024406990624,
          116.0018976598281,
          116.0008501775059,
          116.0005857862165,
          116.0458851425753,
          116.0457670563354,
          116.0457670563353,
          116.0458851425753,
          116.0458175186144,
          116.0457592802574,
          116.0458562580698,
          116.0458650464963,
          116.0457701043378,
          116.0458575517662,
          116.0457695358829,
          116.0456561146581,
          116.0459678755513,
          116.0454319290855,
          116.0458568785181,
          116.0450705556765,
          116.0451148633962,
          116.0465802282568,
          116.0452797276304,
          116.045049160885,
          116.0451629606889,
          116.0452886782776,
          116.0458601290954,
          115.998939146043,
          115.9977318524493,
          115.9974576751721,
          115.9977420660818,
          115.997502299226,
          115.9974572459445,
          115.9977050969983,
          115.997777721079,
          115.997669167832,
          115.997431381974,
          115.9973518616014,
          115.9973090452622,
          115.9972816677781,
          115.9973045597328,
          115.9972807007919,
          115.9974222588125,
          115.9973755276259,
          115.9972085542997,
          115.9971975624587,
          115.9972416499528,
          115.9971742512736,
          115.997296680735,
          115.9971388569162,
          115.9971802611804,
          115.9972163578717,
          115.9972577899615,
          115.9973048744194,
          115.9973561509557,
          115.9974216940731,
          116.0086270958327,
          116.0076430354346,
          116.0075575103231,
          116.0077438974485,
          116.0059960349935,
          116.0046871040282,
          116.0047242747774,
          116.0049137333173,
          116.0049529458494,
          116.0046804703044,
          116.0046414836387,
          116.0066284586833,
          116.0060571495129,
          116.0063688107167,
          116.0063718225668,
          116.0063741620266,
          116.0063804564964,
          116.0066406806117,
          116.0070043014552,
          116.0073642354885,
          116.0073623012661,
          116.007341994294,
          116.0072570321877,
          116.007597008791,
          116.0075393399854,
          116.0076604504979,
          116.0068656915519,
          116.0066919339338,
          116.0072291966907,
          116.0072432872027,
          116.0072381097506,
          116.0072390830616,
          116.0074225863559,
          116.0124205441503,
          116.0066393647114,
          115.995810298809,
          115.9902290551793,
          115.9901750632805,
          115.9901520456193,
          115.9903190941192,
          115.9903556704859,
          115.9905306771903,
          115.9905475047897,
          115.9905655610603,
          115.9905862473149,
          115.9904467156551,
          115.9904835715709,
          115.990598423206,
          115.9903645411195,
          115.9877336890102,
          115.9889759412021,
          115.9908535353204,
          115.990901684718,
          115.9909205172935,
          115.9908668295001,
          115.9908006953241,
          115.9907526922321
         ],
         "marker": {
          "color": [
           0,
           0,
           0,
           0,
           0,
           0,
           0,
           0,
           0,
           0,
           0,
           0,
           0,
           0,
           0,
           0,
           0,
           0,
           0,
           0,
           0,
           0,
           0,
           0,
           0,
           0,
           0,
           0,
           0,
           0,
           0,
           0,
           0,
           0,
           0,
           0,
           0,
           0,
           0,
           0,
           0,
           0,
           0,
           0,
           0,
           0,
           0,
           0,
           0,
           0,
           0,
           0,
           0,
           0,
           0,
           0,
           0,
           0,
           0,
           0,
           0,
           0,
           0,
           0,
           0,
           0,
           0,
           0,
           0,
           0,
           0,
           0,
           0,
           0,
           0,
           0,
           0,
           0,
           0,
           0,
           0,
           0,
           0,
           0,
           0,
           0,
           0,
           0,
           0,
           0,
           0,
           0,
           0,
           0,
           0,
           0,
           0,
           0,
           0,
           0,
           0,
           0,
           0,
           0,
           0,
           0,
           0,
           0,
           0,
           0,
           0,
           0,
           0,
           0,
           0,
           0,
           0,
           0,
           0,
           0,
           0,
           0,
           0,
           0,
           0,
           0,
           0,
           0,
           0,
           0,
           0,
           0,
           0,
           0,
           0,
           0,
           0,
           0,
           0,
           0,
           0,
           0,
           0,
           0,
           0,
           0
          ],
          "coloraxis": "coloraxis"
         },
         "mode": "markers",
         "name": "",
         "showlegend": false,
         "subplot": "mapbox",
         "type": "scattermapbox"
        },
        {
         "hovertemplate": "<b>%{hovertext}</b><br><br>lat=%{lat}<br>lon=%{lon}<extra></extra>",
         "hovertext": [
          "Sandalford Winery",
          "Nikola Estate",
          "Edgecombe Brothers",
          "Little River Winery and Café",
          "Black Swan Winery and Restaurant",
          "Lancaster Wines",
          "Mandoon Estate",
          "Mandoon Vineyard",
          "Oakover Grounds",
          "Henley Park Winery",
          "Upper Reach Winery",
          "Mann Winery",
          "Harris Organic Wines and Spirits",
          "John Kosovich Wines",
          "Twin Hill Wines",
          "Olive Farm Wines",
          "Ali's Vineyard",
          "Talijancich",
          "Tyler's Vineyard",
          "Fig Tree Estate Winery",
          "Lamont's Winery",
          "Faber Vineyard",
          "Swan Valley Wines",
          "Windy Creek Estate",
          "Holy Mary Cellars",
          "Jarrah Ridge Wines",
          "Katgully Wines Cellar Door",
          "Sittella",
          "Ugly Duckling Wines",
          "Heafod Glen Winery",
          "Ambrook Wines"
         ],
         "lat": [
          -31.868701,
          -31.854112,
          -31.795187,
          -31.824124,
          -31.823404,
          -31.85226,
          -31.868266,
          -31.867594,
          -31.84508,
          -31.797776,
          -31.795033,
          -31.793688,
          -31.794595,
          -31.795346,
          -31.796729,
          -31.811995,
          -31.814194,
          -31.818507,
          -31.812921,
          -31.804387,
          -31.80323,
          -31.796771,
          -31.796915,
          -31.830487,
          -31.835658,
          -31.836499,
          -31.835449,
          -31.830083,
          -31.830502,
          -31.822945,
          -31.871998
         ],
         "legendgroup": "",
         "lon": [
          115.992759,
          115.997995,
          115.998571,
          116.000888,
          116.00085,
          115.988887,
          115.994991,
          115.995494,
          116.007327,
          116.001641,
          116.008634,
          116.012546,
          116.02083,
          116.02076,
          116.020781,
          116.022232,
          116.01822,
          116.020341,
          116.040805,
          116.04003,
          116.037443,
          116.045655,
          116.048836,
          116.03056,
          116.021676,
          116.015532,
          116.021235,
          116.006851,
          115.997425,
          115.996817,
          115.981779
         ],
         "marker": {
          "color": "#636efa"
         },
         "mode": "markers",
         "name": "",
         "showlegend": false,
         "subplot": "mapbox",
         "type": "scattermapbox"
        }
       ],
       "layout": {
        "coloraxis": {
         "colorbar": {
          "title": {
           "text": "cluster"
          }
         },
         "colorscale": [
          [
           0,
           "#0d0887"
          ],
          [
           0.1111111111111111,
           "#46039f"
          ],
          [
           0.2222222222222222,
           "#7201a8"
          ],
          [
           0.3333333333333333,
           "#9c179e"
          ],
          [
           0.4444444444444444,
           "#bd3786"
          ],
          [
           0.5555555555555556,
           "#d8576b"
          ],
          [
           0.6666666666666666,
           "#ed7953"
          ],
          [
           0.7777777777777778,
           "#fb9f3a"
          ],
          [
           0.8888888888888888,
           "#fdca26"
          ],
          [
           1,
           "#f0f921"
          ]
         ]
        },
        "legend": {
         "tracegroupgap": 0
        },
        "mapbox": {
         "center": {
          "lat": -31.829142815097253,
          "lon": 116.00928029017983
         },
         "domain": {
          "x": [
           0,
           1
          ],
          "y": [
           0,
           1
          ]
         },
         "style": "open-street-map",
         "zoom": 8
        },
        "margin": {
         "b": 0,
         "l": 0,
         "r": 0,
         "t": 0
        },
        "template": {
         "data": {
          "bar": [
           {
            "error_x": {
             "color": "#2a3f5f"
            },
            "error_y": {
             "color": "#2a3f5f"
            },
            "marker": {
             "line": {
              "color": "#E5ECF6",
              "width": 0.5
             },
             "pattern": {
              "fillmode": "overlay",
              "size": 10,
              "solidity": 0.2
             }
            },
            "type": "bar"
           }
          ],
          "barpolar": [
           {
            "marker": {
             "line": {
              "color": "#E5ECF6",
              "width": 0.5
             },
             "pattern": {
              "fillmode": "overlay",
              "size": 10,
              "solidity": 0.2
             }
            },
            "type": "barpolar"
           }
          ],
          "carpet": [
           {
            "aaxis": {
             "endlinecolor": "#2a3f5f",
             "gridcolor": "white",
             "linecolor": "white",
             "minorgridcolor": "white",
             "startlinecolor": "#2a3f5f"
            },
            "baxis": {
             "endlinecolor": "#2a3f5f",
             "gridcolor": "white",
             "linecolor": "white",
             "minorgridcolor": "white",
             "startlinecolor": "#2a3f5f"
            },
            "type": "carpet"
           }
          ],
          "choropleth": [
           {
            "colorbar": {
             "outlinewidth": 0,
             "ticks": ""
            },
            "type": "choropleth"
           }
          ],
          "contour": [
           {
            "colorbar": {
             "outlinewidth": 0,
             "ticks": ""
            },
            "colorscale": [
             [
              0,
              "#0d0887"
             ],
             [
              0.1111111111111111,
              "#46039f"
             ],
             [
              0.2222222222222222,
              "#7201a8"
             ],
             [
              0.3333333333333333,
              "#9c179e"
             ],
             [
              0.4444444444444444,
              "#bd3786"
             ],
             [
              0.5555555555555556,
              "#d8576b"
             ],
             [
              0.6666666666666666,
              "#ed7953"
             ],
             [
              0.7777777777777778,
              "#fb9f3a"
             ],
             [
              0.8888888888888888,
              "#fdca26"
             ],
             [
              1,
              "#f0f921"
             ]
            ],
            "type": "contour"
           }
          ],
          "contourcarpet": [
           {
            "colorbar": {
             "outlinewidth": 0,
             "ticks": ""
            },
            "type": "contourcarpet"
           }
          ],
          "heatmap": [
           {
            "colorbar": {
             "outlinewidth": 0,
             "ticks": ""
            },
            "colorscale": [
             [
              0,
              "#0d0887"
             ],
             [
              0.1111111111111111,
              "#46039f"
             ],
             [
              0.2222222222222222,
              "#7201a8"
             ],
             [
              0.3333333333333333,
              "#9c179e"
             ],
             [
              0.4444444444444444,
              "#bd3786"
             ],
             [
              0.5555555555555556,
              "#d8576b"
             ],
             [
              0.6666666666666666,
              "#ed7953"
             ],
             [
              0.7777777777777778,
              "#fb9f3a"
             ],
             [
              0.8888888888888888,
              "#fdca26"
             ],
             [
              1,
              "#f0f921"
             ]
            ],
            "type": "heatmap"
           }
          ],
          "heatmapgl": [
           {
            "colorbar": {
             "outlinewidth": 0,
             "ticks": ""
            },
            "colorscale": [
             [
              0,
              "#0d0887"
             ],
             [
              0.1111111111111111,
              "#46039f"
             ],
             [
              0.2222222222222222,
              "#7201a8"
             ],
             [
              0.3333333333333333,
              "#9c179e"
             ],
             [
              0.4444444444444444,
              "#bd3786"
             ],
             [
              0.5555555555555556,
              "#d8576b"
             ],
             [
              0.6666666666666666,
              "#ed7953"
             ],
             [
              0.7777777777777778,
              "#fb9f3a"
             ],
             [
              0.8888888888888888,
              "#fdca26"
             ],
             [
              1,
              "#f0f921"
             ]
            ],
            "type": "heatmapgl"
           }
          ],
          "histogram": [
           {
            "marker": {
             "pattern": {
              "fillmode": "overlay",
              "size": 10,
              "solidity": 0.2
             }
            },
            "type": "histogram"
           }
          ],
          "histogram2d": [
           {
            "colorbar": {
             "outlinewidth": 0,
             "ticks": ""
            },
            "colorscale": [
             [
              0,
              "#0d0887"
             ],
             [
              0.1111111111111111,
              "#46039f"
             ],
             [
              0.2222222222222222,
              "#7201a8"
             ],
             [
              0.3333333333333333,
              "#9c179e"
             ],
             [
              0.4444444444444444,
              "#bd3786"
             ],
             [
              0.5555555555555556,
              "#d8576b"
             ],
             [
              0.6666666666666666,
              "#ed7953"
             ],
             [
              0.7777777777777778,
              "#fb9f3a"
             ],
             [
              0.8888888888888888,
              "#fdca26"
             ],
             [
              1,
              "#f0f921"
             ]
            ],
            "type": "histogram2d"
           }
          ],
          "histogram2dcontour": [
           {
            "colorbar": {
             "outlinewidth": 0,
             "ticks": ""
            },
            "colorscale": [
             [
              0,
              "#0d0887"
             ],
             [
              0.1111111111111111,
              "#46039f"
             ],
             [
              0.2222222222222222,
              "#7201a8"
             ],
             [
              0.3333333333333333,
              "#9c179e"
             ],
             [
              0.4444444444444444,
              "#bd3786"
             ],
             [
              0.5555555555555556,
              "#d8576b"
             ],
             [
              0.6666666666666666,
              "#ed7953"
             ],
             [
              0.7777777777777778,
              "#fb9f3a"
             ],
             [
              0.8888888888888888,
              "#fdca26"
             ],
             [
              1,
              "#f0f921"
             ]
            ],
            "type": "histogram2dcontour"
           }
          ],
          "mesh3d": [
           {
            "colorbar": {
             "outlinewidth": 0,
             "ticks": ""
            },
            "type": "mesh3d"
           }
          ],
          "parcoords": [
           {
            "line": {
             "colorbar": {
              "outlinewidth": 0,
              "ticks": ""
             }
            },
            "type": "parcoords"
           }
          ],
          "pie": [
           {
            "automargin": true,
            "type": "pie"
           }
          ],
          "scatter": [
           {
            "fillpattern": {
             "fillmode": "overlay",
             "size": 10,
             "solidity": 0.2
            },
            "type": "scatter"
           }
          ],
          "scatter3d": [
           {
            "line": {
             "colorbar": {
              "outlinewidth": 0,
              "ticks": ""
             }
            },
            "marker": {
             "colorbar": {
              "outlinewidth": 0,
              "ticks": ""
             }
            },
            "type": "scatter3d"
           }
          ],
          "scattercarpet": [
           {
            "marker": {
             "colorbar": {
              "outlinewidth": 0,
              "ticks": ""
             }
            },
            "type": "scattercarpet"
           }
          ],
          "scattergeo": [
           {
            "marker": {
             "colorbar": {
              "outlinewidth": 0,
              "ticks": ""
             }
            },
            "type": "scattergeo"
           }
          ],
          "scattergl": [
           {
            "marker": {
             "colorbar": {
              "outlinewidth": 0,
              "ticks": ""
             }
            },
            "type": "scattergl"
           }
          ],
          "scattermapbox": [
           {
            "marker": {
             "colorbar": {
              "outlinewidth": 0,
              "ticks": ""
             }
            },
            "type": "scattermapbox"
           }
          ],
          "scatterpolar": [
           {
            "marker": {
             "colorbar": {
              "outlinewidth": 0,
              "ticks": ""
             }
            },
            "type": "scatterpolar"
           }
          ],
          "scatterpolargl": [
           {
            "marker": {
             "colorbar": {
              "outlinewidth": 0,
              "ticks": ""
             }
            },
            "type": "scatterpolargl"
           }
          ],
          "scatterternary": [
           {
            "marker": {
             "colorbar": {
              "outlinewidth": 0,
              "ticks": ""
             }
            },
            "type": "scatterternary"
           }
          ],
          "surface": [
           {
            "colorbar": {
             "outlinewidth": 0,
             "ticks": ""
            },
            "colorscale": [
             [
              0,
              "#0d0887"
             ],
             [
              0.1111111111111111,
              "#46039f"
             ],
             [
              0.2222222222222222,
              "#7201a8"
             ],
             [
              0.3333333333333333,
              "#9c179e"
             ],
             [
              0.4444444444444444,
              "#bd3786"
             ],
             [
              0.5555555555555556,
              "#d8576b"
             ],
             [
              0.6666666666666666,
              "#ed7953"
             ],
             [
              0.7777777777777778,
              "#fb9f3a"
             ],
             [
              0.8888888888888888,
              "#fdca26"
             ],
             [
              1,
              "#f0f921"
             ]
            ],
            "type": "surface"
           }
          ],
          "table": [
           {
            "cells": {
             "fill": {
              "color": "#EBF0F8"
             },
             "line": {
              "color": "white"
             }
            },
            "header": {
             "fill": {
              "color": "#C8D4E3"
             },
             "line": {
              "color": "white"
             }
            },
            "type": "table"
           }
          ]
         },
         "layout": {
          "annotationdefaults": {
           "arrowcolor": "#2a3f5f",
           "arrowhead": 0,
           "arrowwidth": 1
          },
          "autotypenumbers": "strict",
          "coloraxis": {
           "colorbar": {
            "outlinewidth": 0,
            "ticks": ""
           }
          },
          "colorscale": {
           "diverging": [
            [
             0,
             "#8e0152"
            ],
            [
             0.1,
             "#c51b7d"
            ],
            [
             0.2,
             "#de77ae"
            ],
            [
             0.3,
             "#f1b6da"
            ],
            [
             0.4,
             "#fde0ef"
            ],
            [
             0.5,
             "#f7f7f7"
            ],
            [
             0.6,
             "#e6f5d0"
            ],
            [
             0.7,
             "#b8e186"
            ],
            [
             0.8,
             "#7fbc41"
            ],
            [
             0.9,
             "#4d9221"
            ],
            [
             1,
             "#276419"
            ]
           ],
           "sequential": [
            [
             0,
             "#0d0887"
            ],
            [
             0.1111111111111111,
             "#46039f"
            ],
            [
             0.2222222222222222,
             "#7201a8"
            ],
            [
             0.3333333333333333,
             "#9c179e"
            ],
            [
             0.4444444444444444,
             "#bd3786"
            ],
            [
             0.5555555555555556,
             "#d8576b"
            ],
            [
             0.6666666666666666,
             "#ed7953"
            ],
            [
             0.7777777777777778,
             "#fb9f3a"
            ],
            [
             0.8888888888888888,
             "#fdca26"
            ],
            [
             1,
             "#f0f921"
            ]
           ],
           "sequentialminus": [
            [
             0,
             "#0d0887"
            ],
            [
             0.1111111111111111,
             "#46039f"
            ],
            [
             0.2222222222222222,
             "#7201a8"
            ],
            [
             0.3333333333333333,
             "#9c179e"
            ],
            [
             0.4444444444444444,
             "#bd3786"
            ],
            [
             0.5555555555555556,
             "#d8576b"
            ],
            [
             0.6666666666666666,
             "#ed7953"
            ],
            [
             0.7777777777777778,
             "#fb9f3a"
            ],
            [
             0.8888888888888888,
             "#fdca26"
            ],
            [
             1,
             "#f0f921"
            ]
           ]
          },
          "colorway": [
           "#636efa",
           "#EF553B",
           "#00cc96",
           "#ab63fa",
           "#FFA15A",
           "#19d3f3",
           "#FF6692",
           "#B6E880",
           "#FF97FF",
           "#FECB52"
          ],
          "font": {
           "color": "#2a3f5f"
          },
          "geo": {
           "bgcolor": "white",
           "lakecolor": "white",
           "landcolor": "#E5ECF6",
           "showlakes": true,
           "showland": true,
           "subunitcolor": "white"
          },
          "hoverlabel": {
           "align": "left"
          },
          "hovermode": "closest",
          "mapbox": {
           "style": "light"
          },
          "paper_bgcolor": "white",
          "plot_bgcolor": "#E5ECF6",
          "polar": {
           "angularaxis": {
            "gridcolor": "white",
            "linecolor": "white",
            "ticks": ""
           },
           "bgcolor": "#E5ECF6",
           "radialaxis": {
            "gridcolor": "white",
            "linecolor": "white",
            "ticks": ""
           }
          },
          "scene": {
           "xaxis": {
            "backgroundcolor": "#E5ECF6",
            "gridcolor": "white",
            "gridwidth": 2,
            "linecolor": "white",
            "showbackground": true,
            "ticks": "",
            "zerolinecolor": "white"
           },
           "yaxis": {
            "backgroundcolor": "#E5ECF6",
            "gridcolor": "white",
            "gridwidth": 2,
            "linecolor": "white",
            "showbackground": true,
            "ticks": "",
            "zerolinecolor": "white"
           },
           "zaxis": {
            "backgroundcolor": "#E5ECF6",
            "gridcolor": "white",
            "gridwidth": 2,
            "linecolor": "white",
            "showbackground": true,
            "ticks": "",
            "zerolinecolor": "white"
           }
          },
          "shapedefaults": {
           "line": {
            "color": "#2a3f5f"
           }
          },
          "ternary": {
           "aaxis": {
            "gridcolor": "white",
            "linecolor": "white",
            "ticks": ""
           },
           "baxis": {
            "gridcolor": "white",
            "linecolor": "white",
            "ticks": ""
           },
           "bgcolor": "#E5ECF6",
           "caxis": {
            "gridcolor": "white",
            "linecolor": "white",
            "ticks": ""
           }
          },
          "title": {
           "x": 0.05
          },
          "xaxis": {
           "automargin": true,
           "gridcolor": "white",
           "linecolor": "white",
           "ticks": "",
           "title": {
            "standoff": 15
           },
           "zerolinecolor": "white",
           "zerolinewidth": 2
          },
          "yaxis": {
           "automargin": true,
           "gridcolor": "white",
           "linecolor": "white",
           "ticks": "",
           "title": {
            "standoff": 15
           },
           "zerolinecolor": "white",
           "zerolinewidth": 2
          }
         }
        }
       }
      },
      "text/html": [
       "<div>                            <div id=\"9727857a-dcc5-4be8-84f0-c05360d8dd3a\" class=\"plotly-graph-div\" style=\"height:525px; width:100%;\"></div>            <script type=\"text/javascript\">                require([\"plotly\"], function(Plotly) {                    window.PLOTLYENV=window.PLOTLYENV || {};                                    if (document.getElementById(\"9727857a-dcc5-4be8-84f0-c05360d8dd3a\")) {                    Plotly.newPlot(                        \"9727857a-dcc5-4be8-84f0-c05360d8dd3a\",                        [{\"customdata\":[[\"Sittella\"],[\"Sittella\"],[\"Sittella\"],[\"Sittella\"],[\"Sittella\"],[\"Sittella\"],[\"Sittella\"],[\"Sittella\"],[\"Sittella\"],[\"Sittella\"],[\"Sittella\"],[\"Sittella\"],[\"Sittella\"],[\"Sittella\"],[\"Sittella\"],[\"Sittella\"],[\"Sittella\"],[\"Sittella\"],[\"Sittella\"],[\"Sittella\"],[\"Sittella\"],[\"Sittella\"],[\"Sittella\"],[\"Sittella\"],[\"Sittella\"],[\"Sittella\"],[\"Sittella\"],[\"Sittella\"],[\"Sittella\"],[\"Sittella\"],[\"Sittella\"],[\"Sittella\"],[\"Sittella\"],[\"Sittella\"],[\"Sittella\"],[\"Sittella\"],[\"Sittella\"],[\"Sittella\"],[\"Sittella\"],[\"Sittella\"],[\"Sittella\"],[\"Sittella\"],[\"Sittella\"],[\"Sittella\"],[\"Sittella\"],[\"Sittella\"],[\"Sittella\"],[\"Sittella\"],[\"Sittella\"],[\"Sittella\"],[\"Sittella\"],[\"Sittella\"],[\"Sittella\"],[\"Sittella\"],[\"Sittella\"],[\"Sittella\"],[\"Sittella\"],[\"Sittella\"],[\"Sittella\"],[\"Sittella\"],[\"Sittella\"],[\"Sittella\"],[\"Sittella\"],[\"Sittella\"],[\"Sittella\"],[\"Sittella\"],[\"Sittella\"],[\"Sittella\"],[\"Sittella\"],[\"Sittella\"],[\"Sittella\"],[\"Sittella\"],[\"Sittella\"],[\"Sittella\"],[\"Sittella\"],[\"Sittella\"],[\"Sittella\"],[\"Sittella\"],[\"Sittella\"],[\"Sittella\"],[\"Sittella\"],[\"Sittella\"],[\"Sittella\"],[\"Sittella\"],[\"Sittella\"],[\"Sittella\"],[\"Sittella\"],[\"Sittella\"],[\"Sittella\"],[\"Sittella\"],[\"Sittella\"],[\"Sittella\"],[\"Sittella\"],[\"Sittella\"],[\"Sittella\"],[\"Sittella\"],[\"Sittella\"],[\"Sittella\"],[\"Sittella\"],[\"Sittella\"],[\"Sittella\"],[\"Sittella\"],[\"Sittella\"],[\"Sittella\"],[\"Sittella\"],[\"Sittella\"],[\"Sittella\"],[\"Sittella\"],[\"Sittella\"],[\"Sittella\"],[\"Sittella\"],[\"Sittella\"],[\"Sittella\"],[\"Sittella\"],[\"Sittella\"],[\"Sittella\"],[\"Sittella\"],[\"Sittella\"],[\"Sittella\"],[\"Sittella\"],[\"Sittella\"],[\"Sittella\"],[\"Sittella\"],[\"Sittella\"],[\"Sittella\"],[\"Sittella\"],[\"Sittella\"],[\"Sittella\"],[\"Sittella\"],[\"Sittella\"],[\"Sittella\"],[\"Sittella\"],[\"Sittella\"],[\"Sittella\"],[\"Sittella\"],[\"Sittella\"],[\"Sittella\"],[\"Sittella\"],[\"Sittella\"],[\"Sittella\"],[\"Sittella\"],[\"Sittella\"],[\"Sittella\"],[\"Sittella\"],[\"Sittella\"],[\"Sittella\"]],\"hovertemplate\":\"<b>%{hovertext}</b><br><br>lat=%{lat}<br>lon=%{lon}<br>predicted_location_kmeans=%{customdata[0]}<br>cluster=%{marker.color}<extra></extra>\",\"hovertext\":[\"palm_tree\",\"palm_tree\",\"palm_tree\",\"palm_tree\",\"palm_tree\",\"palm_tree\",\"palm_tree\",\"palm_tree\",\"palm_tree\",\"palm_tree\",\"palm_tree\",\"palm_tree\",\"pizza_oven\",\"air_conditioner\",\"building\",\"shed\",\"shed\",\"shed\",\"picnic_bench\",\"picnic_bench\",\"planter\",\"planter\",\"building\",\"parking_lot\",\"patio\",\"water_tank\",\"air_conitioner\",\"patio\",\"building\",\"shed\",\"building\",\"building\",\"vineyard\",\"vineyard\",\"vineyard\",\"building\",\"parking_lot\",\"retaining_wall\",\"retaining_wall\",\"sign\",\"sign\",\"sign\",\"tree\",\"tree\",\"tree\",\"tree\",\"tree\",\"tree\",\"parking_lot\",\"vineyard\",\"vineyard\",\"building\",\"shed\",\"solar_panel\",\"building\",\"parking_lot\",\"shed\",\"building\",\"swimming_pool\",\"courtyard\",\"vineyard\",\"vineyard\",\"generator\",\"parking_lot\",\"carport\",\"bicycle_rack\",\"shed\",\"sculpture\",\"patio\",\"patio\",\"shed\",\"picnic_table\",\"picnic_table\",\"picnic_umbrella\",\"picnic_umbrella\",\"picnic_umbrella\",\"picnic_umbrella\",\"picnic_table\",\"picnic_table\",\"shed\",\"shed\",\"shed\",\"tree\",\"tree\",\"tree\",\"tree\",\"tree\",\"tree\",\"tree\",\"building\",\"pond\",\"bridge\",\"island\",\"vineyard\",\"swimming_pool\",\"building\",\"building\",\"tennis_court\",\"swimming_pool\",\"shade_cloth\",\"sign\",\"warehouse\",\"vat\",\"vat\",\"vat\",\"vat\",\"building\",\"parking_lot\",\"solar_panels\",\"solar_panels\",\"building\",\"fence\",\"jetty\",\"picnic_table\",\"picnic_table\",\"tank\",\"tank\",\"shed\",\"shipping_container\",\"shipping_container\",\"shipping_container\",\"shipping_container\",\"vineyard\",\"vineyard\",\"river\",\"vineyard\",\"vineyard\",\"parking_lot\",\"shed\",\"sign\",\"table\",\"table\",\"table\",\"table\",\"wine_barrell\",\"counter\",\"shed\",\"fence\",\"sign\",\"driveway\",\"picnic_table\",\"picnic_table\",\"picnic_table\",\"picnic_table\",\"picnic_table\",\"picnic_table\"],\"lat\":[-31.81445187554597,-31.81451940926452,-31.8145718117269,-31.81458084078105,-31.81462157655873,-31.81454971676524,-31.81448193361258,-31.81444773977627,-31.8143890181285,-31.81439660859307,-31.81434027785148,-31.81429434468795,-31.81429169178455,-31.81420767463152,-31.81394919889622,-31.81439717390363,-31.81432230857389,-31.8135457777316,-31.82401586475119,-31.82402821801069,-31.82400450902502,-31.82400258090139,-31.82417864772208,-31.82406166208574,-31.82414265894136,-31.82427841722326,-31.82414274552135,-31.82416289887374,-31.82414373469494,-31.82414175485055,-31.82429678566091,-31.8238198185718,-31.82470742057825,-31.8242299537138,-31.82369416405801,-31.82347585518145,-31.82372524293678,-31.79711445941102,-31.79711822124566,-31.79711822124567,-31.79711445941102,-31.79692113693582,-31.79707299441964,-31.79707639334401,-31.79701796869119,-31.79702180433045,-31.79695848151606,-31.7969572497282,-31.79698640377645,-31.79698932185287,-31.7946673883335,-31.79676259008081,-31.79676332889907,-31.79669029290958,-31.79664133173589,-31.79691654618838,-31.79658001770868,-31.79630852369076,-31.79620849056571,-31.79646472091715,-31.83039735327537,-31.83060476817275,-31.83020873465989,-31.83033573653752,-31.83038472086931,-31.83023391039609,-31.83047573335856,-31.83050151773064,-31.83051242847542,-31.83042950292597,-31.83048831452484,-31.83039290156244,-31.83042013524614,-31.83039529464335,-31.83041309005974,-31.83059039674292,-31.83062496370694,-31.83044919552612,-31.83055048589921,-31.83057537982879,-31.8306575917034,-31.83065965298827,-31.83079043292682,-31.83079112085596,-31.83079315668379,-31.83078775293374,-31.83079115492708,-31.83078777975723,-31.83079186264361,-31.84668336675156,-31.84590359767057,-31.84638920015648,-31.84633325480655,-31.84630620908671,-31.84642682355494,-31.84660379451255,-31.84534087718281,-31.84497134212882,-31.84520480790187,-31.84519057474693,-31.84696779013872,-31.84505951047444,-31.84518456887401,-31.84515103476856,-31.84510853881709,-31.84507695999562,-31.84512567428841,-31.84527487175123,-31.84487684093081,-31.84496527724279,-31.84505688510912,-31.84523158062051,-31.84538040931631,-31.84537004084413,-31.84537006574641,-31.84488600975254,-31.84485397635064,-31.84513430001038,-31.84466167779774,-31.84469149573804,-31.84472428455821,-31.84468823575176,-31.84538344253644,-31.84424690471754,-31.85109633797458,-31.85068649170797,-31.85278296339006,-31.85188710724418,-31.85210550561943,-31.8518872114326,-31.85182659388803,-31.85182616279369,-31.85182820538461,-31.85182506326957,-31.85189307872191,-31.85188320881234,-31.8518732548151,-31.85182222748639,-31.85198713829637,-31.85192250139609,-31.85189392826163,-31.85187442908764,-31.8518030858586,-31.8518024058948,-31.85180059356636,-31.85180195605045],\"legendgroup\":\"\",\"lon\":[116.0183374663027,116.0183259785979,116.0183161354075,116.0182529749383,116.0182086643162,116.0182128388363,116.018223361407,116.0182823408421,116.01821750659,116.0182474062873,116.0181813817572,116.0182631395714,116.0181961643027,116.0182334670006,116.0179055434116,116.0180953620699,116.0178051456259,116.0179865644773,116.0009142164415,116.000930932033,116.0009778539811,116.00092060426,116.0006048976215,116.0005802543637,116.0005190872192,116.0007722909438,116.0010150860718,116.0009461560145,116.0008411872399,116.0011891817338,116.0015213385211,116.0011641432193,116.0008309768264,116.0024406990624,116.0018976598281,116.0008501775059,116.0005857862165,116.0458851425753,116.0457670563354,116.0457670563353,116.0458851425753,116.0458175186144,116.0457592802574,116.0458562580698,116.0458650464963,116.0457701043378,116.0458575517662,116.0457695358829,116.0456561146581,116.0459678755513,116.0454319290855,116.0458568785181,116.0450705556765,116.0451148633962,116.0465802282568,116.0452797276304,116.045049160885,116.0451629606889,116.0452886782776,116.0458601290954,115.998939146043,115.9977318524493,115.9974576751721,115.9977420660818,115.997502299226,115.9974572459445,115.9977050969983,115.997777721079,115.997669167832,115.997431381974,115.9973518616014,115.9973090452622,115.9972816677781,115.9973045597328,115.9972807007919,115.9974222588125,115.9973755276259,115.9972085542997,115.9971975624587,115.9972416499528,115.9971742512736,115.997296680735,115.9971388569162,115.9971802611804,115.9972163578717,115.9972577899615,115.9973048744194,115.9973561509557,115.9974216940731,116.0086270958327,116.0076430354346,116.0075575103231,116.0077438974485,116.0059960349935,116.0046871040282,116.0047242747774,116.0049137333173,116.0049529458494,116.0046804703044,116.0046414836387,116.0066284586833,116.0060571495129,116.0063688107167,116.0063718225668,116.0063741620266,116.0063804564964,116.0066406806117,116.0070043014552,116.0073642354885,116.0073623012661,116.007341994294,116.0072570321877,116.007597008791,116.0075393399854,116.0076604504979,116.0068656915519,116.0066919339338,116.0072291966907,116.0072432872027,116.0072381097506,116.0072390830616,116.0074225863559,116.0124205441503,116.0066393647114,115.995810298809,115.9902290551793,115.9901750632805,115.9901520456193,115.9903190941192,115.9903556704859,115.9905306771903,115.9905475047897,115.9905655610603,115.9905862473149,115.9904467156551,115.9904835715709,115.990598423206,115.9903645411195,115.9877336890102,115.9889759412021,115.9908535353204,115.990901684718,115.9909205172935,115.9908668295001,115.9908006953241,115.9907526922321],\"marker\":{\"color\":[0,0,0,0,0,0,0,0,0,0,0,0,0,0,0,0,0,0,0,0,0,0,0,0,0,0,0,0,0,0,0,0,0,0,0,0,0,0,0,0,0,0,0,0,0,0,0,0,0,0,0,0,0,0,0,0,0,0,0,0,0,0,0,0,0,0,0,0,0,0,0,0,0,0,0,0,0,0,0,0,0,0,0,0,0,0,0,0,0,0,0,0,0,0,0,0,0,0,0,0,0,0,0,0,0,0,0,0,0,0,0,0,0,0,0,0,0,0,0,0,0,0,0,0,0,0,0,0,0,0,0,0,0,0,0,0,0,0,0,0,0,0,0,0,0,0],\"coloraxis\":\"coloraxis\"},\"mode\":\"markers\",\"name\":\"\",\"showlegend\":false,\"subplot\":\"mapbox\",\"type\":\"scattermapbox\"},{\"hovertemplate\":\"<b>%{hovertext}</b><br><br>lat=%{lat}<br>lon=%{lon}<extra></extra>\",\"hovertext\":[\"Sandalford Winery\",\"Nikola Estate\",\"Edgecombe Brothers\",\"Little River Winery and Caf\\u00e9\",\"Black Swan Winery and Restaurant\",\"Lancaster Wines\",\"Mandoon Estate\",\"Mandoon Vineyard\",\"Oakover Grounds\",\"Henley Park Winery\",\"Upper Reach Winery\",\"Mann Winery\",\"Harris Organic Wines and Spirits\",\"John Kosovich Wines\",\"Twin Hill Wines\",\"Olive Farm Wines\",\"Ali's Vineyard\",\"Talijancich\",\"Tyler's Vineyard\",\"Fig Tree Estate Winery\",\"Lamont's Winery\",\"Faber Vineyard\",\"Swan Valley Wines\",\"Windy Creek Estate\",\"Holy Mary Cellars\",\"Jarrah Ridge Wines\",\"Katgully Wines Cellar Door\",\"Sittella\",\"Ugly Duckling Wines\",\"Heafod Glen Winery\",\"Ambrook Wines\"],\"lat\":[-31.868701,-31.854112,-31.795187,-31.824124,-31.823404,-31.85226,-31.868266,-31.867594,-31.84508,-31.797776,-31.795033,-31.793688,-31.794595,-31.795346,-31.796729,-31.811995,-31.814194,-31.818507,-31.812921,-31.804387,-31.80323,-31.796771,-31.796915,-31.830487,-31.835658,-31.836499,-31.835449,-31.830083,-31.830502,-31.822945,-31.871998],\"legendgroup\":\"\",\"lon\":[115.992759,115.997995,115.998571,116.000888,116.00085,115.988887,115.994991,115.995494,116.007327,116.001641,116.008634,116.012546,116.02083,116.02076,116.020781,116.022232,116.01822,116.020341,116.040805,116.04003,116.037443,116.045655,116.048836,116.03056,116.021676,116.015532,116.021235,116.006851,115.997425,115.996817,115.981779],\"marker\":{\"color\":\"#636efa\"},\"mode\":\"markers\",\"name\":\"\",\"showlegend\":false,\"subplot\":\"mapbox\",\"type\":\"scattermapbox\"}],                        {\"template\":{\"data\":{\"histogram2dcontour\":[{\"type\":\"histogram2dcontour\",\"colorbar\":{\"outlinewidth\":0,\"ticks\":\"\"},\"colorscale\":[[0.0,\"#0d0887\"],[0.1111111111111111,\"#46039f\"],[0.2222222222222222,\"#7201a8\"],[0.3333333333333333,\"#9c179e\"],[0.4444444444444444,\"#bd3786\"],[0.5555555555555556,\"#d8576b\"],[0.6666666666666666,\"#ed7953\"],[0.7777777777777778,\"#fb9f3a\"],[0.8888888888888888,\"#fdca26\"],[1.0,\"#f0f921\"]]}],\"choropleth\":[{\"type\":\"choropleth\",\"colorbar\":{\"outlinewidth\":0,\"ticks\":\"\"}}],\"histogram2d\":[{\"type\":\"histogram2d\",\"colorbar\":{\"outlinewidth\":0,\"ticks\":\"\"},\"colorscale\":[[0.0,\"#0d0887\"],[0.1111111111111111,\"#46039f\"],[0.2222222222222222,\"#7201a8\"],[0.3333333333333333,\"#9c179e\"],[0.4444444444444444,\"#bd3786\"],[0.5555555555555556,\"#d8576b\"],[0.6666666666666666,\"#ed7953\"],[0.7777777777777778,\"#fb9f3a\"],[0.8888888888888888,\"#fdca26\"],[1.0,\"#f0f921\"]]}],\"heatmap\":[{\"type\":\"heatmap\",\"colorbar\":{\"outlinewidth\":0,\"ticks\":\"\"},\"colorscale\":[[0.0,\"#0d0887\"],[0.1111111111111111,\"#46039f\"],[0.2222222222222222,\"#7201a8\"],[0.3333333333333333,\"#9c179e\"],[0.4444444444444444,\"#bd3786\"],[0.5555555555555556,\"#d8576b\"],[0.6666666666666666,\"#ed7953\"],[0.7777777777777778,\"#fb9f3a\"],[0.8888888888888888,\"#fdca26\"],[1.0,\"#f0f921\"]]}],\"heatmapgl\":[{\"type\":\"heatmapgl\",\"colorbar\":{\"outlinewidth\":0,\"ticks\":\"\"},\"colorscale\":[[0.0,\"#0d0887\"],[0.1111111111111111,\"#46039f\"],[0.2222222222222222,\"#7201a8\"],[0.3333333333333333,\"#9c179e\"],[0.4444444444444444,\"#bd3786\"],[0.5555555555555556,\"#d8576b\"],[0.6666666666666666,\"#ed7953\"],[0.7777777777777778,\"#fb9f3a\"],[0.8888888888888888,\"#fdca26\"],[1.0,\"#f0f921\"]]}],\"contourcarpet\":[{\"type\":\"contourcarpet\",\"colorbar\":{\"outlinewidth\":0,\"ticks\":\"\"}}],\"contour\":[{\"type\":\"contour\",\"colorbar\":{\"outlinewidth\":0,\"ticks\":\"\"},\"colorscale\":[[0.0,\"#0d0887\"],[0.1111111111111111,\"#46039f\"],[0.2222222222222222,\"#7201a8\"],[0.3333333333333333,\"#9c179e\"],[0.4444444444444444,\"#bd3786\"],[0.5555555555555556,\"#d8576b\"],[0.6666666666666666,\"#ed7953\"],[0.7777777777777778,\"#fb9f3a\"],[0.8888888888888888,\"#fdca26\"],[1.0,\"#f0f921\"]]}],\"surface\":[{\"type\":\"surface\",\"colorbar\":{\"outlinewidth\":0,\"ticks\":\"\"},\"colorscale\":[[0.0,\"#0d0887\"],[0.1111111111111111,\"#46039f\"],[0.2222222222222222,\"#7201a8\"],[0.3333333333333333,\"#9c179e\"],[0.4444444444444444,\"#bd3786\"],[0.5555555555555556,\"#d8576b\"],[0.6666666666666666,\"#ed7953\"],[0.7777777777777778,\"#fb9f3a\"],[0.8888888888888888,\"#fdca26\"],[1.0,\"#f0f921\"]]}],\"mesh3d\":[{\"type\":\"mesh3d\",\"colorbar\":{\"outlinewidth\":0,\"ticks\":\"\"}}],\"scatter\":[{\"fillpattern\":{\"fillmode\":\"overlay\",\"size\":10,\"solidity\":0.2},\"type\":\"scatter\"}],\"parcoords\":[{\"type\":\"parcoords\",\"line\":{\"colorbar\":{\"outlinewidth\":0,\"ticks\":\"\"}}}],\"scatterpolargl\":[{\"type\":\"scatterpolargl\",\"marker\":{\"colorbar\":{\"outlinewidth\":0,\"ticks\":\"\"}}}],\"bar\":[{\"error_x\":{\"color\":\"#2a3f5f\"},\"error_y\":{\"color\":\"#2a3f5f\"},\"marker\":{\"line\":{\"color\":\"#E5ECF6\",\"width\":0.5},\"pattern\":{\"fillmode\":\"overlay\",\"size\":10,\"solidity\":0.2}},\"type\":\"bar\"}],\"scattergeo\":[{\"type\":\"scattergeo\",\"marker\":{\"colorbar\":{\"outlinewidth\":0,\"ticks\":\"\"}}}],\"scatterpolar\":[{\"type\":\"scatterpolar\",\"marker\":{\"colorbar\":{\"outlinewidth\":0,\"ticks\":\"\"}}}],\"histogram\":[{\"marker\":{\"pattern\":{\"fillmode\":\"overlay\",\"size\":10,\"solidity\":0.2}},\"type\":\"histogram\"}],\"scattergl\":[{\"type\":\"scattergl\",\"marker\":{\"colorbar\":{\"outlinewidth\":0,\"ticks\":\"\"}}}],\"scatter3d\":[{\"type\":\"scatter3d\",\"line\":{\"colorbar\":{\"outlinewidth\":0,\"ticks\":\"\"}},\"marker\":{\"colorbar\":{\"outlinewidth\":0,\"ticks\":\"\"}}}],\"scattermapbox\":[{\"type\":\"scattermapbox\",\"marker\":{\"colorbar\":{\"outlinewidth\":0,\"ticks\":\"\"}}}],\"scatterternary\":[{\"type\":\"scatterternary\",\"marker\":{\"colorbar\":{\"outlinewidth\":0,\"ticks\":\"\"}}}],\"scattercarpet\":[{\"type\":\"scattercarpet\",\"marker\":{\"colorbar\":{\"outlinewidth\":0,\"ticks\":\"\"}}}],\"carpet\":[{\"aaxis\":{\"endlinecolor\":\"#2a3f5f\",\"gridcolor\":\"white\",\"linecolor\":\"white\",\"minorgridcolor\":\"white\",\"startlinecolor\":\"#2a3f5f\"},\"baxis\":{\"endlinecolor\":\"#2a3f5f\",\"gridcolor\":\"white\",\"linecolor\":\"white\",\"minorgridcolor\":\"white\",\"startlinecolor\":\"#2a3f5f\"},\"type\":\"carpet\"}],\"table\":[{\"cells\":{\"fill\":{\"color\":\"#EBF0F8\"},\"line\":{\"color\":\"white\"}},\"header\":{\"fill\":{\"color\":\"#C8D4E3\"},\"line\":{\"color\":\"white\"}},\"type\":\"table\"}],\"barpolar\":[{\"marker\":{\"line\":{\"color\":\"#E5ECF6\",\"width\":0.5},\"pattern\":{\"fillmode\":\"overlay\",\"size\":10,\"solidity\":0.2}},\"type\":\"barpolar\"}],\"pie\":[{\"automargin\":true,\"type\":\"pie\"}]},\"layout\":{\"autotypenumbers\":\"strict\",\"colorway\":[\"#636efa\",\"#EF553B\",\"#00cc96\",\"#ab63fa\",\"#FFA15A\",\"#19d3f3\",\"#FF6692\",\"#B6E880\",\"#FF97FF\",\"#FECB52\"],\"font\":{\"color\":\"#2a3f5f\"},\"hovermode\":\"closest\",\"hoverlabel\":{\"align\":\"left\"},\"paper_bgcolor\":\"white\",\"plot_bgcolor\":\"#E5ECF6\",\"polar\":{\"bgcolor\":\"#E5ECF6\",\"angularaxis\":{\"gridcolor\":\"white\",\"linecolor\":\"white\",\"ticks\":\"\"},\"radialaxis\":{\"gridcolor\":\"white\",\"linecolor\":\"white\",\"ticks\":\"\"}},\"ternary\":{\"bgcolor\":\"#E5ECF6\",\"aaxis\":{\"gridcolor\":\"white\",\"linecolor\":\"white\",\"ticks\":\"\"},\"baxis\":{\"gridcolor\":\"white\",\"linecolor\":\"white\",\"ticks\":\"\"},\"caxis\":{\"gridcolor\":\"white\",\"linecolor\":\"white\",\"ticks\":\"\"}},\"coloraxis\":{\"colorbar\":{\"outlinewidth\":0,\"ticks\":\"\"}},\"colorscale\":{\"sequential\":[[0.0,\"#0d0887\"],[0.1111111111111111,\"#46039f\"],[0.2222222222222222,\"#7201a8\"],[0.3333333333333333,\"#9c179e\"],[0.4444444444444444,\"#bd3786\"],[0.5555555555555556,\"#d8576b\"],[0.6666666666666666,\"#ed7953\"],[0.7777777777777778,\"#fb9f3a\"],[0.8888888888888888,\"#fdca26\"],[1.0,\"#f0f921\"]],\"sequentialminus\":[[0.0,\"#0d0887\"],[0.1111111111111111,\"#46039f\"],[0.2222222222222222,\"#7201a8\"],[0.3333333333333333,\"#9c179e\"],[0.4444444444444444,\"#bd3786\"],[0.5555555555555556,\"#d8576b\"],[0.6666666666666666,\"#ed7953\"],[0.7777777777777778,\"#fb9f3a\"],[0.8888888888888888,\"#fdca26\"],[1.0,\"#f0f921\"]],\"diverging\":[[0,\"#8e0152\"],[0.1,\"#c51b7d\"],[0.2,\"#de77ae\"],[0.3,\"#f1b6da\"],[0.4,\"#fde0ef\"],[0.5,\"#f7f7f7\"],[0.6,\"#e6f5d0\"],[0.7,\"#b8e186\"],[0.8,\"#7fbc41\"],[0.9,\"#4d9221\"],[1,\"#276419\"]]},\"xaxis\":{\"gridcolor\":\"white\",\"linecolor\":\"white\",\"ticks\":\"\",\"title\":{\"standoff\":15},\"zerolinecolor\":\"white\",\"automargin\":true,\"zerolinewidth\":2},\"yaxis\":{\"gridcolor\":\"white\",\"linecolor\":\"white\",\"ticks\":\"\",\"title\":{\"standoff\":15},\"zerolinecolor\":\"white\",\"automargin\":true,\"zerolinewidth\":2},\"scene\":{\"xaxis\":{\"backgroundcolor\":\"#E5ECF6\",\"gridcolor\":\"white\",\"linecolor\":\"white\",\"showbackground\":true,\"ticks\":\"\",\"zerolinecolor\":\"white\",\"gridwidth\":2},\"yaxis\":{\"backgroundcolor\":\"#E5ECF6\",\"gridcolor\":\"white\",\"linecolor\":\"white\",\"showbackground\":true,\"ticks\":\"\",\"zerolinecolor\":\"white\",\"gridwidth\":2},\"zaxis\":{\"backgroundcolor\":\"#E5ECF6\",\"gridcolor\":\"white\",\"linecolor\":\"white\",\"showbackground\":true,\"ticks\":\"\",\"zerolinecolor\":\"white\",\"gridwidth\":2}},\"shapedefaults\":{\"line\":{\"color\":\"#2a3f5f\"}},\"annotationdefaults\":{\"arrowcolor\":\"#2a3f5f\",\"arrowhead\":0,\"arrowwidth\":1},\"geo\":{\"bgcolor\":\"white\",\"landcolor\":\"#E5ECF6\",\"subunitcolor\":\"white\",\"showland\":true,\"showlakes\":true,\"lakecolor\":\"white\"},\"title\":{\"x\":0.05},\"mapbox\":{\"style\":\"light\"}}},\"mapbox\":{\"domain\":{\"x\":[0.0,1.0],\"y\":[0.0,1.0]},\"center\":{\"lat\":-31.829142815097253,\"lon\":116.00928029017983},\"zoom\":8,\"style\":\"open-street-map\"},\"coloraxis\":{\"colorbar\":{\"title\":{\"text\":\"cluster\"}},\"colorscale\":[[0.0,\"#0d0887\"],[0.1111111111111111,\"#46039f\"],[0.2222222222222222,\"#7201a8\"],[0.3333333333333333,\"#9c179e\"],[0.4444444444444444,\"#bd3786\"],[0.5555555555555556,\"#d8576b\"],[0.6666666666666666,\"#ed7953\"],[0.7777777777777778,\"#fb9f3a\"],[0.8888888888888888,\"#fdca26\"],[1.0,\"#f0f921\"]]},\"legend\":{\"tracegroupgap\":0},\"margin\":{\"t\":0,\"r\":0,\"l\":0,\"b\":0}},                        {\"responsive\": true}                    ).then(function(){\n",
       "                            \n",
       "var gd = document.getElementById('9727857a-dcc5-4be8-84f0-c05360d8dd3a');\n",
       "var x = new MutationObserver(function (mutations, observer) {{\n",
       "        var display = window.getComputedStyle(gd).display;\n",
       "        if (!display || display === 'none') {{\n",
       "            console.log([gd, 'removed!']);\n",
       "            Plotly.purge(gd);\n",
       "            observer.disconnect();\n",
       "        }}\n",
       "}});\n",
       "\n",
       "// Listen for the removal of the full notebook cells\n",
       "var notebookContainer = gd.closest('#notebook-container');\n",
       "if (notebookContainer) {{\n",
       "    x.observe(notebookContainer, {childList: true});\n",
       "}}\n",
       "\n",
       "// Listen for the clearing of the current output cell\n",
       "var outputEl = gd.closest('.output');\n",
       "if (outputEl) {{\n",
       "    x.observe(outputEl, {childList: true});\n",
       "}}\n",
       "\n",
       "                        })                };                });            </script>        </div>"
      ]
     },
     "metadata": {},
     "output_type": "display_data"
    }
   ],
   "source": [
    "#Update relevant data\n",
    "obj_df = pd.read_csv(dataDir+'/obj_df.csv')\n",
    "\n",
    "gdf = geopandas.GeoDataFrame(\n",
    "    obj_df, geometry=geopandas.points_from_xy(obj_df.latitude, obj_df.longitude), crs=\"EPSG:4326\"\n",
    ")\n",
    "\n",
    "gdf_locs = geopandas.GeoDataFrame(\n",
    "    osm_df, geometry=geopandas.points_from_xy(osm_df.latitude, osm_df.longitude), crs=\"EPSG:4326\"\n",
    ")\n",
    "geo_df = gdf\n",
    "\n",
    "geo_locs = gdf_locs\n",
    "\n",
    "#Make the plots\n",
    "fig = px.scatter_mapbox(geo_df,\n",
    "                    lat=geo_df.geometry.y,\n",
    "                    lon=geo_df.geometry.x,\n",
    "                    color=\"cluster\",\n",
    "                    hover_name=\"object\",\n",
    "                    hover_data=[\"predicted_location_kmeans\"])\n",
    "\n",
    "fig2 = px.scatter_mapbox(geo_locs, \n",
    "                        lat = geo_locs.geometry.y,\n",
    "                        lon = geo_locs.geometry.x,\n",
    "                        hover_name=\"location\")\n",
    "\n",
    "fig.add_trace(fig2.data[0])\n",
    "\n",
    "fig.update_layout(\n",
    "    mapbox_style=\"open-street-map\")\n",
    "fig.update_layout(margin={\"r\":0,\"t\":0,\"l\":0,\"b\":0})\n",
    "fig.show()"
   ]
  },
  {
   "cell_type": "markdown",
   "id": "e903b96b",
   "metadata": {},
   "source": [
    "## DBSCAN"
   ]
  },
  {
   "cell_type": "markdown",
   "id": "0687cdab",
   "metadata": {},
   "source": [
    "## Epsilon == 10m, GroupSize == 3\n",
    "\n",
    "    True     134\n",
    "    False     12\n",
    "    \n",
    "     3    28\n",
    "     4    25\n",
    "     2    22\n",
    "     1    19\n",
    "     0    18\n",
    "     6    18\n",
    "    -1    12\n",
    "     5     4\n",
    "     \n",
    "All the 'misclustered' objects are those that were determined to be noise by the algorithm"
   ]
  },
  {
   "cell_type": "code",
   "execution_count": 111,
   "id": "38b71b42",
   "metadata": {},
   "outputs": [
    {
     "name": "stdout",
     "output_type": "stream",
     "text": [
      "           object    latitude  longitude    true_location size color shape  \\\n",
      "0       palm_tree  116.018337 -31.814452    Alis_Vineyard  NaN   NaN   NaN   \n",
      "1       palm_tree  116.018326 -31.814519    Alis_Vineyard  NaN   NaN   NaN   \n",
      "2       palm_tree  116.018316 -31.814572    Alis_Vineyard  NaN   NaN   NaN   \n",
      "3       palm_tree  116.018253 -31.814581    Alis_Vineyard  NaN   NaN   NaN   \n",
      "4       palm_tree  116.018209 -31.814622    Alis_Vineyard  NaN   NaN   NaN   \n",
      "..            ...         ...        ...              ...  ...   ...   ...   \n",
      "141  picnic_table  115.990902 -31.851874  Lancaster_Wines  NaN   NaN   NaN   \n",
      "142  picnic_table  115.990921 -31.851803  Lancaster_Wines  NaN   NaN   NaN   \n",
      "143  picnic_table  115.990867 -31.851802  Lancaster_Wines  NaN   NaN   NaN   \n",
      "144  picnic_table  115.990801 -31.851801  Lancaster_Wines  NaN   NaN   NaN   \n",
      "145  picnic_table  115.990753 -31.851802  Lancaster_Wines  NaN   NaN   NaN   \n",
      "\n",
      "    species surface material type contents style length roof  cluster  \\\n",
      "0       NaN     NaN      NaN  NaN      NaN   NaN    NaN  NaN        0   \n",
      "1       NaN     NaN      NaN  NaN      NaN   NaN    NaN  NaN        0   \n",
      "2       NaN     NaN      NaN  NaN      NaN   NaN    NaN  NaN        0   \n",
      "3       NaN     NaN      NaN  NaN      NaN   NaN    NaN  NaN        0   \n",
      "4       NaN     NaN      NaN  NaN      NaN   NaN    NaN  NaN        0   \n",
      "..      ...     ...      ...  ...      ...   ...    ...  ...      ...   \n",
      "141     NaN     NaN      NaN  NaN      NaN   NaN    NaN  NaN        6   \n",
      "142     NaN     NaN      NaN  NaN      NaN   NaN    NaN  NaN        6   \n",
      "143     NaN     NaN      NaN  NaN      NaN   NaN    NaN  NaN        6   \n",
      "144     NaN     NaN      NaN  NaN      NaN   NaN    NaN  NaN        6   \n",
      "145     NaN     NaN      NaN  NaN      NaN   NaN    NaN  NaN        6   \n",
      "\n",
      "    predicted_location_dbscan  dbscan_correct                     geometry  \n",
      "0              Ali's Vineyard            True  POINT (116.01834 -31.81445)  \n",
      "1              Ali's Vineyard            True  POINT (116.01833 -31.81452)  \n",
      "2              Ali's Vineyard            True  POINT (116.01832 -31.81457)  \n",
      "3              Ali's Vineyard            True  POINT (116.01825 -31.81458)  \n",
      "4              Ali's Vineyard            True  POINT (116.01821 -31.81462)  \n",
      "..                        ...             ...                          ...  \n",
      "141           Lancaster Wines            True  POINT (115.99090 -31.85187)  \n",
      "142           Lancaster Wines            True  POINT (115.99092 -31.85180)  \n",
      "143           Lancaster Wines            True  POINT (115.99087 -31.85180)  \n",
      "144           Lancaster Wines            True  POINT (115.99080 -31.85180)  \n",
      "145           Lancaster Wines            True  POINT (115.99075 -31.85180)  \n",
      "\n",
      "[146 rows x 19 columns]\n"
     ]
    },
    {
     "data": {
      "application/vnd.plotly.v1+json": {
       "config": {
        "plotlyServerURL": "https://plot.ly"
       },
       "data": [
        {
         "customdata": [
          [
           "Ali's Vineyard"
          ],
          [
           "Ali's Vineyard"
          ],
          [
           "Ali's Vineyard"
          ],
          [
           "Ali's Vineyard"
          ],
          [
           "Ali's Vineyard"
          ],
          [
           "Ali's Vineyard"
          ],
          [
           "Ali's Vineyard"
          ],
          [
           "Ali's Vineyard"
          ],
          [
           "Ali's Vineyard"
          ],
          [
           "Ali's Vineyard"
          ],
          [
           "Ali's Vineyard"
          ],
          [
           "Ali's Vineyard"
          ],
          [
           "Ali's Vineyard"
          ],
          [
           "Ali's Vineyard"
          ],
          [
           "Ali's Vineyard"
          ],
          [
           "Ali's Vineyard"
          ],
          [
           "Ali's Vineyard"
          ],
          [
           "Ali's Vineyard"
          ],
          [
           "Little River Winery and Café"
          ],
          [
           "Little River Winery and Café"
          ],
          [
           "Little River Winery and Café"
          ],
          [
           "Little River Winery and Café"
          ],
          [
           "Little River Winery and Café"
          ],
          [
           "Little River Winery and Café"
          ],
          [
           "Little River Winery and Café"
          ],
          [
           "Little River Winery and Café"
          ],
          [
           "Little River Winery and Café"
          ],
          [
           "Little River Winery and Café"
          ],
          [
           "Little River Winery and Café"
          ],
          [
           "Little River Winery and Café"
          ],
          [
           "Little River Winery and Café"
          ],
          [
           "Little River Winery and Café"
          ],
          [
           "Little River Winery and Café"
          ],
          [
           "Little River Winery and Café"
          ],
          [
           "Little River Winery and Café"
          ],
          [
           "Little River Winery and Café"
          ],
          [
           "Little River Winery and Café"
          ],
          [
           "Faber Vineyard"
          ],
          [
           "Faber Vineyard"
          ],
          [
           "Faber Vineyard"
          ],
          [
           "Faber Vineyard"
          ],
          [
           "Faber Vineyard"
          ],
          [
           "Faber Vineyard"
          ],
          [
           "Faber Vineyard"
          ],
          [
           "Faber Vineyard"
          ],
          [
           "Faber Vineyard"
          ],
          [
           "Faber Vineyard"
          ],
          [
           "Faber Vineyard"
          ],
          [
           "Faber Vineyard"
          ],
          [
           "Faber Vineyard"
          ],
          [
           null
          ],
          [
           "Faber Vineyard"
          ],
          [
           "Faber Vineyard"
          ],
          [
           "Faber Vineyard"
          ],
          [
           "Faber Vineyard"
          ],
          [
           "Faber Vineyard"
          ],
          [
           "Faber Vineyard"
          ],
          [
           "Faber Vineyard"
          ],
          [
           "Faber Vineyard"
          ],
          [
           "Faber Vineyard"
          ],
          [
           null
          ],
          [
           "Ugly Duckling Wines"
          ],
          [
           "Ugly Duckling Wines"
          ],
          [
           "Ugly Duckling Wines"
          ],
          [
           "Ugly Duckling Wines"
          ],
          [
           "Ugly Duckling Wines"
          ],
          [
           "Ugly Duckling Wines"
          ],
          [
           "Ugly Duckling Wines"
          ],
          [
           "Ugly Duckling Wines"
          ],
          [
           "Ugly Duckling Wines"
          ],
          [
           "Ugly Duckling Wines"
          ],
          [
           "Ugly Duckling Wines"
          ],
          [
           "Ugly Duckling Wines"
          ],
          [
           "Ugly Duckling Wines"
          ],
          [
           "Ugly Duckling Wines"
          ],
          [
           "Ugly Duckling Wines"
          ],
          [
           "Ugly Duckling Wines"
          ],
          [
           "Ugly Duckling Wines"
          ],
          [
           "Ugly Duckling Wines"
          ],
          [
           "Ugly Duckling Wines"
          ],
          [
           "Ugly Duckling Wines"
          ],
          [
           "Ugly Duckling Wines"
          ],
          [
           "Ugly Duckling Wines"
          ],
          [
           "Ugly Duckling Wines"
          ],
          [
           "Ugly Duckling Wines"
          ],
          [
           "Ugly Duckling Wines"
          ],
          [
           "Ugly Duckling Wines"
          ],
          [
           "Ugly Duckling Wines"
          ],
          [
           "Ugly Duckling Wines"
          ],
          [
           null
          ],
          [
           "Oakover Grounds"
          ],
          [
           "Oakover Grounds"
          ],
          [
           "Oakover Grounds"
          ],
          [
           null
          ],
          [
           null
          ],
          [
           null
          ],
          [
           "Oakover Grounds"
          ],
          [
           "Oakover Grounds"
          ],
          [
           "Oakover Grounds"
          ],
          [
           "Oakover Grounds"
          ],
          [
           null
          ],
          [
           "Oakover Grounds"
          ],
          [
           "Oakover Grounds"
          ],
          [
           "Oakover Grounds"
          ],
          [
           "Oakover Grounds"
          ],
          [
           "Oakover Grounds"
          ],
          [
           "Oakover Grounds"
          ],
          [
           "Oakover Grounds"
          ],
          [
           "Oakover Grounds"
          ],
          [
           "Oakover Grounds"
          ],
          [
           "Oakover Grounds"
          ],
          [
           "Oakover Grounds"
          ],
          [
           "Oakover Grounds"
          ],
          [
           "Oakover Grounds"
          ],
          [
           "Oakover Grounds"
          ],
          [
           "Oakover Grounds"
          ],
          [
           "Oakover Grounds"
          ],
          [
           "Oakover Grounds"
          ],
          [
           "Oakover Grounds"
          ],
          [
           "Oakover Grounds"
          ],
          [
           "Oakover Grounds"
          ],
          [
           "Oakover Grounds"
          ],
          [
           null
          ],
          [
           "Oakover Grounds"
          ],
          [
           null
          ],
          [
           null
          ],
          [
           "Lancaster Wines"
          ],
          [
           "Lancaster Wines"
          ],
          [
           "Lancaster Wines"
          ],
          [
           "Lancaster Wines"
          ],
          [
           "Lancaster Wines"
          ],
          [
           "Lancaster Wines"
          ],
          [
           "Lancaster Wines"
          ],
          [
           "Lancaster Wines"
          ],
          [
           "Lancaster Wines"
          ],
          [
           "Lancaster Wines"
          ],
          [
           "Lancaster Wines"
          ],
          [
           "Lancaster Wines"
          ],
          [
           null
          ],
          [
           null
          ],
          [
           "Lancaster Wines"
          ],
          [
           "Lancaster Wines"
          ],
          [
           "Lancaster Wines"
          ],
          [
           "Lancaster Wines"
          ],
          [
           "Lancaster Wines"
          ],
          [
           "Lancaster Wines"
          ]
         ],
         "hovertemplate": "<b>%{hovertext}</b><br><br>lat=%{lat}<br>lon=%{lon}<br>predicted_location_dbscan=%{customdata[0]}<br>cluster=%{marker.color}<extra></extra>",
         "hovertext": [
          "palm_tree",
          "palm_tree",
          "palm_tree",
          "palm_tree",
          "palm_tree",
          "palm_tree",
          "palm_tree",
          "palm_tree",
          "palm_tree",
          "palm_tree",
          "palm_tree",
          "palm_tree",
          "pizza_oven",
          "air_conditioner",
          "building",
          "shed",
          "shed",
          "shed",
          "picnic_bench",
          "picnic_bench",
          "planter",
          "planter",
          "building",
          "parking_lot",
          "patio",
          "water_tank",
          "air_conitioner",
          "patio",
          "building",
          "shed",
          "building",
          "building",
          "vineyard",
          "vineyard",
          "vineyard",
          "building",
          "parking_lot",
          "retaining_wall",
          "retaining_wall",
          "sign",
          "sign",
          "sign",
          "tree",
          "tree",
          "tree",
          "tree",
          "tree",
          "tree",
          "parking_lot",
          "vineyard",
          "vineyard",
          "building",
          "shed",
          "solar_panel",
          "building",
          "parking_lot",
          "shed",
          "building",
          "swimming_pool",
          "courtyard",
          "vineyard",
          "vineyard",
          "generator",
          "parking_lot",
          "carport",
          "bicycle_rack",
          "shed",
          "sculpture",
          "patio",
          "patio",
          "shed",
          "picnic_table",
          "picnic_table",
          "picnic_umbrella",
          "picnic_umbrella",
          "picnic_umbrella",
          "picnic_umbrella",
          "picnic_table",
          "picnic_table",
          "shed",
          "shed",
          "shed",
          "tree",
          "tree",
          "tree",
          "tree",
          "tree",
          "tree",
          "tree",
          "building",
          "pond",
          "bridge",
          "island",
          "vineyard",
          "swimming_pool",
          "building",
          "building",
          "tennis_court",
          "swimming_pool",
          "shade_cloth",
          "sign",
          "warehouse",
          "vat",
          "vat",
          "vat",
          "vat",
          "building",
          "parking_lot",
          "solar_panels",
          "solar_panels",
          "building",
          "fence",
          "jetty",
          "picnic_table",
          "picnic_table",
          "tank",
          "tank",
          "shed",
          "shipping_container",
          "shipping_container",
          "shipping_container",
          "shipping_container",
          "vineyard",
          "vineyard",
          "river",
          "vineyard",
          "vineyard",
          "parking_lot",
          "shed",
          "sign",
          "table",
          "table",
          "table",
          "table",
          "wine_barrell",
          "counter",
          "shed",
          "fence",
          "sign",
          "driveway",
          "picnic_table",
          "picnic_table",
          "picnic_table",
          "picnic_table",
          "picnic_table",
          "picnic_table"
         ],
         "lat": [
          -31.81445187554597,
          -31.81451940926452,
          -31.8145718117269,
          -31.81458084078105,
          -31.81462157655873,
          -31.81454971676524,
          -31.81448193361258,
          -31.81444773977627,
          -31.8143890181285,
          -31.81439660859307,
          -31.81434027785148,
          -31.81429434468795,
          -31.81429169178455,
          -31.81420767463152,
          -31.81394919889622,
          -31.81439717390363,
          -31.81432230857389,
          -31.8135457777316,
          -31.82401586475119,
          -31.82402821801069,
          -31.82400450902502,
          -31.82400258090139,
          -31.82417864772208,
          -31.82406166208574,
          -31.82414265894136,
          -31.82427841722326,
          -31.82414274552135,
          -31.82416289887374,
          -31.82414373469494,
          -31.82414175485055,
          -31.82429678566091,
          -31.8238198185718,
          -31.82470742057825,
          -31.8242299537138,
          -31.82369416405801,
          -31.82347585518145,
          -31.82372524293678,
          -31.79711445941102,
          -31.79711822124566,
          -31.79711822124567,
          -31.79711445941102,
          -31.79692113693582,
          -31.79707299441964,
          -31.79707639334401,
          -31.79701796869119,
          -31.79702180433045,
          -31.79695848151606,
          -31.7969572497282,
          -31.79698640377645,
          -31.79698932185287,
          -31.7946673883335,
          -31.79676259008081,
          -31.79676332889907,
          -31.79669029290958,
          -31.79664133173589,
          -31.79691654618838,
          -31.79658001770868,
          -31.79630852369076,
          -31.79620849056571,
          -31.79646472091715,
          -31.83039735327537,
          -31.83060476817275,
          -31.83020873465989,
          -31.83033573653752,
          -31.83038472086931,
          -31.83023391039609,
          -31.83047573335856,
          -31.83050151773064,
          -31.83051242847542,
          -31.83042950292597,
          -31.83048831452484,
          -31.83039290156244,
          -31.83042013524614,
          -31.83039529464335,
          -31.83041309005974,
          -31.83059039674292,
          -31.83062496370694,
          -31.83044919552612,
          -31.83055048589921,
          -31.83057537982879,
          -31.8306575917034,
          -31.83065965298827,
          -31.83079043292682,
          -31.83079112085596,
          -31.83079315668379,
          -31.83078775293374,
          -31.83079115492708,
          -31.83078777975723,
          -31.83079186264361,
          -31.84668336675156,
          -31.84590359767057,
          -31.84638920015648,
          -31.84633325480655,
          -31.84630620908671,
          -31.84642682355494,
          -31.84660379451255,
          -31.84534087718281,
          -31.84497134212882,
          -31.84520480790187,
          -31.84519057474693,
          -31.84696779013872,
          -31.84505951047444,
          -31.84518456887401,
          -31.84515103476856,
          -31.84510853881709,
          -31.84507695999562,
          -31.84512567428841,
          -31.84527487175123,
          -31.84487684093081,
          -31.84496527724279,
          -31.84505688510912,
          -31.84523158062051,
          -31.84538040931631,
          -31.84537004084413,
          -31.84537006574641,
          -31.84488600975254,
          -31.84485397635064,
          -31.84513430001038,
          -31.84466167779774,
          -31.84469149573804,
          -31.84472428455821,
          -31.84468823575176,
          -31.84538344253644,
          -31.84424690471754,
          -31.85109633797458,
          -31.85068649170797,
          -31.85278296339006,
          -31.85188710724418,
          -31.85210550561943,
          -31.8518872114326,
          -31.85182659388803,
          -31.85182616279369,
          -31.85182820538461,
          -31.85182506326957,
          -31.85189307872191,
          -31.85188320881234,
          -31.8518732548151,
          -31.85182222748639,
          -31.85198713829637,
          -31.85192250139609,
          -31.85189392826163,
          -31.85187442908764,
          -31.8518030858586,
          -31.8518024058948,
          -31.85180059356636,
          -31.85180195605045
         ],
         "legendgroup": "",
         "lon": [
          116.0183374663027,
          116.0183259785979,
          116.0183161354075,
          116.0182529749383,
          116.0182086643162,
          116.0182128388363,
          116.018223361407,
          116.0182823408421,
          116.01821750659,
          116.0182474062873,
          116.0181813817572,
          116.0182631395714,
          116.0181961643027,
          116.0182334670006,
          116.0179055434116,
          116.0180953620699,
          116.0178051456259,
          116.0179865644773,
          116.0009142164415,
          116.000930932033,
          116.0009778539811,
          116.00092060426,
          116.0006048976215,
          116.0005802543637,
          116.0005190872192,
          116.0007722909438,
          116.0010150860718,
          116.0009461560145,
          116.0008411872399,
          116.0011891817338,
          116.0015213385211,
          116.0011641432193,
          116.0008309768264,
          116.0024406990624,
          116.0018976598281,
          116.0008501775059,
          116.0005857862165,
          116.0458851425753,
          116.0457670563354,
          116.0457670563353,
          116.0458851425753,
          116.0458175186144,
          116.0457592802574,
          116.0458562580698,
          116.0458650464963,
          116.0457701043378,
          116.0458575517662,
          116.0457695358829,
          116.0456561146581,
          116.0459678755513,
          116.0454319290855,
          116.0458568785181,
          116.0450705556765,
          116.0451148633962,
          116.0465802282568,
          116.0452797276304,
          116.045049160885,
          116.0451629606889,
          116.0452886782776,
          116.0458601290954,
          115.998939146043,
          115.9977318524493,
          115.9974576751721,
          115.9977420660818,
          115.997502299226,
          115.9974572459445,
          115.9977050969983,
          115.997777721079,
          115.997669167832,
          115.997431381974,
          115.9973518616014,
          115.9973090452622,
          115.9972816677781,
          115.9973045597328,
          115.9972807007919,
          115.9974222588125,
          115.9973755276259,
          115.9972085542997,
          115.9971975624587,
          115.9972416499528,
          115.9971742512736,
          115.997296680735,
          115.9971388569162,
          115.9971802611804,
          115.9972163578717,
          115.9972577899615,
          115.9973048744194,
          115.9973561509557,
          115.9974216940731,
          116.0086270958327,
          116.0076430354346,
          116.0075575103231,
          116.0077438974485,
          116.0059960349935,
          116.0046871040282,
          116.0047242747774,
          116.0049137333173,
          116.0049529458494,
          116.0046804703044,
          116.0046414836387,
          116.0066284586833,
          116.0060571495129,
          116.0063688107167,
          116.0063718225668,
          116.0063741620266,
          116.0063804564964,
          116.0066406806117,
          116.0070043014552,
          116.0073642354885,
          116.0073623012661,
          116.007341994294,
          116.0072570321877,
          116.007597008791,
          116.0075393399854,
          116.0076604504979,
          116.0068656915519,
          116.0066919339338,
          116.0072291966907,
          116.0072432872027,
          116.0072381097506,
          116.0072390830616,
          116.0074225863559,
          116.0124205441503,
          116.0066393647114,
          115.995810298809,
          115.9902290551793,
          115.9901750632805,
          115.9901520456193,
          115.9903190941192,
          115.9903556704859,
          115.9905306771903,
          115.9905475047897,
          115.9905655610603,
          115.9905862473149,
          115.9904467156551,
          115.9904835715709,
          115.990598423206,
          115.9903645411195,
          115.9877336890102,
          115.9889759412021,
          115.9908535353204,
          115.990901684718,
          115.9909205172935,
          115.9908668295001,
          115.9908006953241,
          115.9907526922321
         ],
         "marker": {
          "color": [
           0,
           0,
           0,
           0,
           0,
           0,
           0,
           0,
           0,
           0,
           0,
           0,
           0,
           0,
           0,
           0,
           0,
           0,
           1,
           1,
           1,
           1,
           1,
           1,
           1,
           1,
           1,
           1,
           1,
           1,
           1,
           1,
           1,
           1,
           1,
           1,
           1,
           2,
           2,
           2,
           2,
           2,
           2,
           2,
           2,
           2,
           2,
           2,
           2,
           2,
           -1,
           2,
           2,
           2,
           2,
           2,
           2,
           2,
           2,
           2,
           -1,
           3,
           3,
           3,
           3,
           3,
           3,
           3,
           3,
           3,
           3,
           3,
           3,
           3,
           3,
           3,
           3,
           3,
           3,
           3,
           3,
           3,
           3,
           3,
           3,
           3,
           3,
           3,
           3,
           -1,
           4,
           4,
           4,
           -1,
           -1,
           -1,
           5,
           5,
           5,
           5,
           -1,
           4,
           4,
           4,
           4,
           4,
           4,
           4,
           4,
           4,
           4,
           4,
           4,
           4,
           4,
           4,
           4,
           4,
           4,
           4,
           4,
           4,
           -1,
           4,
           -1,
           -1,
           6,
           6,
           6,
           6,
           6,
           6,
           6,
           6,
           6,
           6,
           6,
           6,
           -1,
           -1,
           6,
           6,
           6,
           6,
           6,
           6
          ],
          "coloraxis": "coloraxis"
         },
         "mode": "markers",
         "name": "",
         "showlegend": false,
         "subplot": "mapbox",
         "type": "scattermapbox"
        },
        {
         "hovertemplate": "<b>%{hovertext}</b><br><br>lat=%{lat}<br>lon=%{lon}<extra></extra>",
         "hovertext": [
          "Sandalford Winery",
          "Nikola Estate",
          "Edgecombe Brothers",
          "Little River Winery and Café",
          "Black Swan Winery and Restaurant",
          "Lancaster Wines",
          "Mandoon Estate",
          "Mandoon Vineyard",
          "Oakover Grounds",
          "Henley Park Winery",
          "Upper Reach Winery",
          "Mann Winery",
          "Harris Organic Wines and Spirits",
          "John Kosovich Wines",
          "Twin Hill Wines",
          "Olive Farm Wines",
          "Ali's Vineyard",
          "Talijancich",
          "Tyler's Vineyard",
          "Fig Tree Estate Winery",
          "Lamont's Winery",
          "Faber Vineyard",
          "Swan Valley Wines",
          "Windy Creek Estate",
          "Holy Mary Cellars",
          "Jarrah Ridge Wines",
          "Katgully Wines Cellar Door",
          "Sittella",
          "Ugly Duckling Wines",
          "Heafod Glen Winery",
          "Ambrook Wines"
         ],
         "lat": [
          -31.868701,
          -31.854112,
          -31.795187,
          -31.824124,
          -31.823404,
          -31.85226,
          -31.868266,
          -31.867594,
          -31.84508,
          -31.797776,
          -31.795033,
          -31.793688,
          -31.794595,
          -31.795346,
          -31.796729,
          -31.811995,
          -31.814194,
          -31.818507,
          -31.812921,
          -31.804387,
          -31.80323,
          -31.796771,
          -31.796915,
          -31.830487,
          -31.835658,
          -31.836499,
          -31.835449,
          -31.830083,
          -31.830502,
          -31.822945,
          -31.871998
         ],
         "legendgroup": "",
         "lon": [
          115.992759,
          115.997995,
          115.998571,
          116.000888,
          116.00085,
          115.988887,
          115.994991,
          115.995494,
          116.007327,
          116.001641,
          116.008634,
          116.012546,
          116.02083,
          116.02076,
          116.020781,
          116.022232,
          116.01822,
          116.020341,
          116.040805,
          116.04003,
          116.037443,
          116.045655,
          116.048836,
          116.03056,
          116.021676,
          116.015532,
          116.021235,
          116.006851,
          115.997425,
          115.996817,
          115.981779
         ],
         "marker": {
          "color": "#636efa"
         },
         "mode": "markers",
         "name": "",
         "showlegend": false,
         "subplot": "mapbox",
         "type": "scattermapbox"
        }
       ],
       "layout": {
        "coloraxis": {
         "colorbar": {
          "title": {
           "text": "cluster"
          }
         },
         "colorscale": [
          [
           0,
           "#0d0887"
          ],
          [
           0.1111111111111111,
           "#46039f"
          ],
          [
           0.2222222222222222,
           "#7201a8"
          ],
          [
           0.3333333333333333,
           "#9c179e"
          ],
          [
           0.4444444444444444,
           "#bd3786"
          ],
          [
           0.5555555555555556,
           "#d8576b"
          ],
          [
           0.6666666666666666,
           "#ed7953"
          ],
          [
           0.7777777777777778,
           "#fb9f3a"
          ],
          [
           0.8888888888888888,
           "#fdca26"
          ],
          [
           1,
           "#f0f921"
          ]
         ]
        },
        "legend": {
         "tracegroupgap": 0
        },
        "mapbox": {
         "center": {
          "lat": -31.829142815097253,
          "lon": 116.00928029017983
         },
         "domain": {
          "x": [
           0,
           1
          ],
          "y": [
           0,
           1
          ]
         },
         "style": "open-street-map",
         "zoom": 8
        },
        "margin": {
         "b": 0,
         "l": 0,
         "r": 0,
         "t": 0
        },
        "template": {
         "data": {
          "bar": [
           {
            "error_x": {
             "color": "#2a3f5f"
            },
            "error_y": {
             "color": "#2a3f5f"
            },
            "marker": {
             "line": {
              "color": "#E5ECF6",
              "width": 0.5
             },
             "pattern": {
              "fillmode": "overlay",
              "size": 10,
              "solidity": 0.2
             }
            },
            "type": "bar"
           }
          ],
          "barpolar": [
           {
            "marker": {
             "line": {
              "color": "#E5ECF6",
              "width": 0.5
             },
             "pattern": {
              "fillmode": "overlay",
              "size": 10,
              "solidity": 0.2
             }
            },
            "type": "barpolar"
           }
          ],
          "carpet": [
           {
            "aaxis": {
             "endlinecolor": "#2a3f5f",
             "gridcolor": "white",
             "linecolor": "white",
             "minorgridcolor": "white",
             "startlinecolor": "#2a3f5f"
            },
            "baxis": {
             "endlinecolor": "#2a3f5f",
             "gridcolor": "white",
             "linecolor": "white",
             "minorgridcolor": "white",
             "startlinecolor": "#2a3f5f"
            },
            "type": "carpet"
           }
          ],
          "choropleth": [
           {
            "colorbar": {
             "outlinewidth": 0,
             "ticks": ""
            },
            "type": "choropleth"
           }
          ],
          "contour": [
           {
            "colorbar": {
             "outlinewidth": 0,
             "ticks": ""
            },
            "colorscale": [
             [
              0,
              "#0d0887"
             ],
             [
              0.1111111111111111,
              "#46039f"
             ],
             [
              0.2222222222222222,
              "#7201a8"
             ],
             [
              0.3333333333333333,
              "#9c179e"
             ],
             [
              0.4444444444444444,
              "#bd3786"
             ],
             [
              0.5555555555555556,
              "#d8576b"
             ],
             [
              0.6666666666666666,
              "#ed7953"
             ],
             [
              0.7777777777777778,
              "#fb9f3a"
             ],
             [
              0.8888888888888888,
              "#fdca26"
             ],
             [
              1,
              "#f0f921"
             ]
            ],
            "type": "contour"
           }
          ],
          "contourcarpet": [
           {
            "colorbar": {
             "outlinewidth": 0,
             "ticks": ""
            },
            "type": "contourcarpet"
           }
          ],
          "heatmap": [
           {
            "colorbar": {
             "outlinewidth": 0,
             "ticks": ""
            },
            "colorscale": [
             [
              0,
              "#0d0887"
             ],
             [
              0.1111111111111111,
              "#46039f"
             ],
             [
              0.2222222222222222,
              "#7201a8"
             ],
             [
              0.3333333333333333,
              "#9c179e"
             ],
             [
              0.4444444444444444,
              "#bd3786"
             ],
             [
              0.5555555555555556,
              "#d8576b"
             ],
             [
              0.6666666666666666,
              "#ed7953"
             ],
             [
              0.7777777777777778,
              "#fb9f3a"
             ],
             [
              0.8888888888888888,
              "#fdca26"
             ],
             [
              1,
              "#f0f921"
             ]
            ],
            "type": "heatmap"
           }
          ],
          "heatmapgl": [
           {
            "colorbar": {
             "outlinewidth": 0,
             "ticks": ""
            },
            "colorscale": [
             [
              0,
              "#0d0887"
             ],
             [
              0.1111111111111111,
              "#46039f"
             ],
             [
              0.2222222222222222,
              "#7201a8"
             ],
             [
              0.3333333333333333,
              "#9c179e"
             ],
             [
              0.4444444444444444,
              "#bd3786"
             ],
             [
              0.5555555555555556,
              "#d8576b"
             ],
             [
              0.6666666666666666,
              "#ed7953"
             ],
             [
              0.7777777777777778,
              "#fb9f3a"
             ],
             [
              0.8888888888888888,
              "#fdca26"
             ],
             [
              1,
              "#f0f921"
             ]
            ],
            "type": "heatmapgl"
           }
          ],
          "histogram": [
           {
            "marker": {
             "pattern": {
              "fillmode": "overlay",
              "size": 10,
              "solidity": 0.2
             }
            },
            "type": "histogram"
           }
          ],
          "histogram2d": [
           {
            "colorbar": {
             "outlinewidth": 0,
             "ticks": ""
            },
            "colorscale": [
             [
              0,
              "#0d0887"
             ],
             [
              0.1111111111111111,
              "#46039f"
             ],
             [
              0.2222222222222222,
              "#7201a8"
             ],
             [
              0.3333333333333333,
              "#9c179e"
             ],
             [
              0.4444444444444444,
              "#bd3786"
             ],
             [
              0.5555555555555556,
              "#d8576b"
             ],
             [
              0.6666666666666666,
              "#ed7953"
             ],
             [
              0.7777777777777778,
              "#fb9f3a"
             ],
             [
              0.8888888888888888,
              "#fdca26"
             ],
             [
              1,
              "#f0f921"
             ]
            ],
            "type": "histogram2d"
           }
          ],
          "histogram2dcontour": [
           {
            "colorbar": {
             "outlinewidth": 0,
             "ticks": ""
            },
            "colorscale": [
             [
              0,
              "#0d0887"
             ],
             [
              0.1111111111111111,
              "#46039f"
             ],
             [
              0.2222222222222222,
              "#7201a8"
             ],
             [
              0.3333333333333333,
              "#9c179e"
             ],
             [
              0.4444444444444444,
              "#bd3786"
             ],
             [
              0.5555555555555556,
              "#d8576b"
             ],
             [
              0.6666666666666666,
              "#ed7953"
             ],
             [
              0.7777777777777778,
              "#fb9f3a"
             ],
             [
              0.8888888888888888,
              "#fdca26"
             ],
             [
              1,
              "#f0f921"
             ]
            ],
            "type": "histogram2dcontour"
           }
          ],
          "mesh3d": [
           {
            "colorbar": {
             "outlinewidth": 0,
             "ticks": ""
            },
            "type": "mesh3d"
           }
          ],
          "parcoords": [
           {
            "line": {
             "colorbar": {
              "outlinewidth": 0,
              "ticks": ""
             }
            },
            "type": "parcoords"
           }
          ],
          "pie": [
           {
            "automargin": true,
            "type": "pie"
           }
          ],
          "scatter": [
           {
            "fillpattern": {
             "fillmode": "overlay",
             "size": 10,
             "solidity": 0.2
            },
            "type": "scatter"
           }
          ],
          "scatter3d": [
           {
            "line": {
             "colorbar": {
              "outlinewidth": 0,
              "ticks": ""
             }
            },
            "marker": {
             "colorbar": {
              "outlinewidth": 0,
              "ticks": ""
             }
            },
            "type": "scatter3d"
           }
          ],
          "scattercarpet": [
           {
            "marker": {
             "colorbar": {
              "outlinewidth": 0,
              "ticks": ""
             }
            },
            "type": "scattercarpet"
           }
          ],
          "scattergeo": [
           {
            "marker": {
             "colorbar": {
              "outlinewidth": 0,
              "ticks": ""
             }
            },
            "type": "scattergeo"
           }
          ],
          "scattergl": [
           {
            "marker": {
             "colorbar": {
              "outlinewidth": 0,
              "ticks": ""
             }
            },
            "type": "scattergl"
           }
          ],
          "scattermapbox": [
           {
            "marker": {
             "colorbar": {
              "outlinewidth": 0,
              "ticks": ""
             }
            },
            "type": "scattermapbox"
           }
          ],
          "scatterpolar": [
           {
            "marker": {
             "colorbar": {
              "outlinewidth": 0,
              "ticks": ""
             }
            },
            "type": "scatterpolar"
           }
          ],
          "scatterpolargl": [
           {
            "marker": {
             "colorbar": {
              "outlinewidth": 0,
              "ticks": ""
             }
            },
            "type": "scatterpolargl"
           }
          ],
          "scatterternary": [
           {
            "marker": {
             "colorbar": {
              "outlinewidth": 0,
              "ticks": ""
             }
            },
            "type": "scatterternary"
           }
          ],
          "surface": [
           {
            "colorbar": {
             "outlinewidth": 0,
             "ticks": ""
            },
            "colorscale": [
             [
              0,
              "#0d0887"
             ],
             [
              0.1111111111111111,
              "#46039f"
             ],
             [
              0.2222222222222222,
              "#7201a8"
             ],
             [
              0.3333333333333333,
              "#9c179e"
             ],
             [
              0.4444444444444444,
              "#bd3786"
             ],
             [
              0.5555555555555556,
              "#d8576b"
             ],
             [
              0.6666666666666666,
              "#ed7953"
             ],
             [
              0.7777777777777778,
              "#fb9f3a"
             ],
             [
              0.8888888888888888,
              "#fdca26"
             ],
             [
              1,
              "#f0f921"
             ]
            ],
            "type": "surface"
           }
          ],
          "table": [
           {
            "cells": {
             "fill": {
              "color": "#EBF0F8"
             },
             "line": {
              "color": "white"
             }
            },
            "header": {
             "fill": {
              "color": "#C8D4E3"
             },
             "line": {
              "color": "white"
             }
            },
            "type": "table"
           }
          ]
         },
         "layout": {
          "annotationdefaults": {
           "arrowcolor": "#2a3f5f",
           "arrowhead": 0,
           "arrowwidth": 1
          },
          "autotypenumbers": "strict",
          "coloraxis": {
           "colorbar": {
            "outlinewidth": 0,
            "ticks": ""
           }
          },
          "colorscale": {
           "diverging": [
            [
             0,
             "#8e0152"
            ],
            [
             0.1,
             "#c51b7d"
            ],
            [
             0.2,
             "#de77ae"
            ],
            [
             0.3,
             "#f1b6da"
            ],
            [
             0.4,
             "#fde0ef"
            ],
            [
             0.5,
             "#f7f7f7"
            ],
            [
             0.6,
             "#e6f5d0"
            ],
            [
             0.7,
             "#b8e186"
            ],
            [
             0.8,
             "#7fbc41"
            ],
            [
             0.9,
             "#4d9221"
            ],
            [
             1,
             "#276419"
            ]
           ],
           "sequential": [
            [
             0,
             "#0d0887"
            ],
            [
             0.1111111111111111,
             "#46039f"
            ],
            [
             0.2222222222222222,
             "#7201a8"
            ],
            [
             0.3333333333333333,
             "#9c179e"
            ],
            [
             0.4444444444444444,
             "#bd3786"
            ],
            [
             0.5555555555555556,
             "#d8576b"
            ],
            [
             0.6666666666666666,
             "#ed7953"
            ],
            [
             0.7777777777777778,
             "#fb9f3a"
            ],
            [
             0.8888888888888888,
             "#fdca26"
            ],
            [
             1,
             "#f0f921"
            ]
           ],
           "sequentialminus": [
            [
             0,
             "#0d0887"
            ],
            [
             0.1111111111111111,
             "#46039f"
            ],
            [
             0.2222222222222222,
             "#7201a8"
            ],
            [
             0.3333333333333333,
             "#9c179e"
            ],
            [
             0.4444444444444444,
             "#bd3786"
            ],
            [
             0.5555555555555556,
             "#d8576b"
            ],
            [
             0.6666666666666666,
             "#ed7953"
            ],
            [
             0.7777777777777778,
             "#fb9f3a"
            ],
            [
             0.8888888888888888,
             "#fdca26"
            ],
            [
             1,
             "#f0f921"
            ]
           ]
          },
          "colorway": [
           "#636efa",
           "#EF553B",
           "#00cc96",
           "#ab63fa",
           "#FFA15A",
           "#19d3f3",
           "#FF6692",
           "#B6E880",
           "#FF97FF",
           "#FECB52"
          ],
          "font": {
           "color": "#2a3f5f"
          },
          "geo": {
           "bgcolor": "white",
           "lakecolor": "white",
           "landcolor": "#E5ECF6",
           "showlakes": true,
           "showland": true,
           "subunitcolor": "white"
          },
          "hoverlabel": {
           "align": "left"
          },
          "hovermode": "closest",
          "mapbox": {
           "style": "light"
          },
          "paper_bgcolor": "white",
          "plot_bgcolor": "#E5ECF6",
          "polar": {
           "angularaxis": {
            "gridcolor": "white",
            "linecolor": "white",
            "ticks": ""
           },
           "bgcolor": "#E5ECF6",
           "radialaxis": {
            "gridcolor": "white",
            "linecolor": "white",
            "ticks": ""
           }
          },
          "scene": {
           "xaxis": {
            "backgroundcolor": "#E5ECF6",
            "gridcolor": "white",
            "gridwidth": 2,
            "linecolor": "white",
            "showbackground": true,
            "ticks": "",
            "zerolinecolor": "white"
           },
           "yaxis": {
            "backgroundcolor": "#E5ECF6",
            "gridcolor": "white",
            "gridwidth": 2,
            "linecolor": "white",
            "showbackground": true,
            "ticks": "",
            "zerolinecolor": "white"
           },
           "zaxis": {
            "backgroundcolor": "#E5ECF6",
            "gridcolor": "white",
            "gridwidth": 2,
            "linecolor": "white",
            "showbackground": true,
            "ticks": "",
            "zerolinecolor": "white"
           }
          },
          "shapedefaults": {
           "line": {
            "color": "#2a3f5f"
           }
          },
          "ternary": {
           "aaxis": {
            "gridcolor": "white",
            "linecolor": "white",
            "ticks": ""
           },
           "baxis": {
            "gridcolor": "white",
            "linecolor": "white",
            "ticks": ""
           },
           "bgcolor": "#E5ECF6",
           "caxis": {
            "gridcolor": "white",
            "linecolor": "white",
            "ticks": ""
           }
          },
          "title": {
           "x": 0.05
          },
          "xaxis": {
           "automargin": true,
           "gridcolor": "white",
           "linecolor": "white",
           "ticks": "",
           "title": {
            "standoff": 15
           },
           "zerolinecolor": "white",
           "zerolinewidth": 2
          },
          "yaxis": {
           "automargin": true,
           "gridcolor": "white",
           "linecolor": "white",
           "ticks": "",
           "title": {
            "standoff": 15
           },
           "zerolinecolor": "white",
           "zerolinewidth": 2
          }
         }
        }
       }
      },
      "text/html": [
       "<div>                            <div id=\"5b76184f-9b12-4aba-b576-277b9553a964\" class=\"plotly-graph-div\" style=\"height:525px; width:100%;\"></div>            <script type=\"text/javascript\">                require([\"plotly\"], function(Plotly) {                    window.PLOTLYENV=window.PLOTLYENV || {};                                    if (document.getElementById(\"5b76184f-9b12-4aba-b576-277b9553a964\")) {                    Plotly.newPlot(                        \"5b76184f-9b12-4aba-b576-277b9553a964\",                        [{\"customdata\":[[\"Ali's Vineyard\"],[\"Ali's Vineyard\"],[\"Ali's Vineyard\"],[\"Ali's Vineyard\"],[\"Ali's Vineyard\"],[\"Ali's Vineyard\"],[\"Ali's Vineyard\"],[\"Ali's Vineyard\"],[\"Ali's Vineyard\"],[\"Ali's Vineyard\"],[\"Ali's Vineyard\"],[\"Ali's Vineyard\"],[\"Ali's Vineyard\"],[\"Ali's Vineyard\"],[\"Ali's Vineyard\"],[\"Ali's Vineyard\"],[\"Ali's Vineyard\"],[\"Ali's Vineyard\"],[\"Little River Winery and Caf\\u00e9\"],[\"Little River Winery and Caf\\u00e9\"],[\"Little River Winery and Caf\\u00e9\"],[\"Little River Winery and Caf\\u00e9\"],[\"Little River Winery and Caf\\u00e9\"],[\"Little River Winery and Caf\\u00e9\"],[\"Little River Winery and Caf\\u00e9\"],[\"Little River Winery and Caf\\u00e9\"],[\"Little River Winery and Caf\\u00e9\"],[\"Little River Winery and Caf\\u00e9\"],[\"Little River Winery and Caf\\u00e9\"],[\"Little River Winery and Caf\\u00e9\"],[\"Little River Winery and Caf\\u00e9\"],[\"Little River Winery and Caf\\u00e9\"],[\"Little River Winery and Caf\\u00e9\"],[\"Little River Winery and Caf\\u00e9\"],[\"Little River Winery and Caf\\u00e9\"],[\"Little River Winery and Caf\\u00e9\"],[\"Little River Winery and Caf\\u00e9\"],[\"Faber Vineyard\"],[\"Faber Vineyard\"],[\"Faber Vineyard\"],[\"Faber Vineyard\"],[\"Faber Vineyard\"],[\"Faber Vineyard\"],[\"Faber Vineyard\"],[\"Faber Vineyard\"],[\"Faber Vineyard\"],[\"Faber Vineyard\"],[\"Faber Vineyard\"],[\"Faber Vineyard\"],[\"Faber Vineyard\"],[null],[\"Faber Vineyard\"],[\"Faber Vineyard\"],[\"Faber Vineyard\"],[\"Faber Vineyard\"],[\"Faber Vineyard\"],[\"Faber Vineyard\"],[\"Faber Vineyard\"],[\"Faber Vineyard\"],[\"Faber Vineyard\"],[null],[\"Ugly Duckling Wines\"],[\"Ugly Duckling Wines\"],[\"Ugly Duckling Wines\"],[\"Ugly Duckling Wines\"],[\"Ugly Duckling Wines\"],[\"Ugly Duckling Wines\"],[\"Ugly Duckling Wines\"],[\"Ugly Duckling Wines\"],[\"Ugly Duckling Wines\"],[\"Ugly Duckling Wines\"],[\"Ugly Duckling Wines\"],[\"Ugly Duckling Wines\"],[\"Ugly Duckling Wines\"],[\"Ugly Duckling Wines\"],[\"Ugly Duckling Wines\"],[\"Ugly Duckling Wines\"],[\"Ugly Duckling Wines\"],[\"Ugly Duckling Wines\"],[\"Ugly Duckling Wines\"],[\"Ugly Duckling Wines\"],[\"Ugly Duckling Wines\"],[\"Ugly Duckling Wines\"],[\"Ugly Duckling Wines\"],[\"Ugly Duckling Wines\"],[\"Ugly Duckling Wines\"],[\"Ugly Duckling Wines\"],[\"Ugly Duckling Wines\"],[\"Ugly Duckling Wines\"],[null],[\"Oakover Grounds\"],[\"Oakover Grounds\"],[\"Oakover Grounds\"],[null],[null],[null],[\"Oakover Grounds\"],[\"Oakover Grounds\"],[\"Oakover Grounds\"],[\"Oakover Grounds\"],[null],[\"Oakover Grounds\"],[\"Oakover Grounds\"],[\"Oakover Grounds\"],[\"Oakover Grounds\"],[\"Oakover Grounds\"],[\"Oakover Grounds\"],[\"Oakover Grounds\"],[\"Oakover Grounds\"],[\"Oakover Grounds\"],[\"Oakover Grounds\"],[\"Oakover Grounds\"],[\"Oakover Grounds\"],[\"Oakover Grounds\"],[\"Oakover Grounds\"],[\"Oakover Grounds\"],[\"Oakover Grounds\"],[\"Oakover Grounds\"],[\"Oakover Grounds\"],[\"Oakover Grounds\"],[\"Oakover Grounds\"],[\"Oakover Grounds\"],[null],[\"Oakover Grounds\"],[null],[null],[\"Lancaster Wines\"],[\"Lancaster Wines\"],[\"Lancaster Wines\"],[\"Lancaster Wines\"],[\"Lancaster Wines\"],[\"Lancaster Wines\"],[\"Lancaster Wines\"],[\"Lancaster Wines\"],[\"Lancaster Wines\"],[\"Lancaster Wines\"],[\"Lancaster Wines\"],[\"Lancaster Wines\"],[null],[null],[\"Lancaster Wines\"],[\"Lancaster Wines\"],[\"Lancaster Wines\"],[\"Lancaster Wines\"],[\"Lancaster Wines\"],[\"Lancaster Wines\"]],\"hovertemplate\":\"<b>%{hovertext}</b><br><br>lat=%{lat}<br>lon=%{lon}<br>predicted_location_dbscan=%{customdata[0]}<br>cluster=%{marker.color}<extra></extra>\",\"hovertext\":[\"palm_tree\",\"palm_tree\",\"palm_tree\",\"palm_tree\",\"palm_tree\",\"palm_tree\",\"palm_tree\",\"palm_tree\",\"palm_tree\",\"palm_tree\",\"palm_tree\",\"palm_tree\",\"pizza_oven\",\"air_conditioner\",\"building\",\"shed\",\"shed\",\"shed\",\"picnic_bench\",\"picnic_bench\",\"planter\",\"planter\",\"building\",\"parking_lot\",\"patio\",\"water_tank\",\"air_conitioner\",\"patio\",\"building\",\"shed\",\"building\",\"building\",\"vineyard\",\"vineyard\",\"vineyard\",\"building\",\"parking_lot\",\"retaining_wall\",\"retaining_wall\",\"sign\",\"sign\",\"sign\",\"tree\",\"tree\",\"tree\",\"tree\",\"tree\",\"tree\",\"parking_lot\",\"vineyard\",\"vineyard\",\"building\",\"shed\",\"solar_panel\",\"building\",\"parking_lot\",\"shed\",\"building\",\"swimming_pool\",\"courtyard\",\"vineyard\",\"vineyard\",\"generator\",\"parking_lot\",\"carport\",\"bicycle_rack\",\"shed\",\"sculpture\",\"patio\",\"patio\",\"shed\",\"picnic_table\",\"picnic_table\",\"picnic_umbrella\",\"picnic_umbrella\",\"picnic_umbrella\",\"picnic_umbrella\",\"picnic_table\",\"picnic_table\",\"shed\",\"shed\",\"shed\",\"tree\",\"tree\",\"tree\",\"tree\",\"tree\",\"tree\",\"tree\",\"building\",\"pond\",\"bridge\",\"island\",\"vineyard\",\"swimming_pool\",\"building\",\"building\",\"tennis_court\",\"swimming_pool\",\"shade_cloth\",\"sign\",\"warehouse\",\"vat\",\"vat\",\"vat\",\"vat\",\"building\",\"parking_lot\",\"solar_panels\",\"solar_panels\",\"building\",\"fence\",\"jetty\",\"picnic_table\",\"picnic_table\",\"tank\",\"tank\",\"shed\",\"shipping_container\",\"shipping_container\",\"shipping_container\",\"shipping_container\",\"vineyard\",\"vineyard\",\"river\",\"vineyard\",\"vineyard\",\"parking_lot\",\"shed\",\"sign\",\"table\",\"table\",\"table\",\"table\",\"wine_barrell\",\"counter\",\"shed\",\"fence\",\"sign\",\"driveway\",\"picnic_table\",\"picnic_table\",\"picnic_table\",\"picnic_table\",\"picnic_table\",\"picnic_table\"],\"lat\":[-31.81445187554597,-31.81451940926452,-31.8145718117269,-31.81458084078105,-31.81462157655873,-31.81454971676524,-31.81448193361258,-31.81444773977627,-31.8143890181285,-31.81439660859307,-31.81434027785148,-31.81429434468795,-31.81429169178455,-31.81420767463152,-31.81394919889622,-31.81439717390363,-31.81432230857389,-31.8135457777316,-31.82401586475119,-31.82402821801069,-31.82400450902502,-31.82400258090139,-31.82417864772208,-31.82406166208574,-31.82414265894136,-31.82427841722326,-31.82414274552135,-31.82416289887374,-31.82414373469494,-31.82414175485055,-31.82429678566091,-31.8238198185718,-31.82470742057825,-31.8242299537138,-31.82369416405801,-31.82347585518145,-31.82372524293678,-31.79711445941102,-31.79711822124566,-31.79711822124567,-31.79711445941102,-31.79692113693582,-31.79707299441964,-31.79707639334401,-31.79701796869119,-31.79702180433045,-31.79695848151606,-31.7969572497282,-31.79698640377645,-31.79698932185287,-31.7946673883335,-31.79676259008081,-31.79676332889907,-31.79669029290958,-31.79664133173589,-31.79691654618838,-31.79658001770868,-31.79630852369076,-31.79620849056571,-31.79646472091715,-31.83039735327537,-31.83060476817275,-31.83020873465989,-31.83033573653752,-31.83038472086931,-31.83023391039609,-31.83047573335856,-31.83050151773064,-31.83051242847542,-31.83042950292597,-31.83048831452484,-31.83039290156244,-31.83042013524614,-31.83039529464335,-31.83041309005974,-31.83059039674292,-31.83062496370694,-31.83044919552612,-31.83055048589921,-31.83057537982879,-31.8306575917034,-31.83065965298827,-31.83079043292682,-31.83079112085596,-31.83079315668379,-31.83078775293374,-31.83079115492708,-31.83078777975723,-31.83079186264361,-31.84668336675156,-31.84590359767057,-31.84638920015648,-31.84633325480655,-31.84630620908671,-31.84642682355494,-31.84660379451255,-31.84534087718281,-31.84497134212882,-31.84520480790187,-31.84519057474693,-31.84696779013872,-31.84505951047444,-31.84518456887401,-31.84515103476856,-31.84510853881709,-31.84507695999562,-31.84512567428841,-31.84527487175123,-31.84487684093081,-31.84496527724279,-31.84505688510912,-31.84523158062051,-31.84538040931631,-31.84537004084413,-31.84537006574641,-31.84488600975254,-31.84485397635064,-31.84513430001038,-31.84466167779774,-31.84469149573804,-31.84472428455821,-31.84468823575176,-31.84538344253644,-31.84424690471754,-31.85109633797458,-31.85068649170797,-31.85278296339006,-31.85188710724418,-31.85210550561943,-31.8518872114326,-31.85182659388803,-31.85182616279369,-31.85182820538461,-31.85182506326957,-31.85189307872191,-31.85188320881234,-31.8518732548151,-31.85182222748639,-31.85198713829637,-31.85192250139609,-31.85189392826163,-31.85187442908764,-31.8518030858586,-31.8518024058948,-31.85180059356636,-31.85180195605045],\"legendgroup\":\"\",\"lon\":[116.0183374663027,116.0183259785979,116.0183161354075,116.0182529749383,116.0182086643162,116.0182128388363,116.018223361407,116.0182823408421,116.01821750659,116.0182474062873,116.0181813817572,116.0182631395714,116.0181961643027,116.0182334670006,116.0179055434116,116.0180953620699,116.0178051456259,116.0179865644773,116.0009142164415,116.000930932033,116.0009778539811,116.00092060426,116.0006048976215,116.0005802543637,116.0005190872192,116.0007722909438,116.0010150860718,116.0009461560145,116.0008411872399,116.0011891817338,116.0015213385211,116.0011641432193,116.0008309768264,116.0024406990624,116.0018976598281,116.0008501775059,116.0005857862165,116.0458851425753,116.0457670563354,116.0457670563353,116.0458851425753,116.0458175186144,116.0457592802574,116.0458562580698,116.0458650464963,116.0457701043378,116.0458575517662,116.0457695358829,116.0456561146581,116.0459678755513,116.0454319290855,116.0458568785181,116.0450705556765,116.0451148633962,116.0465802282568,116.0452797276304,116.045049160885,116.0451629606889,116.0452886782776,116.0458601290954,115.998939146043,115.9977318524493,115.9974576751721,115.9977420660818,115.997502299226,115.9974572459445,115.9977050969983,115.997777721079,115.997669167832,115.997431381974,115.9973518616014,115.9973090452622,115.9972816677781,115.9973045597328,115.9972807007919,115.9974222588125,115.9973755276259,115.9972085542997,115.9971975624587,115.9972416499528,115.9971742512736,115.997296680735,115.9971388569162,115.9971802611804,115.9972163578717,115.9972577899615,115.9973048744194,115.9973561509557,115.9974216940731,116.0086270958327,116.0076430354346,116.0075575103231,116.0077438974485,116.0059960349935,116.0046871040282,116.0047242747774,116.0049137333173,116.0049529458494,116.0046804703044,116.0046414836387,116.0066284586833,116.0060571495129,116.0063688107167,116.0063718225668,116.0063741620266,116.0063804564964,116.0066406806117,116.0070043014552,116.0073642354885,116.0073623012661,116.007341994294,116.0072570321877,116.007597008791,116.0075393399854,116.0076604504979,116.0068656915519,116.0066919339338,116.0072291966907,116.0072432872027,116.0072381097506,116.0072390830616,116.0074225863559,116.0124205441503,116.0066393647114,115.995810298809,115.9902290551793,115.9901750632805,115.9901520456193,115.9903190941192,115.9903556704859,115.9905306771903,115.9905475047897,115.9905655610603,115.9905862473149,115.9904467156551,115.9904835715709,115.990598423206,115.9903645411195,115.9877336890102,115.9889759412021,115.9908535353204,115.990901684718,115.9909205172935,115.9908668295001,115.9908006953241,115.9907526922321],\"marker\":{\"color\":[0,0,0,0,0,0,0,0,0,0,0,0,0,0,0,0,0,0,1,1,1,1,1,1,1,1,1,1,1,1,1,1,1,1,1,1,1,2,2,2,2,2,2,2,2,2,2,2,2,2,-1,2,2,2,2,2,2,2,2,2,-1,3,3,3,3,3,3,3,3,3,3,3,3,3,3,3,3,3,3,3,3,3,3,3,3,3,3,3,3,-1,4,4,4,-1,-1,-1,5,5,5,5,-1,4,4,4,4,4,4,4,4,4,4,4,4,4,4,4,4,4,4,4,4,4,-1,4,-1,-1,6,6,6,6,6,6,6,6,6,6,6,6,-1,-1,6,6,6,6,6,6],\"coloraxis\":\"coloraxis\"},\"mode\":\"markers\",\"name\":\"\",\"showlegend\":false,\"subplot\":\"mapbox\",\"type\":\"scattermapbox\"},{\"hovertemplate\":\"<b>%{hovertext}</b><br><br>lat=%{lat}<br>lon=%{lon}<extra></extra>\",\"hovertext\":[\"Sandalford Winery\",\"Nikola Estate\",\"Edgecombe Brothers\",\"Little River Winery and Caf\\u00e9\",\"Black Swan Winery and Restaurant\",\"Lancaster Wines\",\"Mandoon Estate\",\"Mandoon Vineyard\",\"Oakover Grounds\",\"Henley Park Winery\",\"Upper Reach Winery\",\"Mann Winery\",\"Harris Organic Wines and Spirits\",\"John Kosovich Wines\",\"Twin Hill Wines\",\"Olive Farm Wines\",\"Ali's Vineyard\",\"Talijancich\",\"Tyler's Vineyard\",\"Fig Tree Estate Winery\",\"Lamont's Winery\",\"Faber Vineyard\",\"Swan Valley Wines\",\"Windy Creek Estate\",\"Holy Mary Cellars\",\"Jarrah Ridge Wines\",\"Katgully Wines Cellar Door\",\"Sittella\",\"Ugly Duckling Wines\",\"Heafod Glen Winery\",\"Ambrook Wines\"],\"lat\":[-31.868701,-31.854112,-31.795187,-31.824124,-31.823404,-31.85226,-31.868266,-31.867594,-31.84508,-31.797776,-31.795033,-31.793688,-31.794595,-31.795346,-31.796729,-31.811995,-31.814194,-31.818507,-31.812921,-31.804387,-31.80323,-31.796771,-31.796915,-31.830487,-31.835658,-31.836499,-31.835449,-31.830083,-31.830502,-31.822945,-31.871998],\"legendgroup\":\"\",\"lon\":[115.992759,115.997995,115.998571,116.000888,116.00085,115.988887,115.994991,115.995494,116.007327,116.001641,116.008634,116.012546,116.02083,116.02076,116.020781,116.022232,116.01822,116.020341,116.040805,116.04003,116.037443,116.045655,116.048836,116.03056,116.021676,116.015532,116.021235,116.006851,115.997425,115.996817,115.981779],\"marker\":{\"color\":\"#636efa\"},\"mode\":\"markers\",\"name\":\"\",\"showlegend\":false,\"subplot\":\"mapbox\",\"type\":\"scattermapbox\"}],                        {\"template\":{\"data\":{\"histogram2dcontour\":[{\"type\":\"histogram2dcontour\",\"colorbar\":{\"outlinewidth\":0,\"ticks\":\"\"},\"colorscale\":[[0.0,\"#0d0887\"],[0.1111111111111111,\"#46039f\"],[0.2222222222222222,\"#7201a8\"],[0.3333333333333333,\"#9c179e\"],[0.4444444444444444,\"#bd3786\"],[0.5555555555555556,\"#d8576b\"],[0.6666666666666666,\"#ed7953\"],[0.7777777777777778,\"#fb9f3a\"],[0.8888888888888888,\"#fdca26\"],[1.0,\"#f0f921\"]]}],\"choropleth\":[{\"type\":\"choropleth\",\"colorbar\":{\"outlinewidth\":0,\"ticks\":\"\"}}],\"histogram2d\":[{\"type\":\"histogram2d\",\"colorbar\":{\"outlinewidth\":0,\"ticks\":\"\"},\"colorscale\":[[0.0,\"#0d0887\"],[0.1111111111111111,\"#46039f\"],[0.2222222222222222,\"#7201a8\"],[0.3333333333333333,\"#9c179e\"],[0.4444444444444444,\"#bd3786\"],[0.5555555555555556,\"#d8576b\"],[0.6666666666666666,\"#ed7953\"],[0.7777777777777778,\"#fb9f3a\"],[0.8888888888888888,\"#fdca26\"],[1.0,\"#f0f921\"]]}],\"heatmap\":[{\"type\":\"heatmap\",\"colorbar\":{\"outlinewidth\":0,\"ticks\":\"\"},\"colorscale\":[[0.0,\"#0d0887\"],[0.1111111111111111,\"#46039f\"],[0.2222222222222222,\"#7201a8\"],[0.3333333333333333,\"#9c179e\"],[0.4444444444444444,\"#bd3786\"],[0.5555555555555556,\"#d8576b\"],[0.6666666666666666,\"#ed7953\"],[0.7777777777777778,\"#fb9f3a\"],[0.8888888888888888,\"#fdca26\"],[1.0,\"#f0f921\"]]}],\"heatmapgl\":[{\"type\":\"heatmapgl\",\"colorbar\":{\"outlinewidth\":0,\"ticks\":\"\"},\"colorscale\":[[0.0,\"#0d0887\"],[0.1111111111111111,\"#46039f\"],[0.2222222222222222,\"#7201a8\"],[0.3333333333333333,\"#9c179e\"],[0.4444444444444444,\"#bd3786\"],[0.5555555555555556,\"#d8576b\"],[0.6666666666666666,\"#ed7953\"],[0.7777777777777778,\"#fb9f3a\"],[0.8888888888888888,\"#fdca26\"],[1.0,\"#f0f921\"]]}],\"contourcarpet\":[{\"type\":\"contourcarpet\",\"colorbar\":{\"outlinewidth\":0,\"ticks\":\"\"}}],\"contour\":[{\"type\":\"contour\",\"colorbar\":{\"outlinewidth\":0,\"ticks\":\"\"},\"colorscale\":[[0.0,\"#0d0887\"],[0.1111111111111111,\"#46039f\"],[0.2222222222222222,\"#7201a8\"],[0.3333333333333333,\"#9c179e\"],[0.4444444444444444,\"#bd3786\"],[0.5555555555555556,\"#d8576b\"],[0.6666666666666666,\"#ed7953\"],[0.7777777777777778,\"#fb9f3a\"],[0.8888888888888888,\"#fdca26\"],[1.0,\"#f0f921\"]]}],\"surface\":[{\"type\":\"surface\",\"colorbar\":{\"outlinewidth\":0,\"ticks\":\"\"},\"colorscale\":[[0.0,\"#0d0887\"],[0.1111111111111111,\"#46039f\"],[0.2222222222222222,\"#7201a8\"],[0.3333333333333333,\"#9c179e\"],[0.4444444444444444,\"#bd3786\"],[0.5555555555555556,\"#d8576b\"],[0.6666666666666666,\"#ed7953\"],[0.7777777777777778,\"#fb9f3a\"],[0.8888888888888888,\"#fdca26\"],[1.0,\"#f0f921\"]]}],\"mesh3d\":[{\"type\":\"mesh3d\",\"colorbar\":{\"outlinewidth\":0,\"ticks\":\"\"}}],\"scatter\":[{\"fillpattern\":{\"fillmode\":\"overlay\",\"size\":10,\"solidity\":0.2},\"type\":\"scatter\"}],\"parcoords\":[{\"type\":\"parcoords\",\"line\":{\"colorbar\":{\"outlinewidth\":0,\"ticks\":\"\"}}}],\"scatterpolargl\":[{\"type\":\"scatterpolargl\",\"marker\":{\"colorbar\":{\"outlinewidth\":0,\"ticks\":\"\"}}}],\"bar\":[{\"error_x\":{\"color\":\"#2a3f5f\"},\"error_y\":{\"color\":\"#2a3f5f\"},\"marker\":{\"line\":{\"color\":\"#E5ECF6\",\"width\":0.5},\"pattern\":{\"fillmode\":\"overlay\",\"size\":10,\"solidity\":0.2}},\"type\":\"bar\"}],\"scattergeo\":[{\"type\":\"scattergeo\",\"marker\":{\"colorbar\":{\"outlinewidth\":0,\"ticks\":\"\"}}}],\"scatterpolar\":[{\"type\":\"scatterpolar\",\"marker\":{\"colorbar\":{\"outlinewidth\":0,\"ticks\":\"\"}}}],\"histogram\":[{\"marker\":{\"pattern\":{\"fillmode\":\"overlay\",\"size\":10,\"solidity\":0.2}},\"type\":\"histogram\"}],\"scattergl\":[{\"type\":\"scattergl\",\"marker\":{\"colorbar\":{\"outlinewidth\":0,\"ticks\":\"\"}}}],\"scatter3d\":[{\"type\":\"scatter3d\",\"line\":{\"colorbar\":{\"outlinewidth\":0,\"ticks\":\"\"}},\"marker\":{\"colorbar\":{\"outlinewidth\":0,\"ticks\":\"\"}}}],\"scattermapbox\":[{\"type\":\"scattermapbox\",\"marker\":{\"colorbar\":{\"outlinewidth\":0,\"ticks\":\"\"}}}],\"scatterternary\":[{\"type\":\"scatterternary\",\"marker\":{\"colorbar\":{\"outlinewidth\":0,\"ticks\":\"\"}}}],\"scattercarpet\":[{\"type\":\"scattercarpet\",\"marker\":{\"colorbar\":{\"outlinewidth\":0,\"ticks\":\"\"}}}],\"carpet\":[{\"aaxis\":{\"endlinecolor\":\"#2a3f5f\",\"gridcolor\":\"white\",\"linecolor\":\"white\",\"minorgridcolor\":\"white\",\"startlinecolor\":\"#2a3f5f\"},\"baxis\":{\"endlinecolor\":\"#2a3f5f\",\"gridcolor\":\"white\",\"linecolor\":\"white\",\"minorgridcolor\":\"white\",\"startlinecolor\":\"#2a3f5f\"},\"type\":\"carpet\"}],\"table\":[{\"cells\":{\"fill\":{\"color\":\"#EBF0F8\"},\"line\":{\"color\":\"white\"}},\"header\":{\"fill\":{\"color\":\"#C8D4E3\"},\"line\":{\"color\":\"white\"}},\"type\":\"table\"}],\"barpolar\":[{\"marker\":{\"line\":{\"color\":\"#E5ECF6\",\"width\":0.5},\"pattern\":{\"fillmode\":\"overlay\",\"size\":10,\"solidity\":0.2}},\"type\":\"barpolar\"}],\"pie\":[{\"automargin\":true,\"type\":\"pie\"}]},\"layout\":{\"autotypenumbers\":\"strict\",\"colorway\":[\"#636efa\",\"#EF553B\",\"#00cc96\",\"#ab63fa\",\"#FFA15A\",\"#19d3f3\",\"#FF6692\",\"#B6E880\",\"#FF97FF\",\"#FECB52\"],\"font\":{\"color\":\"#2a3f5f\"},\"hovermode\":\"closest\",\"hoverlabel\":{\"align\":\"left\"},\"paper_bgcolor\":\"white\",\"plot_bgcolor\":\"#E5ECF6\",\"polar\":{\"bgcolor\":\"#E5ECF6\",\"angularaxis\":{\"gridcolor\":\"white\",\"linecolor\":\"white\",\"ticks\":\"\"},\"radialaxis\":{\"gridcolor\":\"white\",\"linecolor\":\"white\",\"ticks\":\"\"}},\"ternary\":{\"bgcolor\":\"#E5ECF6\",\"aaxis\":{\"gridcolor\":\"white\",\"linecolor\":\"white\",\"ticks\":\"\"},\"baxis\":{\"gridcolor\":\"white\",\"linecolor\":\"white\",\"ticks\":\"\"},\"caxis\":{\"gridcolor\":\"white\",\"linecolor\":\"white\",\"ticks\":\"\"}},\"coloraxis\":{\"colorbar\":{\"outlinewidth\":0,\"ticks\":\"\"}},\"colorscale\":{\"sequential\":[[0.0,\"#0d0887\"],[0.1111111111111111,\"#46039f\"],[0.2222222222222222,\"#7201a8\"],[0.3333333333333333,\"#9c179e\"],[0.4444444444444444,\"#bd3786\"],[0.5555555555555556,\"#d8576b\"],[0.6666666666666666,\"#ed7953\"],[0.7777777777777778,\"#fb9f3a\"],[0.8888888888888888,\"#fdca26\"],[1.0,\"#f0f921\"]],\"sequentialminus\":[[0.0,\"#0d0887\"],[0.1111111111111111,\"#46039f\"],[0.2222222222222222,\"#7201a8\"],[0.3333333333333333,\"#9c179e\"],[0.4444444444444444,\"#bd3786\"],[0.5555555555555556,\"#d8576b\"],[0.6666666666666666,\"#ed7953\"],[0.7777777777777778,\"#fb9f3a\"],[0.8888888888888888,\"#fdca26\"],[1.0,\"#f0f921\"]],\"diverging\":[[0,\"#8e0152\"],[0.1,\"#c51b7d\"],[0.2,\"#de77ae\"],[0.3,\"#f1b6da\"],[0.4,\"#fde0ef\"],[0.5,\"#f7f7f7\"],[0.6,\"#e6f5d0\"],[0.7,\"#b8e186\"],[0.8,\"#7fbc41\"],[0.9,\"#4d9221\"],[1,\"#276419\"]]},\"xaxis\":{\"gridcolor\":\"white\",\"linecolor\":\"white\",\"ticks\":\"\",\"title\":{\"standoff\":15},\"zerolinecolor\":\"white\",\"automargin\":true,\"zerolinewidth\":2},\"yaxis\":{\"gridcolor\":\"white\",\"linecolor\":\"white\",\"ticks\":\"\",\"title\":{\"standoff\":15},\"zerolinecolor\":\"white\",\"automargin\":true,\"zerolinewidth\":2},\"scene\":{\"xaxis\":{\"backgroundcolor\":\"#E5ECF6\",\"gridcolor\":\"white\",\"linecolor\":\"white\",\"showbackground\":true,\"ticks\":\"\",\"zerolinecolor\":\"white\",\"gridwidth\":2},\"yaxis\":{\"backgroundcolor\":\"#E5ECF6\",\"gridcolor\":\"white\",\"linecolor\":\"white\",\"showbackground\":true,\"ticks\":\"\",\"zerolinecolor\":\"white\",\"gridwidth\":2},\"zaxis\":{\"backgroundcolor\":\"#E5ECF6\",\"gridcolor\":\"white\",\"linecolor\":\"white\",\"showbackground\":true,\"ticks\":\"\",\"zerolinecolor\":\"white\",\"gridwidth\":2}},\"shapedefaults\":{\"line\":{\"color\":\"#2a3f5f\"}},\"annotationdefaults\":{\"arrowcolor\":\"#2a3f5f\",\"arrowhead\":0,\"arrowwidth\":1},\"geo\":{\"bgcolor\":\"white\",\"landcolor\":\"#E5ECF6\",\"subunitcolor\":\"white\",\"showland\":true,\"showlakes\":true,\"lakecolor\":\"white\"},\"title\":{\"x\":0.05},\"mapbox\":{\"style\":\"light\"}}},\"mapbox\":{\"domain\":{\"x\":[0.0,1.0],\"y\":[0.0,1.0]},\"center\":{\"lat\":-31.829142815097253,\"lon\":116.00928029017983},\"zoom\":8,\"style\":\"open-street-map\"},\"coloraxis\":{\"colorbar\":{\"title\":{\"text\":\"cluster\"}},\"colorscale\":[[0.0,\"#0d0887\"],[0.1111111111111111,\"#46039f\"],[0.2222222222222222,\"#7201a8\"],[0.3333333333333333,\"#9c179e\"],[0.4444444444444444,\"#bd3786\"],[0.5555555555555556,\"#d8576b\"],[0.6666666666666666,\"#ed7953\"],[0.7777777777777778,\"#fb9f3a\"],[0.8888888888888888,\"#fdca26\"],[1.0,\"#f0f921\"]]},\"legend\":{\"tracegroupgap\":0},\"margin\":{\"t\":0,\"r\":0,\"l\":0,\"b\":0}},                        {\"responsive\": true}                    ).then(function(){\n",
       "                            \n",
       "var gd = document.getElementById('5b76184f-9b12-4aba-b576-277b9553a964');\n",
       "var x = new MutationObserver(function (mutations, observer) {{\n",
       "        var display = window.getComputedStyle(gd).display;\n",
       "        if (!display || display === 'none') {{\n",
       "            console.log([gd, 'removed!']);\n",
       "            Plotly.purge(gd);\n",
       "            observer.disconnect();\n",
       "        }}\n",
       "}});\n",
       "\n",
       "// Listen for the removal of the full notebook cells\n",
       "var notebookContainer = gd.closest('#notebook-container');\n",
       "if (notebookContainer) {{\n",
       "    x.observe(notebookContainer, {childList: true});\n",
       "}}\n",
       "\n",
       "// Listen for the clearing of the current output cell\n",
       "var outputEl = gd.closest('.output');\n",
       "if (outputEl) {{\n",
       "    x.observe(outputEl, {childList: true});\n",
       "}}\n",
       "\n",
       "                        })                };                });            </script>        </div>"
      ]
     },
     "metadata": {},
     "output_type": "display_data"
    }
   ],
   "source": [
    "#Update relevant data\n",
    "obj_df = pd.read_csv(dataDir+'/obj_df.csv')\n",
    "\n",
    "gdf = geopandas.GeoDataFrame(\n",
    "    obj_df, geometry=geopandas.points_from_xy(obj_df.latitude, obj_df.longitude), crs=\"EPSG:4326\"\n",
    ")\n",
    "\n",
    "gdf_locs = geopandas.GeoDataFrame(\n",
    "    osm_df, geometry=geopandas.points_from_xy(osm_df.latitude, osm_df.longitude), crs=\"EPSG:4326\"\n",
    ")\n",
    "geo_df = gdf\n",
    "\n",
    "geo_locs = gdf_locs\n",
    "\n",
    "geo_df['predicted_location_dbscan'].mask(geo_df['cluster'] == '-1', 'NOISE', inplace=True)\n",
    "\n",
    "print(geo_df)\n",
    "\n",
    "#Make the plots\n",
    "fig = px.scatter_mapbox(geo_df,\n",
    "                    lat=geo_df.geometry.y,\n",
    "                    lon=geo_df.geometry.x,\n",
    "                    color=\"cluster\",\n",
    "                    hover_name=\"object\",\n",
    "                    hover_data=[\"predicted_location_dbscan\"])\n",
    "\n",
    "fig2 = px.scatter_mapbox(geo_locs, \n",
    "                        lat = geo_locs.geometry.y,\n",
    "                        lon = geo_locs.geometry.x,\n",
    "                        hover_name=\"location\")\n",
    "\n",
    "fig.add_trace(fig2.data[0])\n",
    "\n",
    "fig.update_layout(\n",
    "    mapbox_style=\"open-street-map\")\n",
    "fig.update_layout(margin={\"r\":0,\"t\":0,\"l\":0,\"b\":0})\n",
    "fig.show()"
   ]
  },
  {
   "cell_type": "markdown",
   "id": "ffd681fc",
   "metadata": {},
   "source": [
    "## Epsilon == 100m, GroupSize == 3\n",
    "\n",
    "    True     126\n",
    "    False     20\n",
    "    \n",
    "    1    48\n",
    "    3    35\n",
    "    2    23\n",
    "    4    22\n",
    "    0    18\n",
    "    \n",
    "Here, little river winery got swallowed by ugly duckling wines, as they were too close"
   ]
  },
  {
   "cell_type": "code",
   "execution_count": 113,
   "id": "747835e0",
   "metadata": {},
   "outputs": [
    {
     "data": {
      "application/vnd.plotly.v1+json": {
       "config": {
        "plotlyServerURL": "https://plot.ly"
       },
       "data": [
        {
         "customdata": [
          [
           "Ali's Vineyard"
          ],
          [
           "Ali's Vineyard"
          ],
          [
           "Ali's Vineyard"
          ],
          [
           "Ali's Vineyard"
          ],
          [
           "Ali's Vineyard"
          ],
          [
           "Ali's Vineyard"
          ],
          [
           "Ali's Vineyard"
          ],
          [
           "Ali's Vineyard"
          ],
          [
           "Ali's Vineyard"
          ],
          [
           "Ali's Vineyard"
          ],
          [
           "Ali's Vineyard"
          ],
          [
           "Ali's Vineyard"
          ],
          [
           "Ali's Vineyard"
          ],
          [
           "Ali's Vineyard"
          ],
          [
           "Ali's Vineyard"
          ],
          [
           "Ali's Vineyard"
          ],
          [
           "Ali's Vineyard"
          ],
          [
           "Ali's Vineyard"
          ],
          [
           "Ugly Duckling Wines"
          ],
          [
           "Ugly Duckling Wines"
          ],
          [
           "Ugly Duckling Wines"
          ],
          [
           "Ugly Duckling Wines"
          ],
          [
           "Ugly Duckling Wines"
          ],
          [
           "Ugly Duckling Wines"
          ],
          [
           "Ugly Duckling Wines"
          ],
          [
           "Ugly Duckling Wines"
          ],
          [
           "Ugly Duckling Wines"
          ],
          [
           "Ugly Duckling Wines"
          ],
          [
           "Ugly Duckling Wines"
          ],
          [
           "Ugly Duckling Wines"
          ],
          [
           "Ugly Duckling Wines"
          ],
          [
           "Ugly Duckling Wines"
          ],
          [
           "Ugly Duckling Wines"
          ],
          [
           "Ugly Duckling Wines"
          ],
          [
           "Ugly Duckling Wines"
          ],
          [
           "Ugly Duckling Wines"
          ],
          [
           "Ugly Duckling Wines"
          ],
          [
           "Faber Vineyard"
          ],
          [
           "Faber Vineyard"
          ],
          [
           "Faber Vineyard"
          ],
          [
           "Faber Vineyard"
          ],
          [
           "Faber Vineyard"
          ],
          [
           "Faber Vineyard"
          ],
          [
           "Faber Vineyard"
          ],
          [
           "Faber Vineyard"
          ],
          [
           "Faber Vineyard"
          ],
          [
           "Faber Vineyard"
          ],
          [
           "Faber Vineyard"
          ],
          [
           "Faber Vineyard"
          ],
          [
           "Faber Vineyard"
          ],
          [
           "Faber Vineyard"
          ],
          [
           "Faber Vineyard"
          ],
          [
           "Faber Vineyard"
          ],
          [
           "Faber Vineyard"
          ],
          [
           "Faber Vineyard"
          ],
          [
           "Faber Vineyard"
          ],
          [
           "Faber Vineyard"
          ],
          [
           "Faber Vineyard"
          ],
          [
           "Faber Vineyard"
          ],
          [
           "Faber Vineyard"
          ],
          [
           "Ugly Duckling Wines"
          ],
          [
           "Ugly Duckling Wines"
          ],
          [
           "Ugly Duckling Wines"
          ],
          [
           "Ugly Duckling Wines"
          ],
          [
           "Ugly Duckling Wines"
          ],
          [
           "Ugly Duckling Wines"
          ],
          [
           "Ugly Duckling Wines"
          ],
          [
           "Ugly Duckling Wines"
          ],
          [
           "Ugly Duckling Wines"
          ],
          [
           "Ugly Duckling Wines"
          ],
          [
           "Ugly Duckling Wines"
          ],
          [
           "Ugly Duckling Wines"
          ],
          [
           "Ugly Duckling Wines"
          ],
          [
           "Ugly Duckling Wines"
          ],
          [
           "Ugly Duckling Wines"
          ],
          [
           "Ugly Duckling Wines"
          ],
          [
           "Ugly Duckling Wines"
          ],
          [
           "Ugly Duckling Wines"
          ],
          [
           "Ugly Duckling Wines"
          ],
          [
           "Ugly Duckling Wines"
          ],
          [
           "Ugly Duckling Wines"
          ],
          [
           "Ugly Duckling Wines"
          ],
          [
           "Ugly Duckling Wines"
          ],
          [
           "Ugly Duckling Wines"
          ],
          [
           "Ugly Duckling Wines"
          ],
          [
           "Ugly Duckling Wines"
          ],
          [
           "Ugly Duckling Wines"
          ],
          [
           "Ugly Duckling Wines"
          ],
          [
           "Ugly Duckling Wines"
          ],
          [
           "Oakover Grounds"
          ],
          [
           "Oakover Grounds"
          ],
          [
           "Oakover Grounds"
          ],
          [
           "Oakover Grounds"
          ],
          [
           "Oakover Grounds"
          ],
          [
           "Oakover Grounds"
          ],
          [
           "Oakover Grounds"
          ],
          [
           "Oakover Grounds"
          ],
          [
           "Oakover Grounds"
          ],
          [
           "Oakover Grounds"
          ],
          [
           "Oakover Grounds"
          ],
          [
           "Oakover Grounds"
          ],
          [
           "Oakover Grounds"
          ],
          [
           "Oakover Grounds"
          ],
          [
           "Oakover Grounds"
          ],
          [
           "Oakover Grounds"
          ],
          [
           "Oakover Grounds"
          ],
          [
           "Oakover Grounds"
          ],
          [
           "Oakover Grounds"
          ],
          [
           "Oakover Grounds"
          ],
          [
           "Oakover Grounds"
          ],
          [
           "Oakover Grounds"
          ],
          [
           "Oakover Grounds"
          ],
          [
           "Oakover Grounds"
          ],
          [
           "Oakover Grounds"
          ],
          [
           "Oakover Grounds"
          ],
          [
           "Oakover Grounds"
          ],
          [
           "Oakover Grounds"
          ],
          [
           "Oakover Grounds"
          ],
          [
           "Oakover Grounds"
          ],
          [
           "Oakover Grounds"
          ],
          [
           "Oakover Grounds"
          ],
          [
           "Oakover Grounds"
          ],
          [
           "Oakover Grounds"
          ],
          [
           "Oakover Grounds"
          ],
          [
           "Lancaster Wines"
          ],
          [
           "Lancaster Wines"
          ],
          [
           "Lancaster Wines"
          ],
          [
           "Lancaster Wines"
          ],
          [
           "Lancaster Wines"
          ],
          [
           "Lancaster Wines"
          ],
          [
           "Lancaster Wines"
          ],
          [
           "Lancaster Wines"
          ],
          [
           "Lancaster Wines"
          ],
          [
           "Lancaster Wines"
          ],
          [
           "Lancaster Wines"
          ],
          [
           "Lancaster Wines"
          ],
          [
           "Lancaster Wines"
          ],
          [
           "Lancaster Wines"
          ],
          [
           "Lancaster Wines"
          ],
          [
           "Lancaster Wines"
          ],
          [
           "Lancaster Wines"
          ],
          [
           "Lancaster Wines"
          ],
          [
           "Lancaster Wines"
          ],
          [
           "Lancaster Wines"
          ],
          [
           "Lancaster Wines"
          ],
          [
           "Lancaster Wines"
          ]
         ],
         "hovertemplate": "<b>%{hovertext}</b><br><br>lat=%{lat}<br>lon=%{lon}<br>predicted_location_dbscan=%{customdata[0]}<br>cluster=%{marker.color}<extra></extra>",
         "hovertext": [
          "palm_tree",
          "palm_tree",
          "palm_tree",
          "palm_tree",
          "palm_tree",
          "palm_tree",
          "palm_tree",
          "palm_tree",
          "palm_tree",
          "palm_tree",
          "palm_tree",
          "palm_tree",
          "pizza_oven",
          "air_conditioner",
          "building",
          "shed",
          "shed",
          "shed",
          "picnic_bench",
          "picnic_bench",
          "planter",
          "planter",
          "building",
          "parking_lot",
          "patio",
          "water_tank",
          "air_conitioner",
          "patio",
          "building",
          "shed",
          "building",
          "building",
          "vineyard",
          "vineyard",
          "vineyard",
          "building",
          "parking_lot",
          "retaining_wall",
          "retaining_wall",
          "sign",
          "sign",
          "sign",
          "tree",
          "tree",
          "tree",
          "tree",
          "tree",
          "tree",
          "parking_lot",
          "vineyard",
          "vineyard",
          "building",
          "shed",
          "solar_panel",
          "building",
          "parking_lot",
          "shed",
          "building",
          "swimming_pool",
          "courtyard",
          "vineyard",
          "vineyard",
          "generator",
          "parking_lot",
          "carport",
          "bicycle_rack",
          "shed",
          "sculpture",
          "patio",
          "patio",
          "shed",
          "picnic_table",
          "picnic_table",
          "picnic_umbrella",
          "picnic_umbrella",
          "picnic_umbrella",
          "picnic_umbrella",
          "picnic_table",
          "picnic_table",
          "shed",
          "shed",
          "shed",
          "tree",
          "tree",
          "tree",
          "tree",
          "tree",
          "tree",
          "tree",
          "building",
          "pond",
          "bridge",
          "island",
          "vineyard",
          "swimming_pool",
          "building",
          "building",
          "tennis_court",
          "swimming_pool",
          "shade_cloth",
          "sign",
          "warehouse",
          "vat",
          "vat",
          "vat",
          "vat",
          "building",
          "parking_lot",
          "solar_panels",
          "solar_panels",
          "building",
          "fence",
          "jetty",
          "picnic_table",
          "picnic_table",
          "tank",
          "tank",
          "shed",
          "shipping_container",
          "shipping_container",
          "shipping_container",
          "shipping_container",
          "vineyard",
          "vineyard",
          "river",
          "vineyard",
          "vineyard",
          "parking_lot",
          "shed",
          "sign",
          "table",
          "table",
          "table",
          "table",
          "wine_barrell",
          "counter",
          "shed",
          "fence",
          "sign",
          "driveway",
          "picnic_table",
          "picnic_table",
          "picnic_table",
          "picnic_table",
          "picnic_table",
          "picnic_table"
         ],
         "lat": [
          -31.81445187554597,
          -31.81451940926452,
          -31.8145718117269,
          -31.81458084078105,
          -31.81462157655873,
          -31.81454971676524,
          -31.81448193361258,
          -31.81444773977627,
          -31.8143890181285,
          -31.81439660859307,
          -31.81434027785148,
          -31.81429434468795,
          -31.81429169178455,
          -31.81420767463152,
          -31.81394919889622,
          -31.81439717390363,
          -31.81432230857389,
          -31.8135457777316,
          -31.82401586475119,
          -31.82402821801069,
          -31.82400450902502,
          -31.82400258090139,
          -31.82417864772208,
          -31.82406166208574,
          -31.82414265894136,
          -31.82427841722326,
          -31.82414274552135,
          -31.82416289887374,
          -31.82414373469494,
          -31.82414175485055,
          -31.82429678566091,
          -31.8238198185718,
          -31.82470742057825,
          -31.8242299537138,
          -31.82369416405801,
          -31.82347585518145,
          -31.82372524293678,
          -31.79711445941102,
          -31.79711822124566,
          -31.79711822124567,
          -31.79711445941102,
          -31.79692113693582,
          -31.79707299441964,
          -31.79707639334401,
          -31.79701796869119,
          -31.79702180433045,
          -31.79695848151606,
          -31.7969572497282,
          -31.79698640377645,
          -31.79698932185287,
          -31.7946673883335,
          -31.79676259008081,
          -31.79676332889907,
          -31.79669029290958,
          -31.79664133173589,
          -31.79691654618838,
          -31.79658001770868,
          -31.79630852369076,
          -31.79620849056571,
          -31.79646472091715,
          -31.83039735327537,
          -31.83060476817275,
          -31.83020873465989,
          -31.83033573653752,
          -31.83038472086931,
          -31.83023391039609,
          -31.83047573335856,
          -31.83050151773064,
          -31.83051242847542,
          -31.83042950292597,
          -31.83048831452484,
          -31.83039290156244,
          -31.83042013524614,
          -31.83039529464335,
          -31.83041309005974,
          -31.83059039674292,
          -31.83062496370694,
          -31.83044919552612,
          -31.83055048589921,
          -31.83057537982879,
          -31.8306575917034,
          -31.83065965298827,
          -31.83079043292682,
          -31.83079112085596,
          -31.83079315668379,
          -31.83078775293374,
          -31.83079115492708,
          -31.83078777975723,
          -31.83079186264361,
          -31.84668336675156,
          -31.84590359767057,
          -31.84638920015648,
          -31.84633325480655,
          -31.84630620908671,
          -31.84642682355494,
          -31.84660379451255,
          -31.84534087718281,
          -31.84497134212882,
          -31.84520480790187,
          -31.84519057474693,
          -31.84696779013872,
          -31.84505951047444,
          -31.84518456887401,
          -31.84515103476856,
          -31.84510853881709,
          -31.84507695999562,
          -31.84512567428841,
          -31.84527487175123,
          -31.84487684093081,
          -31.84496527724279,
          -31.84505688510912,
          -31.84523158062051,
          -31.84538040931631,
          -31.84537004084413,
          -31.84537006574641,
          -31.84488600975254,
          -31.84485397635064,
          -31.84513430001038,
          -31.84466167779774,
          -31.84469149573804,
          -31.84472428455821,
          -31.84468823575176,
          -31.84538344253644,
          -31.84424690471754,
          -31.85109633797458,
          -31.85068649170797,
          -31.85278296339006,
          -31.85188710724418,
          -31.85210550561943,
          -31.8518872114326,
          -31.85182659388803,
          -31.85182616279369,
          -31.85182820538461,
          -31.85182506326957,
          -31.85189307872191,
          -31.85188320881234,
          -31.8518732548151,
          -31.85182222748639,
          -31.85198713829637,
          -31.85192250139609,
          -31.85189392826163,
          -31.85187442908764,
          -31.8518030858586,
          -31.8518024058948,
          -31.85180059356636,
          -31.85180195605045
         ],
         "legendgroup": "",
         "lon": [
          116.0183374663027,
          116.0183259785979,
          116.0183161354075,
          116.0182529749383,
          116.0182086643162,
          116.0182128388363,
          116.018223361407,
          116.0182823408421,
          116.01821750659,
          116.0182474062873,
          116.0181813817572,
          116.0182631395714,
          116.0181961643027,
          116.0182334670006,
          116.0179055434116,
          116.0180953620699,
          116.0178051456259,
          116.0179865644773,
          116.0009142164415,
          116.000930932033,
          116.0009778539811,
          116.00092060426,
          116.0006048976215,
          116.0005802543637,
          116.0005190872192,
          116.0007722909438,
          116.0010150860718,
          116.0009461560145,
          116.0008411872399,
          116.0011891817338,
          116.0015213385211,
          116.0011641432193,
          116.0008309768264,
          116.0024406990624,
          116.0018976598281,
          116.0008501775059,
          116.0005857862165,
          116.0458851425753,
          116.0457670563354,
          116.0457670563353,
          116.0458851425753,
          116.0458175186144,
          116.0457592802574,
          116.0458562580698,
          116.0458650464963,
          116.0457701043378,
          116.0458575517662,
          116.0457695358829,
          116.0456561146581,
          116.0459678755513,
          116.0454319290855,
          116.0458568785181,
          116.0450705556765,
          116.0451148633962,
          116.0465802282568,
          116.0452797276304,
          116.045049160885,
          116.0451629606889,
          116.0452886782776,
          116.0458601290954,
          115.998939146043,
          115.9977318524493,
          115.9974576751721,
          115.9977420660818,
          115.997502299226,
          115.9974572459445,
          115.9977050969983,
          115.997777721079,
          115.997669167832,
          115.997431381974,
          115.9973518616014,
          115.9973090452622,
          115.9972816677781,
          115.9973045597328,
          115.9972807007919,
          115.9974222588125,
          115.9973755276259,
          115.9972085542997,
          115.9971975624587,
          115.9972416499528,
          115.9971742512736,
          115.997296680735,
          115.9971388569162,
          115.9971802611804,
          115.9972163578717,
          115.9972577899615,
          115.9973048744194,
          115.9973561509557,
          115.9974216940731,
          116.0086270958327,
          116.0076430354346,
          116.0075575103231,
          116.0077438974485,
          116.0059960349935,
          116.0046871040282,
          116.0047242747774,
          116.0049137333173,
          116.0049529458494,
          116.0046804703044,
          116.0046414836387,
          116.0066284586833,
          116.0060571495129,
          116.0063688107167,
          116.0063718225668,
          116.0063741620266,
          116.0063804564964,
          116.0066406806117,
          116.0070043014552,
          116.0073642354885,
          116.0073623012661,
          116.007341994294,
          116.0072570321877,
          116.007597008791,
          116.0075393399854,
          116.0076604504979,
          116.0068656915519,
          116.0066919339338,
          116.0072291966907,
          116.0072432872027,
          116.0072381097506,
          116.0072390830616,
          116.0074225863559,
          116.0124205441503,
          116.0066393647114,
          115.995810298809,
          115.9902290551793,
          115.9901750632805,
          115.9901520456193,
          115.9903190941192,
          115.9903556704859,
          115.9905306771903,
          115.9905475047897,
          115.9905655610603,
          115.9905862473149,
          115.9904467156551,
          115.9904835715709,
          115.990598423206,
          115.9903645411195,
          115.9877336890102,
          115.9889759412021,
          115.9908535353204,
          115.990901684718,
          115.9909205172935,
          115.9908668295001,
          115.9908006953241,
          115.9907526922321
         ],
         "marker": {
          "color": [
           0,
           0,
           0,
           0,
           0,
           0,
           0,
           0,
           0,
           0,
           0,
           0,
           0,
           0,
           0,
           0,
           0,
           0,
           1,
           1,
           1,
           1,
           1,
           1,
           1,
           1,
           1,
           1,
           1,
           1,
           1,
           1,
           1,
           1,
           1,
           1,
           1,
           2,
           2,
           2,
           2,
           2,
           2,
           2,
           2,
           2,
           2,
           2,
           2,
           2,
           2,
           2,
           2,
           2,
           2,
           2,
           2,
           2,
           2,
           2,
           1,
           1,
           1,
           1,
           1,
           1,
           1,
           1,
           1,
           1,
           1,
           1,
           1,
           1,
           1,
           1,
           1,
           1,
           1,
           1,
           1,
           1,
           1,
           1,
           1,
           1,
           1,
           1,
           1,
           3,
           3,
           3,
           3,
           3,
           3,
           3,
           3,
           3,
           3,
           3,
           3,
           3,
           3,
           3,
           3,
           3,
           3,
           3,
           3,
           3,
           3,
           3,
           3,
           3,
           3,
           3,
           3,
           3,
           3,
           3,
           3,
           3,
           3,
           3,
           4,
           4,
           4,
           4,
           4,
           4,
           4,
           4,
           4,
           4,
           4,
           4,
           4,
           4,
           4,
           4,
           4,
           4,
           4,
           4,
           4,
           4
          ],
          "coloraxis": "coloraxis"
         },
         "mode": "markers",
         "name": "",
         "showlegend": false,
         "subplot": "mapbox",
         "type": "scattermapbox"
        },
        {
         "hovertemplate": "<b>%{hovertext}</b><br><br>lat=%{lat}<br>lon=%{lon}<extra></extra>",
         "hovertext": [
          "Sandalford Winery",
          "Nikola Estate",
          "Edgecombe Brothers",
          "Little River Winery and Café",
          "Black Swan Winery and Restaurant",
          "Lancaster Wines",
          "Mandoon Estate",
          "Mandoon Vineyard",
          "Oakover Grounds",
          "Henley Park Winery",
          "Upper Reach Winery",
          "Mann Winery",
          "Harris Organic Wines and Spirits",
          "John Kosovich Wines",
          "Twin Hill Wines",
          "Olive Farm Wines",
          "Ali's Vineyard",
          "Talijancich",
          "Tyler's Vineyard",
          "Fig Tree Estate Winery",
          "Lamont's Winery",
          "Faber Vineyard",
          "Swan Valley Wines",
          "Windy Creek Estate",
          "Holy Mary Cellars",
          "Jarrah Ridge Wines",
          "Katgully Wines Cellar Door",
          "Sittella",
          "Ugly Duckling Wines",
          "Heafod Glen Winery",
          "Ambrook Wines"
         ],
         "lat": [
          -31.868701,
          -31.854112,
          -31.795187,
          -31.824124,
          -31.823404,
          -31.85226,
          -31.868266,
          -31.867594,
          -31.84508,
          -31.797776,
          -31.795033,
          -31.793688,
          -31.794595,
          -31.795346,
          -31.796729,
          -31.811995,
          -31.814194,
          -31.818507,
          -31.812921,
          -31.804387,
          -31.80323,
          -31.796771,
          -31.796915,
          -31.830487,
          -31.835658,
          -31.836499,
          -31.835449,
          -31.830083,
          -31.830502,
          -31.822945,
          -31.871998
         ],
         "legendgroup": "",
         "lon": [
          115.992759,
          115.997995,
          115.998571,
          116.000888,
          116.00085,
          115.988887,
          115.994991,
          115.995494,
          116.007327,
          116.001641,
          116.008634,
          116.012546,
          116.02083,
          116.02076,
          116.020781,
          116.022232,
          116.01822,
          116.020341,
          116.040805,
          116.04003,
          116.037443,
          116.045655,
          116.048836,
          116.03056,
          116.021676,
          116.015532,
          116.021235,
          116.006851,
          115.997425,
          115.996817,
          115.981779
         ],
         "marker": {
          "color": "#636efa"
         },
         "mode": "markers",
         "name": "",
         "showlegend": false,
         "subplot": "mapbox",
         "type": "scattermapbox"
        }
       ],
       "layout": {
        "coloraxis": {
         "colorbar": {
          "title": {
           "text": "cluster"
          }
         },
         "colorscale": [
          [
           0,
           "#0d0887"
          ],
          [
           0.1111111111111111,
           "#46039f"
          ],
          [
           0.2222222222222222,
           "#7201a8"
          ],
          [
           0.3333333333333333,
           "#9c179e"
          ],
          [
           0.4444444444444444,
           "#bd3786"
          ],
          [
           0.5555555555555556,
           "#d8576b"
          ],
          [
           0.6666666666666666,
           "#ed7953"
          ],
          [
           0.7777777777777778,
           "#fb9f3a"
          ],
          [
           0.8888888888888888,
           "#fdca26"
          ],
          [
           1,
           "#f0f921"
          ]
         ]
        },
        "legend": {
         "tracegroupgap": 0
        },
        "mapbox": {
         "center": {
          "lat": -31.829142815097253,
          "lon": 116.00928029017983
         },
         "domain": {
          "x": [
           0,
           1
          ],
          "y": [
           0,
           1
          ]
         },
         "style": "open-street-map",
         "zoom": 8
        },
        "margin": {
         "b": 0,
         "l": 0,
         "r": 0,
         "t": 0
        },
        "template": {
         "data": {
          "bar": [
           {
            "error_x": {
             "color": "#2a3f5f"
            },
            "error_y": {
             "color": "#2a3f5f"
            },
            "marker": {
             "line": {
              "color": "#E5ECF6",
              "width": 0.5
             },
             "pattern": {
              "fillmode": "overlay",
              "size": 10,
              "solidity": 0.2
             }
            },
            "type": "bar"
           }
          ],
          "barpolar": [
           {
            "marker": {
             "line": {
              "color": "#E5ECF6",
              "width": 0.5
             },
             "pattern": {
              "fillmode": "overlay",
              "size": 10,
              "solidity": 0.2
             }
            },
            "type": "barpolar"
           }
          ],
          "carpet": [
           {
            "aaxis": {
             "endlinecolor": "#2a3f5f",
             "gridcolor": "white",
             "linecolor": "white",
             "minorgridcolor": "white",
             "startlinecolor": "#2a3f5f"
            },
            "baxis": {
             "endlinecolor": "#2a3f5f",
             "gridcolor": "white",
             "linecolor": "white",
             "minorgridcolor": "white",
             "startlinecolor": "#2a3f5f"
            },
            "type": "carpet"
           }
          ],
          "choropleth": [
           {
            "colorbar": {
             "outlinewidth": 0,
             "ticks": ""
            },
            "type": "choropleth"
           }
          ],
          "contour": [
           {
            "colorbar": {
             "outlinewidth": 0,
             "ticks": ""
            },
            "colorscale": [
             [
              0,
              "#0d0887"
             ],
             [
              0.1111111111111111,
              "#46039f"
             ],
             [
              0.2222222222222222,
              "#7201a8"
             ],
             [
              0.3333333333333333,
              "#9c179e"
             ],
             [
              0.4444444444444444,
              "#bd3786"
             ],
             [
              0.5555555555555556,
              "#d8576b"
             ],
             [
              0.6666666666666666,
              "#ed7953"
             ],
             [
              0.7777777777777778,
              "#fb9f3a"
             ],
             [
              0.8888888888888888,
              "#fdca26"
             ],
             [
              1,
              "#f0f921"
             ]
            ],
            "type": "contour"
           }
          ],
          "contourcarpet": [
           {
            "colorbar": {
             "outlinewidth": 0,
             "ticks": ""
            },
            "type": "contourcarpet"
           }
          ],
          "heatmap": [
           {
            "colorbar": {
             "outlinewidth": 0,
             "ticks": ""
            },
            "colorscale": [
             [
              0,
              "#0d0887"
             ],
             [
              0.1111111111111111,
              "#46039f"
             ],
             [
              0.2222222222222222,
              "#7201a8"
             ],
             [
              0.3333333333333333,
              "#9c179e"
             ],
             [
              0.4444444444444444,
              "#bd3786"
             ],
             [
              0.5555555555555556,
              "#d8576b"
             ],
             [
              0.6666666666666666,
              "#ed7953"
             ],
             [
              0.7777777777777778,
              "#fb9f3a"
             ],
             [
              0.8888888888888888,
              "#fdca26"
             ],
             [
              1,
              "#f0f921"
             ]
            ],
            "type": "heatmap"
           }
          ],
          "heatmapgl": [
           {
            "colorbar": {
             "outlinewidth": 0,
             "ticks": ""
            },
            "colorscale": [
             [
              0,
              "#0d0887"
             ],
             [
              0.1111111111111111,
              "#46039f"
             ],
             [
              0.2222222222222222,
              "#7201a8"
             ],
             [
              0.3333333333333333,
              "#9c179e"
             ],
             [
              0.4444444444444444,
              "#bd3786"
             ],
             [
              0.5555555555555556,
              "#d8576b"
             ],
             [
              0.6666666666666666,
              "#ed7953"
             ],
             [
              0.7777777777777778,
              "#fb9f3a"
             ],
             [
              0.8888888888888888,
              "#fdca26"
             ],
             [
              1,
              "#f0f921"
             ]
            ],
            "type": "heatmapgl"
           }
          ],
          "histogram": [
           {
            "marker": {
             "pattern": {
              "fillmode": "overlay",
              "size": 10,
              "solidity": 0.2
             }
            },
            "type": "histogram"
           }
          ],
          "histogram2d": [
           {
            "colorbar": {
             "outlinewidth": 0,
             "ticks": ""
            },
            "colorscale": [
             [
              0,
              "#0d0887"
             ],
             [
              0.1111111111111111,
              "#46039f"
             ],
             [
              0.2222222222222222,
              "#7201a8"
             ],
             [
              0.3333333333333333,
              "#9c179e"
             ],
             [
              0.4444444444444444,
              "#bd3786"
             ],
             [
              0.5555555555555556,
              "#d8576b"
             ],
             [
              0.6666666666666666,
              "#ed7953"
             ],
             [
              0.7777777777777778,
              "#fb9f3a"
             ],
             [
              0.8888888888888888,
              "#fdca26"
             ],
             [
              1,
              "#f0f921"
             ]
            ],
            "type": "histogram2d"
           }
          ],
          "histogram2dcontour": [
           {
            "colorbar": {
             "outlinewidth": 0,
             "ticks": ""
            },
            "colorscale": [
             [
              0,
              "#0d0887"
             ],
             [
              0.1111111111111111,
              "#46039f"
             ],
             [
              0.2222222222222222,
              "#7201a8"
             ],
             [
              0.3333333333333333,
              "#9c179e"
             ],
             [
              0.4444444444444444,
              "#bd3786"
             ],
             [
              0.5555555555555556,
              "#d8576b"
             ],
             [
              0.6666666666666666,
              "#ed7953"
             ],
             [
              0.7777777777777778,
              "#fb9f3a"
             ],
             [
              0.8888888888888888,
              "#fdca26"
             ],
             [
              1,
              "#f0f921"
             ]
            ],
            "type": "histogram2dcontour"
           }
          ],
          "mesh3d": [
           {
            "colorbar": {
             "outlinewidth": 0,
             "ticks": ""
            },
            "type": "mesh3d"
           }
          ],
          "parcoords": [
           {
            "line": {
             "colorbar": {
              "outlinewidth": 0,
              "ticks": ""
             }
            },
            "type": "parcoords"
           }
          ],
          "pie": [
           {
            "automargin": true,
            "type": "pie"
           }
          ],
          "scatter": [
           {
            "fillpattern": {
             "fillmode": "overlay",
             "size": 10,
             "solidity": 0.2
            },
            "type": "scatter"
           }
          ],
          "scatter3d": [
           {
            "line": {
             "colorbar": {
              "outlinewidth": 0,
              "ticks": ""
             }
            },
            "marker": {
             "colorbar": {
              "outlinewidth": 0,
              "ticks": ""
             }
            },
            "type": "scatter3d"
           }
          ],
          "scattercarpet": [
           {
            "marker": {
             "colorbar": {
              "outlinewidth": 0,
              "ticks": ""
             }
            },
            "type": "scattercarpet"
           }
          ],
          "scattergeo": [
           {
            "marker": {
             "colorbar": {
              "outlinewidth": 0,
              "ticks": ""
             }
            },
            "type": "scattergeo"
           }
          ],
          "scattergl": [
           {
            "marker": {
             "colorbar": {
              "outlinewidth": 0,
              "ticks": ""
             }
            },
            "type": "scattergl"
           }
          ],
          "scattermapbox": [
           {
            "marker": {
             "colorbar": {
              "outlinewidth": 0,
              "ticks": ""
             }
            },
            "type": "scattermapbox"
           }
          ],
          "scatterpolar": [
           {
            "marker": {
             "colorbar": {
              "outlinewidth": 0,
              "ticks": ""
             }
            },
            "type": "scatterpolar"
           }
          ],
          "scatterpolargl": [
           {
            "marker": {
             "colorbar": {
              "outlinewidth": 0,
              "ticks": ""
             }
            },
            "type": "scatterpolargl"
           }
          ],
          "scatterternary": [
           {
            "marker": {
             "colorbar": {
              "outlinewidth": 0,
              "ticks": ""
             }
            },
            "type": "scatterternary"
           }
          ],
          "surface": [
           {
            "colorbar": {
             "outlinewidth": 0,
             "ticks": ""
            },
            "colorscale": [
             [
              0,
              "#0d0887"
             ],
             [
              0.1111111111111111,
              "#46039f"
             ],
             [
              0.2222222222222222,
              "#7201a8"
             ],
             [
              0.3333333333333333,
              "#9c179e"
             ],
             [
              0.4444444444444444,
              "#bd3786"
             ],
             [
              0.5555555555555556,
              "#d8576b"
             ],
             [
              0.6666666666666666,
              "#ed7953"
             ],
             [
              0.7777777777777778,
              "#fb9f3a"
             ],
             [
              0.8888888888888888,
              "#fdca26"
             ],
             [
              1,
              "#f0f921"
             ]
            ],
            "type": "surface"
           }
          ],
          "table": [
           {
            "cells": {
             "fill": {
              "color": "#EBF0F8"
             },
             "line": {
              "color": "white"
             }
            },
            "header": {
             "fill": {
              "color": "#C8D4E3"
             },
             "line": {
              "color": "white"
             }
            },
            "type": "table"
           }
          ]
         },
         "layout": {
          "annotationdefaults": {
           "arrowcolor": "#2a3f5f",
           "arrowhead": 0,
           "arrowwidth": 1
          },
          "autotypenumbers": "strict",
          "coloraxis": {
           "colorbar": {
            "outlinewidth": 0,
            "ticks": ""
           }
          },
          "colorscale": {
           "diverging": [
            [
             0,
             "#8e0152"
            ],
            [
             0.1,
             "#c51b7d"
            ],
            [
             0.2,
             "#de77ae"
            ],
            [
             0.3,
             "#f1b6da"
            ],
            [
             0.4,
             "#fde0ef"
            ],
            [
             0.5,
             "#f7f7f7"
            ],
            [
             0.6,
             "#e6f5d0"
            ],
            [
             0.7,
             "#b8e186"
            ],
            [
             0.8,
             "#7fbc41"
            ],
            [
             0.9,
             "#4d9221"
            ],
            [
             1,
             "#276419"
            ]
           ],
           "sequential": [
            [
             0,
             "#0d0887"
            ],
            [
             0.1111111111111111,
             "#46039f"
            ],
            [
             0.2222222222222222,
             "#7201a8"
            ],
            [
             0.3333333333333333,
             "#9c179e"
            ],
            [
             0.4444444444444444,
             "#bd3786"
            ],
            [
             0.5555555555555556,
             "#d8576b"
            ],
            [
             0.6666666666666666,
             "#ed7953"
            ],
            [
             0.7777777777777778,
             "#fb9f3a"
            ],
            [
             0.8888888888888888,
             "#fdca26"
            ],
            [
             1,
             "#f0f921"
            ]
           ],
           "sequentialminus": [
            [
             0,
             "#0d0887"
            ],
            [
             0.1111111111111111,
             "#46039f"
            ],
            [
             0.2222222222222222,
             "#7201a8"
            ],
            [
             0.3333333333333333,
             "#9c179e"
            ],
            [
             0.4444444444444444,
             "#bd3786"
            ],
            [
             0.5555555555555556,
             "#d8576b"
            ],
            [
             0.6666666666666666,
             "#ed7953"
            ],
            [
             0.7777777777777778,
             "#fb9f3a"
            ],
            [
             0.8888888888888888,
             "#fdca26"
            ],
            [
             1,
             "#f0f921"
            ]
           ]
          },
          "colorway": [
           "#636efa",
           "#EF553B",
           "#00cc96",
           "#ab63fa",
           "#FFA15A",
           "#19d3f3",
           "#FF6692",
           "#B6E880",
           "#FF97FF",
           "#FECB52"
          ],
          "font": {
           "color": "#2a3f5f"
          },
          "geo": {
           "bgcolor": "white",
           "lakecolor": "white",
           "landcolor": "#E5ECF6",
           "showlakes": true,
           "showland": true,
           "subunitcolor": "white"
          },
          "hoverlabel": {
           "align": "left"
          },
          "hovermode": "closest",
          "mapbox": {
           "style": "light"
          },
          "paper_bgcolor": "white",
          "plot_bgcolor": "#E5ECF6",
          "polar": {
           "angularaxis": {
            "gridcolor": "white",
            "linecolor": "white",
            "ticks": ""
           },
           "bgcolor": "#E5ECF6",
           "radialaxis": {
            "gridcolor": "white",
            "linecolor": "white",
            "ticks": ""
           }
          },
          "scene": {
           "xaxis": {
            "backgroundcolor": "#E5ECF6",
            "gridcolor": "white",
            "gridwidth": 2,
            "linecolor": "white",
            "showbackground": true,
            "ticks": "",
            "zerolinecolor": "white"
           },
           "yaxis": {
            "backgroundcolor": "#E5ECF6",
            "gridcolor": "white",
            "gridwidth": 2,
            "linecolor": "white",
            "showbackground": true,
            "ticks": "",
            "zerolinecolor": "white"
           },
           "zaxis": {
            "backgroundcolor": "#E5ECF6",
            "gridcolor": "white",
            "gridwidth": 2,
            "linecolor": "white",
            "showbackground": true,
            "ticks": "",
            "zerolinecolor": "white"
           }
          },
          "shapedefaults": {
           "line": {
            "color": "#2a3f5f"
           }
          },
          "ternary": {
           "aaxis": {
            "gridcolor": "white",
            "linecolor": "white",
            "ticks": ""
           },
           "baxis": {
            "gridcolor": "white",
            "linecolor": "white",
            "ticks": ""
           },
           "bgcolor": "#E5ECF6",
           "caxis": {
            "gridcolor": "white",
            "linecolor": "white",
            "ticks": ""
           }
          },
          "title": {
           "x": 0.05
          },
          "xaxis": {
           "automargin": true,
           "gridcolor": "white",
           "linecolor": "white",
           "ticks": "",
           "title": {
            "standoff": 15
           },
           "zerolinecolor": "white",
           "zerolinewidth": 2
          },
          "yaxis": {
           "automargin": true,
           "gridcolor": "white",
           "linecolor": "white",
           "ticks": "",
           "title": {
            "standoff": 15
           },
           "zerolinecolor": "white",
           "zerolinewidth": 2
          }
         }
        }
       }
      },
      "text/html": [
       "<div>                            <div id=\"3cf10b4c-27f6-4bb1-97a1-b65e655a743b\" class=\"plotly-graph-div\" style=\"height:525px; width:100%;\"></div>            <script type=\"text/javascript\">                require([\"plotly\"], function(Plotly) {                    window.PLOTLYENV=window.PLOTLYENV || {};                                    if (document.getElementById(\"3cf10b4c-27f6-4bb1-97a1-b65e655a743b\")) {                    Plotly.newPlot(                        \"3cf10b4c-27f6-4bb1-97a1-b65e655a743b\",                        [{\"customdata\":[[\"Ali's Vineyard\"],[\"Ali's Vineyard\"],[\"Ali's Vineyard\"],[\"Ali's Vineyard\"],[\"Ali's Vineyard\"],[\"Ali's Vineyard\"],[\"Ali's Vineyard\"],[\"Ali's Vineyard\"],[\"Ali's Vineyard\"],[\"Ali's Vineyard\"],[\"Ali's Vineyard\"],[\"Ali's Vineyard\"],[\"Ali's Vineyard\"],[\"Ali's Vineyard\"],[\"Ali's Vineyard\"],[\"Ali's Vineyard\"],[\"Ali's Vineyard\"],[\"Ali's Vineyard\"],[\"Ugly Duckling Wines\"],[\"Ugly Duckling Wines\"],[\"Ugly Duckling Wines\"],[\"Ugly Duckling Wines\"],[\"Ugly Duckling Wines\"],[\"Ugly Duckling Wines\"],[\"Ugly Duckling Wines\"],[\"Ugly Duckling Wines\"],[\"Ugly Duckling Wines\"],[\"Ugly Duckling Wines\"],[\"Ugly Duckling Wines\"],[\"Ugly Duckling Wines\"],[\"Ugly Duckling Wines\"],[\"Ugly Duckling Wines\"],[\"Ugly Duckling Wines\"],[\"Ugly Duckling Wines\"],[\"Ugly Duckling Wines\"],[\"Ugly Duckling Wines\"],[\"Ugly Duckling Wines\"],[\"Faber Vineyard\"],[\"Faber Vineyard\"],[\"Faber Vineyard\"],[\"Faber Vineyard\"],[\"Faber Vineyard\"],[\"Faber Vineyard\"],[\"Faber Vineyard\"],[\"Faber Vineyard\"],[\"Faber Vineyard\"],[\"Faber Vineyard\"],[\"Faber Vineyard\"],[\"Faber Vineyard\"],[\"Faber Vineyard\"],[\"Faber Vineyard\"],[\"Faber Vineyard\"],[\"Faber Vineyard\"],[\"Faber Vineyard\"],[\"Faber Vineyard\"],[\"Faber Vineyard\"],[\"Faber Vineyard\"],[\"Faber Vineyard\"],[\"Faber Vineyard\"],[\"Faber Vineyard\"],[\"Ugly Duckling Wines\"],[\"Ugly Duckling Wines\"],[\"Ugly Duckling Wines\"],[\"Ugly Duckling Wines\"],[\"Ugly Duckling Wines\"],[\"Ugly Duckling Wines\"],[\"Ugly Duckling Wines\"],[\"Ugly Duckling Wines\"],[\"Ugly Duckling Wines\"],[\"Ugly Duckling Wines\"],[\"Ugly Duckling Wines\"],[\"Ugly Duckling Wines\"],[\"Ugly Duckling Wines\"],[\"Ugly Duckling Wines\"],[\"Ugly Duckling Wines\"],[\"Ugly Duckling Wines\"],[\"Ugly Duckling Wines\"],[\"Ugly Duckling Wines\"],[\"Ugly Duckling Wines\"],[\"Ugly Duckling Wines\"],[\"Ugly Duckling Wines\"],[\"Ugly Duckling Wines\"],[\"Ugly Duckling Wines\"],[\"Ugly Duckling Wines\"],[\"Ugly Duckling Wines\"],[\"Ugly Duckling Wines\"],[\"Ugly Duckling Wines\"],[\"Ugly Duckling Wines\"],[\"Ugly Duckling Wines\"],[\"Oakover Grounds\"],[\"Oakover Grounds\"],[\"Oakover Grounds\"],[\"Oakover Grounds\"],[\"Oakover Grounds\"],[\"Oakover Grounds\"],[\"Oakover Grounds\"],[\"Oakover Grounds\"],[\"Oakover Grounds\"],[\"Oakover Grounds\"],[\"Oakover Grounds\"],[\"Oakover Grounds\"],[\"Oakover Grounds\"],[\"Oakover Grounds\"],[\"Oakover Grounds\"],[\"Oakover Grounds\"],[\"Oakover Grounds\"],[\"Oakover Grounds\"],[\"Oakover Grounds\"],[\"Oakover Grounds\"],[\"Oakover Grounds\"],[\"Oakover Grounds\"],[\"Oakover Grounds\"],[\"Oakover Grounds\"],[\"Oakover Grounds\"],[\"Oakover Grounds\"],[\"Oakover Grounds\"],[\"Oakover Grounds\"],[\"Oakover Grounds\"],[\"Oakover Grounds\"],[\"Oakover Grounds\"],[\"Oakover Grounds\"],[\"Oakover Grounds\"],[\"Oakover Grounds\"],[\"Oakover Grounds\"],[\"Lancaster Wines\"],[\"Lancaster Wines\"],[\"Lancaster Wines\"],[\"Lancaster Wines\"],[\"Lancaster Wines\"],[\"Lancaster Wines\"],[\"Lancaster Wines\"],[\"Lancaster Wines\"],[\"Lancaster Wines\"],[\"Lancaster Wines\"],[\"Lancaster Wines\"],[\"Lancaster Wines\"],[\"Lancaster Wines\"],[\"Lancaster Wines\"],[\"Lancaster Wines\"],[\"Lancaster Wines\"],[\"Lancaster Wines\"],[\"Lancaster Wines\"],[\"Lancaster Wines\"],[\"Lancaster Wines\"],[\"Lancaster Wines\"],[\"Lancaster Wines\"]],\"hovertemplate\":\"<b>%{hovertext}</b><br><br>lat=%{lat}<br>lon=%{lon}<br>predicted_location_dbscan=%{customdata[0]}<br>cluster=%{marker.color}<extra></extra>\",\"hovertext\":[\"palm_tree\",\"palm_tree\",\"palm_tree\",\"palm_tree\",\"palm_tree\",\"palm_tree\",\"palm_tree\",\"palm_tree\",\"palm_tree\",\"palm_tree\",\"palm_tree\",\"palm_tree\",\"pizza_oven\",\"air_conditioner\",\"building\",\"shed\",\"shed\",\"shed\",\"picnic_bench\",\"picnic_bench\",\"planter\",\"planter\",\"building\",\"parking_lot\",\"patio\",\"water_tank\",\"air_conitioner\",\"patio\",\"building\",\"shed\",\"building\",\"building\",\"vineyard\",\"vineyard\",\"vineyard\",\"building\",\"parking_lot\",\"retaining_wall\",\"retaining_wall\",\"sign\",\"sign\",\"sign\",\"tree\",\"tree\",\"tree\",\"tree\",\"tree\",\"tree\",\"parking_lot\",\"vineyard\",\"vineyard\",\"building\",\"shed\",\"solar_panel\",\"building\",\"parking_lot\",\"shed\",\"building\",\"swimming_pool\",\"courtyard\",\"vineyard\",\"vineyard\",\"generator\",\"parking_lot\",\"carport\",\"bicycle_rack\",\"shed\",\"sculpture\",\"patio\",\"patio\",\"shed\",\"picnic_table\",\"picnic_table\",\"picnic_umbrella\",\"picnic_umbrella\",\"picnic_umbrella\",\"picnic_umbrella\",\"picnic_table\",\"picnic_table\",\"shed\",\"shed\",\"shed\",\"tree\",\"tree\",\"tree\",\"tree\",\"tree\",\"tree\",\"tree\",\"building\",\"pond\",\"bridge\",\"island\",\"vineyard\",\"swimming_pool\",\"building\",\"building\",\"tennis_court\",\"swimming_pool\",\"shade_cloth\",\"sign\",\"warehouse\",\"vat\",\"vat\",\"vat\",\"vat\",\"building\",\"parking_lot\",\"solar_panels\",\"solar_panels\",\"building\",\"fence\",\"jetty\",\"picnic_table\",\"picnic_table\",\"tank\",\"tank\",\"shed\",\"shipping_container\",\"shipping_container\",\"shipping_container\",\"shipping_container\",\"vineyard\",\"vineyard\",\"river\",\"vineyard\",\"vineyard\",\"parking_lot\",\"shed\",\"sign\",\"table\",\"table\",\"table\",\"table\",\"wine_barrell\",\"counter\",\"shed\",\"fence\",\"sign\",\"driveway\",\"picnic_table\",\"picnic_table\",\"picnic_table\",\"picnic_table\",\"picnic_table\",\"picnic_table\"],\"lat\":[-31.81445187554597,-31.81451940926452,-31.8145718117269,-31.81458084078105,-31.81462157655873,-31.81454971676524,-31.81448193361258,-31.81444773977627,-31.8143890181285,-31.81439660859307,-31.81434027785148,-31.81429434468795,-31.81429169178455,-31.81420767463152,-31.81394919889622,-31.81439717390363,-31.81432230857389,-31.8135457777316,-31.82401586475119,-31.82402821801069,-31.82400450902502,-31.82400258090139,-31.82417864772208,-31.82406166208574,-31.82414265894136,-31.82427841722326,-31.82414274552135,-31.82416289887374,-31.82414373469494,-31.82414175485055,-31.82429678566091,-31.8238198185718,-31.82470742057825,-31.8242299537138,-31.82369416405801,-31.82347585518145,-31.82372524293678,-31.79711445941102,-31.79711822124566,-31.79711822124567,-31.79711445941102,-31.79692113693582,-31.79707299441964,-31.79707639334401,-31.79701796869119,-31.79702180433045,-31.79695848151606,-31.7969572497282,-31.79698640377645,-31.79698932185287,-31.7946673883335,-31.79676259008081,-31.79676332889907,-31.79669029290958,-31.79664133173589,-31.79691654618838,-31.79658001770868,-31.79630852369076,-31.79620849056571,-31.79646472091715,-31.83039735327537,-31.83060476817275,-31.83020873465989,-31.83033573653752,-31.83038472086931,-31.83023391039609,-31.83047573335856,-31.83050151773064,-31.83051242847542,-31.83042950292597,-31.83048831452484,-31.83039290156244,-31.83042013524614,-31.83039529464335,-31.83041309005974,-31.83059039674292,-31.83062496370694,-31.83044919552612,-31.83055048589921,-31.83057537982879,-31.8306575917034,-31.83065965298827,-31.83079043292682,-31.83079112085596,-31.83079315668379,-31.83078775293374,-31.83079115492708,-31.83078777975723,-31.83079186264361,-31.84668336675156,-31.84590359767057,-31.84638920015648,-31.84633325480655,-31.84630620908671,-31.84642682355494,-31.84660379451255,-31.84534087718281,-31.84497134212882,-31.84520480790187,-31.84519057474693,-31.84696779013872,-31.84505951047444,-31.84518456887401,-31.84515103476856,-31.84510853881709,-31.84507695999562,-31.84512567428841,-31.84527487175123,-31.84487684093081,-31.84496527724279,-31.84505688510912,-31.84523158062051,-31.84538040931631,-31.84537004084413,-31.84537006574641,-31.84488600975254,-31.84485397635064,-31.84513430001038,-31.84466167779774,-31.84469149573804,-31.84472428455821,-31.84468823575176,-31.84538344253644,-31.84424690471754,-31.85109633797458,-31.85068649170797,-31.85278296339006,-31.85188710724418,-31.85210550561943,-31.8518872114326,-31.85182659388803,-31.85182616279369,-31.85182820538461,-31.85182506326957,-31.85189307872191,-31.85188320881234,-31.8518732548151,-31.85182222748639,-31.85198713829637,-31.85192250139609,-31.85189392826163,-31.85187442908764,-31.8518030858586,-31.8518024058948,-31.85180059356636,-31.85180195605045],\"legendgroup\":\"\",\"lon\":[116.0183374663027,116.0183259785979,116.0183161354075,116.0182529749383,116.0182086643162,116.0182128388363,116.018223361407,116.0182823408421,116.01821750659,116.0182474062873,116.0181813817572,116.0182631395714,116.0181961643027,116.0182334670006,116.0179055434116,116.0180953620699,116.0178051456259,116.0179865644773,116.0009142164415,116.000930932033,116.0009778539811,116.00092060426,116.0006048976215,116.0005802543637,116.0005190872192,116.0007722909438,116.0010150860718,116.0009461560145,116.0008411872399,116.0011891817338,116.0015213385211,116.0011641432193,116.0008309768264,116.0024406990624,116.0018976598281,116.0008501775059,116.0005857862165,116.0458851425753,116.0457670563354,116.0457670563353,116.0458851425753,116.0458175186144,116.0457592802574,116.0458562580698,116.0458650464963,116.0457701043378,116.0458575517662,116.0457695358829,116.0456561146581,116.0459678755513,116.0454319290855,116.0458568785181,116.0450705556765,116.0451148633962,116.0465802282568,116.0452797276304,116.045049160885,116.0451629606889,116.0452886782776,116.0458601290954,115.998939146043,115.9977318524493,115.9974576751721,115.9977420660818,115.997502299226,115.9974572459445,115.9977050969983,115.997777721079,115.997669167832,115.997431381974,115.9973518616014,115.9973090452622,115.9972816677781,115.9973045597328,115.9972807007919,115.9974222588125,115.9973755276259,115.9972085542997,115.9971975624587,115.9972416499528,115.9971742512736,115.997296680735,115.9971388569162,115.9971802611804,115.9972163578717,115.9972577899615,115.9973048744194,115.9973561509557,115.9974216940731,116.0086270958327,116.0076430354346,116.0075575103231,116.0077438974485,116.0059960349935,116.0046871040282,116.0047242747774,116.0049137333173,116.0049529458494,116.0046804703044,116.0046414836387,116.0066284586833,116.0060571495129,116.0063688107167,116.0063718225668,116.0063741620266,116.0063804564964,116.0066406806117,116.0070043014552,116.0073642354885,116.0073623012661,116.007341994294,116.0072570321877,116.007597008791,116.0075393399854,116.0076604504979,116.0068656915519,116.0066919339338,116.0072291966907,116.0072432872027,116.0072381097506,116.0072390830616,116.0074225863559,116.0124205441503,116.0066393647114,115.995810298809,115.9902290551793,115.9901750632805,115.9901520456193,115.9903190941192,115.9903556704859,115.9905306771903,115.9905475047897,115.9905655610603,115.9905862473149,115.9904467156551,115.9904835715709,115.990598423206,115.9903645411195,115.9877336890102,115.9889759412021,115.9908535353204,115.990901684718,115.9909205172935,115.9908668295001,115.9908006953241,115.9907526922321],\"marker\":{\"color\":[0,0,0,0,0,0,0,0,0,0,0,0,0,0,0,0,0,0,1,1,1,1,1,1,1,1,1,1,1,1,1,1,1,1,1,1,1,2,2,2,2,2,2,2,2,2,2,2,2,2,2,2,2,2,2,2,2,2,2,2,1,1,1,1,1,1,1,1,1,1,1,1,1,1,1,1,1,1,1,1,1,1,1,1,1,1,1,1,1,3,3,3,3,3,3,3,3,3,3,3,3,3,3,3,3,3,3,3,3,3,3,3,3,3,3,3,3,3,3,3,3,3,3,3,4,4,4,4,4,4,4,4,4,4,4,4,4,4,4,4,4,4,4,4,4,4],\"coloraxis\":\"coloraxis\"},\"mode\":\"markers\",\"name\":\"\",\"showlegend\":false,\"subplot\":\"mapbox\",\"type\":\"scattermapbox\"},{\"hovertemplate\":\"<b>%{hovertext}</b><br><br>lat=%{lat}<br>lon=%{lon}<extra></extra>\",\"hovertext\":[\"Sandalford Winery\",\"Nikola Estate\",\"Edgecombe Brothers\",\"Little River Winery and Caf\\u00e9\",\"Black Swan Winery and Restaurant\",\"Lancaster Wines\",\"Mandoon Estate\",\"Mandoon Vineyard\",\"Oakover Grounds\",\"Henley Park Winery\",\"Upper Reach Winery\",\"Mann Winery\",\"Harris Organic Wines and Spirits\",\"John Kosovich Wines\",\"Twin Hill Wines\",\"Olive Farm Wines\",\"Ali's Vineyard\",\"Talijancich\",\"Tyler's Vineyard\",\"Fig Tree Estate Winery\",\"Lamont's Winery\",\"Faber Vineyard\",\"Swan Valley Wines\",\"Windy Creek Estate\",\"Holy Mary Cellars\",\"Jarrah Ridge Wines\",\"Katgully Wines Cellar Door\",\"Sittella\",\"Ugly Duckling Wines\",\"Heafod Glen Winery\",\"Ambrook Wines\"],\"lat\":[-31.868701,-31.854112,-31.795187,-31.824124,-31.823404,-31.85226,-31.868266,-31.867594,-31.84508,-31.797776,-31.795033,-31.793688,-31.794595,-31.795346,-31.796729,-31.811995,-31.814194,-31.818507,-31.812921,-31.804387,-31.80323,-31.796771,-31.796915,-31.830487,-31.835658,-31.836499,-31.835449,-31.830083,-31.830502,-31.822945,-31.871998],\"legendgroup\":\"\",\"lon\":[115.992759,115.997995,115.998571,116.000888,116.00085,115.988887,115.994991,115.995494,116.007327,116.001641,116.008634,116.012546,116.02083,116.02076,116.020781,116.022232,116.01822,116.020341,116.040805,116.04003,116.037443,116.045655,116.048836,116.03056,116.021676,116.015532,116.021235,116.006851,115.997425,115.996817,115.981779],\"marker\":{\"color\":\"#636efa\"},\"mode\":\"markers\",\"name\":\"\",\"showlegend\":false,\"subplot\":\"mapbox\",\"type\":\"scattermapbox\"}],                        {\"template\":{\"data\":{\"histogram2dcontour\":[{\"type\":\"histogram2dcontour\",\"colorbar\":{\"outlinewidth\":0,\"ticks\":\"\"},\"colorscale\":[[0.0,\"#0d0887\"],[0.1111111111111111,\"#46039f\"],[0.2222222222222222,\"#7201a8\"],[0.3333333333333333,\"#9c179e\"],[0.4444444444444444,\"#bd3786\"],[0.5555555555555556,\"#d8576b\"],[0.6666666666666666,\"#ed7953\"],[0.7777777777777778,\"#fb9f3a\"],[0.8888888888888888,\"#fdca26\"],[1.0,\"#f0f921\"]]}],\"choropleth\":[{\"type\":\"choropleth\",\"colorbar\":{\"outlinewidth\":0,\"ticks\":\"\"}}],\"histogram2d\":[{\"type\":\"histogram2d\",\"colorbar\":{\"outlinewidth\":0,\"ticks\":\"\"},\"colorscale\":[[0.0,\"#0d0887\"],[0.1111111111111111,\"#46039f\"],[0.2222222222222222,\"#7201a8\"],[0.3333333333333333,\"#9c179e\"],[0.4444444444444444,\"#bd3786\"],[0.5555555555555556,\"#d8576b\"],[0.6666666666666666,\"#ed7953\"],[0.7777777777777778,\"#fb9f3a\"],[0.8888888888888888,\"#fdca26\"],[1.0,\"#f0f921\"]]}],\"heatmap\":[{\"type\":\"heatmap\",\"colorbar\":{\"outlinewidth\":0,\"ticks\":\"\"},\"colorscale\":[[0.0,\"#0d0887\"],[0.1111111111111111,\"#46039f\"],[0.2222222222222222,\"#7201a8\"],[0.3333333333333333,\"#9c179e\"],[0.4444444444444444,\"#bd3786\"],[0.5555555555555556,\"#d8576b\"],[0.6666666666666666,\"#ed7953\"],[0.7777777777777778,\"#fb9f3a\"],[0.8888888888888888,\"#fdca26\"],[1.0,\"#f0f921\"]]}],\"heatmapgl\":[{\"type\":\"heatmapgl\",\"colorbar\":{\"outlinewidth\":0,\"ticks\":\"\"},\"colorscale\":[[0.0,\"#0d0887\"],[0.1111111111111111,\"#46039f\"],[0.2222222222222222,\"#7201a8\"],[0.3333333333333333,\"#9c179e\"],[0.4444444444444444,\"#bd3786\"],[0.5555555555555556,\"#d8576b\"],[0.6666666666666666,\"#ed7953\"],[0.7777777777777778,\"#fb9f3a\"],[0.8888888888888888,\"#fdca26\"],[1.0,\"#f0f921\"]]}],\"contourcarpet\":[{\"type\":\"contourcarpet\",\"colorbar\":{\"outlinewidth\":0,\"ticks\":\"\"}}],\"contour\":[{\"type\":\"contour\",\"colorbar\":{\"outlinewidth\":0,\"ticks\":\"\"},\"colorscale\":[[0.0,\"#0d0887\"],[0.1111111111111111,\"#46039f\"],[0.2222222222222222,\"#7201a8\"],[0.3333333333333333,\"#9c179e\"],[0.4444444444444444,\"#bd3786\"],[0.5555555555555556,\"#d8576b\"],[0.6666666666666666,\"#ed7953\"],[0.7777777777777778,\"#fb9f3a\"],[0.8888888888888888,\"#fdca26\"],[1.0,\"#f0f921\"]]}],\"surface\":[{\"type\":\"surface\",\"colorbar\":{\"outlinewidth\":0,\"ticks\":\"\"},\"colorscale\":[[0.0,\"#0d0887\"],[0.1111111111111111,\"#46039f\"],[0.2222222222222222,\"#7201a8\"],[0.3333333333333333,\"#9c179e\"],[0.4444444444444444,\"#bd3786\"],[0.5555555555555556,\"#d8576b\"],[0.6666666666666666,\"#ed7953\"],[0.7777777777777778,\"#fb9f3a\"],[0.8888888888888888,\"#fdca26\"],[1.0,\"#f0f921\"]]}],\"mesh3d\":[{\"type\":\"mesh3d\",\"colorbar\":{\"outlinewidth\":0,\"ticks\":\"\"}}],\"scatter\":[{\"fillpattern\":{\"fillmode\":\"overlay\",\"size\":10,\"solidity\":0.2},\"type\":\"scatter\"}],\"parcoords\":[{\"type\":\"parcoords\",\"line\":{\"colorbar\":{\"outlinewidth\":0,\"ticks\":\"\"}}}],\"scatterpolargl\":[{\"type\":\"scatterpolargl\",\"marker\":{\"colorbar\":{\"outlinewidth\":0,\"ticks\":\"\"}}}],\"bar\":[{\"error_x\":{\"color\":\"#2a3f5f\"},\"error_y\":{\"color\":\"#2a3f5f\"},\"marker\":{\"line\":{\"color\":\"#E5ECF6\",\"width\":0.5},\"pattern\":{\"fillmode\":\"overlay\",\"size\":10,\"solidity\":0.2}},\"type\":\"bar\"}],\"scattergeo\":[{\"type\":\"scattergeo\",\"marker\":{\"colorbar\":{\"outlinewidth\":0,\"ticks\":\"\"}}}],\"scatterpolar\":[{\"type\":\"scatterpolar\",\"marker\":{\"colorbar\":{\"outlinewidth\":0,\"ticks\":\"\"}}}],\"histogram\":[{\"marker\":{\"pattern\":{\"fillmode\":\"overlay\",\"size\":10,\"solidity\":0.2}},\"type\":\"histogram\"}],\"scattergl\":[{\"type\":\"scattergl\",\"marker\":{\"colorbar\":{\"outlinewidth\":0,\"ticks\":\"\"}}}],\"scatter3d\":[{\"type\":\"scatter3d\",\"line\":{\"colorbar\":{\"outlinewidth\":0,\"ticks\":\"\"}},\"marker\":{\"colorbar\":{\"outlinewidth\":0,\"ticks\":\"\"}}}],\"scattermapbox\":[{\"type\":\"scattermapbox\",\"marker\":{\"colorbar\":{\"outlinewidth\":0,\"ticks\":\"\"}}}],\"scatterternary\":[{\"type\":\"scatterternary\",\"marker\":{\"colorbar\":{\"outlinewidth\":0,\"ticks\":\"\"}}}],\"scattercarpet\":[{\"type\":\"scattercarpet\",\"marker\":{\"colorbar\":{\"outlinewidth\":0,\"ticks\":\"\"}}}],\"carpet\":[{\"aaxis\":{\"endlinecolor\":\"#2a3f5f\",\"gridcolor\":\"white\",\"linecolor\":\"white\",\"minorgridcolor\":\"white\",\"startlinecolor\":\"#2a3f5f\"},\"baxis\":{\"endlinecolor\":\"#2a3f5f\",\"gridcolor\":\"white\",\"linecolor\":\"white\",\"minorgridcolor\":\"white\",\"startlinecolor\":\"#2a3f5f\"},\"type\":\"carpet\"}],\"table\":[{\"cells\":{\"fill\":{\"color\":\"#EBF0F8\"},\"line\":{\"color\":\"white\"}},\"header\":{\"fill\":{\"color\":\"#C8D4E3\"},\"line\":{\"color\":\"white\"}},\"type\":\"table\"}],\"barpolar\":[{\"marker\":{\"line\":{\"color\":\"#E5ECF6\",\"width\":0.5},\"pattern\":{\"fillmode\":\"overlay\",\"size\":10,\"solidity\":0.2}},\"type\":\"barpolar\"}],\"pie\":[{\"automargin\":true,\"type\":\"pie\"}]},\"layout\":{\"autotypenumbers\":\"strict\",\"colorway\":[\"#636efa\",\"#EF553B\",\"#00cc96\",\"#ab63fa\",\"#FFA15A\",\"#19d3f3\",\"#FF6692\",\"#B6E880\",\"#FF97FF\",\"#FECB52\"],\"font\":{\"color\":\"#2a3f5f\"},\"hovermode\":\"closest\",\"hoverlabel\":{\"align\":\"left\"},\"paper_bgcolor\":\"white\",\"plot_bgcolor\":\"#E5ECF6\",\"polar\":{\"bgcolor\":\"#E5ECF6\",\"angularaxis\":{\"gridcolor\":\"white\",\"linecolor\":\"white\",\"ticks\":\"\"},\"radialaxis\":{\"gridcolor\":\"white\",\"linecolor\":\"white\",\"ticks\":\"\"}},\"ternary\":{\"bgcolor\":\"#E5ECF6\",\"aaxis\":{\"gridcolor\":\"white\",\"linecolor\":\"white\",\"ticks\":\"\"},\"baxis\":{\"gridcolor\":\"white\",\"linecolor\":\"white\",\"ticks\":\"\"},\"caxis\":{\"gridcolor\":\"white\",\"linecolor\":\"white\",\"ticks\":\"\"}},\"coloraxis\":{\"colorbar\":{\"outlinewidth\":0,\"ticks\":\"\"}},\"colorscale\":{\"sequential\":[[0.0,\"#0d0887\"],[0.1111111111111111,\"#46039f\"],[0.2222222222222222,\"#7201a8\"],[0.3333333333333333,\"#9c179e\"],[0.4444444444444444,\"#bd3786\"],[0.5555555555555556,\"#d8576b\"],[0.6666666666666666,\"#ed7953\"],[0.7777777777777778,\"#fb9f3a\"],[0.8888888888888888,\"#fdca26\"],[1.0,\"#f0f921\"]],\"sequentialminus\":[[0.0,\"#0d0887\"],[0.1111111111111111,\"#46039f\"],[0.2222222222222222,\"#7201a8\"],[0.3333333333333333,\"#9c179e\"],[0.4444444444444444,\"#bd3786\"],[0.5555555555555556,\"#d8576b\"],[0.6666666666666666,\"#ed7953\"],[0.7777777777777778,\"#fb9f3a\"],[0.8888888888888888,\"#fdca26\"],[1.0,\"#f0f921\"]],\"diverging\":[[0,\"#8e0152\"],[0.1,\"#c51b7d\"],[0.2,\"#de77ae\"],[0.3,\"#f1b6da\"],[0.4,\"#fde0ef\"],[0.5,\"#f7f7f7\"],[0.6,\"#e6f5d0\"],[0.7,\"#b8e186\"],[0.8,\"#7fbc41\"],[0.9,\"#4d9221\"],[1,\"#276419\"]]},\"xaxis\":{\"gridcolor\":\"white\",\"linecolor\":\"white\",\"ticks\":\"\",\"title\":{\"standoff\":15},\"zerolinecolor\":\"white\",\"automargin\":true,\"zerolinewidth\":2},\"yaxis\":{\"gridcolor\":\"white\",\"linecolor\":\"white\",\"ticks\":\"\",\"title\":{\"standoff\":15},\"zerolinecolor\":\"white\",\"automargin\":true,\"zerolinewidth\":2},\"scene\":{\"xaxis\":{\"backgroundcolor\":\"#E5ECF6\",\"gridcolor\":\"white\",\"linecolor\":\"white\",\"showbackground\":true,\"ticks\":\"\",\"zerolinecolor\":\"white\",\"gridwidth\":2},\"yaxis\":{\"backgroundcolor\":\"#E5ECF6\",\"gridcolor\":\"white\",\"linecolor\":\"white\",\"showbackground\":true,\"ticks\":\"\",\"zerolinecolor\":\"white\",\"gridwidth\":2},\"zaxis\":{\"backgroundcolor\":\"#E5ECF6\",\"gridcolor\":\"white\",\"linecolor\":\"white\",\"showbackground\":true,\"ticks\":\"\",\"zerolinecolor\":\"white\",\"gridwidth\":2}},\"shapedefaults\":{\"line\":{\"color\":\"#2a3f5f\"}},\"annotationdefaults\":{\"arrowcolor\":\"#2a3f5f\",\"arrowhead\":0,\"arrowwidth\":1},\"geo\":{\"bgcolor\":\"white\",\"landcolor\":\"#E5ECF6\",\"subunitcolor\":\"white\",\"showland\":true,\"showlakes\":true,\"lakecolor\":\"white\"},\"title\":{\"x\":0.05},\"mapbox\":{\"style\":\"light\"}}},\"mapbox\":{\"domain\":{\"x\":[0.0,1.0],\"y\":[0.0,1.0]},\"center\":{\"lat\":-31.829142815097253,\"lon\":116.00928029017983},\"zoom\":8,\"style\":\"open-street-map\"},\"coloraxis\":{\"colorbar\":{\"title\":{\"text\":\"cluster\"}},\"colorscale\":[[0.0,\"#0d0887\"],[0.1111111111111111,\"#46039f\"],[0.2222222222222222,\"#7201a8\"],[0.3333333333333333,\"#9c179e\"],[0.4444444444444444,\"#bd3786\"],[0.5555555555555556,\"#d8576b\"],[0.6666666666666666,\"#ed7953\"],[0.7777777777777778,\"#fb9f3a\"],[0.8888888888888888,\"#fdca26\"],[1.0,\"#f0f921\"]]},\"legend\":{\"tracegroupgap\":0},\"margin\":{\"t\":0,\"r\":0,\"l\":0,\"b\":0}},                        {\"responsive\": true}                    ).then(function(){\n",
       "                            \n",
       "var gd = document.getElementById('3cf10b4c-27f6-4bb1-97a1-b65e655a743b');\n",
       "var x = new MutationObserver(function (mutations, observer) {{\n",
       "        var display = window.getComputedStyle(gd).display;\n",
       "        if (!display || display === 'none') {{\n",
       "            console.log([gd, 'removed!']);\n",
       "            Plotly.purge(gd);\n",
       "            observer.disconnect();\n",
       "        }}\n",
       "}});\n",
       "\n",
       "// Listen for the removal of the full notebook cells\n",
       "var notebookContainer = gd.closest('#notebook-container');\n",
       "if (notebookContainer) {{\n",
       "    x.observe(notebookContainer, {childList: true});\n",
       "}}\n",
       "\n",
       "// Listen for the clearing of the current output cell\n",
       "var outputEl = gd.closest('.output');\n",
       "if (outputEl) {{\n",
       "    x.observe(outputEl, {childList: true});\n",
       "}}\n",
       "\n",
       "                        })                };                });            </script>        </div>"
      ]
     },
     "metadata": {},
     "output_type": "display_data"
    }
   ],
   "source": [
    "#Update relevant data\n",
    "obj_df = pd.read_csv(dataDir+'/obj_df.csv')\n",
    "\n",
    "gdf = geopandas.GeoDataFrame(\n",
    "    obj_df, geometry=geopandas.points_from_xy(obj_df.latitude, obj_df.longitude), crs=\"EPSG:4326\"\n",
    ")\n",
    "\n",
    "gdf_locs = geopandas.GeoDataFrame(\n",
    "    osm_df, geometry=geopandas.points_from_xy(osm_df.latitude, osm_df.longitude), crs=\"EPSG:4326\"\n",
    ")\n",
    "geo_df = gdf\n",
    "\n",
    "geo_locs = gdf_locs\n",
    "\n",
    "geo_df['predicted_location_dbscan'].mask(geo_df['cluster'] == '-1', 'NOISE', inplace=True)\n",
    "\n",
    "#Make the plots\n",
    "fig = px.scatter_mapbox(geo_df,\n",
    "                    lat=geo_df.geometry.y,\n",
    "                    lon=geo_df.geometry.x,\n",
    "                    color=\"cluster\",\n",
    "                    hover_name=\"object\",\n",
    "                    hover_data=[\"predicted_location_dbscan\"])\n",
    "\n",
    "fig2 = px.scatter_mapbox(geo_locs, \n",
    "                        lat = geo_locs.geometry.y,\n",
    "                        lon = geo_locs.geometry.x,\n",
    "                        hover_name=\"location\")\n",
    "\n",
    "fig.add_trace(fig2.data[0])\n",
    "\n",
    "fig.update_layout(\n",
    "    mapbox_style=\"open-street-map\")\n",
    "fig.update_layout(margin={\"r\":0,\"t\":0,\"l\":0,\"b\":0})\n",
    "fig.show()"
   ]
  },
  {
   "cell_type": "markdown",
   "id": "568e2e2d",
   "metadata": {},
   "source": [
    "## Epsilon == 1000m, GroupSize == 3\n",
    "\n",
    "    True     0\n",
    "    False    146\n",
    "\n",
    "    0    146\n",
    "    \n",
    "Here, much like with k-means k=1, the epsilon being 1000m is too large, and all the clusters merge into 1, and are assigned to the wrong location (sitella)\n"
   ]
  },
  {
   "cell_type": "code",
   "execution_count": 114,
   "id": "b8395e1e",
   "metadata": {},
   "outputs": [
    {
     "data": {
      "application/vnd.plotly.v1+json": {
       "config": {
        "plotlyServerURL": "https://plot.ly"
       },
       "data": [
        {
         "customdata": [
          [
           "Sittella"
          ],
          [
           "Sittella"
          ],
          [
           "Sittella"
          ],
          [
           "Sittella"
          ],
          [
           "Sittella"
          ],
          [
           "Sittella"
          ],
          [
           "Sittella"
          ],
          [
           "Sittella"
          ],
          [
           "Sittella"
          ],
          [
           "Sittella"
          ],
          [
           "Sittella"
          ],
          [
           "Sittella"
          ],
          [
           "Sittella"
          ],
          [
           "Sittella"
          ],
          [
           "Sittella"
          ],
          [
           "Sittella"
          ],
          [
           "Sittella"
          ],
          [
           "Sittella"
          ],
          [
           "Sittella"
          ],
          [
           "Sittella"
          ],
          [
           "Sittella"
          ],
          [
           "Sittella"
          ],
          [
           "Sittella"
          ],
          [
           "Sittella"
          ],
          [
           "Sittella"
          ],
          [
           "Sittella"
          ],
          [
           "Sittella"
          ],
          [
           "Sittella"
          ],
          [
           "Sittella"
          ],
          [
           "Sittella"
          ],
          [
           "Sittella"
          ],
          [
           "Sittella"
          ],
          [
           "Sittella"
          ],
          [
           "Sittella"
          ],
          [
           "Sittella"
          ],
          [
           "Sittella"
          ],
          [
           "Sittella"
          ],
          [
           "Sittella"
          ],
          [
           "Sittella"
          ],
          [
           "Sittella"
          ],
          [
           "Sittella"
          ],
          [
           "Sittella"
          ],
          [
           "Sittella"
          ],
          [
           "Sittella"
          ],
          [
           "Sittella"
          ],
          [
           "Sittella"
          ],
          [
           "Sittella"
          ],
          [
           "Sittella"
          ],
          [
           "Sittella"
          ],
          [
           "Sittella"
          ],
          [
           "Sittella"
          ],
          [
           "Sittella"
          ],
          [
           "Sittella"
          ],
          [
           "Sittella"
          ],
          [
           "Sittella"
          ],
          [
           "Sittella"
          ],
          [
           "Sittella"
          ],
          [
           "Sittella"
          ],
          [
           "Sittella"
          ],
          [
           "Sittella"
          ],
          [
           "Sittella"
          ],
          [
           "Sittella"
          ],
          [
           "Sittella"
          ],
          [
           "Sittella"
          ],
          [
           "Sittella"
          ],
          [
           "Sittella"
          ],
          [
           "Sittella"
          ],
          [
           "Sittella"
          ],
          [
           "Sittella"
          ],
          [
           "Sittella"
          ],
          [
           "Sittella"
          ],
          [
           "Sittella"
          ],
          [
           "Sittella"
          ],
          [
           "Sittella"
          ],
          [
           "Sittella"
          ],
          [
           "Sittella"
          ],
          [
           "Sittella"
          ],
          [
           "Sittella"
          ],
          [
           "Sittella"
          ],
          [
           "Sittella"
          ],
          [
           "Sittella"
          ],
          [
           "Sittella"
          ],
          [
           "Sittella"
          ],
          [
           "Sittella"
          ],
          [
           "Sittella"
          ],
          [
           "Sittella"
          ],
          [
           "Sittella"
          ],
          [
           "Sittella"
          ],
          [
           "Sittella"
          ],
          [
           "Sittella"
          ],
          [
           "Sittella"
          ],
          [
           "Sittella"
          ],
          [
           "Sittella"
          ],
          [
           "Sittella"
          ],
          [
           "Sittella"
          ],
          [
           "Sittella"
          ],
          [
           "Sittella"
          ],
          [
           "Sittella"
          ],
          [
           "Sittella"
          ],
          [
           "Sittella"
          ],
          [
           "Sittella"
          ],
          [
           "Sittella"
          ],
          [
           "Sittella"
          ],
          [
           "Sittella"
          ],
          [
           "Sittella"
          ],
          [
           "Sittella"
          ],
          [
           "Sittella"
          ],
          [
           "Sittella"
          ],
          [
           "Sittella"
          ],
          [
           "Sittella"
          ],
          [
           "Sittella"
          ],
          [
           "Sittella"
          ],
          [
           "Sittella"
          ],
          [
           "Sittella"
          ],
          [
           "Sittella"
          ],
          [
           "Sittella"
          ],
          [
           "Sittella"
          ],
          [
           "Sittella"
          ],
          [
           "Sittella"
          ],
          [
           "Sittella"
          ],
          [
           "Sittella"
          ],
          [
           "Sittella"
          ],
          [
           "Sittella"
          ],
          [
           "Sittella"
          ],
          [
           "Sittella"
          ],
          [
           "Sittella"
          ],
          [
           "Sittella"
          ],
          [
           "Sittella"
          ],
          [
           "Sittella"
          ],
          [
           "Sittella"
          ],
          [
           "Sittella"
          ],
          [
           "Sittella"
          ],
          [
           "Sittella"
          ],
          [
           "Sittella"
          ],
          [
           "Sittella"
          ],
          [
           "Sittella"
          ],
          [
           "Sittella"
          ],
          [
           "Sittella"
          ],
          [
           "Sittella"
          ],
          [
           "Sittella"
          ],
          [
           "Sittella"
          ],
          [
           "Sittella"
          ],
          [
           "Sittella"
          ],
          [
           "Sittella"
          ],
          [
           "Sittella"
          ],
          [
           "Sittella"
          ]
         ],
         "hovertemplate": "<b>%{hovertext}</b><br><br>lat=%{lat}<br>lon=%{lon}<br>predicted_location_dbscan=%{customdata[0]}<br>cluster=%{marker.color}<extra></extra>",
         "hovertext": [
          "palm_tree",
          "palm_tree",
          "palm_tree",
          "palm_tree",
          "palm_tree",
          "palm_tree",
          "palm_tree",
          "palm_tree",
          "palm_tree",
          "palm_tree",
          "palm_tree",
          "palm_tree",
          "pizza_oven",
          "air_conditioner",
          "building",
          "shed",
          "shed",
          "shed",
          "picnic_bench",
          "picnic_bench",
          "planter",
          "planter",
          "building",
          "parking_lot",
          "patio",
          "water_tank",
          "air_conitioner",
          "patio",
          "building",
          "shed",
          "building",
          "building",
          "vineyard",
          "vineyard",
          "vineyard",
          "building",
          "parking_lot",
          "retaining_wall",
          "retaining_wall",
          "sign",
          "sign",
          "sign",
          "tree",
          "tree",
          "tree",
          "tree",
          "tree",
          "tree",
          "parking_lot",
          "vineyard",
          "vineyard",
          "building",
          "shed",
          "solar_panel",
          "building",
          "parking_lot",
          "shed",
          "building",
          "swimming_pool",
          "courtyard",
          "vineyard",
          "vineyard",
          "generator",
          "parking_lot",
          "carport",
          "bicycle_rack",
          "shed",
          "sculpture",
          "patio",
          "patio",
          "shed",
          "picnic_table",
          "picnic_table",
          "picnic_umbrella",
          "picnic_umbrella",
          "picnic_umbrella",
          "picnic_umbrella",
          "picnic_table",
          "picnic_table",
          "shed",
          "shed",
          "shed",
          "tree",
          "tree",
          "tree",
          "tree",
          "tree",
          "tree",
          "tree",
          "building",
          "pond",
          "bridge",
          "island",
          "vineyard",
          "swimming_pool",
          "building",
          "building",
          "tennis_court",
          "swimming_pool",
          "shade_cloth",
          "sign",
          "warehouse",
          "vat",
          "vat",
          "vat",
          "vat",
          "building",
          "parking_lot",
          "solar_panels",
          "solar_panels",
          "building",
          "fence",
          "jetty",
          "picnic_table",
          "picnic_table",
          "tank",
          "tank",
          "shed",
          "shipping_container",
          "shipping_container",
          "shipping_container",
          "shipping_container",
          "vineyard",
          "vineyard",
          "river",
          "vineyard",
          "vineyard",
          "parking_lot",
          "shed",
          "sign",
          "table",
          "table",
          "table",
          "table",
          "wine_barrell",
          "counter",
          "shed",
          "fence",
          "sign",
          "driveway",
          "picnic_table",
          "picnic_table",
          "picnic_table",
          "picnic_table",
          "picnic_table",
          "picnic_table"
         ],
         "lat": [
          -31.81445187554597,
          -31.81451940926452,
          -31.8145718117269,
          -31.81458084078105,
          -31.81462157655873,
          -31.81454971676524,
          -31.81448193361258,
          -31.81444773977627,
          -31.8143890181285,
          -31.81439660859307,
          -31.81434027785148,
          -31.81429434468795,
          -31.81429169178455,
          -31.81420767463152,
          -31.81394919889622,
          -31.81439717390363,
          -31.81432230857389,
          -31.8135457777316,
          -31.82401586475119,
          -31.82402821801069,
          -31.82400450902502,
          -31.82400258090139,
          -31.82417864772208,
          -31.82406166208574,
          -31.82414265894136,
          -31.82427841722326,
          -31.82414274552135,
          -31.82416289887374,
          -31.82414373469494,
          -31.82414175485055,
          -31.82429678566091,
          -31.8238198185718,
          -31.82470742057825,
          -31.8242299537138,
          -31.82369416405801,
          -31.82347585518145,
          -31.82372524293678,
          -31.79711445941102,
          -31.79711822124566,
          -31.79711822124567,
          -31.79711445941102,
          -31.79692113693582,
          -31.79707299441964,
          -31.79707639334401,
          -31.79701796869119,
          -31.79702180433045,
          -31.79695848151606,
          -31.7969572497282,
          -31.79698640377645,
          -31.79698932185287,
          -31.7946673883335,
          -31.79676259008081,
          -31.79676332889907,
          -31.79669029290958,
          -31.79664133173589,
          -31.79691654618838,
          -31.79658001770868,
          -31.79630852369076,
          -31.79620849056571,
          -31.79646472091715,
          -31.83039735327537,
          -31.83060476817275,
          -31.83020873465989,
          -31.83033573653752,
          -31.83038472086931,
          -31.83023391039609,
          -31.83047573335856,
          -31.83050151773064,
          -31.83051242847542,
          -31.83042950292597,
          -31.83048831452484,
          -31.83039290156244,
          -31.83042013524614,
          -31.83039529464335,
          -31.83041309005974,
          -31.83059039674292,
          -31.83062496370694,
          -31.83044919552612,
          -31.83055048589921,
          -31.83057537982879,
          -31.8306575917034,
          -31.83065965298827,
          -31.83079043292682,
          -31.83079112085596,
          -31.83079315668379,
          -31.83078775293374,
          -31.83079115492708,
          -31.83078777975723,
          -31.83079186264361,
          -31.84668336675156,
          -31.84590359767057,
          -31.84638920015648,
          -31.84633325480655,
          -31.84630620908671,
          -31.84642682355494,
          -31.84660379451255,
          -31.84534087718281,
          -31.84497134212882,
          -31.84520480790187,
          -31.84519057474693,
          -31.84696779013872,
          -31.84505951047444,
          -31.84518456887401,
          -31.84515103476856,
          -31.84510853881709,
          -31.84507695999562,
          -31.84512567428841,
          -31.84527487175123,
          -31.84487684093081,
          -31.84496527724279,
          -31.84505688510912,
          -31.84523158062051,
          -31.84538040931631,
          -31.84537004084413,
          -31.84537006574641,
          -31.84488600975254,
          -31.84485397635064,
          -31.84513430001038,
          -31.84466167779774,
          -31.84469149573804,
          -31.84472428455821,
          -31.84468823575176,
          -31.84538344253644,
          -31.84424690471754,
          -31.85109633797458,
          -31.85068649170797,
          -31.85278296339006,
          -31.85188710724418,
          -31.85210550561943,
          -31.8518872114326,
          -31.85182659388803,
          -31.85182616279369,
          -31.85182820538461,
          -31.85182506326957,
          -31.85189307872191,
          -31.85188320881234,
          -31.8518732548151,
          -31.85182222748639,
          -31.85198713829637,
          -31.85192250139609,
          -31.85189392826163,
          -31.85187442908764,
          -31.8518030858586,
          -31.8518024058948,
          -31.85180059356636,
          -31.85180195605045
         ],
         "legendgroup": "",
         "lon": [
          116.0183374663027,
          116.0183259785979,
          116.0183161354075,
          116.0182529749383,
          116.0182086643162,
          116.0182128388363,
          116.018223361407,
          116.0182823408421,
          116.01821750659,
          116.0182474062873,
          116.0181813817572,
          116.0182631395714,
          116.0181961643027,
          116.0182334670006,
          116.0179055434116,
          116.0180953620699,
          116.0178051456259,
          116.0179865644773,
          116.0009142164415,
          116.000930932033,
          116.0009778539811,
          116.00092060426,
          116.0006048976215,
          116.0005802543637,
          116.0005190872192,
          116.0007722909438,
          116.0010150860718,
          116.0009461560145,
          116.0008411872399,
          116.0011891817338,
          116.0015213385211,
          116.0011641432193,
          116.0008309768264,
          116.0024406990624,
          116.0018976598281,
          116.0008501775059,
          116.0005857862165,
          116.0458851425753,
          116.0457670563354,
          116.0457670563353,
          116.0458851425753,
          116.0458175186144,
          116.0457592802574,
          116.0458562580698,
          116.0458650464963,
          116.0457701043378,
          116.0458575517662,
          116.0457695358829,
          116.0456561146581,
          116.0459678755513,
          116.0454319290855,
          116.0458568785181,
          116.0450705556765,
          116.0451148633962,
          116.0465802282568,
          116.0452797276304,
          116.045049160885,
          116.0451629606889,
          116.0452886782776,
          116.0458601290954,
          115.998939146043,
          115.9977318524493,
          115.9974576751721,
          115.9977420660818,
          115.997502299226,
          115.9974572459445,
          115.9977050969983,
          115.997777721079,
          115.997669167832,
          115.997431381974,
          115.9973518616014,
          115.9973090452622,
          115.9972816677781,
          115.9973045597328,
          115.9972807007919,
          115.9974222588125,
          115.9973755276259,
          115.9972085542997,
          115.9971975624587,
          115.9972416499528,
          115.9971742512736,
          115.997296680735,
          115.9971388569162,
          115.9971802611804,
          115.9972163578717,
          115.9972577899615,
          115.9973048744194,
          115.9973561509557,
          115.9974216940731,
          116.0086270958327,
          116.0076430354346,
          116.0075575103231,
          116.0077438974485,
          116.0059960349935,
          116.0046871040282,
          116.0047242747774,
          116.0049137333173,
          116.0049529458494,
          116.0046804703044,
          116.0046414836387,
          116.0066284586833,
          116.0060571495129,
          116.0063688107167,
          116.0063718225668,
          116.0063741620266,
          116.0063804564964,
          116.0066406806117,
          116.0070043014552,
          116.0073642354885,
          116.0073623012661,
          116.007341994294,
          116.0072570321877,
          116.007597008791,
          116.0075393399854,
          116.0076604504979,
          116.0068656915519,
          116.0066919339338,
          116.0072291966907,
          116.0072432872027,
          116.0072381097506,
          116.0072390830616,
          116.0074225863559,
          116.0124205441503,
          116.0066393647114,
          115.995810298809,
          115.9902290551793,
          115.9901750632805,
          115.9901520456193,
          115.9903190941192,
          115.9903556704859,
          115.9905306771903,
          115.9905475047897,
          115.9905655610603,
          115.9905862473149,
          115.9904467156551,
          115.9904835715709,
          115.990598423206,
          115.9903645411195,
          115.9877336890102,
          115.9889759412021,
          115.9908535353204,
          115.990901684718,
          115.9909205172935,
          115.9908668295001,
          115.9908006953241,
          115.9907526922321
         ],
         "marker": {
          "color": [
           0,
           0,
           0,
           0,
           0,
           0,
           0,
           0,
           0,
           0,
           0,
           0,
           0,
           0,
           0,
           0,
           0,
           0,
           0,
           0,
           0,
           0,
           0,
           0,
           0,
           0,
           0,
           0,
           0,
           0,
           0,
           0,
           0,
           0,
           0,
           0,
           0,
           0,
           0,
           0,
           0,
           0,
           0,
           0,
           0,
           0,
           0,
           0,
           0,
           0,
           0,
           0,
           0,
           0,
           0,
           0,
           0,
           0,
           0,
           0,
           0,
           0,
           0,
           0,
           0,
           0,
           0,
           0,
           0,
           0,
           0,
           0,
           0,
           0,
           0,
           0,
           0,
           0,
           0,
           0,
           0,
           0,
           0,
           0,
           0,
           0,
           0,
           0,
           0,
           0,
           0,
           0,
           0,
           0,
           0,
           0,
           0,
           0,
           0,
           0,
           0,
           0,
           0,
           0,
           0,
           0,
           0,
           0,
           0,
           0,
           0,
           0,
           0,
           0,
           0,
           0,
           0,
           0,
           0,
           0,
           0,
           0,
           0,
           0,
           0,
           0,
           0,
           0,
           0,
           0,
           0,
           0,
           0,
           0,
           0,
           0,
           0,
           0,
           0,
           0,
           0,
           0,
           0,
           0,
           0,
           0
          ],
          "coloraxis": "coloraxis"
         },
         "mode": "markers",
         "name": "",
         "showlegend": false,
         "subplot": "mapbox",
         "type": "scattermapbox"
        },
        {
         "hovertemplate": "<b>%{hovertext}</b><br><br>lat=%{lat}<br>lon=%{lon}<extra></extra>",
         "hovertext": [
          "Sandalford Winery",
          "Nikola Estate",
          "Edgecombe Brothers",
          "Little River Winery and Café",
          "Black Swan Winery and Restaurant",
          "Lancaster Wines",
          "Mandoon Estate",
          "Mandoon Vineyard",
          "Oakover Grounds",
          "Henley Park Winery",
          "Upper Reach Winery",
          "Mann Winery",
          "Harris Organic Wines and Spirits",
          "John Kosovich Wines",
          "Twin Hill Wines",
          "Olive Farm Wines",
          "Ali's Vineyard",
          "Talijancich",
          "Tyler's Vineyard",
          "Fig Tree Estate Winery",
          "Lamont's Winery",
          "Faber Vineyard",
          "Swan Valley Wines",
          "Windy Creek Estate",
          "Holy Mary Cellars",
          "Jarrah Ridge Wines",
          "Katgully Wines Cellar Door",
          "Sittella",
          "Ugly Duckling Wines",
          "Heafod Glen Winery",
          "Ambrook Wines"
         ],
         "lat": [
          -31.868701,
          -31.854112,
          -31.795187,
          -31.824124,
          -31.823404,
          -31.85226,
          -31.868266,
          -31.867594,
          -31.84508,
          -31.797776,
          -31.795033,
          -31.793688,
          -31.794595,
          -31.795346,
          -31.796729,
          -31.811995,
          -31.814194,
          -31.818507,
          -31.812921,
          -31.804387,
          -31.80323,
          -31.796771,
          -31.796915,
          -31.830487,
          -31.835658,
          -31.836499,
          -31.835449,
          -31.830083,
          -31.830502,
          -31.822945,
          -31.871998
         ],
         "legendgroup": "",
         "lon": [
          115.992759,
          115.997995,
          115.998571,
          116.000888,
          116.00085,
          115.988887,
          115.994991,
          115.995494,
          116.007327,
          116.001641,
          116.008634,
          116.012546,
          116.02083,
          116.02076,
          116.020781,
          116.022232,
          116.01822,
          116.020341,
          116.040805,
          116.04003,
          116.037443,
          116.045655,
          116.048836,
          116.03056,
          116.021676,
          116.015532,
          116.021235,
          116.006851,
          115.997425,
          115.996817,
          115.981779
         ],
         "marker": {
          "color": "#636efa"
         },
         "mode": "markers",
         "name": "",
         "showlegend": false,
         "subplot": "mapbox",
         "type": "scattermapbox"
        }
       ],
       "layout": {
        "coloraxis": {
         "colorbar": {
          "title": {
           "text": "cluster"
          }
         },
         "colorscale": [
          [
           0,
           "#0d0887"
          ],
          [
           0.1111111111111111,
           "#46039f"
          ],
          [
           0.2222222222222222,
           "#7201a8"
          ],
          [
           0.3333333333333333,
           "#9c179e"
          ],
          [
           0.4444444444444444,
           "#bd3786"
          ],
          [
           0.5555555555555556,
           "#d8576b"
          ],
          [
           0.6666666666666666,
           "#ed7953"
          ],
          [
           0.7777777777777778,
           "#fb9f3a"
          ],
          [
           0.8888888888888888,
           "#fdca26"
          ],
          [
           1,
           "#f0f921"
          ]
         ]
        },
        "legend": {
         "tracegroupgap": 0
        },
        "mapbox": {
         "center": {
          "lat": -31.829142815097253,
          "lon": 116.00928029017983
         },
         "domain": {
          "x": [
           0,
           1
          ],
          "y": [
           0,
           1
          ]
         },
         "style": "open-street-map",
         "zoom": 8
        },
        "margin": {
         "b": 0,
         "l": 0,
         "r": 0,
         "t": 0
        },
        "template": {
         "data": {
          "bar": [
           {
            "error_x": {
             "color": "#2a3f5f"
            },
            "error_y": {
             "color": "#2a3f5f"
            },
            "marker": {
             "line": {
              "color": "#E5ECF6",
              "width": 0.5
             },
             "pattern": {
              "fillmode": "overlay",
              "size": 10,
              "solidity": 0.2
             }
            },
            "type": "bar"
           }
          ],
          "barpolar": [
           {
            "marker": {
             "line": {
              "color": "#E5ECF6",
              "width": 0.5
             },
             "pattern": {
              "fillmode": "overlay",
              "size": 10,
              "solidity": 0.2
             }
            },
            "type": "barpolar"
           }
          ],
          "carpet": [
           {
            "aaxis": {
             "endlinecolor": "#2a3f5f",
             "gridcolor": "white",
             "linecolor": "white",
             "minorgridcolor": "white",
             "startlinecolor": "#2a3f5f"
            },
            "baxis": {
             "endlinecolor": "#2a3f5f",
             "gridcolor": "white",
             "linecolor": "white",
             "minorgridcolor": "white",
             "startlinecolor": "#2a3f5f"
            },
            "type": "carpet"
           }
          ],
          "choropleth": [
           {
            "colorbar": {
             "outlinewidth": 0,
             "ticks": ""
            },
            "type": "choropleth"
           }
          ],
          "contour": [
           {
            "colorbar": {
             "outlinewidth": 0,
             "ticks": ""
            },
            "colorscale": [
             [
              0,
              "#0d0887"
             ],
             [
              0.1111111111111111,
              "#46039f"
             ],
             [
              0.2222222222222222,
              "#7201a8"
             ],
             [
              0.3333333333333333,
              "#9c179e"
             ],
             [
              0.4444444444444444,
              "#bd3786"
             ],
             [
              0.5555555555555556,
              "#d8576b"
             ],
             [
              0.6666666666666666,
              "#ed7953"
             ],
             [
              0.7777777777777778,
              "#fb9f3a"
             ],
             [
              0.8888888888888888,
              "#fdca26"
             ],
             [
              1,
              "#f0f921"
             ]
            ],
            "type": "contour"
           }
          ],
          "contourcarpet": [
           {
            "colorbar": {
             "outlinewidth": 0,
             "ticks": ""
            },
            "type": "contourcarpet"
           }
          ],
          "heatmap": [
           {
            "colorbar": {
             "outlinewidth": 0,
             "ticks": ""
            },
            "colorscale": [
             [
              0,
              "#0d0887"
             ],
             [
              0.1111111111111111,
              "#46039f"
             ],
             [
              0.2222222222222222,
              "#7201a8"
             ],
             [
              0.3333333333333333,
              "#9c179e"
             ],
             [
              0.4444444444444444,
              "#bd3786"
             ],
             [
              0.5555555555555556,
              "#d8576b"
             ],
             [
              0.6666666666666666,
              "#ed7953"
             ],
             [
              0.7777777777777778,
              "#fb9f3a"
             ],
             [
              0.8888888888888888,
              "#fdca26"
             ],
             [
              1,
              "#f0f921"
             ]
            ],
            "type": "heatmap"
           }
          ],
          "heatmapgl": [
           {
            "colorbar": {
             "outlinewidth": 0,
             "ticks": ""
            },
            "colorscale": [
             [
              0,
              "#0d0887"
             ],
             [
              0.1111111111111111,
              "#46039f"
             ],
             [
              0.2222222222222222,
              "#7201a8"
             ],
             [
              0.3333333333333333,
              "#9c179e"
             ],
             [
              0.4444444444444444,
              "#bd3786"
             ],
             [
              0.5555555555555556,
              "#d8576b"
             ],
             [
              0.6666666666666666,
              "#ed7953"
             ],
             [
              0.7777777777777778,
              "#fb9f3a"
             ],
             [
              0.8888888888888888,
              "#fdca26"
             ],
             [
              1,
              "#f0f921"
             ]
            ],
            "type": "heatmapgl"
           }
          ],
          "histogram": [
           {
            "marker": {
             "pattern": {
              "fillmode": "overlay",
              "size": 10,
              "solidity": 0.2
             }
            },
            "type": "histogram"
           }
          ],
          "histogram2d": [
           {
            "colorbar": {
             "outlinewidth": 0,
             "ticks": ""
            },
            "colorscale": [
             [
              0,
              "#0d0887"
             ],
             [
              0.1111111111111111,
              "#46039f"
             ],
             [
              0.2222222222222222,
              "#7201a8"
             ],
             [
              0.3333333333333333,
              "#9c179e"
             ],
             [
              0.4444444444444444,
              "#bd3786"
             ],
             [
              0.5555555555555556,
              "#d8576b"
             ],
             [
              0.6666666666666666,
              "#ed7953"
             ],
             [
              0.7777777777777778,
              "#fb9f3a"
             ],
             [
              0.8888888888888888,
              "#fdca26"
             ],
             [
              1,
              "#f0f921"
             ]
            ],
            "type": "histogram2d"
           }
          ],
          "histogram2dcontour": [
           {
            "colorbar": {
             "outlinewidth": 0,
             "ticks": ""
            },
            "colorscale": [
             [
              0,
              "#0d0887"
             ],
             [
              0.1111111111111111,
              "#46039f"
             ],
             [
              0.2222222222222222,
              "#7201a8"
             ],
             [
              0.3333333333333333,
              "#9c179e"
             ],
             [
              0.4444444444444444,
              "#bd3786"
             ],
             [
              0.5555555555555556,
              "#d8576b"
             ],
             [
              0.6666666666666666,
              "#ed7953"
             ],
             [
              0.7777777777777778,
              "#fb9f3a"
             ],
             [
              0.8888888888888888,
              "#fdca26"
             ],
             [
              1,
              "#f0f921"
             ]
            ],
            "type": "histogram2dcontour"
           }
          ],
          "mesh3d": [
           {
            "colorbar": {
             "outlinewidth": 0,
             "ticks": ""
            },
            "type": "mesh3d"
           }
          ],
          "parcoords": [
           {
            "line": {
             "colorbar": {
              "outlinewidth": 0,
              "ticks": ""
             }
            },
            "type": "parcoords"
           }
          ],
          "pie": [
           {
            "automargin": true,
            "type": "pie"
           }
          ],
          "scatter": [
           {
            "fillpattern": {
             "fillmode": "overlay",
             "size": 10,
             "solidity": 0.2
            },
            "type": "scatter"
           }
          ],
          "scatter3d": [
           {
            "line": {
             "colorbar": {
              "outlinewidth": 0,
              "ticks": ""
             }
            },
            "marker": {
             "colorbar": {
              "outlinewidth": 0,
              "ticks": ""
             }
            },
            "type": "scatter3d"
           }
          ],
          "scattercarpet": [
           {
            "marker": {
             "colorbar": {
              "outlinewidth": 0,
              "ticks": ""
             }
            },
            "type": "scattercarpet"
           }
          ],
          "scattergeo": [
           {
            "marker": {
             "colorbar": {
              "outlinewidth": 0,
              "ticks": ""
             }
            },
            "type": "scattergeo"
           }
          ],
          "scattergl": [
           {
            "marker": {
             "colorbar": {
              "outlinewidth": 0,
              "ticks": ""
             }
            },
            "type": "scattergl"
           }
          ],
          "scattermapbox": [
           {
            "marker": {
             "colorbar": {
              "outlinewidth": 0,
              "ticks": ""
             }
            },
            "type": "scattermapbox"
           }
          ],
          "scatterpolar": [
           {
            "marker": {
             "colorbar": {
              "outlinewidth": 0,
              "ticks": ""
             }
            },
            "type": "scatterpolar"
           }
          ],
          "scatterpolargl": [
           {
            "marker": {
             "colorbar": {
              "outlinewidth": 0,
              "ticks": ""
             }
            },
            "type": "scatterpolargl"
           }
          ],
          "scatterternary": [
           {
            "marker": {
             "colorbar": {
              "outlinewidth": 0,
              "ticks": ""
             }
            },
            "type": "scatterternary"
           }
          ],
          "surface": [
           {
            "colorbar": {
             "outlinewidth": 0,
             "ticks": ""
            },
            "colorscale": [
             [
              0,
              "#0d0887"
             ],
             [
              0.1111111111111111,
              "#46039f"
             ],
             [
              0.2222222222222222,
              "#7201a8"
             ],
             [
              0.3333333333333333,
              "#9c179e"
             ],
             [
              0.4444444444444444,
              "#bd3786"
             ],
             [
              0.5555555555555556,
              "#d8576b"
             ],
             [
              0.6666666666666666,
              "#ed7953"
             ],
             [
              0.7777777777777778,
              "#fb9f3a"
             ],
             [
              0.8888888888888888,
              "#fdca26"
             ],
             [
              1,
              "#f0f921"
             ]
            ],
            "type": "surface"
           }
          ],
          "table": [
           {
            "cells": {
             "fill": {
              "color": "#EBF0F8"
             },
             "line": {
              "color": "white"
             }
            },
            "header": {
             "fill": {
              "color": "#C8D4E3"
             },
             "line": {
              "color": "white"
             }
            },
            "type": "table"
           }
          ]
         },
         "layout": {
          "annotationdefaults": {
           "arrowcolor": "#2a3f5f",
           "arrowhead": 0,
           "arrowwidth": 1
          },
          "autotypenumbers": "strict",
          "coloraxis": {
           "colorbar": {
            "outlinewidth": 0,
            "ticks": ""
           }
          },
          "colorscale": {
           "diverging": [
            [
             0,
             "#8e0152"
            ],
            [
             0.1,
             "#c51b7d"
            ],
            [
             0.2,
             "#de77ae"
            ],
            [
             0.3,
             "#f1b6da"
            ],
            [
             0.4,
             "#fde0ef"
            ],
            [
             0.5,
             "#f7f7f7"
            ],
            [
             0.6,
             "#e6f5d0"
            ],
            [
             0.7,
             "#b8e186"
            ],
            [
             0.8,
             "#7fbc41"
            ],
            [
             0.9,
             "#4d9221"
            ],
            [
             1,
             "#276419"
            ]
           ],
           "sequential": [
            [
             0,
             "#0d0887"
            ],
            [
             0.1111111111111111,
             "#46039f"
            ],
            [
             0.2222222222222222,
             "#7201a8"
            ],
            [
             0.3333333333333333,
             "#9c179e"
            ],
            [
             0.4444444444444444,
             "#bd3786"
            ],
            [
             0.5555555555555556,
             "#d8576b"
            ],
            [
             0.6666666666666666,
             "#ed7953"
            ],
            [
             0.7777777777777778,
             "#fb9f3a"
            ],
            [
             0.8888888888888888,
             "#fdca26"
            ],
            [
             1,
             "#f0f921"
            ]
           ],
           "sequentialminus": [
            [
             0,
             "#0d0887"
            ],
            [
             0.1111111111111111,
             "#46039f"
            ],
            [
             0.2222222222222222,
             "#7201a8"
            ],
            [
             0.3333333333333333,
             "#9c179e"
            ],
            [
             0.4444444444444444,
             "#bd3786"
            ],
            [
             0.5555555555555556,
             "#d8576b"
            ],
            [
             0.6666666666666666,
             "#ed7953"
            ],
            [
             0.7777777777777778,
             "#fb9f3a"
            ],
            [
             0.8888888888888888,
             "#fdca26"
            ],
            [
             1,
             "#f0f921"
            ]
           ]
          },
          "colorway": [
           "#636efa",
           "#EF553B",
           "#00cc96",
           "#ab63fa",
           "#FFA15A",
           "#19d3f3",
           "#FF6692",
           "#B6E880",
           "#FF97FF",
           "#FECB52"
          ],
          "font": {
           "color": "#2a3f5f"
          },
          "geo": {
           "bgcolor": "white",
           "lakecolor": "white",
           "landcolor": "#E5ECF6",
           "showlakes": true,
           "showland": true,
           "subunitcolor": "white"
          },
          "hoverlabel": {
           "align": "left"
          },
          "hovermode": "closest",
          "mapbox": {
           "style": "light"
          },
          "paper_bgcolor": "white",
          "plot_bgcolor": "#E5ECF6",
          "polar": {
           "angularaxis": {
            "gridcolor": "white",
            "linecolor": "white",
            "ticks": ""
           },
           "bgcolor": "#E5ECF6",
           "radialaxis": {
            "gridcolor": "white",
            "linecolor": "white",
            "ticks": ""
           }
          },
          "scene": {
           "xaxis": {
            "backgroundcolor": "#E5ECF6",
            "gridcolor": "white",
            "gridwidth": 2,
            "linecolor": "white",
            "showbackground": true,
            "ticks": "",
            "zerolinecolor": "white"
           },
           "yaxis": {
            "backgroundcolor": "#E5ECF6",
            "gridcolor": "white",
            "gridwidth": 2,
            "linecolor": "white",
            "showbackground": true,
            "ticks": "",
            "zerolinecolor": "white"
           },
           "zaxis": {
            "backgroundcolor": "#E5ECF6",
            "gridcolor": "white",
            "gridwidth": 2,
            "linecolor": "white",
            "showbackground": true,
            "ticks": "",
            "zerolinecolor": "white"
           }
          },
          "shapedefaults": {
           "line": {
            "color": "#2a3f5f"
           }
          },
          "ternary": {
           "aaxis": {
            "gridcolor": "white",
            "linecolor": "white",
            "ticks": ""
           },
           "baxis": {
            "gridcolor": "white",
            "linecolor": "white",
            "ticks": ""
           },
           "bgcolor": "#E5ECF6",
           "caxis": {
            "gridcolor": "white",
            "linecolor": "white",
            "ticks": ""
           }
          },
          "title": {
           "x": 0.05
          },
          "xaxis": {
           "automargin": true,
           "gridcolor": "white",
           "linecolor": "white",
           "ticks": "",
           "title": {
            "standoff": 15
           },
           "zerolinecolor": "white",
           "zerolinewidth": 2
          },
          "yaxis": {
           "automargin": true,
           "gridcolor": "white",
           "linecolor": "white",
           "ticks": "",
           "title": {
            "standoff": 15
           },
           "zerolinecolor": "white",
           "zerolinewidth": 2
          }
         }
        }
       }
      },
      "text/html": [
       "<div>                            <div id=\"1fffba20-2aca-48e1-8f63-2e3303dfb03a\" class=\"plotly-graph-div\" style=\"height:525px; width:100%;\"></div>            <script type=\"text/javascript\">                require([\"plotly\"], function(Plotly) {                    window.PLOTLYENV=window.PLOTLYENV || {};                                    if (document.getElementById(\"1fffba20-2aca-48e1-8f63-2e3303dfb03a\")) {                    Plotly.newPlot(                        \"1fffba20-2aca-48e1-8f63-2e3303dfb03a\",                        [{\"customdata\":[[\"Sittella\"],[\"Sittella\"],[\"Sittella\"],[\"Sittella\"],[\"Sittella\"],[\"Sittella\"],[\"Sittella\"],[\"Sittella\"],[\"Sittella\"],[\"Sittella\"],[\"Sittella\"],[\"Sittella\"],[\"Sittella\"],[\"Sittella\"],[\"Sittella\"],[\"Sittella\"],[\"Sittella\"],[\"Sittella\"],[\"Sittella\"],[\"Sittella\"],[\"Sittella\"],[\"Sittella\"],[\"Sittella\"],[\"Sittella\"],[\"Sittella\"],[\"Sittella\"],[\"Sittella\"],[\"Sittella\"],[\"Sittella\"],[\"Sittella\"],[\"Sittella\"],[\"Sittella\"],[\"Sittella\"],[\"Sittella\"],[\"Sittella\"],[\"Sittella\"],[\"Sittella\"],[\"Sittella\"],[\"Sittella\"],[\"Sittella\"],[\"Sittella\"],[\"Sittella\"],[\"Sittella\"],[\"Sittella\"],[\"Sittella\"],[\"Sittella\"],[\"Sittella\"],[\"Sittella\"],[\"Sittella\"],[\"Sittella\"],[\"Sittella\"],[\"Sittella\"],[\"Sittella\"],[\"Sittella\"],[\"Sittella\"],[\"Sittella\"],[\"Sittella\"],[\"Sittella\"],[\"Sittella\"],[\"Sittella\"],[\"Sittella\"],[\"Sittella\"],[\"Sittella\"],[\"Sittella\"],[\"Sittella\"],[\"Sittella\"],[\"Sittella\"],[\"Sittella\"],[\"Sittella\"],[\"Sittella\"],[\"Sittella\"],[\"Sittella\"],[\"Sittella\"],[\"Sittella\"],[\"Sittella\"],[\"Sittella\"],[\"Sittella\"],[\"Sittella\"],[\"Sittella\"],[\"Sittella\"],[\"Sittella\"],[\"Sittella\"],[\"Sittella\"],[\"Sittella\"],[\"Sittella\"],[\"Sittella\"],[\"Sittella\"],[\"Sittella\"],[\"Sittella\"],[\"Sittella\"],[\"Sittella\"],[\"Sittella\"],[\"Sittella\"],[\"Sittella\"],[\"Sittella\"],[\"Sittella\"],[\"Sittella\"],[\"Sittella\"],[\"Sittella\"],[\"Sittella\"],[\"Sittella\"],[\"Sittella\"],[\"Sittella\"],[\"Sittella\"],[\"Sittella\"],[\"Sittella\"],[\"Sittella\"],[\"Sittella\"],[\"Sittella\"],[\"Sittella\"],[\"Sittella\"],[\"Sittella\"],[\"Sittella\"],[\"Sittella\"],[\"Sittella\"],[\"Sittella\"],[\"Sittella\"],[\"Sittella\"],[\"Sittella\"],[\"Sittella\"],[\"Sittella\"],[\"Sittella\"],[\"Sittella\"],[\"Sittella\"],[\"Sittella\"],[\"Sittella\"],[\"Sittella\"],[\"Sittella\"],[\"Sittella\"],[\"Sittella\"],[\"Sittella\"],[\"Sittella\"],[\"Sittella\"],[\"Sittella\"],[\"Sittella\"],[\"Sittella\"],[\"Sittella\"],[\"Sittella\"],[\"Sittella\"],[\"Sittella\"],[\"Sittella\"],[\"Sittella\"],[\"Sittella\"],[\"Sittella\"],[\"Sittella\"],[\"Sittella\"]],\"hovertemplate\":\"<b>%{hovertext}</b><br><br>lat=%{lat}<br>lon=%{lon}<br>predicted_location_dbscan=%{customdata[0]}<br>cluster=%{marker.color}<extra></extra>\",\"hovertext\":[\"palm_tree\",\"palm_tree\",\"palm_tree\",\"palm_tree\",\"palm_tree\",\"palm_tree\",\"palm_tree\",\"palm_tree\",\"palm_tree\",\"palm_tree\",\"palm_tree\",\"palm_tree\",\"pizza_oven\",\"air_conditioner\",\"building\",\"shed\",\"shed\",\"shed\",\"picnic_bench\",\"picnic_bench\",\"planter\",\"planter\",\"building\",\"parking_lot\",\"patio\",\"water_tank\",\"air_conitioner\",\"patio\",\"building\",\"shed\",\"building\",\"building\",\"vineyard\",\"vineyard\",\"vineyard\",\"building\",\"parking_lot\",\"retaining_wall\",\"retaining_wall\",\"sign\",\"sign\",\"sign\",\"tree\",\"tree\",\"tree\",\"tree\",\"tree\",\"tree\",\"parking_lot\",\"vineyard\",\"vineyard\",\"building\",\"shed\",\"solar_panel\",\"building\",\"parking_lot\",\"shed\",\"building\",\"swimming_pool\",\"courtyard\",\"vineyard\",\"vineyard\",\"generator\",\"parking_lot\",\"carport\",\"bicycle_rack\",\"shed\",\"sculpture\",\"patio\",\"patio\",\"shed\",\"picnic_table\",\"picnic_table\",\"picnic_umbrella\",\"picnic_umbrella\",\"picnic_umbrella\",\"picnic_umbrella\",\"picnic_table\",\"picnic_table\",\"shed\",\"shed\",\"shed\",\"tree\",\"tree\",\"tree\",\"tree\",\"tree\",\"tree\",\"tree\",\"building\",\"pond\",\"bridge\",\"island\",\"vineyard\",\"swimming_pool\",\"building\",\"building\",\"tennis_court\",\"swimming_pool\",\"shade_cloth\",\"sign\",\"warehouse\",\"vat\",\"vat\",\"vat\",\"vat\",\"building\",\"parking_lot\",\"solar_panels\",\"solar_panels\",\"building\",\"fence\",\"jetty\",\"picnic_table\",\"picnic_table\",\"tank\",\"tank\",\"shed\",\"shipping_container\",\"shipping_container\",\"shipping_container\",\"shipping_container\",\"vineyard\",\"vineyard\",\"river\",\"vineyard\",\"vineyard\",\"parking_lot\",\"shed\",\"sign\",\"table\",\"table\",\"table\",\"table\",\"wine_barrell\",\"counter\",\"shed\",\"fence\",\"sign\",\"driveway\",\"picnic_table\",\"picnic_table\",\"picnic_table\",\"picnic_table\",\"picnic_table\",\"picnic_table\"],\"lat\":[-31.81445187554597,-31.81451940926452,-31.8145718117269,-31.81458084078105,-31.81462157655873,-31.81454971676524,-31.81448193361258,-31.81444773977627,-31.8143890181285,-31.81439660859307,-31.81434027785148,-31.81429434468795,-31.81429169178455,-31.81420767463152,-31.81394919889622,-31.81439717390363,-31.81432230857389,-31.8135457777316,-31.82401586475119,-31.82402821801069,-31.82400450902502,-31.82400258090139,-31.82417864772208,-31.82406166208574,-31.82414265894136,-31.82427841722326,-31.82414274552135,-31.82416289887374,-31.82414373469494,-31.82414175485055,-31.82429678566091,-31.8238198185718,-31.82470742057825,-31.8242299537138,-31.82369416405801,-31.82347585518145,-31.82372524293678,-31.79711445941102,-31.79711822124566,-31.79711822124567,-31.79711445941102,-31.79692113693582,-31.79707299441964,-31.79707639334401,-31.79701796869119,-31.79702180433045,-31.79695848151606,-31.7969572497282,-31.79698640377645,-31.79698932185287,-31.7946673883335,-31.79676259008081,-31.79676332889907,-31.79669029290958,-31.79664133173589,-31.79691654618838,-31.79658001770868,-31.79630852369076,-31.79620849056571,-31.79646472091715,-31.83039735327537,-31.83060476817275,-31.83020873465989,-31.83033573653752,-31.83038472086931,-31.83023391039609,-31.83047573335856,-31.83050151773064,-31.83051242847542,-31.83042950292597,-31.83048831452484,-31.83039290156244,-31.83042013524614,-31.83039529464335,-31.83041309005974,-31.83059039674292,-31.83062496370694,-31.83044919552612,-31.83055048589921,-31.83057537982879,-31.8306575917034,-31.83065965298827,-31.83079043292682,-31.83079112085596,-31.83079315668379,-31.83078775293374,-31.83079115492708,-31.83078777975723,-31.83079186264361,-31.84668336675156,-31.84590359767057,-31.84638920015648,-31.84633325480655,-31.84630620908671,-31.84642682355494,-31.84660379451255,-31.84534087718281,-31.84497134212882,-31.84520480790187,-31.84519057474693,-31.84696779013872,-31.84505951047444,-31.84518456887401,-31.84515103476856,-31.84510853881709,-31.84507695999562,-31.84512567428841,-31.84527487175123,-31.84487684093081,-31.84496527724279,-31.84505688510912,-31.84523158062051,-31.84538040931631,-31.84537004084413,-31.84537006574641,-31.84488600975254,-31.84485397635064,-31.84513430001038,-31.84466167779774,-31.84469149573804,-31.84472428455821,-31.84468823575176,-31.84538344253644,-31.84424690471754,-31.85109633797458,-31.85068649170797,-31.85278296339006,-31.85188710724418,-31.85210550561943,-31.8518872114326,-31.85182659388803,-31.85182616279369,-31.85182820538461,-31.85182506326957,-31.85189307872191,-31.85188320881234,-31.8518732548151,-31.85182222748639,-31.85198713829637,-31.85192250139609,-31.85189392826163,-31.85187442908764,-31.8518030858586,-31.8518024058948,-31.85180059356636,-31.85180195605045],\"legendgroup\":\"\",\"lon\":[116.0183374663027,116.0183259785979,116.0183161354075,116.0182529749383,116.0182086643162,116.0182128388363,116.018223361407,116.0182823408421,116.01821750659,116.0182474062873,116.0181813817572,116.0182631395714,116.0181961643027,116.0182334670006,116.0179055434116,116.0180953620699,116.0178051456259,116.0179865644773,116.0009142164415,116.000930932033,116.0009778539811,116.00092060426,116.0006048976215,116.0005802543637,116.0005190872192,116.0007722909438,116.0010150860718,116.0009461560145,116.0008411872399,116.0011891817338,116.0015213385211,116.0011641432193,116.0008309768264,116.0024406990624,116.0018976598281,116.0008501775059,116.0005857862165,116.0458851425753,116.0457670563354,116.0457670563353,116.0458851425753,116.0458175186144,116.0457592802574,116.0458562580698,116.0458650464963,116.0457701043378,116.0458575517662,116.0457695358829,116.0456561146581,116.0459678755513,116.0454319290855,116.0458568785181,116.0450705556765,116.0451148633962,116.0465802282568,116.0452797276304,116.045049160885,116.0451629606889,116.0452886782776,116.0458601290954,115.998939146043,115.9977318524493,115.9974576751721,115.9977420660818,115.997502299226,115.9974572459445,115.9977050969983,115.997777721079,115.997669167832,115.997431381974,115.9973518616014,115.9973090452622,115.9972816677781,115.9973045597328,115.9972807007919,115.9974222588125,115.9973755276259,115.9972085542997,115.9971975624587,115.9972416499528,115.9971742512736,115.997296680735,115.9971388569162,115.9971802611804,115.9972163578717,115.9972577899615,115.9973048744194,115.9973561509557,115.9974216940731,116.0086270958327,116.0076430354346,116.0075575103231,116.0077438974485,116.0059960349935,116.0046871040282,116.0047242747774,116.0049137333173,116.0049529458494,116.0046804703044,116.0046414836387,116.0066284586833,116.0060571495129,116.0063688107167,116.0063718225668,116.0063741620266,116.0063804564964,116.0066406806117,116.0070043014552,116.0073642354885,116.0073623012661,116.007341994294,116.0072570321877,116.007597008791,116.0075393399854,116.0076604504979,116.0068656915519,116.0066919339338,116.0072291966907,116.0072432872027,116.0072381097506,116.0072390830616,116.0074225863559,116.0124205441503,116.0066393647114,115.995810298809,115.9902290551793,115.9901750632805,115.9901520456193,115.9903190941192,115.9903556704859,115.9905306771903,115.9905475047897,115.9905655610603,115.9905862473149,115.9904467156551,115.9904835715709,115.990598423206,115.9903645411195,115.9877336890102,115.9889759412021,115.9908535353204,115.990901684718,115.9909205172935,115.9908668295001,115.9908006953241,115.9907526922321],\"marker\":{\"color\":[0,0,0,0,0,0,0,0,0,0,0,0,0,0,0,0,0,0,0,0,0,0,0,0,0,0,0,0,0,0,0,0,0,0,0,0,0,0,0,0,0,0,0,0,0,0,0,0,0,0,0,0,0,0,0,0,0,0,0,0,0,0,0,0,0,0,0,0,0,0,0,0,0,0,0,0,0,0,0,0,0,0,0,0,0,0,0,0,0,0,0,0,0,0,0,0,0,0,0,0,0,0,0,0,0,0,0,0,0,0,0,0,0,0,0,0,0,0,0,0,0,0,0,0,0,0,0,0,0,0,0,0,0,0,0,0,0,0,0,0,0,0,0,0,0,0],\"coloraxis\":\"coloraxis\"},\"mode\":\"markers\",\"name\":\"\",\"showlegend\":false,\"subplot\":\"mapbox\",\"type\":\"scattermapbox\"},{\"hovertemplate\":\"<b>%{hovertext}</b><br><br>lat=%{lat}<br>lon=%{lon}<extra></extra>\",\"hovertext\":[\"Sandalford Winery\",\"Nikola Estate\",\"Edgecombe Brothers\",\"Little River Winery and Caf\\u00e9\",\"Black Swan Winery and Restaurant\",\"Lancaster Wines\",\"Mandoon Estate\",\"Mandoon Vineyard\",\"Oakover Grounds\",\"Henley Park Winery\",\"Upper Reach Winery\",\"Mann Winery\",\"Harris Organic Wines and Spirits\",\"John Kosovich Wines\",\"Twin Hill Wines\",\"Olive Farm Wines\",\"Ali's Vineyard\",\"Talijancich\",\"Tyler's Vineyard\",\"Fig Tree Estate Winery\",\"Lamont's Winery\",\"Faber Vineyard\",\"Swan Valley Wines\",\"Windy Creek Estate\",\"Holy Mary Cellars\",\"Jarrah Ridge Wines\",\"Katgully Wines Cellar Door\",\"Sittella\",\"Ugly Duckling Wines\",\"Heafod Glen Winery\",\"Ambrook Wines\"],\"lat\":[-31.868701,-31.854112,-31.795187,-31.824124,-31.823404,-31.85226,-31.868266,-31.867594,-31.84508,-31.797776,-31.795033,-31.793688,-31.794595,-31.795346,-31.796729,-31.811995,-31.814194,-31.818507,-31.812921,-31.804387,-31.80323,-31.796771,-31.796915,-31.830487,-31.835658,-31.836499,-31.835449,-31.830083,-31.830502,-31.822945,-31.871998],\"legendgroup\":\"\",\"lon\":[115.992759,115.997995,115.998571,116.000888,116.00085,115.988887,115.994991,115.995494,116.007327,116.001641,116.008634,116.012546,116.02083,116.02076,116.020781,116.022232,116.01822,116.020341,116.040805,116.04003,116.037443,116.045655,116.048836,116.03056,116.021676,116.015532,116.021235,116.006851,115.997425,115.996817,115.981779],\"marker\":{\"color\":\"#636efa\"},\"mode\":\"markers\",\"name\":\"\",\"showlegend\":false,\"subplot\":\"mapbox\",\"type\":\"scattermapbox\"}],                        {\"template\":{\"data\":{\"histogram2dcontour\":[{\"type\":\"histogram2dcontour\",\"colorbar\":{\"outlinewidth\":0,\"ticks\":\"\"},\"colorscale\":[[0.0,\"#0d0887\"],[0.1111111111111111,\"#46039f\"],[0.2222222222222222,\"#7201a8\"],[0.3333333333333333,\"#9c179e\"],[0.4444444444444444,\"#bd3786\"],[0.5555555555555556,\"#d8576b\"],[0.6666666666666666,\"#ed7953\"],[0.7777777777777778,\"#fb9f3a\"],[0.8888888888888888,\"#fdca26\"],[1.0,\"#f0f921\"]]}],\"choropleth\":[{\"type\":\"choropleth\",\"colorbar\":{\"outlinewidth\":0,\"ticks\":\"\"}}],\"histogram2d\":[{\"type\":\"histogram2d\",\"colorbar\":{\"outlinewidth\":0,\"ticks\":\"\"},\"colorscale\":[[0.0,\"#0d0887\"],[0.1111111111111111,\"#46039f\"],[0.2222222222222222,\"#7201a8\"],[0.3333333333333333,\"#9c179e\"],[0.4444444444444444,\"#bd3786\"],[0.5555555555555556,\"#d8576b\"],[0.6666666666666666,\"#ed7953\"],[0.7777777777777778,\"#fb9f3a\"],[0.8888888888888888,\"#fdca26\"],[1.0,\"#f0f921\"]]}],\"heatmap\":[{\"type\":\"heatmap\",\"colorbar\":{\"outlinewidth\":0,\"ticks\":\"\"},\"colorscale\":[[0.0,\"#0d0887\"],[0.1111111111111111,\"#46039f\"],[0.2222222222222222,\"#7201a8\"],[0.3333333333333333,\"#9c179e\"],[0.4444444444444444,\"#bd3786\"],[0.5555555555555556,\"#d8576b\"],[0.6666666666666666,\"#ed7953\"],[0.7777777777777778,\"#fb9f3a\"],[0.8888888888888888,\"#fdca26\"],[1.0,\"#f0f921\"]]}],\"heatmapgl\":[{\"type\":\"heatmapgl\",\"colorbar\":{\"outlinewidth\":0,\"ticks\":\"\"},\"colorscale\":[[0.0,\"#0d0887\"],[0.1111111111111111,\"#46039f\"],[0.2222222222222222,\"#7201a8\"],[0.3333333333333333,\"#9c179e\"],[0.4444444444444444,\"#bd3786\"],[0.5555555555555556,\"#d8576b\"],[0.6666666666666666,\"#ed7953\"],[0.7777777777777778,\"#fb9f3a\"],[0.8888888888888888,\"#fdca26\"],[1.0,\"#f0f921\"]]}],\"contourcarpet\":[{\"type\":\"contourcarpet\",\"colorbar\":{\"outlinewidth\":0,\"ticks\":\"\"}}],\"contour\":[{\"type\":\"contour\",\"colorbar\":{\"outlinewidth\":0,\"ticks\":\"\"},\"colorscale\":[[0.0,\"#0d0887\"],[0.1111111111111111,\"#46039f\"],[0.2222222222222222,\"#7201a8\"],[0.3333333333333333,\"#9c179e\"],[0.4444444444444444,\"#bd3786\"],[0.5555555555555556,\"#d8576b\"],[0.6666666666666666,\"#ed7953\"],[0.7777777777777778,\"#fb9f3a\"],[0.8888888888888888,\"#fdca26\"],[1.0,\"#f0f921\"]]}],\"surface\":[{\"type\":\"surface\",\"colorbar\":{\"outlinewidth\":0,\"ticks\":\"\"},\"colorscale\":[[0.0,\"#0d0887\"],[0.1111111111111111,\"#46039f\"],[0.2222222222222222,\"#7201a8\"],[0.3333333333333333,\"#9c179e\"],[0.4444444444444444,\"#bd3786\"],[0.5555555555555556,\"#d8576b\"],[0.6666666666666666,\"#ed7953\"],[0.7777777777777778,\"#fb9f3a\"],[0.8888888888888888,\"#fdca26\"],[1.0,\"#f0f921\"]]}],\"mesh3d\":[{\"type\":\"mesh3d\",\"colorbar\":{\"outlinewidth\":0,\"ticks\":\"\"}}],\"scatter\":[{\"fillpattern\":{\"fillmode\":\"overlay\",\"size\":10,\"solidity\":0.2},\"type\":\"scatter\"}],\"parcoords\":[{\"type\":\"parcoords\",\"line\":{\"colorbar\":{\"outlinewidth\":0,\"ticks\":\"\"}}}],\"scatterpolargl\":[{\"type\":\"scatterpolargl\",\"marker\":{\"colorbar\":{\"outlinewidth\":0,\"ticks\":\"\"}}}],\"bar\":[{\"error_x\":{\"color\":\"#2a3f5f\"},\"error_y\":{\"color\":\"#2a3f5f\"},\"marker\":{\"line\":{\"color\":\"#E5ECF6\",\"width\":0.5},\"pattern\":{\"fillmode\":\"overlay\",\"size\":10,\"solidity\":0.2}},\"type\":\"bar\"}],\"scattergeo\":[{\"type\":\"scattergeo\",\"marker\":{\"colorbar\":{\"outlinewidth\":0,\"ticks\":\"\"}}}],\"scatterpolar\":[{\"type\":\"scatterpolar\",\"marker\":{\"colorbar\":{\"outlinewidth\":0,\"ticks\":\"\"}}}],\"histogram\":[{\"marker\":{\"pattern\":{\"fillmode\":\"overlay\",\"size\":10,\"solidity\":0.2}},\"type\":\"histogram\"}],\"scattergl\":[{\"type\":\"scattergl\",\"marker\":{\"colorbar\":{\"outlinewidth\":0,\"ticks\":\"\"}}}],\"scatter3d\":[{\"type\":\"scatter3d\",\"line\":{\"colorbar\":{\"outlinewidth\":0,\"ticks\":\"\"}},\"marker\":{\"colorbar\":{\"outlinewidth\":0,\"ticks\":\"\"}}}],\"scattermapbox\":[{\"type\":\"scattermapbox\",\"marker\":{\"colorbar\":{\"outlinewidth\":0,\"ticks\":\"\"}}}],\"scatterternary\":[{\"type\":\"scatterternary\",\"marker\":{\"colorbar\":{\"outlinewidth\":0,\"ticks\":\"\"}}}],\"scattercarpet\":[{\"type\":\"scattercarpet\",\"marker\":{\"colorbar\":{\"outlinewidth\":0,\"ticks\":\"\"}}}],\"carpet\":[{\"aaxis\":{\"endlinecolor\":\"#2a3f5f\",\"gridcolor\":\"white\",\"linecolor\":\"white\",\"minorgridcolor\":\"white\",\"startlinecolor\":\"#2a3f5f\"},\"baxis\":{\"endlinecolor\":\"#2a3f5f\",\"gridcolor\":\"white\",\"linecolor\":\"white\",\"minorgridcolor\":\"white\",\"startlinecolor\":\"#2a3f5f\"},\"type\":\"carpet\"}],\"table\":[{\"cells\":{\"fill\":{\"color\":\"#EBF0F8\"},\"line\":{\"color\":\"white\"}},\"header\":{\"fill\":{\"color\":\"#C8D4E3\"},\"line\":{\"color\":\"white\"}},\"type\":\"table\"}],\"barpolar\":[{\"marker\":{\"line\":{\"color\":\"#E5ECF6\",\"width\":0.5},\"pattern\":{\"fillmode\":\"overlay\",\"size\":10,\"solidity\":0.2}},\"type\":\"barpolar\"}],\"pie\":[{\"automargin\":true,\"type\":\"pie\"}]},\"layout\":{\"autotypenumbers\":\"strict\",\"colorway\":[\"#636efa\",\"#EF553B\",\"#00cc96\",\"#ab63fa\",\"#FFA15A\",\"#19d3f3\",\"#FF6692\",\"#B6E880\",\"#FF97FF\",\"#FECB52\"],\"font\":{\"color\":\"#2a3f5f\"},\"hovermode\":\"closest\",\"hoverlabel\":{\"align\":\"left\"},\"paper_bgcolor\":\"white\",\"plot_bgcolor\":\"#E5ECF6\",\"polar\":{\"bgcolor\":\"#E5ECF6\",\"angularaxis\":{\"gridcolor\":\"white\",\"linecolor\":\"white\",\"ticks\":\"\"},\"radialaxis\":{\"gridcolor\":\"white\",\"linecolor\":\"white\",\"ticks\":\"\"}},\"ternary\":{\"bgcolor\":\"#E5ECF6\",\"aaxis\":{\"gridcolor\":\"white\",\"linecolor\":\"white\",\"ticks\":\"\"},\"baxis\":{\"gridcolor\":\"white\",\"linecolor\":\"white\",\"ticks\":\"\"},\"caxis\":{\"gridcolor\":\"white\",\"linecolor\":\"white\",\"ticks\":\"\"}},\"coloraxis\":{\"colorbar\":{\"outlinewidth\":0,\"ticks\":\"\"}},\"colorscale\":{\"sequential\":[[0.0,\"#0d0887\"],[0.1111111111111111,\"#46039f\"],[0.2222222222222222,\"#7201a8\"],[0.3333333333333333,\"#9c179e\"],[0.4444444444444444,\"#bd3786\"],[0.5555555555555556,\"#d8576b\"],[0.6666666666666666,\"#ed7953\"],[0.7777777777777778,\"#fb9f3a\"],[0.8888888888888888,\"#fdca26\"],[1.0,\"#f0f921\"]],\"sequentialminus\":[[0.0,\"#0d0887\"],[0.1111111111111111,\"#46039f\"],[0.2222222222222222,\"#7201a8\"],[0.3333333333333333,\"#9c179e\"],[0.4444444444444444,\"#bd3786\"],[0.5555555555555556,\"#d8576b\"],[0.6666666666666666,\"#ed7953\"],[0.7777777777777778,\"#fb9f3a\"],[0.8888888888888888,\"#fdca26\"],[1.0,\"#f0f921\"]],\"diverging\":[[0,\"#8e0152\"],[0.1,\"#c51b7d\"],[0.2,\"#de77ae\"],[0.3,\"#f1b6da\"],[0.4,\"#fde0ef\"],[0.5,\"#f7f7f7\"],[0.6,\"#e6f5d0\"],[0.7,\"#b8e186\"],[0.8,\"#7fbc41\"],[0.9,\"#4d9221\"],[1,\"#276419\"]]},\"xaxis\":{\"gridcolor\":\"white\",\"linecolor\":\"white\",\"ticks\":\"\",\"title\":{\"standoff\":15},\"zerolinecolor\":\"white\",\"automargin\":true,\"zerolinewidth\":2},\"yaxis\":{\"gridcolor\":\"white\",\"linecolor\":\"white\",\"ticks\":\"\",\"title\":{\"standoff\":15},\"zerolinecolor\":\"white\",\"automargin\":true,\"zerolinewidth\":2},\"scene\":{\"xaxis\":{\"backgroundcolor\":\"#E5ECF6\",\"gridcolor\":\"white\",\"linecolor\":\"white\",\"showbackground\":true,\"ticks\":\"\",\"zerolinecolor\":\"white\",\"gridwidth\":2},\"yaxis\":{\"backgroundcolor\":\"#E5ECF6\",\"gridcolor\":\"white\",\"linecolor\":\"white\",\"showbackground\":true,\"ticks\":\"\",\"zerolinecolor\":\"white\",\"gridwidth\":2},\"zaxis\":{\"backgroundcolor\":\"#E5ECF6\",\"gridcolor\":\"white\",\"linecolor\":\"white\",\"showbackground\":true,\"ticks\":\"\",\"zerolinecolor\":\"white\",\"gridwidth\":2}},\"shapedefaults\":{\"line\":{\"color\":\"#2a3f5f\"}},\"annotationdefaults\":{\"arrowcolor\":\"#2a3f5f\",\"arrowhead\":0,\"arrowwidth\":1},\"geo\":{\"bgcolor\":\"white\",\"landcolor\":\"#E5ECF6\",\"subunitcolor\":\"white\",\"showland\":true,\"showlakes\":true,\"lakecolor\":\"white\"},\"title\":{\"x\":0.05},\"mapbox\":{\"style\":\"light\"}}},\"mapbox\":{\"domain\":{\"x\":[0.0,1.0],\"y\":[0.0,1.0]},\"center\":{\"lat\":-31.829142815097253,\"lon\":116.00928029017983},\"zoom\":8,\"style\":\"open-street-map\"},\"coloraxis\":{\"colorbar\":{\"title\":{\"text\":\"cluster\"}},\"colorscale\":[[0.0,\"#0d0887\"],[0.1111111111111111,\"#46039f\"],[0.2222222222222222,\"#7201a8\"],[0.3333333333333333,\"#9c179e\"],[0.4444444444444444,\"#bd3786\"],[0.5555555555555556,\"#d8576b\"],[0.6666666666666666,\"#ed7953\"],[0.7777777777777778,\"#fb9f3a\"],[0.8888888888888888,\"#fdca26\"],[1.0,\"#f0f921\"]]},\"legend\":{\"tracegroupgap\":0},\"margin\":{\"t\":0,\"r\":0,\"l\":0,\"b\":0}},                        {\"responsive\": true}                    ).then(function(){\n",
       "                            \n",
       "var gd = document.getElementById('1fffba20-2aca-48e1-8f63-2e3303dfb03a');\n",
       "var x = new MutationObserver(function (mutations, observer) {{\n",
       "        var display = window.getComputedStyle(gd).display;\n",
       "        if (!display || display === 'none') {{\n",
       "            console.log([gd, 'removed!']);\n",
       "            Plotly.purge(gd);\n",
       "            observer.disconnect();\n",
       "        }}\n",
       "}});\n",
       "\n",
       "// Listen for the removal of the full notebook cells\n",
       "var notebookContainer = gd.closest('#notebook-container');\n",
       "if (notebookContainer) {{\n",
       "    x.observe(notebookContainer, {childList: true});\n",
       "}}\n",
       "\n",
       "// Listen for the clearing of the current output cell\n",
       "var outputEl = gd.closest('.output');\n",
       "if (outputEl) {{\n",
       "    x.observe(outputEl, {childList: true});\n",
       "}}\n",
       "\n",
       "                        })                };                });            </script>        </div>"
      ]
     },
     "metadata": {},
     "output_type": "display_data"
    }
   ],
   "source": [
    "#Update relevant data\n",
    "obj_df = pd.read_csv(dataDir+'/obj_df.csv')\n",
    "\n",
    "gdf = geopandas.GeoDataFrame(\n",
    "    obj_df, geometry=geopandas.points_from_xy(obj_df.latitude, obj_df.longitude), crs=\"EPSG:4326\"\n",
    ")\n",
    "\n",
    "gdf_locs = geopandas.GeoDataFrame(\n",
    "    osm_df, geometry=geopandas.points_from_xy(osm_df.latitude, osm_df.longitude), crs=\"EPSG:4326\"\n",
    ")\n",
    "geo_df = gdf\n",
    "\n",
    "geo_locs = gdf_locs\n",
    "\n",
    "geo_df['predicted_location_dbscan'].mask(geo_df['cluster'] == '-1', 'NOISE', inplace=True)\n",
    "\n",
    "#Make the plots\n",
    "fig = px.scatter_mapbox(geo_df,\n",
    "                    lat=geo_df.geometry.y,\n",
    "                    lon=geo_df.geometry.x,\n",
    "                    color=\"cluster\",\n",
    "                    hover_name=\"object\",\n",
    "                    hover_data=[\"predicted_location_dbscan\"])\n",
    "\n",
    "fig2 = px.scatter_mapbox(geo_locs, \n",
    "                        lat = geo_locs.geometry.y,\n",
    "                        lon = geo_locs.geometry.x,\n",
    "                        hover_name=\"location\")\n",
    "\n",
    "fig.add_trace(fig2.data[0])\n",
    "\n",
    "fig.update_layout(\n",
    "    mapbox_style=\"open-street-map\")\n",
    "fig.update_layout(margin={\"r\":0,\"t\":0,\"l\":0,\"b\":0})\n",
    "fig.show()"
   ]
  },
  {
   "cell_type": "markdown",
   "id": "58d4a164",
   "metadata": {},
   "source": [
    "# QUERIES"
   ]
  },
  {
   "attachments": {},
   "cell_type": "markdown",
   "id": "f6c209c3",
   "metadata": {},
   "source": [
    "## Query 1: \n",
    "I definitely went to Oakover Grounds where that photo was taken… "
   ]
  },
  {
   "cell_type": "code",
   "execution_count": 125,
   "id": "41fcdb67",
   "metadata": {},
   "outputs": [
    {
     "data": {
      "text/html": [
       "<div>\n",
       "<style scoped>\n",
       "    .dataframe tbody tr th:only-of-type {\n",
       "        vertical-align: middle;\n",
       "    }\n",
       "\n",
       "    .dataframe tbody tr th {\n",
       "        vertical-align: top;\n",
       "    }\n",
       "\n",
       "    .dataframe thead th {\n",
       "        text-align: right;\n",
       "    }\n",
       "</style>\n",
       "<table border=\"1\" class=\"dataframe\">\n",
       "  <thead>\n",
       "    <tr style=\"text-align: right;\">\n",
       "      <th></th>\n",
       "      <th>object</th>\n",
       "      <th>latitude</th>\n",
       "      <th>longitude</th>\n",
       "      <th>true_location</th>\n",
       "      <th>species</th>\n",
       "      <th>contents</th>\n",
       "      <th>length</th>\n",
       "      <th>type</th>\n",
       "      <th>size</th>\n",
       "      <th>shape</th>\n",
       "      <th>style</th>\n",
       "      <th>surface</th>\n",
       "      <th>color</th>\n",
       "      <th>material</th>\n",
       "      <th>roof</th>\n",
       "      <th>cluster</th>\n",
       "      <th>predicted_location_kmeans</th>\n",
       "      <th>kmeans_correct</th>\n",
       "      <th>predicted_location_dbscan</th>\n",
       "      <th>dbscan_correct</th>\n",
       "    </tr>\n",
       "  </thead>\n",
       "  <tbody>\n",
       "    <tr>\n",
       "      <th>90</th>\n",
       "      <td>pond</td>\n",
       "      <td>116.007643</td>\n",
       "      <td>-31.845904</td>\n",
       "      <td>Oakover_Grounds</td>\n",
       "      <td>NaN</td>\n",
       "      <td>NaN</td>\n",
       "      <td>NaN</td>\n",
       "      <td>NaN</td>\n",
       "      <td>NaN</td>\n",
       "      <td>NaN</td>\n",
       "      <td>NaN</td>\n",
       "      <td>NaN</td>\n",
       "      <td>NaN</td>\n",
       "      <td>NaN</td>\n",
       "      <td>NaN</td>\n",
       "      <td>4</td>\n",
       "      <td>Oakover Grounds</td>\n",
       "      <td>True</td>\n",
       "      <td>Oakover Grounds</td>\n",
       "      <td>True</td>\n",
       "    </tr>\n",
       "    <tr>\n",
       "      <th>91</th>\n",
       "      <td>bridge</td>\n",
       "      <td>116.007558</td>\n",
       "      <td>-31.846389</td>\n",
       "      <td>Oakover_Grounds</td>\n",
       "      <td>NaN</td>\n",
       "      <td>NaN</td>\n",
       "      <td>NaN</td>\n",
       "      <td>NaN</td>\n",
       "      <td>NaN</td>\n",
       "      <td>NaN</td>\n",
       "      <td>NaN</td>\n",
       "      <td>NaN</td>\n",
       "      <td>NaN</td>\n",
       "      <td>wooden</td>\n",
       "      <td>NaN</td>\n",
       "      <td>4</td>\n",
       "      <td>Oakover Grounds</td>\n",
       "      <td>True</td>\n",
       "      <td>Oakover Grounds</td>\n",
       "      <td>True</td>\n",
       "    </tr>\n",
       "    <tr>\n",
       "      <th>92</th>\n",
       "      <td>island</td>\n",
       "      <td>116.007744</td>\n",
       "      <td>-31.846333</td>\n",
       "      <td>Oakover_Grounds</td>\n",
       "      <td>NaN</td>\n",
       "      <td>NaN</td>\n",
       "      <td>NaN</td>\n",
       "      <td>NaN</td>\n",
       "      <td>NaN</td>\n",
       "      <td>NaN</td>\n",
       "      <td>NaN</td>\n",
       "      <td>NaN</td>\n",
       "      <td>NaN</td>\n",
       "      <td>NaN</td>\n",
       "      <td>NaN</td>\n",
       "      <td>4</td>\n",
       "      <td>Oakover Grounds</td>\n",
       "      <td>True</td>\n",
       "      <td>Oakover Grounds</td>\n",
       "      <td>True</td>\n",
       "    </tr>\n",
       "    <tr>\n",
       "      <th>96</th>\n",
       "      <td>building</td>\n",
       "      <td>116.004914</td>\n",
       "      <td>-31.845341</td>\n",
       "      <td>Oakover_Grounds</td>\n",
       "      <td>NaN</td>\n",
       "      <td>NaN</td>\n",
       "      <td>NaN</td>\n",
       "      <td>NaN</td>\n",
       "      <td>NaN</td>\n",
       "      <td>NaN</td>\n",
       "      <td>NaN</td>\n",
       "      <td>NaN</td>\n",
       "      <td>NaN</td>\n",
       "      <td>NaN</td>\n",
       "      <td>NaN</td>\n",
       "      <td>5</td>\n",
       "      <td>Oakover Grounds</td>\n",
       "      <td>True</td>\n",
       "      <td>Oakover Grounds</td>\n",
       "      <td>True</td>\n",
       "    </tr>\n",
       "    <tr>\n",
       "      <th>97</th>\n",
       "      <td>tennis_court</td>\n",
       "      <td>116.004953</td>\n",
       "      <td>-31.844971</td>\n",
       "      <td>Oakover_Grounds</td>\n",
       "      <td>NaN</td>\n",
       "      <td>NaN</td>\n",
       "      <td>NaN</td>\n",
       "      <td>NaN</td>\n",
       "      <td>NaN</td>\n",
       "      <td>NaN</td>\n",
       "      <td>NaN</td>\n",
       "      <td>NaN</td>\n",
       "      <td>NaN</td>\n",
       "      <td>NaN</td>\n",
       "      <td>NaN</td>\n",
       "      <td>5</td>\n",
       "      <td>Oakover Grounds</td>\n",
       "      <td>True</td>\n",
       "      <td>Oakover Grounds</td>\n",
       "      <td>True</td>\n",
       "    </tr>\n",
       "    <tr>\n",
       "      <th>98</th>\n",
       "      <td>swimming_pool</td>\n",
       "      <td>116.004680</td>\n",
       "      <td>-31.845205</td>\n",
       "      <td>Oakover_Grounds</td>\n",
       "      <td>NaN</td>\n",
       "      <td>NaN</td>\n",
       "      <td>NaN</td>\n",
       "      <td>NaN</td>\n",
       "      <td>NaN</td>\n",
       "      <td>NaN</td>\n",
       "      <td>NaN</td>\n",
       "      <td>NaN</td>\n",
       "      <td>NaN</td>\n",
       "      <td>NaN</td>\n",
       "      <td>NaN</td>\n",
       "      <td>5</td>\n",
       "      <td>Oakover Grounds</td>\n",
       "      <td>True</td>\n",
       "      <td>Oakover Grounds</td>\n",
       "      <td>True</td>\n",
       "    </tr>\n",
       "    <tr>\n",
       "      <th>99</th>\n",
       "      <td>shade_cloth</td>\n",
       "      <td>116.004641</td>\n",
       "      <td>-31.845191</td>\n",
       "      <td>Oakover_Grounds</td>\n",
       "      <td>NaN</td>\n",
       "      <td>NaN</td>\n",
       "      <td>NaN</td>\n",
       "      <td>NaN</td>\n",
       "      <td>NaN</td>\n",
       "      <td>shell</td>\n",
       "      <td>NaN</td>\n",
       "      <td>NaN</td>\n",
       "      <td>white</td>\n",
       "      <td>NaN</td>\n",
       "      <td>NaN</td>\n",
       "      <td>5</td>\n",
       "      <td>Oakover Grounds</td>\n",
       "      <td>True</td>\n",
       "      <td>Oakover Grounds</td>\n",
       "      <td>True</td>\n",
       "    </tr>\n",
       "    <tr>\n",
       "      <th>101</th>\n",
       "      <td>warehouse</td>\n",
       "      <td>116.006057</td>\n",
       "      <td>-31.845060</td>\n",
       "      <td>Oakover_Grounds</td>\n",
       "      <td>NaN</td>\n",
       "      <td>NaN</td>\n",
       "      <td>NaN</td>\n",
       "      <td>NaN</td>\n",
       "      <td>NaN</td>\n",
       "      <td>NaN</td>\n",
       "      <td>NaN</td>\n",
       "      <td>NaN</td>\n",
       "      <td>white</td>\n",
       "      <td>corrugated_iron</td>\n",
       "      <td>NaN</td>\n",
       "      <td>4</td>\n",
       "      <td>Oakover Grounds</td>\n",
       "      <td>True</td>\n",
       "      <td>Oakover Grounds</td>\n",
       "      <td>True</td>\n",
       "    </tr>\n",
       "    <tr>\n",
       "      <th>102</th>\n",
       "      <td>vat</td>\n",
       "      <td>116.006369</td>\n",
       "      <td>-31.845185</td>\n",
       "      <td>Oakover_Grounds</td>\n",
       "      <td>NaN</td>\n",
       "      <td>NaN</td>\n",
       "      <td>NaN</td>\n",
       "      <td>NaN</td>\n",
       "      <td>NaN</td>\n",
       "      <td>NaN</td>\n",
       "      <td>NaN</td>\n",
       "      <td>NaN</td>\n",
       "      <td>green</td>\n",
       "      <td>NaN</td>\n",
       "      <td>NaN</td>\n",
       "      <td>4</td>\n",
       "      <td>Oakover Grounds</td>\n",
       "      <td>True</td>\n",
       "      <td>Oakover Grounds</td>\n",
       "      <td>True</td>\n",
       "    </tr>\n",
       "    <tr>\n",
       "      <th>103</th>\n",
       "      <td>vat</td>\n",
       "      <td>116.006372</td>\n",
       "      <td>-31.845151</td>\n",
       "      <td>Oakover_Grounds</td>\n",
       "      <td>NaN</td>\n",
       "      <td>NaN</td>\n",
       "      <td>NaN</td>\n",
       "      <td>NaN</td>\n",
       "      <td>NaN</td>\n",
       "      <td>NaN</td>\n",
       "      <td>NaN</td>\n",
       "      <td>NaN</td>\n",
       "      <td>white</td>\n",
       "      <td>NaN</td>\n",
       "      <td>NaN</td>\n",
       "      <td>4</td>\n",
       "      <td>Oakover Grounds</td>\n",
       "      <td>True</td>\n",
       "      <td>Oakover Grounds</td>\n",
       "      <td>True</td>\n",
       "    </tr>\n",
       "    <tr>\n",
       "      <th>104</th>\n",
       "      <td>vat</td>\n",
       "      <td>116.006374</td>\n",
       "      <td>-31.845109</td>\n",
       "      <td>Oakover_Grounds</td>\n",
       "      <td>NaN</td>\n",
       "      <td>NaN</td>\n",
       "      <td>NaN</td>\n",
       "      <td>NaN</td>\n",
       "      <td>NaN</td>\n",
       "      <td>NaN</td>\n",
       "      <td>NaN</td>\n",
       "      <td>NaN</td>\n",
       "      <td>white</td>\n",
       "      <td>NaN</td>\n",
       "      <td>NaN</td>\n",
       "      <td>4</td>\n",
       "      <td>Oakover Grounds</td>\n",
       "      <td>True</td>\n",
       "      <td>Oakover Grounds</td>\n",
       "      <td>True</td>\n",
       "    </tr>\n",
       "    <tr>\n",
       "      <th>105</th>\n",
       "      <td>vat</td>\n",
       "      <td>116.006380</td>\n",
       "      <td>-31.845077</td>\n",
       "      <td>Oakover_Grounds</td>\n",
       "      <td>NaN</td>\n",
       "      <td>NaN</td>\n",
       "      <td>NaN</td>\n",
       "      <td>NaN</td>\n",
       "      <td>NaN</td>\n",
       "      <td>NaN</td>\n",
       "      <td>NaN</td>\n",
       "      <td>NaN</td>\n",
       "      <td>white</td>\n",
       "      <td>NaN</td>\n",
       "      <td>NaN</td>\n",
       "      <td>4</td>\n",
       "      <td>Oakover Grounds</td>\n",
       "      <td>True</td>\n",
       "      <td>Oakover Grounds</td>\n",
       "      <td>True</td>\n",
       "    </tr>\n",
       "    <tr>\n",
       "      <th>106</th>\n",
       "      <td>building</td>\n",
       "      <td>116.006641</td>\n",
       "      <td>-31.845126</td>\n",
       "      <td>Oakover_Grounds</td>\n",
       "      <td>NaN</td>\n",
       "      <td>NaN</td>\n",
       "      <td>NaN</td>\n",
       "      <td>NaN</td>\n",
       "      <td>NaN</td>\n",
       "      <td>NaN</td>\n",
       "      <td>NaN</td>\n",
       "      <td>NaN</td>\n",
       "      <td>white</td>\n",
       "      <td>NaN</td>\n",
       "      <td>green</td>\n",
       "      <td>4</td>\n",
       "      <td>Oakover Grounds</td>\n",
       "      <td>True</td>\n",
       "      <td>Oakover Grounds</td>\n",
       "      <td>True</td>\n",
       "    </tr>\n",
       "    <tr>\n",
       "      <th>107</th>\n",
       "      <td>parking_lot</td>\n",
       "      <td>116.007004</td>\n",
       "      <td>-31.845275</td>\n",
       "      <td>Oakover_Grounds</td>\n",
       "      <td>NaN</td>\n",
       "      <td>NaN</td>\n",
       "      <td>NaN</td>\n",
       "      <td>NaN</td>\n",
       "      <td>NaN</td>\n",
       "      <td>NaN</td>\n",
       "      <td>NaN</td>\n",
       "      <td>NaN</td>\n",
       "      <td>white</td>\n",
       "      <td>asphalt</td>\n",
       "      <td>NaN</td>\n",
       "      <td>4</td>\n",
       "      <td>Oakover Grounds</td>\n",
       "      <td>True</td>\n",
       "      <td>Oakover Grounds</td>\n",
       "      <td>True</td>\n",
       "    </tr>\n",
       "    <tr>\n",
       "      <th>108</th>\n",
       "      <td>solar_panels</td>\n",
       "      <td>116.007364</td>\n",
       "      <td>-31.844877</td>\n",
       "      <td>Oakover_Grounds</td>\n",
       "      <td>NaN</td>\n",
       "      <td>NaN</td>\n",
       "      <td>NaN</td>\n",
       "      <td>NaN</td>\n",
       "      <td>NaN</td>\n",
       "      <td>NaN</td>\n",
       "      <td>NaN</td>\n",
       "      <td>NaN</td>\n",
       "      <td>NaN</td>\n",
       "      <td>NaN</td>\n",
       "      <td>NaN</td>\n",
       "      <td>4</td>\n",
       "      <td>Oakover Grounds</td>\n",
       "      <td>True</td>\n",
       "      <td>Oakover Grounds</td>\n",
       "      <td>True</td>\n",
       "    </tr>\n",
       "    <tr>\n",
       "      <th>109</th>\n",
       "      <td>solar_panels</td>\n",
       "      <td>116.007362</td>\n",
       "      <td>-31.844965</td>\n",
       "      <td>Oakover_Grounds</td>\n",
       "      <td>NaN</td>\n",
       "      <td>NaN</td>\n",
       "      <td>NaN</td>\n",
       "      <td>NaN</td>\n",
       "      <td>NaN</td>\n",
       "      <td>NaN</td>\n",
       "      <td>NaN</td>\n",
       "      <td>NaN</td>\n",
       "      <td>NaN</td>\n",
       "      <td>NaN</td>\n",
       "      <td>NaN</td>\n",
       "      <td>4</td>\n",
       "      <td>Oakover Grounds</td>\n",
       "      <td>True</td>\n",
       "      <td>Oakover Grounds</td>\n",
       "      <td>True</td>\n",
       "    </tr>\n",
       "    <tr>\n",
       "      <th>110</th>\n",
       "      <td>building</td>\n",
       "      <td>116.007342</td>\n",
       "      <td>-31.845057</td>\n",
       "      <td>Oakover_Grounds</td>\n",
       "      <td>NaN</td>\n",
       "      <td>NaN</td>\n",
       "      <td>NaN</td>\n",
       "      <td>NaN</td>\n",
       "      <td>NaN</td>\n",
       "      <td>NaN</td>\n",
       "      <td>NaN</td>\n",
       "      <td>NaN</td>\n",
       "      <td>NaN</td>\n",
       "      <td>NaN</td>\n",
       "      <td>green</td>\n",
       "      <td>4</td>\n",
       "      <td>Oakover Grounds</td>\n",
       "      <td>True</td>\n",
       "      <td>Oakover Grounds</td>\n",
       "      <td>True</td>\n",
       "    </tr>\n",
       "    <tr>\n",
       "      <th>111</th>\n",
       "      <td>fence</td>\n",
       "      <td>116.007257</td>\n",
       "      <td>-31.845232</td>\n",
       "      <td>Oakover_Grounds</td>\n",
       "      <td>NaN</td>\n",
       "      <td>NaN</td>\n",
       "      <td>NaN</td>\n",
       "      <td>NaN</td>\n",
       "      <td>NaN</td>\n",
       "      <td>NaN</td>\n",
       "      <td>picket</td>\n",
       "      <td>NaN</td>\n",
       "      <td>white</td>\n",
       "      <td>wood</td>\n",
       "      <td>NaN</td>\n",
       "      <td>4</td>\n",
       "      <td>Oakover Grounds</td>\n",
       "      <td>True</td>\n",
       "      <td>Oakover Grounds</td>\n",
       "      <td>True</td>\n",
       "    </tr>\n",
       "    <tr>\n",
       "      <th>112</th>\n",
       "      <td>jetty</td>\n",
       "      <td>116.007597</td>\n",
       "      <td>-31.845380</td>\n",
       "      <td>Oakover_Grounds</td>\n",
       "      <td>NaN</td>\n",
       "      <td>NaN</td>\n",
       "      <td>NaN</td>\n",
       "      <td>NaN</td>\n",
       "      <td>NaN</td>\n",
       "      <td>NaN</td>\n",
       "      <td>NaN</td>\n",
       "      <td>NaN</td>\n",
       "      <td>white</td>\n",
       "      <td>NaN</td>\n",
       "      <td>NaN</td>\n",
       "      <td>4</td>\n",
       "      <td>Oakover Grounds</td>\n",
       "      <td>True</td>\n",
       "      <td>Oakover Grounds</td>\n",
       "      <td>True</td>\n",
       "    </tr>\n",
       "    <tr>\n",
       "      <th>113</th>\n",
       "      <td>picnic_table</td>\n",
       "      <td>116.007539</td>\n",
       "      <td>-31.845370</td>\n",
       "      <td>Oakover_Grounds</td>\n",
       "      <td>NaN</td>\n",
       "      <td>NaN</td>\n",
       "      <td>NaN</td>\n",
       "      <td>NaN</td>\n",
       "      <td>NaN</td>\n",
       "      <td>NaN</td>\n",
       "      <td>NaN</td>\n",
       "      <td>NaN</td>\n",
       "      <td>NaN</td>\n",
       "      <td>NaN</td>\n",
       "      <td>NaN</td>\n",
       "      <td>4</td>\n",
       "      <td>Oakover Grounds</td>\n",
       "      <td>True</td>\n",
       "      <td>Oakover Grounds</td>\n",
       "      <td>True</td>\n",
       "    </tr>\n",
       "    <tr>\n",
       "      <th>114</th>\n",
       "      <td>picnic_table</td>\n",
       "      <td>116.007660</td>\n",
       "      <td>-31.845370</td>\n",
       "      <td>Oakover_Grounds</td>\n",
       "      <td>NaN</td>\n",
       "      <td>NaN</td>\n",
       "      <td>NaN</td>\n",
       "      <td>NaN</td>\n",
       "      <td>NaN</td>\n",
       "      <td>NaN</td>\n",
       "      <td>NaN</td>\n",
       "      <td>NaN</td>\n",
       "      <td>NaN</td>\n",
       "      <td>NaN</td>\n",
       "      <td>NaN</td>\n",
       "      <td>4</td>\n",
       "      <td>Oakover Grounds</td>\n",
       "      <td>True</td>\n",
       "      <td>Oakover Grounds</td>\n",
       "      <td>True</td>\n",
       "    </tr>\n",
       "    <tr>\n",
       "      <th>115</th>\n",
       "      <td>tank</td>\n",
       "      <td>116.006866</td>\n",
       "      <td>-31.844886</td>\n",
       "      <td>Oakover_Grounds</td>\n",
       "      <td>NaN</td>\n",
       "      <td>lpg</td>\n",
       "      <td>NaN</td>\n",
       "      <td>NaN</td>\n",
       "      <td>NaN</td>\n",
       "      <td>NaN</td>\n",
       "      <td>NaN</td>\n",
       "      <td>NaN</td>\n",
       "      <td>NaN</td>\n",
       "      <td>NaN</td>\n",
       "      <td>NaN</td>\n",
       "      <td>4</td>\n",
       "      <td>Oakover Grounds</td>\n",
       "      <td>True</td>\n",
       "      <td>Oakover Grounds</td>\n",
       "      <td>True</td>\n",
       "    </tr>\n",
       "    <tr>\n",
       "      <th>116</th>\n",
       "      <td>tank</td>\n",
       "      <td>116.006692</td>\n",
       "      <td>-31.844854</td>\n",
       "      <td>Oakover_Grounds</td>\n",
       "      <td>NaN</td>\n",
       "      <td>rainwater</td>\n",
       "      <td>NaN</td>\n",
       "      <td>NaN</td>\n",
       "      <td>NaN</td>\n",
       "      <td>NaN</td>\n",
       "      <td>NaN</td>\n",
       "      <td>NaN</td>\n",
       "      <td>NaN</td>\n",
       "      <td>NaN</td>\n",
       "      <td>NaN</td>\n",
       "      <td>4</td>\n",
       "      <td>Oakover Grounds</td>\n",
       "      <td>True</td>\n",
       "      <td>Oakover Grounds</td>\n",
       "      <td>True</td>\n",
       "    </tr>\n",
       "    <tr>\n",
       "      <th>117</th>\n",
       "      <td>shed</td>\n",
       "      <td>116.007229</td>\n",
       "      <td>-31.845134</td>\n",
       "      <td>Oakover_Grounds</td>\n",
       "      <td>NaN</td>\n",
       "      <td>NaN</td>\n",
       "      <td>NaN</td>\n",
       "      <td>NaN</td>\n",
       "      <td>NaN</td>\n",
       "      <td>NaN</td>\n",
       "      <td>NaN</td>\n",
       "      <td>NaN</td>\n",
       "      <td>NaN</td>\n",
       "      <td>NaN</td>\n",
       "      <td>NaN</td>\n",
       "      <td>4</td>\n",
       "      <td>Oakover Grounds</td>\n",
       "      <td>True</td>\n",
       "      <td>Oakover Grounds</td>\n",
       "      <td>True</td>\n",
       "    </tr>\n",
       "    <tr>\n",
       "      <th>118</th>\n",
       "      <td>shipping_container</td>\n",
       "      <td>116.007243</td>\n",
       "      <td>-31.844662</td>\n",
       "      <td>Oakover_Grounds</td>\n",
       "      <td>NaN</td>\n",
       "      <td>NaN</td>\n",
       "      <td>NaN</td>\n",
       "      <td>NaN</td>\n",
       "      <td>NaN</td>\n",
       "      <td>NaN</td>\n",
       "      <td>NaN</td>\n",
       "      <td>NaN</td>\n",
       "      <td>green</td>\n",
       "      <td>NaN</td>\n",
       "      <td>NaN</td>\n",
       "      <td>4</td>\n",
       "      <td>Oakover Grounds</td>\n",
       "      <td>True</td>\n",
       "      <td>Oakover Grounds</td>\n",
       "      <td>True</td>\n",
       "    </tr>\n",
       "    <tr>\n",
       "      <th>119</th>\n",
       "      <td>shipping_container</td>\n",
       "      <td>116.007238</td>\n",
       "      <td>-31.844691</td>\n",
       "      <td>Oakover_Grounds</td>\n",
       "      <td>NaN</td>\n",
       "      <td>NaN</td>\n",
       "      <td>NaN</td>\n",
       "      <td>NaN</td>\n",
       "      <td>NaN</td>\n",
       "      <td>NaN</td>\n",
       "      <td>NaN</td>\n",
       "      <td>NaN</td>\n",
       "      <td>white</td>\n",
       "      <td>NaN</td>\n",
       "      <td>NaN</td>\n",
       "      <td>4</td>\n",
       "      <td>Oakover Grounds</td>\n",
       "      <td>True</td>\n",
       "      <td>Oakover Grounds</td>\n",
       "      <td>True</td>\n",
       "    </tr>\n",
       "    <tr>\n",
       "      <th>120</th>\n",
       "      <td>shipping_container</td>\n",
       "      <td>116.007239</td>\n",
       "      <td>-31.844724</td>\n",
       "      <td>Oakover_Grounds</td>\n",
       "      <td>NaN</td>\n",
       "      <td>NaN</td>\n",
       "      <td>NaN</td>\n",
       "      <td>NaN</td>\n",
       "      <td>NaN</td>\n",
       "      <td>NaN</td>\n",
       "      <td>NaN</td>\n",
       "      <td>NaN</td>\n",
       "      <td>white</td>\n",
       "      <td>NaN</td>\n",
       "      <td>NaN</td>\n",
       "      <td>4</td>\n",
       "      <td>Oakover Grounds</td>\n",
       "      <td>True</td>\n",
       "      <td>Oakover Grounds</td>\n",
       "      <td>True</td>\n",
       "    </tr>\n",
       "    <tr>\n",
       "      <th>121</th>\n",
       "      <td>shipping_container</td>\n",
       "      <td>116.007423</td>\n",
       "      <td>-31.844688</td>\n",
       "      <td>Oakover_Grounds</td>\n",
       "      <td>NaN</td>\n",
       "      <td>NaN</td>\n",
       "      <td>NaN</td>\n",
       "      <td>NaN</td>\n",
       "      <td>NaN</td>\n",
       "      <td>NaN</td>\n",
       "      <td>NaN</td>\n",
       "      <td>NaN</td>\n",
       "      <td>white</td>\n",
       "      <td>NaN</td>\n",
       "      <td>NaN</td>\n",
       "      <td>4</td>\n",
       "      <td>Oakover Grounds</td>\n",
       "      <td>True</td>\n",
       "      <td>Oakover Grounds</td>\n",
       "      <td>True</td>\n",
       "    </tr>\n",
       "    <tr>\n",
       "      <th>123</th>\n",
       "      <td>vineyard</td>\n",
       "      <td>116.006639</td>\n",
       "      <td>-31.844247</td>\n",
       "      <td>Oakover_Grounds</td>\n",
       "      <td>NaN</td>\n",
       "      <td>NaN</td>\n",
       "      <td>NaN</td>\n",
       "      <td>NaN</td>\n",
       "      <td>medium</td>\n",
       "      <td>NaN</td>\n",
       "      <td>NaN</td>\n",
       "      <td>NaN</td>\n",
       "      <td>NaN</td>\n",
       "      <td>NaN</td>\n",
       "      <td>NaN</td>\n",
       "      <td>4</td>\n",
       "      <td>Oakover Grounds</td>\n",
       "      <td>True</td>\n",
       "      <td>Oakover Grounds</td>\n",
       "      <td>True</td>\n",
       "    </tr>\n",
       "  </tbody>\n",
       "</table>\n",
       "</div>"
      ],
      "text/plain": [
       "                 object    latitude  longitude    true_location species  \\\n",
       "90                 pond  116.007643 -31.845904  Oakover_Grounds     NaN   \n",
       "91               bridge  116.007558 -31.846389  Oakover_Grounds     NaN   \n",
       "92               island  116.007744 -31.846333  Oakover_Grounds     NaN   \n",
       "96             building  116.004914 -31.845341  Oakover_Grounds     NaN   \n",
       "97         tennis_court  116.004953 -31.844971  Oakover_Grounds     NaN   \n",
       "98        swimming_pool  116.004680 -31.845205  Oakover_Grounds     NaN   \n",
       "99          shade_cloth  116.004641 -31.845191  Oakover_Grounds     NaN   \n",
       "101           warehouse  116.006057 -31.845060  Oakover_Grounds     NaN   \n",
       "102                 vat  116.006369 -31.845185  Oakover_Grounds     NaN   \n",
       "103                 vat  116.006372 -31.845151  Oakover_Grounds     NaN   \n",
       "104                 vat  116.006374 -31.845109  Oakover_Grounds     NaN   \n",
       "105                 vat  116.006380 -31.845077  Oakover_Grounds     NaN   \n",
       "106            building  116.006641 -31.845126  Oakover_Grounds     NaN   \n",
       "107         parking_lot  116.007004 -31.845275  Oakover_Grounds     NaN   \n",
       "108        solar_panels  116.007364 -31.844877  Oakover_Grounds     NaN   \n",
       "109        solar_panels  116.007362 -31.844965  Oakover_Grounds     NaN   \n",
       "110            building  116.007342 -31.845057  Oakover_Grounds     NaN   \n",
       "111               fence  116.007257 -31.845232  Oakover_Grounds     NaN   \n",
       "112               jetty  116.007597 -31.845380  Oakover_Grounds     NaN   \n",
       "113        picnic_table  116.007539 -31.845370  Oakover_Grounds     NaN   \n",
       "114        picnic_table  116.007660 -31.845370  Oakover_Grounds     NaN   \n",
       "115                tank  116.006866 -31.844886  Oakover_Grounds     NaN   \n",
       "116                tank  116.006692 -31.844854  Oakover_Grounds     NaN   \n",
       "117                shed  116.007229 -31.845134  Oakover_Grounds     NaN   \n",
       "118  shipping_container  116.007243 -31.844662  Oakover_Grounds     NaN   \n",
       "119  shipping_container  116.007238 -31.844691  Oakover_Grounds     NaN   \n",
       "120  shipping_container  116.007239 -31.844724  Oakover_Grounds     NaN   \n",
       "121  shipping_container  116.007423 -31.844688  Oakover_Grounds     NaN   \n",
       "123            vineyard  116.006639 -31.844247  Oakover_Grounds     NaN   \n",
       "\n",
       "      contents length type    size  shape   style surface  color  \\\n",
       "90         NaN    NaN  NaN     NaN    NaN     NaN     NaN    NaN   \n",
       "91         NaN    NaN  NaN     NaN    NaN     NaN     NaN    NaN   \n",
       "92         NaN    NaN  NaN     NaN    NaN     NaN     NaN    NaN   \n",
       "96         NaN    NaN  NaN     NaN    NaN     NaN     NaN    NaN   \n",
       "97         NaN    NaN  NaN     NaN    NaN     NaN     NaN    NaN   \n",
       "98         NaN    NaN  NaN     NaN    NaN     NaN     NaN    NaN   \n",
       "99         NaN    NaN  NaN     NaN  shell     NaN     NaN  white   \n",
       "101        NaN    NaN  NaN     NaN    NaN     NaN     NaN  white   \n",
       "102        NaN    NaN  NaN     NaN    NaN     NaN     NaN  green   \n",
       "103        NaN    NaN  NaN     NaN    NaN     NaN     NaN  white   \n",
       "104        NaN    NaN  NaN     NaN    NaN     NaN     NaN  white   \n",
       "105        NaN    NaN  NaN     NaN    NaN     NaN     NaN  white   \n",
       "106        NaN    NaN  NaN     NaN    NaN     NaN     NaN  white   \n",
       "107        NaN    NaN  NaN     NaN    NaN     NaN     NaN  white   \n",
       "108        NaN    NaN  NaN     NaN    NaN     NaN     NaN    NaN   \n",
       "109        NaN    NaN  NaN     NaN    NaN     NaN     NaN    NaN   \n",
       "110        NaN    NaN  NaN     NaN    NaN     NaN     NaN    NaN   \n",
       "111        NaN    NaN  NaN     NaN    NaN  picket     NaN  white   \n",
       "112        NaN    NaN  NaN     NaN    NaN     NaN     NaN  white   \n",
       "113        NaN    NaN  NaN     NaN    NaN     NaN     NaN    NaN   \n",
       "114        NaN    NaN  NaN     NaN    NaN     NaN     NaN    NaN   \n",
       "115        lpg    NaN  NaN     NaN    NaN     NaN     NaN    NaN   \n",
       "116  rainwater    NaN  NaN     NaN    NaN     NaN     NaN    NaN   \n",
       "117        NaN    NaN  NaN     NaN    NaN     NaN     NaN    NaN   \n",
       "118        NaN    NaN  NaN     NaN    NaN     NaN     NaN  green   \n",
       "119        NaN    NaN  NaN     NaN    NaN     NaN     NaN  white   \n",
       "120        NaN    NaN  NaN     NaN    NaN     NaN     NaN  white   \n",
       "121        NaN    NaN  NaN     NaN    NaN     NaN     NaN  white   \n",
       "123        NaN    NaN  NaN  medium    NaN     NaN     NaN    NaN   \n",
       "\n",
       "            material   roof  cluster predicted_location_kmeans  \\\n",
       "90               NaN    NaN        4           Oakover Grounds   \n",
       "91            wooden    NaN        4           Oakover Grounds   \n",
       "92               NaN    NaN        4           Oakover Grounds   \n",
       "96               NaN    NaN        5           Oakover Grounds   \n",
       "97               NaN    NaN        5           Oakover Grounds   \n",
       "98               NaN    NaN        5           Oakover Grounds   \n",
       "99               NaN    NaN        5           Oakover Grounds   \n",
       "101  corrugated_iron    NaN        4           Oakover Grounds   \n",
       "102              NaN    NaN        4           Oakover Grounds   \n",
       "103              NaN    NaN        4           Oakover Grounds   \n",
       "104              NaN    NaN        4           Oakover Grounds   \n",
       "105              NaN    NaN        4           Oakover Grounds   \n",
       "106              NaN  green        4           Oakover Grounds   \n",
       "107          asphalt    NaN        4           Oakover Grounds   \n",
       "108              NaN    NaN        4           Oakover Grounds   \n",
       "109              NaN    NaN        4           Oakover Grounds   \n",
       "110              NaN  green        4           Oakover Grounds   \n",
       "111             wood    NaN        4           Oakover Grounds   \n",
       "112              NaN    NaN        4           Oakover Grounds   \n",
       "113              NaN    NaN        4           Oakover Grounds   \n",
       "114              NaN    NaN        4           Oakover Grounds   \n",
       "115              NaN    NaN        4           Oakover Grounds   \n",
       "116              NaN    NaN        4           Oakover Grounds   \n",
       "117              NaN    NaN        4           Oakover Grounds   \n",
       "118              NaN    NaN        4           Oakover Grounds   \n",
       "119              NaN    NaN        4           Oakover Grounds   \n",
       "120              NaN    NaN        4           Oakover Grounds   \n",
       "121              NaN    NaN        4           Oakover Grounds   \n",
       "123              NaN    NaN        4           Oakover Grounds   \n",
       "\n",
       "     kmeans_correct predicted_location_dbscan  dbscan_correct  \n",
       "90             True           Oakover Grounds            True  \n",
       "91             True           Oakover Grounds            True  \n",
       "92             True           Oakover Grounds            True  \n",
       "96             True           Oakover Grounds            True  \n",
       "97             True           Oakover Grounds            True  \n",
       "98             True           Oakover Grounds            True  \n",
       "99             True           Oakover Grounds            True  \n",
       "101            True           Oakover Grounds            True  \n",
       "102            True           Oakover Grounds            True  \n",
       "103            True           Oakover Grounds            True  \n",
       "104            True           Oakover Grounds            True  \n",
       "105            True           Oakover Grounds            True  \n",
       "106            True           Oakover Grounds            True  \n",
       "107            True           Oakover Grounds            True  \n",
       "108            True           Oakover Grounds            True  \n",
       "109            True           Oakover Grounds            True  \n",
       "110            True           Oakover Grounds            True  \n",
       "111            True           Oakover Grounds            True  \n",
       "112            True           Oakover Grounds            True  \n",
       "113            True           Oakover Grounds            True  \n",
       "114            True           Oakover Grounds            True  \n",
       "115            True           Oakover Grounds            True  \n",
       "116            True           Oakover Grounds            True  \n",
       "117            True           Oakover Grounds            True  \n",
       "118            True           Oakover Grounds            True  \n",
       "119            True           Oakover Grounds            True  \n",
       "120            True           Oakover Grounds            True  \n",
       "121            True           Oakover Grounds            True  \n",
       "123            True           Oakover Grounds            True  "
      ]
     },
     "execution_count": 125,
     "metadata": {},
     "output_type": "execute_result"
    }
   ],
   "source": [
    "obj_df.query(\"predicted_location_dbscan=='Oakover Grounds'\")"
   ]
  },
  {
   "attachments": {},
   "cell_type": "markdown",
   "id": "efc3d373",
   "metadata": {},
   "source": [
    "## Query 2:\n",
    "I remember an excellent Verdelho on some tables made of wine barrels…"
   ]
  },
  {
   "cell_type": "code",
   "execution_count": 126,
   "id": "4667f524",
   "metadata": {},
   "outputs": [
    {
     "data": {
      "text/html": [
       "<div>\n",
       "<style scoped>\n",
       "    .dataframe tbody tr th:only-of-type {\n",
       "        vertical-align: middle;\n",
       "    }\n",
       "\n",
       "    .dataframe tbody tr th {\n",
       "        vertical-align: top;\n",
       "    }\n",
       "\n",
       "    .dataframe thead th {\n",
       "        text-align: right;\n",
       "    }\n",
       "</style>\n",
       "<table border=\"1\" class=\"dataframe\">\n",
       "  <thead>\n",
       "    <tr style=\"text-align: right;\">\n",
       "      <th></th>\n",
       "      <th>object</th>\n",
       "      <th>latitude</th>\n",
       "      <th>longitude</th>\n",
       "      <th>true_location</th>\n",
       "      <th>species</th>\n",
       "      <th>contents</th>\n",
       "      <th>length</th>\n",
       "      <th>type</th>\n",
       "      <th>size</th>\n",
       "      <th>shape</th>\n",
       "      <th>style</th>\n",
       "      <th>surface</th>\n",
       "      <th>color</th>\n",
       "      <th>material</th>\n",
       "      <th>roof</th>\n",
       "      <th>cluster</th>\n",
       "      <th>predicted_location_kmeans</th>\n",
       "      <th>kmeans_correct</th>\n",
       "      <th>predicted_location_dbscan</th>\n",
       "      <th>dbscan_correct</th>\n",
       "    </tr>\n",
       "  </thead>\n",
       "  <tbody>\n",
       "    <tr>\n",
       "      <th>130</th>\n",
       "      <td>table</td>\n",
       "      <td>115.990531</td>\n",
       "      <td>-31.851827</td>\n",
       "      <td>Lancaster_Wines</td>\n",
       "      <td>NaN</td>\n",
       "      <td>NaN</td>\n",
       "      <td>NaN</td>\n",
       "      <td>NaN</td>\n",
       "      <td>NaN</td>\n",
       "      <td>NaN</td>\n",
       "      <td>NaN</td>\n",
       "      <td>NaN</td>\n",
       "      <td>white</td>\n",
       "      <td>wine_barrell</td>\n",
       "      <td>NaN</td>\n",
       "      <td>6</td>\n",
       "      <td>Lancaster Wines</td>\n",
       "      <td>True</td>\n",
       "      <td>Lancaster Wines</td>\n",
       "      <td>True</td>\n",
       "    </tr>\n",
       "    <tr>\n",
       "      <th>131</th>\n",
       "      <td>table</td>\n",
       "      <td>115.990548</td>\n",
       "      <td>-31.851826</td>\n",
       "      <td>Lancaster_Wines</td>\n",
       "      <td>NaN</td>\n",
       "      <td>NaN</td>\n",
       "      <td>NaN</td>\n",
       "      <td>NaN</td>\n",
       "      <td>NaN</td>\n",
       "      <td>NaN</td>\n",
       "      <td>NaN</td>\n",
       "      <td>NaN</td>\n",
       "      <td>NaN</td>\n",
       "      <td>wine_barrell</td>\n",
       "      <td>NaN</td>\n",
       "      <td>6</td>\n",
       "      <td>Lancaster Wines</td>\n",
       "      <td>True</td>\n",
       "      <td>Lancaster Wines</td>\n",
       "      <td>True</td>\n",
       "    </tr>\n",
       "    <tr>\n",
       "      <th>132</th>\n",
       "      <td>table</td>\n",
       "      <td>115.990566</td>\n",
       "      <td>-31.851828</td>\n",
       "      <td>Lancaster_Wines</td>\n",
       "      <td>NaN</td>\n",
       "      <td>NaN</td>\n",
       "      <td>NaN</td>\n",
       "      <td>NaN</td>\n",
       "      <td>NaN</td>\n",
       "      <td>NaN</td>\n",
       "      <td>NaN</td>\n",
       "      <td>NaN</td>\n",
       "      <td>NaN</td>\n",
       "      <td>wine_barrell</td>\n",
       "      <td>NaN</td>\n",
       "      <td>6</td>\n",
       "      <td>Lancaster Wines</td>\n",
       "      <td>True</td>\n",
       "      <td>Lancaster Wines</td>\n",
       "      <td>True</td>\n",
       "    </tr>\n",
       "    <tr>\n",
       "      <th>133</th>\n",
       "      <td>table</td>\n",
       "      <td>115.990586</td>\n",
       "      <td>-31.851825</td>\n",
       "      <td>Lancaster_Wines</td>\n",
       "      <td>NaN</td>\n",
       "      <td>NaN</td>\n",
       "      <td>NaN</td>\n",
       "      <td>NaN</td>\n",
       "      <td>NaN</td>\n",
       "      <td>NaN</td>\n",
       "      <td>NaN</td>\n",
       "      <td>NaN</td>\n",
       "      <td>NaN</td>\n",
       "      <td>wine_barrell</td>\n",
       "      <td>NaN</td>\n",
       "      <td>6</td>\n",
       "      <td>Lancaster Wines</td>\n",
       "      <td>True</td>\n",
       "      <td>Lancaster Wines</td>\n",
       "      <td>True</td>\n",
       "    </tr>\n",
       "  </tbody>\n",
       "</table>\n",
       "</div>"
      ],
      "text/plain": [
       "    object    latitude  longitude    true_location species contents length  \\\n",
       "130  table  115.990531 -31.851827  Lancaster_Wines     NaN      NaN    NaN   \n",
       "131  table  115.990548 -31.851826  Lancaster_Wines     NaN      NaN    NaN   \n",
       "132  table  115.990566 -31.851828  Lancaster_Wines     NaN      NaN    NaN   \n",
       "133  table  115.990586 -31.851825  Lancaster_Wines     NaN      NaN    NaN   \n",
       "\n",
       "    type size shape style surface  color      material roof  cluster  \\\n",
       "130  NaN  NaN   NaN   NaN     NaN  white  wine_barrell  NaN        6   \n",
       "131  NaN  NaN   NaN   NaN     NaN    NaN  wine_barrell  NaN        6   \n",
       "132  NaN  NaN   NaN   NaN     NaN    NaN  wine_barrell  NaN        6   \n",
       "133  NaN  NaN   NaN   NaN     NaN    NaN  wine_barrell  NaN        6   \n",
       "\n",
       "    predicted_location_kmeans  kmeans_correct predicted_location_dbscan  \\\n",
       "130           Lancaster Wines            True           Lancaster Wines   \n",
       "131           Lancaster Wines            True           Lancaster Wines   \n",
       "132           Lancaster Wines            True           Lancaster Wines   \n",
       "133           Lancaster Wines            True           Lancaster Wines   \n",
       "\n",
       "     dbscan_correct  \n",
       "130            True  \n",
       "131            True  \n",
       "132            True  \n",
       "133            True  "
      ]
     },
     "execution_count": 126,
     "metadata": {},
     "output_type": "execute_result"
    }
   ],
   "source": [
    "obj_df.query(\"object=='table' & material=='wine_barrell'\")"
   ]
  },
  {
   "attachments": {},
   "cell_type": "markdown",
   "id": "52d57ae2",
   "metadata": {},
   "source": [
    "## Query 3\n",
    "I remember a very average Chenin Blanc surrounded by palm trees…\n",
    "\n",
    "Note: The labelling inconsistency here, using OSM labelling standards makes this a much easier problem to solve. \n",
    "\n",
    "Here we still aren't at a solution yet, but we're much closer than the 31 vineyards we started with. "
   ]
  },
  {
   "cell_type": "code",
   "execution_count": 131,
   "id": "c40afd2e",
   "metadata": {},
   "outputs": [
    {
     "data": {
      "text/html": [
       "<div>\n",
       "<style scoped>\n",
       "    .dataframe tbody tr th:only-of-type {\n",
       "        vertical-align: middle;\n",
       "    }\n",
       "\n",
       "    .dataframe tbody tr th {\n",
       "        vertical-align: top;\n",
       "    }\n",
       "\n",
       "    .dataframe thead th {\n",
       "        text-align: right;\n",
       "    }\n",
       "</style>\n",
       "<table border=\"1\" class=\"dataframe\">\n",
       "  <thead>\n",
       "    <tr style=\"text-align: right;\">\n",
       "      <th></th>\n",
       "      <th>object</th>\n",
       "      <th>latitude</th>\n",
       "      <th>longitude</th>\n",
       "      <th>true_location</th>\n",
       "      <th>species</th>\n",
       "      <th>contents</th>\n",
       "      <th>length</th>\n",
       "      <th>type</th>\n",
       "      <th>size</th>\n",
       "      <th>shape</th>\n",
       "      <th>style</th>\n",
       "      <th>surface</th>\n",
       "      <th>color</th>\n",
       "      <th>material</th>\n",
       "      <th>roof</th>\n",
       "      <th>cluster</th>\n",
       "      <th>predicted_location_kmeans</th>\n",
       "      <th>kmeans_correct</th>\n",
       "      <th>predicted_location_dbscan</th>\n",
       "      <th>dbscan_correct</th>\n",
       "    </tr>\n",
       "  </thead>\n",
       "  <tbody>\n",
       "    <tr>\n",
       "      <th>0</th>\n",
       "      <td>palm_tree</td>\n",
       "      <td>116.018337</td>\n",
       "      <td>-31.814452</td>\n",
       "      <td>Alis_Vineyard</td>\n",
       "      <td>NaN</td>\n",
       "      <td>NaN</td>\n",
       "      <td>NaN</td>\n",
       "      <td>NaN</td>\n",
       "      <td>NaN</td>\n",
       "      <td>NaN</td>\n",
       "      <td>NaN</td>\n",
       "      <td>NaN</td>\n",
       "      <td>NaN</td>\n",
       "      <td>NaN</td>\n",
       "      <td>NaN</td>\n",
       "      <td>0</td>\n",
       "      <td>Ali's Vineyard</td>\n",
       "      <td>True</td>\n",
       "      <td>Ali's Vineyard</td>\n",
       "      <td>True</td>\n",
       "    </tr>\n",
       "    <tr>\n",
       "      <th>1</th>\n",
       "      <td>palm_tree</td>\n",
       "      <td>116.018326</td>\n",
       "      <td>-31.814519</td>\n",
       "      <td>Alis_Vineyard</td>\n",
       "      <td>NaN</td>\n",
       "      <td>NaN</td>\n",
       "      <td>NaN</td>\n",
       "      <td>NaN</td>\n",
       "      <td>NaN</td>\n",
       "      <td>NaN</td>\n",
       "      <td>NaN</td>\n",
       "      <td>NaN</td>\n",
       "      <td>NaN</td>\n",
       "      <td>NaN</td>\n",
       "      <td>NaN</td>\n",
       "      <td>0</td>\n",
       "      <td>Ali's Vineyard</td>\n",
       "      <td>True</td>\n",
       "      <td>Ali's Vineyard</td>\n",
       "      <td>True</td>\n",
       "    </tr>\n",
       "    <tr>\n",
       "      <th>2</th>\n",
       "      <td>palm_tree</td>\n",
       "      <td>116.018316</td>\n",
       "      <td>-31.814572</td>\n",
       "      <td>Alis_Vineyard</td>\n",
       "      <td>NaN</td>\n",
       "      <td>NaN</td>\n",
       "      <td>NaN</td>\n",
       "      <td>NaN</td>\n",
       "      <td>NaN</td>\n",
       "      <td>NaN</td>\n",
       "      <td>NaN</td>\n",
       "      <td>NaN</td>\n",
       "      <td>NaN</td>\n",
       "      <td>NaN</td>\n",
       "      <td>NaN</td>\n",
       "      <td>0</td>\n",
       "      <td>Ali's Vineyard</td>\n",
       "      <td>True</td>\n",
       "      <td>Ali's Vineyard</td>\n",
       "      <td>True</td>\n",
       "    </tr>\n",
       "    <tr>\n",
       "      <th>3</th>\n",
       "      <td>palm_tree</td>\n",
       "      <td>116.018253</td>\n",
       "      <td>-31.814581</td>\n",
       "      <td>Alis_Vineyard</td>\n",
       "      <td>NaN</td>\n",
       "      <td>NaN</td>\n",
       "      <td>NaN</td>\n",
       "      <td>NaN</td>\n",
       "      <td>NaN</td>\n",
       "      <td>NaN</td>\n",
       "      <td>NaN</td>\n",
       "      <td>NaN</td>\n",
       "      <td>NaN</td>\n",
       "      <td>NaN</td>\n",
       "      <td>NaN</td>\n",
       "      <td>0</td>\n",
       "      <td>Ali's Vineyard</td>\n",
       "      <td>True</td>\n",
       "      <td>Ali's Vineyard</td>\n",
       "      <td>True</td>\n",
       "    </tr>\n",
       "    <tr>\n",
       "      <th>4</th>\n",
       "      <td>palm_tree</td>\n",
       "      <td>116.018209</td>\n",
       "      <td>-31.814622</td>\n",
       "      <td>Alis_Vineyard</td>\n",
       "      <td>NaN</td>\n",
       "      <td>NaN</td>\n",
       "      <td>NaN</td>\n",
       "      <td>NaN</td>\n",
       "      <td>NaN</td>\n",
       "      <td>NaN</td>\n",
       "      <td>NaN</td>\n",
       "      <td>NaN</td>\n",
       "      <td>NaN</td>\n",
       "      <td>NaN</td>\n",
       "      <td>NaN</td>\n",
       "      <td>0</td>\n",
       "      <td>Ali's Vineyard</td>\n",
       "      <td>True</td>\n",
       "      <td>Ali's Vineyard</td>\n",
       "      <td>True</td>\n",
       "    </tr>\n",
       "    <tr>\n",
       "      <th>5</th>\n",
       "      <td>palm_tree</td>\n",
       "      <td>116.018213</td>\n",
       "      <td>-31.814550</td>\n",
       "      <td>Alis_Vineyard</td>\n",
       "      <td>NaN</td>\n",
       "      <td>NaN</td>\n",
       "      <td>NaN</td>\n",
       "      <td>NaN</td>\n",
       "      <td>NaN</td>\n",
       "      <td>NaN</td>\n",
       "      <td>NaN</td>\n",
       "      <td>NaN</td>\n",
       "      <td>NaN</td>\n",
       "      <td>NaN</td>\n",
       "      <td>NaN</td>\n",
       "      <td>0</td>\n",
       "      <td>Ali's Vineyard</td>\n",
       "      <td>True</td>\n",
       "      <td>Ali's Vineyard</td>\n",
       "      <td>True</td>\n",
       "    </tr>\n",
       "    <tr>\n",
       "      <th>6</th>\n",
       "      <td>palm_tree</td>\n",
       "      <td>116.018223</td>\n",
       "      <td>-31.814482</td>\n",
       "      <td>Alis_Vineyard</td>\n",
       "      <td>NaN</td>\n",
       "      <td>NaN</td>\n",
       "      <td>NaN</td>\n",
       "      <td>NaN</td>\n",
       "      <td>NaN</td>\n",
       "      <td>NaN</td>\n",
       "      <td>NaN</td>\n",
       "      <td>NaN</td>\n",
       "      <td>NaN</td>\n",
       "      <td>NaN</td>\n",
       "      <td>NaN</td>\n",
       "      <td>0</td>\n",
       "      <td>Ali's Vineyard</td>\n",
       "      <td>True</td>\n",
       "      <td>Ali's Vineyard</td>\n",
       "      <td>True</td>\n",
       "    </tr>\n",
       "    <tr>\n",
       "      <th>7</th>\n",
       "      <td>palm_tree</td>\n",
       "      <td>116.018282</td>\n",
       "      <td>-31.814448</td>\n",
       "      <td>Alis_Vineyard</td>\n",
       "      <td>NaN</td>\n",
       "      <td>NaN</td>\n",
       "      <td>NaN</td>\n",
       "      <td>NaN</td>\n",
       "      <td>NaN</td>\n",
       "      <td>NaN</td>\n",
       "      <td>NaN</td>\n",
       "      <td>NaN</td>\n",
       "      <td>NaN</td>\n",
       "      <td>NaN</td>\n",
       "      <td>NaN</td>\n",
       "      <td>0</td>\n",
       "      <td>Ali's Vineyard</td>\n",
       "      <td>True</td>\n",
       "      <td>Ali's Vineyard</td>\n",
       "      <td>True</td>\n",
       "    </tr>\n",
       "    <tr>\n",
       "      <th>8</th>\n",
       "      <td>palm_tree</td>\n",
       "      <td>116.018218</td>\n",
       "      <td>-31.814389</td>\n",
       "      <td>Alis_Vineyard</td>\n",
       "      <td>NaN</td>\n",
       "      <td>NaN</td>\n",
       "      <td>NaN</td>\n",
       "      <td>NaN</td>\n",
       "      <td>NaN</td>\n",
       "      <td>NaN</td>\n",
       "      <td>NaN</td>\n",
       "      <td>NaN</td>\n",
       "      <td>NaN</td>\n",
       "      <td>NaN</td>\n",
       "      <td>NaN</td>\n",
       "      <td>0</td>\n",
       "      <td>Ali's Vineyard</td>\n",
       "      <td>True</td>\n",
       "      <td>Ali's Vineyard</td>\n",
       "      <td>True</td>\n",
       "    </tr>\n",
       "    <tr>\n",
       "      <th>9</th>\n",
       "      <td>palm_tree</td>\n",
       "      <td>116.018247</td>\n",
       "      <td>-31.814397</td>\n",
       "      <td>Alis_Vineyard</td>\n",
       "      <td>NaN</td>\n",
       "      <td>NaN</td>\n",
       "      <td>NaN</td>\n",
       "      <td>NaN</td>\n",
       "      <td>NaN</td>\n",
       "      <td>NaN</td>\n",
       "      <td>NaN</td>\n",
       "      <td>NaN</td>\n",
       "      <td>NaN</td>\n",
       "      <td>NaN</td>\n",
       "      <td>NaN</td>\n",
       "      <td>0</td>\n",
       "      <td>Ali's Vineyard</td>\n",
       "      <td>True</td>\n",
       "      <td>Ali's Vineyard</td>\n",
       "      <td>True</td>\n",
       "    </tr>\n",
       "    <tr>\n",
       "      <th>10</th>\n",
       "      <td>palm_tree</td>\n",
       "      <td>116.018181</td>\n",
       "      <td>-31.814340</td>\n",
       "      <td>Alis_Vineyard</td>\n",
       "      <td>NaN</td>\n",
       "      <td>NaN</td>\n",
       "      <td>NaN</td>\n",
       "      <td>NaN</td>\n",
       "      <td>NaN</td>\n",
       "      <td>NaN</td>\n",
       "      <td>NaN</td>\n",
       "      <td>NaN</td>\n",
       "      <td>NaN</td>\n",
       "      <td>NaN</td>\n",
       "      <td>NaN</td>\n",
       "      <td>0</td>\n",
       "      <td>Ali's Vineyard</td>\n",
       "      <td>True</td>\n",
       "      <td>Ali's Vineyard</td>\n",
       "      <td>True</td>\n",
       "    </tr>\n",
       "    <tr>\n",
       "      <th>11</th>\n",
       "      <td>palm_tree</td>\n",
       "      <td>116.018263</td>\n",
       "      <td>-31.814294</td>\n",
       "      <td>Alis_Vineyard</td>\n",
       "      <td>NaN</td>\n",
       "      <td>NaN</td>\n",
       "      <td>NaN</td>\n",
       "      <td>NaN</td>\n",
       "      <td>NaN</td>\n",
       "      <td>NaN</td>\n",
       "      <td>NaN</td>\n",
       "      <td>NaN</td>\n",
       "      <td>NaN</td>\n",
       "      <td>NaN</td>\n",
       "      <td>NaN</td>\n",
       "      <td>0</td>\n",
       "      <td>Ali's Vineyard</td>\n",
       "      <td>True</td>\n",
       "      <td>Ali's Vineyard</td>\n",
       "      <td>True</td>\n",
       "    </tr>\n",
       "    <tr>\n",
       "      <th>82</th>\n",
       "      <td>tree</td>\n",
       "      <td>115.997139</td>\n",
       "      <td>-31.830790</td>\n",
       "      <td>Ugly_Duckling_Wines</td>\n",
       "      <td>palm</td>\n",
       "      <td>NaN</td>\n",
       "      <td>NaN</td>\n",
       "      <td>NaN</td>\n",
       "      <td>NaN</td>\n",
       "      <td>NaN</td>\n",
       "      <td>NaN</td>\n",
       "      <td>NaN</td>\n",
       "      <td>NaN</td>\n",
       "      <td>NaN</td>\n",
       "      <td>NaN</td>\n",
       "      <td>3</td>\n",
       "      <td>Ugly Duckling Wines</td>\n",
       "      <td>True</td>\n",
       "      <td>Ugly Duckling Wines</td>\n",
       "      <td>True</td>\n",
       "    </tr>\n",
       "    <tr>\n",
       "      <th>83</th>\n",
       "      <td>tree</td>\n",
       "      <td>115.997180</td>\n",
       "      <td>-31.830791</td>\n",
       "      <td>Ugly_Duckling_Wines</td>\n",
       "      <td>palm</td>\n",
       "      <td>NaN</td>\n",
       "      <td>NaN</td>\n",
       "      <td>NaN</td>\n",
       "      <td>NaN</td>\n",
       "      <td>NaN</td>\n",
       "      <td>NaN</td>\n",
       "      <td>NaN</td>\n",
       "      <td>NaN</td>\n",
       "      <td>NaN</td>\n",
       "      <td>NaN</td>\n",
       "      <td>3</td>\n",
       "      <td>Ugly Duckling Wines</td>\n",
       "      <td>True</td>\n",
       "      <td>Ugly Duckling Wines</td>\n",
       "      <td>True</td>\n",
       "    </tr>\n",
       "    <tr>\n",
       "      <th>84</th>\n",
       "      <td>tree</td>\n",
       "      <td>115.997216</td>\n",
       "      <td>-31.830793</td>\n",
       "      <td>Ugly_Duckling_Wines</td>\n",
       "      <td>palm</td>\n",
       "      <td>NaN</td>\n",
       "      <td>NaN</td>\n",
       "      <td>NaN</td>\n",
       "      <td>NaN</td>\n",
       "      <td>NaN</td>\n",
       "      <td>NaN</td>\n",
       "      <td>NaN</td>\n",
       "      <td>NaN</td>\n",
       "      <td>NaN</td>\n",
       "      <td>NaN</td>\n",
       "      <td>3</td>\n",
       "      <td>Ugly Duckling Wines</td>\n",
       "      <td>True</td>\n",
       "      <td>Ugly Duckling Wines</td>\n",
       "      <td>True</td>\n",
       "    </tr>\n",
       "    <tr>\n",
       "      <th>85</th>\n",
       "      <td>tree</td>\n",
       "      <td>115.997258</td>\n",
       "      <td>-31.830788</td>\n",
       "      <td>Ugly_Duckling_Wines</td>\n",
       "      <td>palm</td>\n",
       "      <td>NaN</td>\n",
       "      <td>NaN</td>\n",
       "      <td>NaN</td>\n",
       "      <td>NaN</td>\n",
       "      <td>NaN</td>\n",
       "      <td>NaN</td>\n",
       "      <td>NaN</td>\n",
       "      <td>NaN</td>\n",
       "      <td>NaN</td>\n",
       "      <td>NaN</td>\n",
       "      <td>3</td>\n",
       "      <td>Ugly Duckling Wines</td>\n",
       "      <td>True</td>\n",
       "      <td>Ugly Duckling Wines</td>\n",
       "      <td>True</td>\n",
       "    </tr>\n",
       "    <tr>\n",
       "      <th>86</th>\n",
       "      <td>tree</td>\n",
       "      <td>115.997305</td>\n",
       "      <td>-31.830791</td>\n",
       "      <td>Ugly_Duckling_Wines</td>\n",
       "      <td>palm</td>\n",
       "      <td>NaN</td>\n",
       "      <td>NaN</td>\n",
       "      <td>NaN</td>\n",
       "      <td>NaN</td>\n",
       "      <td>NaN</td>\n",
       "      <td>NaN</td>\n",
       "      <td>NaN</td>\n",
       "      <td>NaN</td>\n",
       "      <td>NaN</td>\n",
       "      <td>NaN</td>\n",
       "      <td>3</td>\n",
       "      <td>Ugly Duckling Wines</td>\n",
       "      <td>True</td>\n",
       "      <td>Ugly Duckling Wines</td>\n",
       "      <td>True</td>\n",
       "    </tr>\n",
       "    <tr>\n",
       "      <th>87</th>\n",
       "      <td>tree</td>\n",
       "      <td>115.997356</td>\n",
       "      <td>-31.830788</td>\n",
       "      <td>Ugly_Duckling_Wines</td>\n",
       "      <td>palm</td>\n",
       "      <td>NaN</td>\n",
       "      <td>NaN</td>\n",
       "      <td>NaN</td>\n",
       "      <td>NaN</td>\n",
       "      <td>NaN</td>\n",
       "      <td>NaN</td>\n",
       "      <td>NaN</td>\n",
       "      <td>NaN</td>\n",
       "      <td>NaN</td>\n",
       "      <td>NaN</td>\n",
       "      <td>3</td>\n",
       "      <td>Ugly Duckling Wines</td>\n",
       "      <td>True</td>\n",
       "      <td>Ugly Duckling Wines</td>\n",
       "      <td>True</td>\n",
       "    </tr>\n",
       "    <tr>\n",
       "      <th>88</th>\n",
       "      <td>tree</td>\n",
       "      <td>115.997422</td>\n",
       "      <td>-31.830792</td>\n",
       "      <td>Ugly_Duckling_Wines</td>\n",
       "      <td>palm</td>\n",
       "      <td>NaN</td>\n",
       "      <td>NaN</td>\n",
       "      <td>NaN</td>\n",
       "      <td>NaN</td>\n",
       "      <td>NaN</td>\n",
       "      <td>NaN</td>\n",
       "      <td>NaN</td>\n",
       "      <td>NaN</td>\n",
       "      <td>NaN</td>\n",
       "      <td>NaN</td>\n",
       "      <td>3</td>\n",
       "      <td>Ugly Duckling Wines</td>\n",
       "      <td>True</td>\n",
       "      <td>Ugly Duckling Wines</td>\n",
       "      <td>True</td>\n",
       "    </tr>\n",
       "  </tbody>\n",
       "</table>\n",
       "</div>"
      ],
      "text/plain": [
       "       object    latitude  longitude        true_location species contents  \\\n",
       "0   palm_tree  116.018337 -31.814452        Alis_Vineyard     NaN      NaN   \n",
       "1   palm_tree  116.018326 -31.814519        Alis_Vineyard     NaN      NaN   \n",
       "2   palm_tree  116.018316 -31.814572        Alis_Vineyard     NaN      NaN   \n",
       "3   palm_tree  116.018253 -31.814581        Alis_Vineyard     NaN      NaN   \n",
       "4   palm_tree  116.018209 -31.814622        Alis_Vineyard     NaN      NaN   \n",
       "5   palm_tree  116.018213 -31.814550        Alis_Vineyard     NaN      NaN   \n",
       "6   palm_tree  116.018223 -31.814482        Alis_Vineyard     NaN      NaN   \n",
       "7   palm_tree  116.018282 -31.814448        Alis_Vineyard     NaN      NaN   \n",
       "8   palm_tree  116.018218 -31.814389        Alis_Vineyard     NaN      NaN   \n",
       "9   palm_tree  116.018247 -31.814397        Alis_Vineyard     NaN      NaN   \n",
       "10  palm_tree  116.018181 -31.814340        Alis_Vineyard     NaN      NaN   \n",
       "11  palm_tree  116.018263 -31.814294        Alis_Vineyard     NaN      NaN   \n",
       "82       tree  115.997139 -31.830790  Ugly_Duckling_Wines    palm      NaN   \n",
       "83       tree  115.997180 -31.830791  Ugly_Duckling_Wines    palm      NaN   \n",
       "84       tree  115.997216 -31.830793  Ugly_Duckling_Wines    palm      NaN   \n",
       "85       tree  115.997258 -31.830788  Ugly_Duckling_Wines    palm      NaN   \n",
       "86       tree  115.997305 -31.830791  Ugly_Duckling_Wines    palm      NaN   \n",
       "87       tree  115.997356 -31.830788  Ugly_Duckling_Wines    palm      NaN   \n",
       "88       tree  115.997422 -31.830792  Ugly_Duckling_Wines    palm      NaN   \n",
       "\n",
       "   length type size shape style surface color material roof  cluster  \\\n",
       "0     NaN  NaN  NaN   NaN   NaN     NaN   NaN      NaN  NaN        0   \n",
       "1     NaN  NaN  NaN   NaN   NaN     NaN   NaN      NaN  NaN        0   \n",
       "2     NaN  NaN  NaN   NaN   NaN     NaN   NaN      NaN  NaN        0   \n",
       "3     NaN  NaN  NaN   NaN   NaN     NaN   NaN      NaN  NaN        0   \n",
       "4     NaN  NaN  NaN   NaN   NaN     NaN   NaN      NaN  NaN        0   \n",
       "5     NaN  NaN  NaN   NaN   NaN     NaN   NaN      NaN  NaN        0   \n",
       "6     NaN  NaN  NaN   NaN   NaN     NaN   NaN      NaN  NaN        0   \n",
       "7     NaN  NaN  NaN   NaN   NaN     NaN   NaN      NaN  NaN        0   \n",
       "8     NaN  NaN  NaN   NaN   NaN     NaN   NaN      NaN  NaN        0   \n",
       "9     NaN  NaN  NaN   NaN   NaN     NaN   NaN      NaN  NaN        0   \n",
       "10    NaN  NaN  NaN   NaN   NaN     NaN   NaN      NaN  NaN        0   \n",
       "11    NaN  NaN  NaN   NaN   NaN     NaN   NaN      NaN  NaN        0   \n",
       "82    NaN  NaN  NaN   NaN   NaN     NaN   NaN      NaN  NaN        3   \n",
       "83    NaN  NaN  NaN   NaN   NaN     NaN   NaN      NaN  NaN        3   \n",
       "84    NaN  NaN  NaN   NaN   NaN     NaN   NaN      NaN  NaN        3   \n",
       "85    NaN  NaN  NaN   NaN   NaN     NaN   NaN      NaN  NaN        3   \n",
       "86    NaN  NaN  NaN   NaN   NaN     NaN   NaN      NaN  NaN        3   \n",
       "87    NaN  NaN  NaN   NaN   NaN     NaN   NaN      NaN  NaN        3   \n",
       "88    NaN  NaN  NaN   NaN   NaN     NaN   NaN      NaN  NaN        3   \n",
       "\n",
       "   predicted_location_kmeans  kmeans_correct predicted_location_dbscan  \\\n",
       "0             Ali's Vineyard            True            Ali's Vineyard   \n",
       "1             Ali's Vineyard            True            Ali's Vineyard   \n",
       "2             Ali's Vineyard            True            Ali's Vineyard   \n",
       "3             Ali's Vineyard            True            Ali's Vineyard   \n",
       "4             Ali's Vineyard            True            Ali's Vineyard   \n",
       "5             Ali's Vineyard            True            Ali's Vineyard   \n",
       "6             Ali's Vineyard            True            Ali's Vineyard   \n",
       "7             Ali's Vineyard            True            Ali's Vineyard   \n",
       "8             Ali's Vineyard            True            Ali's Vineyard   \n",
       "9             Ali's Vineyard            True            Ali's Vineyard   \n",
       "10            Ali's Vineyard            True            Ali's Vineyard   \n",
       "11            Ali's Vineyard            True            Ali's Vineyard   \n",
       "82       Ugly Duckling Wines            True       Ugly Duckling Wines   \n",
       "83       Ugly Duckling Wines            True       Ugly Duckling Wines   \n",
       "84       Ugly Duckling Wines            True       Ugly Duckling Wines   \n",
       "85       Ugly Duckling Wines            True       Ugly Duckling Wines   \n",
       "86       Ugly Duckling Wines            True       Ugly Duckling Wines   \n",
       "87       Ugly Duckling Wines            True       Ugly Duckling Wines   \n",
       "88       Ugly Duckling Wines            True       Ugly Duckling Wines   \n",
       "\n",
       "    dbscan_correct  \n",
       "0             True  \n",
       "1             True  \n",
       "2             True  \n",
       "3             True  \n",
       "4             True  \n",
       "5             True  \n",
       "6             True  \n",
       "7             True  \n",
       "8             True  \n",
       "9             True  \n",
       "10            True  \n",
       "11            True  \n",
       "82            True  \n",
       "83            True  \n",
       "84            True  \n",
       "85            True  \n",
       "86            True  \n",
       "87            True  \n",
       "88            True  "
      ]
     },
     "execution_count": 131,
     "metadata": {},
     "output_type": "execute_result"
    }
   ],
   "source": [
    "obj_df.query(\"object=='tree' & species=='palm' | object=='palm_tree'\")"
   ]
  },
  {
   "attachments": {},
   "cell_type": "markdown",
   "id": "5e1ff4d3",
   "metadata": {},
   "source": [
    "## Query 4: \n",
    "Oh and that one place that had the buzzing generator, that was awful…\n",
    "\n",
    "we can see that ugly duckling wines is the only one with a visible generator, meaning that it must have been Ali's vineyard in the previous question. "
   ]
  },
  {
   "cell_type": "code",
   "execution_count": 132,
   "id": "147b1aaa",
   "metadata": {},
   "outputs": [
    {
     "data": {
      "text/html": [
       "<div>\n",
       "<style scoped>\n",
       "    .dataframe tbody tr th:only-of-type {\n",
       "        vertical-align: middle;\n",
       "    }\n",
       "\n",
       "    .dataframe tbody tr th {\n",
       "        vertical-align: top;\n",
       "    }\n",
       "\n",
       "    .dataframe thead th {\n",
       "        text-align: right;\n",
       "    }\n",
       "</style>\n",
       "<table border=\"1\" class=\"dataframe\">\n",
       "  <thead>\n",
       "    <tr style=\"text-align: right;\">\n",
       "      <th></th>\n",
       "      <th>object</th>\n",
       "      <th>latitude</th>\n",
       "      <th>longitude</th>\n",
       "      <th>true_location</th>\n",
       "      <th>species</th>\n",
       "      <th>contents</th>\n",
       "      <th>length</th>\n",
       "      <th>type</th>\n",
       "      <th>size</th>\n",
       "      <th>shape</th>\n",
       "      <th>style</th>\n",
       "      <th>surface</th>\n",
       "      <th>color</th>\n",
       "      <th>material</th>\n",
       "      <th>roof</th>\n",
       "      <th>cluster</th>\n",
       "      <th>predicted_location_kmeans</th>\n",
       "      <th>kmeans_correct</th>\n",
       "      <th>predicted_location_dbscan</th>\n",
       "      <th>dbscan_correct</th>\n",
       "    </tr>\n",
       "  </thead>\n",
       "  <tbody>\n",
       "    <tr>\n",
       "      <th>62</th>\n",
       "      <td>generator</td>\n",
       "      <td>115.997458</td>\n",
       "      <td>-31.830209</td>\n",
       "      <td>Ugly_Duckling_Wines</td>\n",
       "      <td>NaN</td>\n",
       "      <td>NaN</td>\n",
       "      <td>NaN</td>\n",
       "      <td>NaN</td>\n",
       "      <td>NaN</td>\n",
       "      <td>NaN</td>\n",
       "      <td>NaN</td>\n",
       "      <td>NaN</td>\n",
       "      <td>blue</td>\n",
       "      <td>NaN</td>\n",
       "      <td>NaN</td>\n",
       "      <td>3</td>\n",
       "      <td>Ugly Duckling Wines</td>\n",
       "      <td>True</td>\n",
       "      <td>Ugly Duckling Wines</td>\n",
       "      <td>True</td>\n",
       "    </tr>\n",
       "  </tbody>\n",
       "</table>\n",
       "</div>"
      ],
      "text/plain": [
       "       object    latitude  longitude        true_location species contents  \\\n",
       "62  generator  115.997458 -31.830209  Ugly_Duckling_Wines     NaN      NaN   \n",
       "\n",
       "   length type size shape style surface color material roof  cluster  \\\n",
       "62    NaN  NaN  NaN   NaN   NaN     NaN  blue      NaN  NaN        3   \n",
       "\n",
       "   predicted_location_kmeans  kmeans_correct predicted_location_dbscan  \\\n",
       "62       Ugly Duckling Wines            True       Ugly Duckling Wines   \n",
       "\n",
       "    dbscan_correct  \n",
       "62            True  "
      ]
     },
     "execution_count": 132,
     "metadata": {},
     "output_type": "execute_result"
    }
   ],
   "source": [
    "obj_df.query(\"object=='generator'\")"
   ]
  },
  {
   "cell_type": "code",
   "execution_count": null,
   "id": "669ca727",
   "metadata": {},
   "outputs": [],
   "source": []
  }
 ],
 "metadata": {
  "celltoolbar": "Edit Metadata",
  "kernelspec": {
   "display_name": "Python 3 (ipykernel)",
   "language": "python",
   "name": "python3"
  },
  "language_info": {
   "codemirror_mode": {
    "name": "ipython",
    "version": 3
   },
   "file_extension": ".py",
   "mimetype": "text/x-python",
   "name": "python",
   "nbconvert_exporter": "python",
   "pygments_lexer": "ipython3",
   "version": "3.11.0"
  }
 },
 "nbformat": 4,
 "nbformat_minor": 5
}
